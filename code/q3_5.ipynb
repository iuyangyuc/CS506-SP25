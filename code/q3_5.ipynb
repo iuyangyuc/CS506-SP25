{
 "cells": [
  {
   "cell_type": "markdown",
   "id": "cd5f1853",
   "metadata": {},
   "source": [
    "## Data Preprocessing"
   ]
  },
  {
   "cell_type": "code",
   "execution_count": 2,
   "id": "38f8f94d",
   "metadata": {},
   "outputs": [
    {
     "name": "stdout",
     "output_type": "stream",
     "text": [
      "Read data from: ../data/earning/2011_earnings.csv\n",
      "Read data from: ../data/earning/2012_earnings.csv\n",
      "Read data from: ../data/earning/2013_earnings.csv\n",
      "Read data from: ../data/earning/2014_earnings.csv\n",
      "Read data from: ../data/earning/2015_earnings.csv\n",
      "Read data from: ../data/earning/2016_earnings.csv\n",
      "Read data from: ../data/earning/2017_earnings.csv\n",
      "Read data from: ../data/earning/2018_earnings.csv\n",
      "Read data from: ../data/earning/2019_earnings.csv\n",
      "Read data from: ../data/earning/2020_earnings.csv\n",
      "Read data from: ../data/earning/2021_earnings.csv\n",
      "Read data from: ../data/earning/2022_earnings.csv\n",
      "Read data from: ../data/earning/2023_earnings.csv\n",
      "Read data from: ../data/earning/2024_earnings.csv\n",
      "Successfully read data from all files.\n"
     ]
    }
   ],
   "source": [
    "import pandas as pd\n",
    "from process import read_data\n",
    "\n",
    "data_folder = \"../data/earning/\"\n",
    "years = range(2011, 2025)\n",
    "target_col = ['REGULAR','RETRO','OTHER','OVERTIME','INJURED','DETAIL','QUINN_EDUCATION','TOTAL_GROSS']\n",
    "drop_col = ['_ID', 'POSTAL']\n",
    "encoding = 'ISO-8859-1'\n",
    "\n",
    "dataframes = read_data(data_folder, 'earnings.csv', years, encoding, target_col, drop_col)"
   ]
  },
  {
   "cell_type": "code",
   "execution_count": 3,
   "id": "4c6f8d30a7dd7e53",
   "metadata": {
    "ExecuteTime": {
     "end_time": "2025-04-21T18:37:15.057854Z",
     "start_time": "2025-04-21T18:37:15.047603Z"
    }
   },
   "outputs": [
    {
     "name": "stdout",
     "output_type": "stream",
     "text": [
      "\n",
      "Data Types:\n",
      "NAME                object\n",
      "DEPARTMENT_NAME     object\n",
      "TITLE               object\n",
      "REGULAR            float64\n",
      "RETRO              float64\n",
      "OTHER              float64\n",
      "OVERTIME           float64\n",
      "INJURED            float64\n",
      "DETAIL             float64\n",
      "QUINN_EDUCATION    float64\n",
      "TOTAL_GROSS        float64\n",
      "YEAR                 int64\n",
      "dtype: object\n",
      "\n",
      "Sample from 2012:\n"
     ]
    },
    {
     "data": {
      "text/html": [
       "<div>\n",
       "<style scoped>\n",
       "    .dataframe tbody tr th:only-of-type {\n",
       "        vertical-align: middle;\n",
       "    }\n",
       "\n",
       "    .dataframe tbody tr th {\n",
       "        vertical-align: top;\n",
       "    }\n",
       "\n",
       "    .dataframe thead th {\n",
       "        text-align: right;\n",
       "    }\n",
       "</style>\n",
       "<table border=\"1\" class=\"dataframe\">\n",
       "  <thead>\n",
       "    <tr style=\"text-align: right;\">\n",
       "      <th></th>\n",
       "      <th>NAME</th>\n",
       "      <th>DEPARTMENT_NAME</th>\n",
       "      <th>TITLE</th>\n",
       "      <th>REGULAR</th>\n",
       "      <th>RETRO</th>\n",
       "      <th>OTHER</th>\n",
       "      <th>OVERTIME</th>\n",
       "      <th>INJURED</th>\n",
       "      <th>DETAIL</th>\n",
       "      <th>QUINN_EDUCATION</th>\n",
       "      <th>TOTAL_GROSS</th>\n",
       "      <th>YEAR</th>\n",
       "    </tr>\n",
       "  </thead>\n",
       "  <tbody>\n",
       "    <tr>\n",
       "      <th>27832</th>\n",
       "      <td>Lee,Waiman</td>\n",
       "      <td>Boston Police Department</td>\n",
       "      <td>Police Detective</td>\n",
       "      <td>74743.65</td>\n",
       "      <td>NaN</td>\n",
       "      <td>11753.52</td>\n",
       "      <td>60640.81</td>\n",
       "      <td>NaN</td>\n",
       "      <td>59850.0</td>\n",
       "      <td>9343.06</td>\n",
       "      <td>216331.04</td>\n",
       "      <td>2012</td>\n",
       "    </tr>\n",
       "    <tr>\n",
       "      <th>34283</th>\n",
       "      <td>Valencia,Shannon D</td>\n",
       "      <td>Boston Public Schools</td>\n",
       "      <td>Teacher</td>\n",
       "      <td>84977.32</td>\n",
       "      <td>NaN</td>\n",
       "      <td>NaN</td>\n",
       "      <td>NaN</td>\n",
       "      <td>NaN</td>\n",
       "      <td>NaN</td>\n",
       "      <td>NaN</td>\n",
       "      <td>84977.32</td>\n",
       "      <td>2012</td>\n",
       "    </tr>\n",
       "    <tr>\n",
       "      <th>36658</th>\n",
       "      <td>Garvey,Julie McNulty</td>\n",
       "      <td>Boston Public Schools</td>\n",
       "      <td>Paraprofessional</td>\n",
       "      <td>31518.93</td>\n",
       "      <td>NaN</td>\n",
       "      <td>NaN</td>\n",
       "      <td>NaN</td>\n",
       "      <td>NaN</td>\n",
       "      <td>NaN</td>\n",
       "      <td>NaN</td>\n",
       "      <td>31518.93</td>\n",
       "      <td>2012</td>\n",
       "    </tr>\n",
       "    <tr>\n",
       "      <th>32595</th>\n",
       "      <td>James,Shana</td>\n",
       "      <td>Boston Public Schools</td>\n",
       "      <td>Paraprofessional</td>\n",
       "      <td>665.13</td>\n",
       "      <td>NaN</td>\n",
       "      <td>NaN</td>\n",
       "      <td>NaN</td>\n",
       "      <td>NaN</td>\n",
       "      <td>NaN</td>\n",
       "      <td>NaN</td>\n",
       "      <td>665.13</td>\n",
       "      <td>2012</td>\n",
       "    </tr>\n",
       "    <tr>\n",
       "      <th>40233</th>\n",
       "      <td>Sadberry,Lisa M</td>\n",
       "      <td>Boston Public Schools</td>\n",
       "      <td>Social Worker/Coordinator</td>\n",
       "      <td>85973.00</td>\n",
       "      <td>NaN</td>\n",
       "      <td>NaN</td>\n",
       "      <td>NaN</td>\n",
       "      <td>NaN</td>\n",
       "      <td>NaN</td>\n",
       "      <td>NaN</td>\n",
       "      <td>85973.00</td>\n",
       "      <td>2012</td>\n",
       "    </tr>\n",
       "    <tr>\n",
       "      <th>26398</th>\n",
       "      <td>Boissaye,Rebecca</td>\n",
       "      <td>Boston Police Department</td>\n",
       "      <td>Criminalist II</td>\n",
       "      <td>57413.29</td>\n",
       "      <td>475.39</td>\n",
       "      <td>1366.84</td>\n",
       "      <td>2651.83</td>\n",
       "      <td>NaN</td>\n",
       "      <td>NaN</td>\n",
       "      <td>NaN</td>\n",
       "      <td>61907.35</td>\n",
       "      <td>2012</td>\n",
       "    </tr>\n",
       "    <tr>\n",
       "      <th>25198</th>\n",
       "      <td>Glora,Paul G</td>\n",
       "      <td>Boston Fire Department</td>\n",
       "      <td>Fire Captain</td>\n",
       "      <td>119452.72</td>\n",
       "      <td>NaN</td>\n",
       "      <td>550.00</td>\n",
       "      <td>14270.90</td>\n",
       "      <td>NaN</td>\n",
       "      <td>NaN</td>\n",
       "      <td>NaN</td>\n",
       "      <td>134273.62</td>\n",
       "      <td>2012</td>\n",
       "    </tr>\n",
       "    <tr>\n",
       "      <th>27324</th>\n",
       "      <td>Golden,Kevin F</td>\n",
       "      <td>Boston Police Department</td>\n",
       "      <td>Police Officer</td>\n",
       "      <td>67934.43</td>\n",
       "      <td>NaN</td>\n",
       "      <td>800.00</td>\n",
       "      <td>9091.98</td>\n",
       "      <td>246.81</td>\n",
       "      <td>9713.0</td>\n",
       "      <td>NaN</td>\n",
       "      <td>87786.22</td>\n",
       "      <td>2012</td>\n",
       "    </tr>\n",
       "    <tr>\n",
       "      <th>40786</th>\n",
       "      <td>Corcoran,Victoria S.</td>\n",
       "      <td>Boston Public Schools</td>\n",
       "      <td>Substitute Teacher</td>\n",
       "      <td>11732.80</td>\n",
       "      <td>NaN</td>\n",
       "      <td>NaN</td>\n",
       "      <td>NaN</td>\n",
       "      <td>NaN</td>\n",
       "      <td>NaN</td>\n",
       "      <td>NaN</td>\n",
       "      <td>11732.80</td>\n",
       "      <td>2012</td>\n",
       "    </tr>\n",
       "    <tr>\n",
       "      <th>22239</th>\n",
       "      <td>Foley,Mary A</td>\n",
       "      <td>Dpt of Innovation &amp; Technology</td>\n",
       "      <td>Sr Data Proc Sys Anl</td>\n",
       "      <td>86606.78</td>\n",
       "      <td>NaN</td>\n",
       "      <td>NaN</td>\n",
       "      <td>NaN</td>\n",
       "      <td>NaN</td>\n",
       "      <td>NaN</td>\n",
       "      <td>NaN</td>\n",
       "      <td>86606.78</td>\n",
       "      <td>2012</td>\n",
       "    </tr>\n",
       "  </tbody>\n",
       "</table>\n",
       "</div>"
      ],
      "text/plain": [
       "                       NAME                 DEPARTMENT_NAME   \n",
       "27832            Lee,Waiman        Boston Police Department  \\\n",
       "34283    Valencia,Shannon D           Boston Public Schools   \n",
       "36658  Garvey,Julie McNulty           Boston Public Schools   \n",
       "32595           James,Shana           Boston Public Schools   \n",
       "40233       Sadberry,Lisa M           Boston Public Schools   \n",
       "26398      Boissaye,Rebecca        Boston Police Department   \n",
       "25198          Glora,Paul G          Boston Fire Department   \n",
       "27324        Golden,Kevin F        Boston Police Department   \n",
       "40786  Corcoran,Victoria S.           Boston Public Schools   \n",
       "22239          Foley,Mary A  Dpt of Innovation & Technology   \n",
       "\n",
       "                           TITLE    REGULAR   RETRO     OTHER  OVERTIME   \n",
       "27832           Police Detective   74743.65     NaN  11753.52  60640.81  \\\n",
       "34283                    Teacher   84977.32     NaN       NaN       NaN   \n",
       "36658           Paraprofessional   31518.93     NaN       NaN       NaN   \n",
       "32595           Paraprofessional     665.13     NaN       NaN       NaN   \n",
       "40233  Social Worker/Coordinator   85973.00     NaN       NaN       NaN   \n",
       "26398             Criminalist II   57413.29  475.39   1366.84   2651.83   \n",
       "25198               Fire Captain  119452.72     NaN    550.00  14270.90   \n",
       "27324             Police Officer   67934.43     NaN    800.00   9091.98   \n",
       "40786         Substitute Teacher   11732.80     NaN       NaN       NaN   \n",
       "22239       Sr Data Proc Sys Anl   86606.78     NaN       NaN       NaN   \n",
       "\n",
       "       INJURED   DETAIL  QUINN_EDUCATION  TOTAL_GROSS  YEAR  \n",
       "27832      NaN  59850.0          9343.06    216331.04  2012  \n",
       "34283      NaN      NaN              NaN     84977.32  2012  \n",
       "36658      NaN      NaN              NaN     31518.93  2012  \n",
       "32595      NaN      NaN              NaN       665.13  2012  \n",
       "40233      NaN      NaN              NaN     85973.00  2012  \n",
       "26398      NaN      NaN              NaN     61907.35  2012  \n",
       "25198      NaN      NaN              NaN    134273.62  2012  \n",
       "27324   246.81   9713.0              NaN     87786.22  2012  \n",
       "40786      NaN      NaN              NaN     11732.80  2012  \n",
       "22239      NaN      NaN              NaN     86606.78  2012  "
      ]
     },
     "metadata": {},
     "output_type": "display_data"
    }
   ],
   "source": [
    "# Concatenate all dataframes into one\n",
    "full_df = pd.concat(dataframes, ignore_index=True)\n",
    "\n",
    "#print the data type of each column\n",
    "print(\"\\nData Types:\")\n",
    "print(full_df.dtypes)\n",
    "\n",
    "# display random 10 rows from 2023\n",
    "print(\"\\nSample from 2012:\")\n",
    "display(full_df[full_df['YEAR'] == 2012].sample(10))"
   ]
  },
  {
   "cell_type": "code",
   "execution_count": 4,
   "id": "3d671b3b",
   "metadata": {},
   "outputs": [
    {
     "name": "stdout",
     "output_type": "stream",
     "text": [
      "Departments in the overtime top 5 every year: {'Public Works Department', 'Property Management', 'Boston Police Department', 'Boston Fire Department'}\n",
      "\n",
      "===== Department: Public Works Department =====\n"
     ]
    },
    {
     "data": {
      "text/html": [
       "<div>\n",
       "<style scoped>\n",
       "    .dataframe tbody tr th:only-of-type {\n",
       "        vertical-align: middle;\n",
       "    }\n",
       "\n",
       "    .dataframe tbody tr th {\n",
       "        vertical-align: top;\n",
       "    }\n",
       "\n",
       "    .dataframe thead th {\n",
       "        text-align: right;\n",
       "    }\n",
       "</style>\n",
       "<table border=\"1\" class=\"dataframe\">\n",
       "  <thead>\n",
       "    <tr style=\"text-align: right;\">\n",
       "      <th></th>\n",
       "      <th>DEPARTMENT_NAME</th>\n",
       "      <th>TOTAL_GROSS</th>\n",
       "      <th>OVERTIME</th>\n",
       "      <th>YEAR</th>\n",
       "    </tr>\n",
       "  </thead>\n",
       "  <tbody>\n",
       "    <tr>\n",
       "      <th>0</th>\n",
       "      <td>Public Works Department</td>\n",
       "      <td>21637431.56</td>\n",
       "      <td>2936045.81</td>\n",
       "      <td>2011</td>\n",
       "    </tr>\n",
       "    <tr>\n",
       "      <th>1</th>\n",
       "      <td>Public Works Department</td>\n",
       "      <td>20839543.57</td>\n",
       "      <td>1727033.69</td>\n",
       "      <td>2012</td>\n",
       "    </tr>\n",
       "    <tr>\n",
       "      <th>2</th>\n",
       "      <td>Public Works Department</td>\n",
       "      <td>22160388.68</td>\n",
       "      <td>3149769.31</td>\n",
       "      <td>2013</td>\n",
       "    </tr>\n",
       "    <tr>\n",
       "      <th>3</th>\n",
       "      <td>Public Works Department</td>\n",
       "      <td>24888293.92</td>\n",
       "      <td>3833240.06</td>\n",
       "      <td>2014</td>\n",
       "    </tr>\n",
       "    <tr>\n",
       "      <th>4</th>\n",
       "      <td>Public Works Department</td>\n",
       "      <td>27029986.10</td>\n",
       "      <td>5243898.07</td>\n",
       "      <td>2015</td>\n",
       "    </tr>\n",
       "    <tr>\n",
       "      <th>5</th>\n",
       "      <td>Public Works Department</td>\n",
       "      <td>25931149.01</td>\n",
       "      <td>4161927.40</td>\n",
       "      <td>2016</td>\n",
       "    </tr>\n",
       "    <tr>\n",
       "      <th>6</th>\n",
       "      <td>Public Works Department</td>\n",
       "      <td>26674448.16</td>\n",
       "      <td>5114656.36</td>\n",
       "      <td>2017</td>\n",
       "    </tr>\n",
       "    <tr>\n",
       "      <th>7</th>\n",
       "      <td>Public Works Department</td>\n",
       "      <td>27067680.29</td>\n",
       "      <td>5255554.84</td>\n",
       "      <td>2018</td>\n",
       "    </tr>\n",
       "    <tr>\n",
       "      <th>8</th>\n",
       "      <td>Public Works Department</td>\n",
       "      <td>26285862.95</td>\n",
       "      <td>4506512.51</td>\n",
       "      <td>2019</td>\n",
       "    </tr>\n",
       "    <tr>\n",
       "      <th>9</th>\n",
       "      <td>Public Works Department</td>\n",
       "      <td>26098861.91</td>\n",
       "      <td>3444542.88</td>\n",
       "      <td>2020</td>\n",
       "    </tr>\n",
       "    <tr>\n",
       "      <th>10</th>\n",
       "      <td>Public Works Department</td>\n",
       "      <td>26454426.14</td>\n",
       "      <td>3982020.93</td>\n",
       "      <td>2021</td>\n",
       "    </tr>\n",
       "    <tr>\n",
       "      <th>11</th>\n",
       "      <td>Public Works Department</td>\n",
       "      <td>27529072.93</td>\n",
       "      <td>4908683.73</td>\n",
       "      <td>2022</td>\n",
       "    </tr>\n",
       "    <tr>\n",
       "      <th>12</th>\n",
       "      <td>Public Works Department</td>\n",
       "      <td>26026308.85</td>\n",
       "      <td>5246580.43</td>\n",
       "      <td>2023</td>\n",
       "    </tr>\n",
       "    <tr>\n",
       "      <th>13</th>\n",
       "      <td>Public Works Department</td>\n",
       "      <td>29771973.09</td>\n",
       "      <td>7006232.98</td>\n",
       "      <td>2024</td>\n",
       "    </tr>\n",
       "  </tbody>\n",
       "</table>\n",
       "</div>"
      ],
      "text/plain": [
       "            DEPARTMENT_NAME  TOTAL_GROSS    OVERTIME  YEAR\n",
       "0   Public Works Department  21637431.56  2936045.81  2011\n",
       "1   Public Works Department  20839543.57  1727033.69  2012\n",
       "2   Public Works Department  22160388.68  3149769.31  2013\n",
       "3   Public Works Department  24888293.92  3833240.06  2014\n",
       "4   Public Works Department  27029986.10  5243898.07  2015\n",
       "5   Public Works Department  25931149.01  4161927.40  2016\n",
       "6   Public Works Department  26674448.16  5114656.36  2017\n",
       "7   Public Works Department  27067680.29  5255554.84  2018\n",
       "8   Public Works Department  26285862.95  4506512.51  2019\n",
       "9   Public Works Department  26098861.91  3444542.88  2020\n",
       "10  Public Works Department  26454426.14  3982020.93  2021\n",
       "11  Public Works Department  27529072.93  4908683.73  2022\n",
       "12  Public Works Department  26026308.85  5246580.43  2023\n",
       "13  Public Works Department  29771973.09  7006232.98  2024"
      ]
     },
     "metadata": {},
     "output_type": "display_data"
    },
    {
     "name": "stdout",
     "output_type": "stream",
     "text": [
      "\n",
      "===== Department: Property Management =====\n"
     ]
    },
    {
     "data": {
      "text/html": [
       "<div>\n",
       "<style scoped>\n",
       "    .dataframe tbody tr th:only-of-type {\n",
       "        vertical-align: middle;\n",
       "    }\n",
       "\n",
       "    .dataframe tbody tr th {\n",
       "        vertical-align: top;\n",
       "    }\n",
       "\n",
       "    .dataframe thead th {\n",
       "        text-align: right;\n",
       "    }\n",
       "</style>\n",
       "<table border=\"1\" class=\"dataframe\">\n",
       "  <thead>\n",
       "    <tr style=\"text-align: right;\">\n",
       "      <th></th>\n",
       "      <th>DEPARTMENT_NAME</th>\n",
       "      <th>TOTAL_GROSS</th>\n",
       "      <th>OVERTIME</th>\n",
       "      <th>YEAR</th>\n",
       "    </tr>\n",
       "  </thead>\n",
       "  <tbody>\n",
       "    <tr>\n",
       "      <th>0</th>\n",
       "      <td>Property Management</td>\n",
       "      <td>14173062.33</td>\n",
       "      <td>1509684.21</td>\n",
       "      <td>2011</td>\n",
       "    </tr>\n",
       "    <tr>\n",
       "      <th>1</th>\n",
       "      <td>Property Management</td>\n",
       "      <td>14727492.81</td>\n",
       "      <td>1771431.66</td>\n",
       "      <td>2012</td>\n",
       "    </tr>\n",
       "    <tr>\n",
       "      <th>2</th>\n",
       "      <td>Property Management</td>\n",
       "      <td>15225876.72</td>\n",
       "      <td>2136854.78</td>\n",
       "      <td>2013</td>\n",
       "    </tr>\n",
       "    <tr>\n",
       "      <th>3</th>\n",
       "      <td>Property Management</td>\n",
       "      <td>15103896.30</td>\n",
       "      <td>1948891.72</td>\n",
       "      <td>2014</td>\n",
       "    </tr>\n",
       "    <tr>\n",
       "      <th>4</th>\n",
       "      <td>Property Management</td>\n",
       "      <td>14867023.90</td>\n",
       "      <td>2131552.41</td>\n",
       "      <td>2015</td>\n",
       "    </tr>\n",
       "    <tr>\n",
       "      <th>5</th>\n",
       "      <td>Property Management</td>\n",
       "      <td>10103922.14</td>\n",
       "      <td>1814680.76</td>\n",
       "      <td>2016</td>\n",
       "    </tr>\n",
       "    <tr>\n",
       "      <th>6</th>\n",
       "      <td>Property Management</td>\n",
       "      <td>10570764.93</td>\n",
       "      <td>1917753.05</td>\n",
       "      <td>2017</td>\n",
       "    </tr>\n",
       "    <tr>\n",
       "      <th>7</th>\n",
       "      <td>Property Management</td>\n",
       "      <td>11080659.67</td>\n",
       "      <td>1943773.68</td>\n",
       "      <td>2018</td>\n",
       "    </tr>\n",
       "    <tr>\n",
       "      <th>8</th>\n",
       "      <td>Property Management</td>\n",
       "      <td>11006087.59</td>\n",
       "      <td>2075398.70</td>\n",
       "      <td>2019</td>\n",
       "    </tr>\n",
       "    <tr>\n",
       "      <th>9</th>\n",
       "      <td>Property Management</td>\n",
       "      <td>10775455.78</td>\n",
       "      <td>2506471.06</td>\n",
       "      <td>2020</td>\n",
       "    </tr>\n",
       "    <tr>\n",
       "      <th>10</th>\n",
       "      <td>Property Management</td>\n",
       "      <td>10632450.36</td>\n",
       "      <td>2379766.76</td>\n",
       "      <td>2021</td>\n",
       "    </tr>\n",
       "    <tr>\n",
       "      <th>11</th>\n",
       "      <td>Property Management</td>\n",
       "      <td>11558093.92</td>\n",
       "      <td>2416436.55</td>\n",
       "      <td>2022</td>\n",
       "    </tr>\n",
       "    <tr>\n",
       "      <th>12</th>\n",
       "      <td>Property Management</td>\n",
       "      <td>12722179.25</td>\n",
       "      <td>2686587.14</td>\n",
       "      <td>2023</td>\n",
       "    </tr>\n",
       "    <tr>\n",
       "      <th>13</th>\n",
       "      <td>Property Management</td>\n",
       "      <td>14076802.57</td>\n",
       "      <td>2766946.29</td>\n",
       "      <td>2024</td>\n",
       "    </tr>\n",
       "  </tbody>\n",
       "</table>\n",
       "</div>"
      ],
      "text/plain": [
       "        DEPARTMENT_NAME  TOTAL_GROSS    OVERTIME  YEAR\n",
       "0   Property Management  14173062.33  1509684.21  2011\n",
       "1   Property Management  14727492.81  1771431.66  2012\n",
       "2   Property Management  15225876.72  2136854.78  2013\n",
       "3   Property Management  15103896.30  1948891.72  2014\n",
       "4   Property Management  14867023.90  2131552.41  2015\n",
       "5   Property Management  10103922.14  1814680.76  2016\n",
       "6   Property Management  10570764.93  1917753.05  2017\n",
       "7   Property Management  11080659.67  1943773.68  2018\n",
       "8   Property Management  11006087.59  2075398.70  2019\n",
       "9   Property Management  10775455.78  2506471.06  2020\n",
       "10  Property Management  10632450.36  2379766.76  2021\n",
       "11  Property Management  11558093.92  2416436.55  2022\n",
       "12  Property Management  12722179.25  2686587.14  2023\n",
       "13  Property Management  14076802.57  2766946.29  2024"
      ]
     },
     "metadata": {},
     "output_type": "display_data"
    },
    {
     "name": "stdout",
     "output_type": "stream",
     "text": [
      "\n",
      "===== Department: Boston Police Department =====\n"
     ]
    },
    {
     "data": {
      "text/html": [
       "<div>\n",
       "<style scoped>\n",
       "    .dataframe tbody tr th:only-of-type {\n",
       "        vertical-align: middle;\n",
       "    }\n",
       "\n",
       "    .dataframe tbody tr th {\n",
       "        vertical-align: top;\n",
       "    }\n",
       "\n",
       "    .dataframe thead th {\n",
       "        text-align: right;\n",
       "    }\n",
       "</style>\n",
       "<table border=\"1\" class=\"dataframe\">\n",
       "  <thead>\n",
       "    <tr style=\"text-align: right;\">\n",
       "      <th></th>\n",
       "      <th>DEPARTMENT_NAME</th>\n",
       "      <th>TOTAL_GROSS</th>\n",
       "      <th>OVERTIME</th>\n",
       "      <th>YEAR</th>\n",
       "    </tr>\n",
       "  </thead>\n",
       "  <tbody>\n",
       "    <tr>\n",
       "      <th>0</th>\n",
       "      <td>Boston Police Department</td>\n",
       "      <td>2.905179e+08</td>\n",
       "      <td>4.223736e+07</td>\n",
       "      <td>2011</td>\n",
       "    </tr>\n",
       "    <tr>\n",
       "      <th>1</th>\n",
       "      <td>Boston Police Department</td>\n",
       "      <td>2.958616e+08</td>\n",
       "      <td>4.469742e+07</td>\n",
       "      <td>2012</td>\n",
       "    </tr>\n",
       "    <tr>\n",
       "      <th>2</th>\n",
       "      <td>Boston Police Department</td>\n",
       "      <td>3.077962e+08</td>\n",
       "      <td>5.748377e+07</td>\n",
       "      <td>2013</td>\n",
       "    </tr>\n",
       "    <tr>\n",
       "      <th>3</th>\n",
       "      <td>Boston Police Department</td>\n",
       "      <td>3.578099e+08</td>\n",
       "      <td>5.791461e+07</td>\n",
       "      <td>2014</td>\n",
       "    </tr>\n",
       "    <tr>\n",
       "      <th>4</th>\n",
       "      <td>Boston Police Department</td>\n",
       "      <td>3.581379e+08</td>\n",
       "      <td>6.160814e+07</td>\n",
       "      <td>2015</td>\n",
       "    </tr>\n",
       "    <tr>\n",
       "      <th>5</th>\n",
       "      <td>Boston Police Department</td>\n",
       "      <td>3.885872e+08</td>\n",
       "      <td>6.098992e+07</td>\n",
       "      <td>2016</td>\n",
       "    </tr>\n",
       "    <tr>\n",
       "      <th>6</th>\n",
       "      <td>Boston Police Department</td>\n",
       "      <td>3.912776e+08</td>\n",
       "      <td>6.693365e+07</td>\n",
       "      <td>2017</td>\n",
       "    </tr>\n",
       "    <tr>\n",
       "      <th>7</th>\n",
       "      <td>Boston Police Department</td>\n",
       "      <td>4.166830e+08</td>\n",
       "      <td>7.785544e+07</td>\n",
       "      <td>2018</td>\n",
       "    </tr>\n",
       "    <tr>\n",
       "      <th>8</th>\n",
       "      <td>Boston Police Department</td>\n",
       "      <td>4.157256e+08</td>\n",
       "      <td>7.776430e+07</td>\n",
       "      <td>2019</td>\n",
       "    </tr>\n",
       "    <tr>\n",
       "      <th>9</th>\n",
       "      <td>Boston Police Department</td>\n",
       "      <td>4.162761e+08</td>\n",
       "      <td>7.805770e+07</td>\n",
       "      <td>2020</td>\n",
       "    </tr>\n",
       "    <tr>\n",
       "      <th>10</th>\n",
       "      <td>Boston Police Department</td>\n",
       "      <td>4.087625e+08</td>\n",
       "      <td>7.222279e+07</td>\n",
       "      <td>2021</td>\n",
       "    </tr>\n",
       "    <tr>\n",
       "      <th>11</th>\n",
       "      <td>Boston Police Department</td>\n",
       "      <td>4.058231e+08</td>\n",
       "      <td>7.826540e+07</td>\n",
       "      <td>2022</td>\n",
       "    </tr>\n",
       "    <tr>\n",
       "      <th>12</th>\n",
       "      <td>Boston Police Department</td>\n",
       "      <td>4.166221e+08</td>\n",
       "      <td>8.851777e+07</td>\n",
       "      <td>2023</td>\n",
       "    </tr>\n",
       "    <tr>\n",
       "      <th>13</th>\n",
       "      <td>Boston Police Department</td>\n",
       "      <td>5.779810e+08</td>\n",
       "      <td>1.032235e+08</td>\n",
       "      <td>2024</td>\n",
       "    </tr>\n",
       "  </tbody>\n",
       "</table>\n",
       "</div>"
      ],
      "text/plain": [
       "             DEPARTMENT_NAME   TOTAL_GROSS      OVERTIME  YEAR\n",
       "0   Boston Police Department  2.905179e+08  4.223736e+07  2011\n",
       "1   Boston Police Department  2.958616e+08  4.469742e+07  2012\n",
       "2   Boston Police Department  3.077962e+08  5.748377e+07  2013\n",
       "3   Boston Police Department  3.578099e+08  5.791461e+07  2014\n",
       "4   Boston Police Department  3.581379e+08  6.160814e+07  2015\n",
       "5   Boston Police Department  3.885872e+08  6.098992e+07  2016\n",
       "6   Boston Police Department  3.912776e+08  6.693365e+07  2017\n",
       "7   Boston Police Department  4.166830e+08  7.785544e+07  2018\n",
       "8   Boston Police Department  4.157256e+08  7.776430e+07  2019\n",
       "9   Boston Police Department  4.162761e+08  7.805770e+07  2020\n",
       "10  Boston Police Department  4.087625e+08  7.222279e+07  2021\n",
       "11  Boston Police Department  4.058231e+08  7.826540e+07  2022\n",
       "12  Boston Police Department  4.166221e+08  8.851777e+07  2023\n",
       "13  Boston Police Department  5.779810e+08  1.032235e+08  2024"
      ]
     },
     "metadata": {},
     "output_type": "display_data"
    },
    {
     "name": "stdout",
     "output_type": "stream",
     "text": [
      "\n",
      "===== Department: Boston Fire Department =====\n"
     ]
    },
    {
     "data": {
      "text/html": [
       "<div>\n",
       "<style scoped>\n",
       "    .dataframe tbody tr th:only-of-type {\n",
       "        vertical-align: middle;\n",
       "    }\n",
       "\n",
       "    .dataframe tbody tr th {\n",
       "        vertical-align: top;\n",
       "    }\n",
       "\n",
       "    .dataframe thead th {\n",
       "        text-align: right;\n",
       "    }\n",
       "</style>\n",
       "<table border=\"1\" class=\"dataframe\">\n",
       "  <thead>\n",
       "    <tr style=\"text-align: right;\">\n",
       "      <th></th>\n",
       "      <th>DEPARTMENT_NAME</th>\n",
       "      <th>TOTAL_GROSS</th>\n",
       "      <th>OVERTIME</th>\n",
       "      <th>YEAR</th>\n",
       "    </tr>\n",
       "  </thead>\n",
       "  <tbody>\n",
       "    <tr>\n",
       "      <th>0</th>\n",
       "      <td>Boston Fire Department</td>\n",
       "      <td>1.731703e+08</td>\n",
       "      <td>20940928.99</td>\n",
       "      <td>2011</td>\n",
       "    </tr>\n",
       "    <tr>\n",
       "      <th>1</th>\n",
       "      <td>Boston Fire Department</td>\n",
       "      <td>1.791011e+08</td>\n",
       "      <td>21408244.96</td>\n",
       "      <td>2012</td>\n",
       "    </tr>\n",
       "    <tr>\n",
       "      <th>2</th>\n",
       "      <td>Boston Fire Department</td>\n",
       "      <td>1.778649e+08</td>\n",
       "      <td>20388822.87</td>\n",
       "      <td>2013</td>\n",
       "    </tr>\n",
       "    <tr>\n",
       "      <th>3</th>\n",
       "      <td>Boston Fire Department</td>\n",
       "      <td>2.097233e+08</td>\n",
       "      <td>21318731.45</td>\n",
       "      <td>2014</td>\n",
       "    </tr>\n",
       "    <tr>\n",
       "      <th>4</th>\n",
       "      <td>Boston Fire Department</td>\n",
       "      <td>2.094536e+08</td>\n",
       "      <td>24815833.23</td>\n",
       "      <td>2015</td>\n",
       "    </tr>\n",
       "    <tr>\n",
       "      <th>5</th>\n",
       "      <td>Boston Fire Department</td>\n",
       "      <td>2.114572e+08</td>\n",
       "      <td>23762982.32</td>\n",
       "      <td>2016</td>\n",
       "    </tr>\n",
       "    <tr>\n",
       "      <th>6</th>\n",
       "      <td>Boston Fire Department</td>\n",
       "      <td>2.151573e+08</td>\n",
       "      <td>22829249.92</td>\n",
       "      <td>2017</td>\n",
       "    </tr>\n",
       "    <tr>\n",
       "      <th>7</th>\n",
       "      <td>Boston Fire Department</td>\n",
       "      <td>2.199342e+08</td>\n",
       "      <td>23679890.59</td>\n",
       "      <td>2018</td>\n",
       "    </tr>\n",
       "    <tr>\n",
       "      <th>8</th>\n",
       "      <td>Boston Fire Department</td>\n",
       "      <td>2.655112e+08</td>\n",
       "      <td>30274873.99</td>\n",
       "      <td>2019</td>\n",
       "    </tr>\n",
       "    <tr>\n",
       "      <th>9</th>\n",
       "      <td>Boston Fire Department</td>\n",
       "      <td>2.642356e+08</td>\n",
       "      <td>33761132.79</td>\n",
       "      <td>2020</td>\n",
       "    </tr>\n",
       "    <tr>\n",
       "      <th>10</th>\n",
       "      <td>Boston Fire Department</td>\n",
       "      <td>2.698774e+08</td>\n",
       "      <td>40043057.77</td>\n",
       "      <td>2021</td>\n",
       "    </tr>\n",
       "    <tr>\n",
       "      <th>11</th>\n",
       "      <td>Boston Fire Department</td>\n",
       "      <td>2.780314e+08</td>\n",
       "      <td>42902465.65</td>\n",
       "      <td>2022</td>\n",
       "    </tr>\n",
       "    <tr>\n",
       "      <th>12</th>\n",
       "      <td>Boston Fire Department</td>\n",
       "      <td>2.812171e+08</td>\n",
       "      <td>41462203.91</td>\n",
       "      <td>2023</td>\n",
       "    </tr>\n",
       "    <tr>\n",
       "      <th>13</th>\n",
       "      <td>Boston Fire Department</td>\n",
       "      <td>3.436162e+08</td>\n",
       "      <td>44139299.77</td>\n",
       "      <td>2024</td>\n",
       "    </tr>\n",
       "  </tbody>\n",
       "</table>\n",
       "</div>"
      ],
      "text/plain": [
       "           DEPARTMENT_NAME   TOTAL_GROSS     OVERTIME  YEAR\n",
       "0   Boston Fire Department  1.731703e+08  20940928.99  2011\n",
       "1   Boston Fire Department  1.791011e+08  21408244.96  2012\n",
       "2   Boston Fire Department  1.778649e+08  20388822.87  2013\n",
       "3   Boston Fire Department  2.097233e+08  21318731.45  2014\n",
       "4   Boston Fire Department  2.094536e+08  24815833.23  2015\n",
       "5   Boston Fire Department  2.114572e+08  23762982.32  2016\n",
       "6   Boston Fire Department  2.151573e+08  22829249.92  2017\n",
       "7   Boston Fire Department  2.199342e+08  23679890.59  2018\n",
       "8   Boston Fire Department  2.655112e+08  30274873.99  2019\n",
       "9   Boston Fire Department  2.642356e+08  33761132.79  2020\n",
       "10  Boston Fire Department  2.698774e+08  40043057.77  2021\n",
       "11  Boston Fire Department  2.780314e+08  42902465.65  2022\n",
       "12  Boston Fire Department  2.812171e+08  41462203.91  2023\n",
       "13  Boston Fire Department  3.436162e+08  44139299.77  2024"
      ]
     },
     "metadata": {},
     "output_type": "display_data"
    }
   ],
   "source": [
    "# 1. Compute annual summaries per department (summing TOTAL_GROSS and OVERTIME)\n",
    "department_summaries = {}\n",
    "for year, df_year in full_df.groupby('YEAR'):\n",
    "    summary = (\n",
    "        df_year\n",
    "        .groupby('DEPARTMENT_NAME')[['TOTAL_GROSS', 'OVERTIME']]\n",
    "        .sum()\n",
    "        .reset_index()\n",
    "    )\n",
    "    department_summaries[year] = summary\n",
    "\n",
    "# 2. For each year, select the top 5 departments by overtime pay\n",
    "top_departments = {\n",
    "    year: df.nlargest(5, 'OVERTIME')['DEPARTMENT_NAME'].tolist()\n",
    "    for year, df in department_summaries.items()\n",
    "}\n",
    "\n",
    "# 3. Build yearly summary tables that include only those top 5 departments\n",
    "top_department_data = {\n",
    "    year: df[df['DEPARTMENT_NAME'].isin(top_departments[year])].copy()\n",
    "    for year, df in department_summaries.items()\n",
    "}\n",
    "\n",
    "# 4. Find departments that appear in the top 5 every year\n",
    "years_list = sorted(top_departments.keys())\n",
    "common_departments = set(top_departments[years_list[0]])\n",
    "for year in years_list[1:]:\n",
    "    common_departments &= set(top_departments[year])\n",
    "\n",
    "print(f\"Departments in the overtime top 5 every year: {common_departments}\")\n",
    "\n",
    "# 5. For each of those ‘consistent’ departments, concatenate their yearly data\n",
    "department_dataframes = {}\n",
    "for dept in common_departments:\n",
    "    pieces = []\n",
    "    for year, df in top_department_data.items():\n",
    "        sub = df[df['DEPARTMENT_NAME'] == dept]\n",
    "        if not sub.empty:\n",
    "            sub = sub.copy()\n",
    "            sub['YEAR'] = year\n",
    "            pieces.append(sub)\n",
    "    if pieces:\n",
    "        department_dataframes[dept] = pd.concat(pieces, ignore_index=True)\n",
    "\n",
    "# 6. Display each department’s DataFrame\n",
    "for dept, df in department_dataframes.items():\n",
    "    print(f\"\\n===== Department: {dept} =====\")\n",
    "    display(df)"
   ]
  },
  {
   "cell_type": "markdown",
   "id": "6efb2c86",
   "metadata": {},
   "source": [
    "## Overtime Analysis"
   ]
  },
  {
   "cell_type": "code",
   "execution_count": 5,
   "id": "95e691584674bd53",
   "metadata": {
    "ExecuteTime": {
     "end_time": "2025-04-21T18:37:17.951342Z",
     "start_time": "2025-04-21T18:37:17.447161Z"
    }
   },
   "outputs": [
    {
     "data": {
      "application/vnd.plotly.v1+json": {
       "config": {
        "plotlyServerURL": "https://plot.ly"
       },
       "data": [
        {
         "hovertemplate": "<b>%{text}</b><br>Year: %{x}<br>Overtime Pay: $%{y:,.2f}<extra></extra>",
         "mode": "lines+markers",
         "name": "Public Works Department",
         "text": [
          "Public Works Department",
          "Public Works Department",
          "Public Works Department",
          "Public Works Department",
          "Public Works Department",
          "Public Works Department",
          "Public Works Department",
          "Public Works Department",
          "Public Works Department",
          "Public Works Department",
          "Public Works Department",
          "Public Works Department",
          "Public Works Department",
          "Public Works Department"
         ],
         "type": "scatter",
         "x": {
          "bdata": "2wfcB90H3gffB+AH4QfiB+MH5AflB+YH5wfoBw==",
          "dtype": "i2"
         },
         "y": {
          "bdata": "exSu53ZmRkEK16OwOVo6QXsUrqfkB0hBexSuB8w+TUFI4XqE/gBUQTMzM7PDwE9BcT0KF8iCU0Fcj8K1YAxUQQrXoyDkMFFBCtejcJ9HSkFxPQp3YmFOQexRuO6iuVJBuB6FG50DVEHsUbg+BrpaQQ==",
          "dtype": "f8"
         }
        },
        {
         "hovertemplate": "<b>%{text}</b><br>Year: %{x}<br>Overtime Pay: $%{y:,.2f}<extra></extra>",
         "mode": "lines+markers",
         "name": "Property Management",
         "text": [
          "Property Management",
          "Property Management",
          "Property Management",
          "Property Management",
          "Property Management",
          "Property Management",
          "Property Management",
          "Property Management",
          "Property Management",
          "Property Management",
          "Property Management",
          "Property Management",
          "Property Management",
          "Property Management"
         ],
         "type": "scatter",
         "x": {
          "bdata": "2wfcB90H3gffB+AH4QfiB+MH5AflB+YH5wfoBw==",
          "dtype": "i2"
         },
         "y": {
          "bdata": "XI/CNTQJN0GPwvWopwc7QT0K12OLTUBBhetRuNu8PUFI4Xo0MENAQSlcj8KYsDtBzczMDDlDPUHhehSu3ag9QTMzM7MGqz9BexSuh3MfQ0EUrkdh+ydCQWZmZkaab0JBH4XrkT1/REFSuB4lMRxFQQ==",
          "dtype": "f8"
         }
        },
        {
         "hovertemplate": "<b>%{text}</b><br>Year: %{x}<br>Overtime Pay: $%{y:,.2f}<extra></extra>",
         "mode": "lines+markers",
         "name": "Boston Police Department",
         "text": [
          "Boston Police Department",
          "Boston Police Department",
          "Boston Police Department",
          "Boston Police Department",
          "Boston Police Department",
          "Boston Police Department",
          "Boston Police Department",
          "Boston Police Department",
          "Boston Police Department",
          "Boston Police Department",
          "Boston Police Department",
          "Boston Police Department",
          "Boston Police Department",
          "Boston Police Department"
         ],
         "type": "scatter",
         "x": {
          "bdata": "2wfcB90H3gffB+AH4QfiB+MH5AflB+YH5wfoBw==",
          "dtype": "i2"
         },
         "y": {
          "bdata": "hetRhu0jhEFcj8I/OlCFQXE9Cr0PaYtBUrgeb6edi0HXo3CHhmCNQQAAAOoOFY1Bj8L1jpzqj0Efhesv64+SQXE9CjpbipJBH4XrgEOckkFSuB4EITiRQXE9CurwqJJBPQrXIbIalUF7FK7GQ5yYQQ==",
          "dtype": "f8"
         }
        },
        {
         "hovertemplate": "<b>%{text}</b><br>Year: %{x}<br>Overtime Pay: $%{y:,.2f}<extra></extra>",
         "mode": "lines+markers",
         "name": "Boston Fire Department",
         "text": [
          "Boston Fire Department",
          "Boston Fire Department",
          "Boston Fire Department",
          "Boston Fire Department",
          "Boston Fire Department",
          "Boston Fire Department",
          "Boston Fire Department",
          "Boston Fire Department",
          "Boston Fire Department",
          "Boston Fire Department",
          "Boston Fire Department",
          "Boston Fire Department",
          "Boston Fire Department",
          "Boston Fire Department"
         ],
         "type": "scatter",
         "x": {
          "bdata": "2wfcB90H3gffB+AH4QfiB+MH5AflB+YH5wfoBw==",
          "dtype": "i2"
         },
         "y": {
          "bdata": "PQrXD4j4c0H2KFxPn2p0QR+F6229cXNBMzMzt8RUdEF7FK6Tjap3QVK4HmWCqXZB7FG4HozFdUHXo3ApOZV2QT0K159T33xBhetRZjsZgEHD9SiOERiDQTMzMw0edYRBFK5H303Fg0HD9SgeGQyFQQ==",
          "dtype": "f8"
         }
        }
       ],
       "layout": {
        "hovermode": "x unified",
        "legend": {
         "title": {
          "text": "Department"
         }
        },
        "template": {
         "data": {
          "bar": [
           {
            "error_x": {
             "color": "#2a3f5f"
            },
            "error_y": {
             "color": "#2a3f5f"
            },
            "marker": {
             "line": {
              "color": "white",
              "width": 0.5
             },
             "pattern": {
              "fillmode": "overlay",
              "size": 10,
              "solidity": 0.2
             }
            },
            "type": "bar"
           }
          ],
          "barpolar": [
           {
            "marker": {
             "line": {
              "color": "white",
              "width": 0.5
             },
             "pattern": {
              "fillmode": "overlay",
              "size": 10,
              "solidity": 0.2
             }
            },
            "type": "barpolar"
           }
          ],
          "carpet": [
           {
            "aaxis": {
             "endlinecolor": "#2a3f5f",
             "gridcolor": "#C8D4E3",
             "linecolor": "#C8D4E3",
             "minorgridcolor": "#C8D4E3",
             "startlinecolor": "#2a3f5f"
            },
            "baxis": {
             "endlinecolor": "#2a3f5f",
             "gridcolor": "#C8D4E3",
             "linecolor": "#C8D4E3",
             "minorgridcolor": "#C8D4E3",
             "startlinecolor": "#2a3f5f"
            },
            "type": "carpet"
           }
          ],
          "choropleth": [
           {
            "colorbar": {
             "outlinewidth": 0,
             "ticks": ""
            },
            "type": "choropleth"
           }
          ],
          "contour": [
           {
            "colorbar": {
             "outlinewidth": 0,
             "ticks": ""
            },
            "colorscale": [
             [
              0,
              "#0d0887"
             ],
             [
              0.1111111111111111,
              "#46039f"
             ],
             [
              0.2222222222222222,
              "#7201a8"
             ],
             [
              0.3333333333333333,
              "#9c179e"
             ],
             [
              0.4444444444444444,
              "#bd3786"
             ],
             [
              0.5555555555555556,
              "#d8576b"
             ],
             [
              0.6666666666666666,
              "#ed7953"
             ],
             [
              0.7777777777777778,
              "#fb9f3a"
             ],
             [
              0.8888888888888888,
              "#fdca26"
             ],
             [
              1,
              "#f0f921"
             ]
            ],
            "type": "contour"
           }
          ],
          "contourcarpet": [
           {
            "colorbar": {
             "outlinewidth": 0,
             "ticks": ""
            },
            "type": "contourcarpet"
           }
          ],
          "heatmap": [
           {
            "colorbar": {
             "outlinewidth": 0,
             "ticks": ""
            },
            "colorscale": [
             [
              0,
              "#0d0887"
             ],
             [
              0.1111111111111111,
              "#46039f"
             ],
             [
              0.2222222222222222,
              "#7201a8"
             ],
             [
              0.3333333333333333,
              "#9c179e"
             ],
             [
              0.4444444444444444,
              "#bd3786"
             ],
             [
              0.5555555555555556,
              "#d8576b"
             ],
             [
              0.6666666666666666,
              "#ed7953"
             ],
             [
              0.7777777777777778,
              "#fb9f3a"
             ],
             [
              0.8888888888888888,
              "#fdca26"
             ],
             [
              1,
              "#f0f921"
             ]
            ],
            "type": "heatmap"
           }
          ],
          "histogram": [
           {
            "marker": {
             "pattern": {
              "fillmode": "overlay",
              "size": 10,
              "solidity": 0.2
             }
            },
            "type": "histogram"
           }
          ],
          "histogram2d": [
           {
            "colorbar": {
             "outlinewidth": 0,
             "ticks": ""
            },
            "colorscale": [
             [
              0,
              "#0d0887"
             ],
             [
              0.1111111111111111,
              "#46039f"
             ],
             [
              0.2222222222222222,
              "#7201a8"
             ],
             [
              0.3333333333333333,
              "#9c179e"
             ],
             [
              0.4444444444444444,
              "#bd3786"
             ],
             [
              0.5555555555555556,
              "#d8576b"
             ],
             [
              0.6666666666666666,
              "#ed7953"
             ],
             [
              0.7777777777777778,
              "#fb9f3a"
             ],
             [
              0.8888888888888888,
              "#fdca26"
             ],
             [
              1,
              "#f0f921"
             ]
            ],
            "type": "histogram2d"
           }
          ],
          "histogram2dcontour": [
           {
            "colorbar": {
             "outlinewidth": 0,
             "ticks": ""
            },
            "colorscale": [
             [
              0,
              "#0d0887"
             ],
             [
              0.1111111111111111,
              "#46039f"
             ],
             [
              0.2222222222222222,
              "#7201a8"
             ],
             [
              0.3333333333333333,
              "#9c179e"
             ],
             [
              0.4444444444444444,
              "#bd3786"
             ],
             [
              0.5555555555555556,
              "#d8576b"
             ],
             [
              0.6666666666666666,
              "#ed7953"
             ],
             [
              0.7777777777777778,
              "#fb9f3a"
             ],
             [
              0.8888888888888888,
              "#fdca26"
             ],
             [
              1,
              "#f0f921"
             ]
            ],
            "type": "histogram2dcontour"
           }
          ],
          "mesh3d": [
           {
            "colorbar": {
             "outlinewidth": 0,
             "ticks": ""
            },
            "type": "mesh3d"
           }
          ],
          "parcoords": [
           {
            "line": {
             "colorbar": {
              "outlinewidth": 0,
              "ticks": ""
             }
            },
            "type": "parcoords"
           }
          ],
          "pie": [
           {
            "automargin": true,
            "type": "pie"
           }
          ],
          "scatter": [
           {
            "fillpattern": {
             "fillmode": "overlay",
             "size": 10,
             "solidity": 0.2
            },
            "type": "scatter"
           }
          ],
          "scatter3d": [
           {
            "line": {
             "colorbar": {
              "outlinewidth": 0,
              "ticks": ""
             }
            },
            "marker": {
             "colorbar": {
              "outlinewidth": 0,
              "ticks": ""
             }
            },
            "type": "scatter3d"
           }
          ],
          "scattercarpet": [
           {
            "marker": {
             "colorbar": {
              "outlinewidth": 0,
              "ticks": ""
             }
            },
            "type": "scattercarpet"
           }
          ],
          "scattergeo": [
           {
            "marker": {
             "colorbar": {
              "outlinewidth": 0,
              "ticks": ""
             }
            },
            "type": "scattergeo"
           }
          ],
          "scattergl": [
           {
            "marker": {
             "colorbar": {
              "outlinewidth": 0,
              "ticks": ""
             }
            },
            "type": "scattergl"
           }
          ],
          "scattermap": [
           {
            "marker": {
             "colorbar": {
              "outlinewidth": 0,
              "ticks": ""
             }
            },
            "type": "scattermap"
           }
          ],
          "scattermapbox": [
           {
            "marker": {
             "colorbar": {
              "outlinewidth": 0,
              "ticks": ""
             }
            },
            "type": "scattermapbox"
           }
          ],
          "scatterpolar": [
           {
            "marker": {
             "colorbar": {
              "outlinewidth": 0,
              "ticks": ""
             }
            },
            "type": "scatterpolar"
           }
          ],
          "scatterpolargl": [
           {
            "marker": {
             "colorbar": {
              "outlinewidth": 0,
              "ticks": ""
             }
            },
            "type": "scatterpolargl"
           }
          ],
          "scatterternary": [
           {
            "marker": {
             "colorbar": {
              "outlinewidth": 0,
              "ticks": ""
             }
            },
            "type": "scatterternary"
           }
          ],
          "surface": [
           {
            "colorbar": {
             "outlinewidth": 0,
             "ticks": ""
            },
            "colorscale": [
             [
              0,
              "#0d0887"
             ],
             [
              0.1111111111111111,
              "#46039f"
             ],
             [
              0.2222222222222222,
              "#7201a8"
             ],
             [
              0.3333333333333333,
              "#9c179e"
             ],
             [
              0.4444444444444444,
              "#bd3786"
             ],
             [
              0.5555555555555556,
              "#d8576b"
             ],
             [
              0.6666666666666666,
              "#ed7953"
             ],
             [
              0.7777777777777778,
              "#fb9f3a"
             ],
             [
              0.8888888888888888,
              "#fdca26"
             ],
             [
              1,
              "#f0f921"
             ]
            ],
            "type": "surface"
           }
          ],
          "table": [
           {
            "cells": {
             "fill": {
              "color": "#EBF0F8"
             },
             "line": {
              "color": "white"
             }
            },
            "header": {
             "fill": {
              "color": "#C8D4E3"
             },
             "line": {
              "color": "white"
             }
            },
            "type": "table"
           }
          ]
         },
         "layout": {
          "annotationdefaults": {
           "arrowcolor": "#2a3f5f",
           "arrowhead": 0,
           "arrowwidth": 1
          },
          "autotypenumbers": "strict",
          "coloraxis": {
           "colorbar": {
            "outlinewidth": 0,
            "ticks": ""
           }
          },
          "colorscale": {
           "diverging": [
            [
             0,
             "#8e0152"
            ],
            [
             0.1,
             "#c51b7d"
            ],
            [
             0.2,
             "#de77ae"
            ],
            [
             0.3,
             "#f1b6da"
            ],
            [
             0.4,
             "#fde0ef"
            ],
            [
             0.5,
             "#f7f7f7"
            ],
            [
             0.6,
             "#e6f5d0"
            ],
            [
             0.7,
             "#b8e186"
            ],
            [
             0.8,
             "#7fbc41"
            ],
            [
             0.9,
             "#4d9221"
            ],
            [
             1,
             "#276419"
            ]
           ],
           "sequential": [
            [
             0,
             "#0d0887"
            ],
            [
             0.1111111111111111,
             "#46039f"
            ],
            [
             0.2222222222222222,
             "#7201a8"
            ],
            [
             0.3333333333333333,
             "#9c179e"
            ],
            [
             0.4444444444444444,
             "#bd3786"
            ],
            [
             0.5555555555555556,
             "#d8576b"
            ],
            [
             0.6666666666666666,
             "#ed7953"
            ],
            [
             0.7777777777777778,
             "#fb9f3a"
            ],
            [
             0.8888888888888888,
             "#fdca26"
            ],
            [
             1,
             "#f0f921"
            ]
           ],
           "sequentialminus": [
            [
             0,
             "#0d0887"
            ],
            [
             0.1111111111111111,
             "#46039f"
            ],
            [
             0.2222222222222222,
             "#7201a8"
            ],
            [
             0.3333333333333333,
             "#9c179e"
            ],
            [
             0.4444444444444444,
             "#bd3786"
            ],
            [
             0.5555555555555556,
             "#d8576b"
            ],
            [
             0.6666666666666666,
             "#ed7953"
            ],
            [
             0.7777777777777778,
             "#fb9f3a"
            ],
            [
             0.8888888888888888,
             "#fdca26"
            ],
            [
             1,
             "#f0f921"
            ]
           ]
          },
          "colorway": [
           "#636efa",
           "#EF553B",
           "#00cc96",
           "#ab63fa",
           "#FFA15A",
           "#19d3f3",
           "#FF6692",
           "#B6E880",
           "#FF97FF",
           "#FECB52"
          ],
          "font": {
           "color": "#2a3f5f"
          },
          "geo": {
           "bgcolor": "white",
           "lakecolor": "white",
           "landcolor": "white",
           "showlakes": true,
           "showland": true,
           "subunitcolor": "#C8D4E3"
          },
          "hoverlabel": {
           "align": "left"
          },
          "hovermode": "closest",
          "mapbox": {
           "style": "light"
          },
          "paper_bgcolor": "white",
          "plot_bgcolor": "white",
          "polar": {
           "angularaxis": {
            "gridcolor": "#EBF0F8",
            "linecolor": "#EBF0F8",
            "ticks": ""
           },
           "bgcolor": "white",
           "radialaxis": {
            "gridcolor": "#EBF0F8",
            "linecolor": "#EBF0F8",
            "ticks": ""
           }
          },
          "scene": {
           "xaxis": {
            "backgroundcolor": "white",
            "gridcolor": "#DFE8F3",
            "gridwidth": 2,
            "linecolor": "#EBF0F8",
            "showbackground": true,
            "ticks": "",
            "zerolinecolor": "#EBF0F8"
           },
           "yaxis": {
            "backgroundcolor": "white",
            "gridcolor": "#DFE8F3",
            "gridwidth": 2,
            "linecolor": "#EBF0F8",
            "showbackground": true,
            "ticks": "",
            "zerolinecolor": "#EBF0F8"
           },
           "zaxis": {
            "backgroundcolor": "white",
            "gridcolor": "#DFE8F3",
            "gridwidth": 2,
            "linecolor": "#EBF0F8",
            "showbackground": true,
            "ticks": "",
            "zerolinecolor": "#EBF0F8"
           }
          },
          "shapedefaults": {
           "line": {
            "color": "#2a3f5f"
           }
          },
          "ternary": {
           "aaxis": {
            "gridcolor": "#DFE8F3",
            "linecolor": "#A2B1C6",
            "ticks": ""
           },
           "baxis": {
            "gridcolor": "#DFE8F3",
            "linecolor": "#A2B1C6",
            "ticks": ""
           },
           "bgcolor": "white",
           "caxis": {
            "gridcolor": "#DFE8F3",
            "linecolor": "#A2B1C6",
            "ticks": ""
           }
          },
          "title": {
           "x": 0.05
          },
          "xaxis": {
           "automargin": true,
           "gridcolor": "#EBF0F8",
           "linecolor": "#EBF0F8",
           "ticks": "",
           "title": {
            "standoff": 15
           },
           "zerolinecolor": "#EBF0F8",
           "zerolinewidth": 2
          },
          "yaxis": {
           "automargin": true,
           "gridcolor": "#EBF0F8",
           "linecolor": "#EBF0F8",
           "ticks": "",
           "title": {
            "standoff": 15
           },
           "zerolinecolor": "#EBF0F8",
           "zerolinewidth": 2
          }
         }
        },
        "title": {
         "text": "Overtime Pay Trends for Consistently Top Departments (2011–2024)"
        },
        "xaxis": {
         "tickmode": "linear",
         "title": {
          "text": "Year"
         }
        },
        "yaxis": {
         "title": {
          "text": "Overtime Pay (USD)"
         }
        }
       }
      }
     },
     "metadata": {},
     "output_type": "display_data"
    }
   ],
   "source": [
    "import plotly.graph_objects as go\n",
    "\n",
    "def plot_department_overtime_interactive(department_dataframes):\n",
    "    \"\"\"\n",
    "    department_dataframes: dict\n",
    "      key   = department name (str)\n",
    "      value = DataFrame with 'YEAR' and 'OVERTIME' columns\n",
    "    \"\"\"\n",
    "    # Create an empty Figure\n",
    "    fig = go.Figure()\n",
    "\n",
    "    # Add one line trace per department\n",
    "    for dept, df in department_dataframes.items():\n",
    "        df_sorted = df.sort_values('YEAR')\n",
    "        fig.add_trace(\n",
    "            go.Scatter(\n",
    "                x=df_sorted['YEAR'],\n",
    "                y=df_sorted['OVERTIME'],\n",
    "                mode='lines+markers',\n",
    "                name=dept,\n",
    "                hovertemplate=\n",
    "                    '<b>%{text}</b><br>' +\n",
    "                    'Year: %{x}<br>' +\n",
    "                    'Overtime Pay: $%{y:,.2f}<extra></extra>',\n",
    "                text=[dept] * len(df_sorted)\n",
    "            )\n",
    "        )\n",
    "\n",
    "    # Update layout for titles and axes\n",
    "    fig.update_layout(\n",
    "        title=\"Overtime Pay Trends for Consistently Top Departments (2011–2024)\",\n",
    "        xaxis_title=\"Year\",\n",
    "        yaxis_title=\"Overtime Pay (USD)\",\n",
    "        xaxis=dict(tickmode='linear'),\n",
    "        template='plotly_white',\n",
    "        legend_title=\"Department\",\n",
    "        hovermode='x unified'\n",
    "    )\n",
    "\n",
    "    fig.show()\n",
    "\n",
    "# Example call\n",
    "plot_department_overtime_interactive(department_dataframes)"
   ]
  },
  {
   "cell_type": "markdown",
   "id": "7b3e1f14",
   "metadata": {},
   "source": [
    "## BPD Overtime Forecast"
   ]
  },
  {
   "cell_type": "code",
   "execution_count": 11,
   "id": "2f723c83d84c4b97",
   "metadata": {
    "ExecuteTime": {
     "end_time": "2025-04-21T18:37:18.228725Z",
     "start_time": "2025-04-21T18:37:18.204390Z"
    }
   },
   "outputs": [
    {
     "name": "stdout",
     "output_type": "stream",
     "text": [
      "Best polynomial degree: 4\n",
      "\n",
      "Predicted future values:\n",
      "Year 2025: $109,631,422.77\n",
      "Year 2026: $123,230,936.16\n",
      "\n",
      "Best model equation:\n",
      "y = -1.23e+14 + 1.16e+05x^1 + 1.81e+08x^2 + -1.19e+05x^3 + 2.22e+01x^4\n"
     ]
    },
    {
     "data": {
      "application/vnd.plotly.v1+json": {
       "config": {
        "plotlyServerURL": "https://plot.ly"
       },
       "data": [
        {
         "hovertemplate": "%{x}, $%{y:,.2f}",
         "marker": {
          "color": "orange",
          "size": 10
         },
         "mode": "markers",
         "name": "Original Data",
         "type": "scatter",
         "x": {
          "bdata": "2wfcB90H3gffB+AH4QfiB+MH5AflB+YH5wfoBw==",
          "dtype": "i2"
         },
         "xaxis": "x",
         "y": {
          "bdata": "hetRhu0jhEFcj8I/OlCFQXE9Cr0PaYtBUrgeb6edi0HXo3CHhmCNQQAAAOoOFY1Bj8L1jpzqj0Efhesv64+SQXE9CjpbipJBH4XrgEOckkFSuB4EITiRQXE9CurwqJJBPQrXIbIalUF7FK7GQ5yYQQ==",
          "dtype": "f8"
         },
         "yaxis": "y"
        },
        {
         "customdata": [
          2,
          2,
          2,
          2,
          2,
          2,
          2,
          2,
          2,
          2,
          2,
          2,
          2,
          2,
          2,
          2
         ],
         "hovertemplate": "%{x}, $%{y:,.2f}<br>Model: Degree %{customdata}<extra></extra>",
         "line": {
          "color": "blue",
          "width": 2
         },
         "mode": "lines",
         "name": "Degree 2 (R² = 0.8952)",
         "type": "scatter",
         "visible": "legendonly",
         "x": {
          "bdata": "2wfcB90H3gffB+AH4QfiB+MH5AflB+YH5wfoB+kH6gc=",
          "dtype": "i2"
         },
         "xaxis": "x",
         "y": {
          "bdata": "AItpyOpmhUEAf5ZapSmHQQDjHtOD7YhBALUCMoayikEA9kF3rHiMQQCo3KL2P45BgGNpWjIEkEEALJJW++iQQYCq6EVWzpFBAOJsKEO0kkEA0B7+wZqTQQB2/sbSgZRBANQLg3VplUGA6EYyqlGWQQC2r9RwOpdBADpGaskjmEE=",
          "dtype": "f8"
         },
         "yaxis": "y"
        },
        {
         "customdata": [
          3,
          3,
          3,
          3,
          3,
          3,
          3,
          3,
          3,
          3,
          3,
          3,
          3,
          3,
          3,
          3
         ],
         "hovertemplate": "%{x}, $%{y:,.2f}<br>Model: Degree %{customdata}<extra></extra>",
         "line": {
          "color": "green",
          "width": 2
         },
         "mode": "lines",
         "name": "Degree 3 (R² = 0.9301)",
         "type": "scatter",
         "visible": "legendonly",
         "x": {
          "bdata": "2wfcB90H3gffB+AH4QfiB+MH5AflB+YH5wfoB+kH6gc=",
          "dtype": "i2"
         },
         "xaxis": "x",
         "y": {
          "bdata": "AAAAaKn0gkEAAAD6IfmGQQAAADAXDopBAAAAUkhfjEEAAACedBiOQQAAAFZbZY9BAAAA3t04kEEAAACIqrSQQQAAAErzO5FBAAAAxpfkkUEAAACbd8SSQQAAAGty8ZNBAAAA1meBlUEAAAB+N4qXQQAAAAPBIZpBAAAABORdnUE=",
          "dtype": "f8"
         },
         "yaxis": "y"
        },
        {
         "customdata": [
          4,
          4,
          4,
          4,
          4,
          4,
          4,
          4,
          4,
          4,
          4,
          4,
          4,
          4,
          4,
          4
         ],
         "hovertemplate": "%{x}, $%{y:,.2f}<br>Model: Degree %{customdata}<extra></extra>",
         "line": {
          "color": "red",
          "width": 2
         },
         "mode": "lines",
         "name": "Degree 4 (R² = 0.9301)",
         "type": "scatter",
         "visible": true,
         "x": {
          "bdata": "2wfcB90H3gffB+AH4QfiB+MH5AflB+YH5wfoB+kH6gc=",
          "dtype": "i2"
         },
         "xaxis": "x",
         "y": {
          "bdata": "AAAgYyj2gkEAAACULfmGQQAAwM+ODYpBAACgOLVejEEAAOCWGhiOQQAA4FZJZY9BAABgRu44kEEAAAD5v7SQQQAAgPL3O5FBAAAgt3zkkUEAAIAaPcSSQQAA8Ecw8ZNBAADAuVWBlUEAALA/tYqXQQAAEPteI5pBAACgYGthnUE=",
          "dtype": "f8"
         },
         "yaxis": "y"
        },
        {
         "fill": "toself",
         "fillcolor": "rgba(128, 128, 128, 0.2)",
         "hoverinfo": "skip",
         "line": {
          "color": "rgba(255, 255, 255, 0)"
         },
         "name": "Forecast Region",
         "showlegend": true,
         "type": "scatter",
         "x": {
          "bdata": "6AfpB+oH6gfpB+gH",
          "dtype": "i2"
         },
         "xaxis": "x",
         "y": {
          "bdata": "AACwP7WKl0EAABD7XiOaQQAAoGBrYZ1BhetRhu0jhEGF61GG7SOEQYXrUYbtI4RB",
          "dtype": "f8"
         },
         "yaxis": "y"
        },
        {
         "hovertemplate": "Year %{x}<br>$%{y:,.2f}<extra></extra>",
         "marker": {
          "color": "red",
          "size": 12,
          "symbol": "diamond"
         },
         "mode": "markers+text",
         "name": "Predictions",
         "text": [
          "2025: $109,631,423M",
          "2026: $123,230,936M"
         ],
         "textposition": "top center",
         "type": "scatter",
         "x": {
          "bdata": "6QfqBw==",
          "dtype": "i2"
         },
         "xaxis": "x",
         "y": {
          "bdata": "AAAQ+14jmkEAAKBga2GdQQ==",
          "dtype": "f8"
         },
         "yaxis": "y"
        },
        {
         "hovertemplate": "Year %{x}<br>Change: %{y:.1f}%<extra></extra>",
         "marker": {
          "color": "skyblue"
         },
         "name": "YoY Change",
         "text": [
          "5.8%",
          "28.6%",
          "0.7%",
          "6.4%",
          "-1.0%",
          "9.7%",
          "16.3%",
          "-0.1%",
          "0.4%",
          "-7.5%",
          "8.4%",
          "13.1%",
          "16.6%"
         ],
         "textposition": "outside",
         "type": "bar",
         "x": {
          "bdata": "3AfdB94H3wfgB+EH4gfjB+QH5QfmB+cH6Ac=",
          "dtype": "i2"
         },
         "xaxis": "x2",
         "y": {
          "bdata": "3tdGjSRMF0DTtgJwQZs8QLA0dATe++c/vTOGOZ+CGUBxRUPnRA7wvw4rTKGpfSNAd2CMsTxRMEAEKx17TPe9v2HQ8JpzJdg/FtfEcofmHcD2Ykq0t7sgQN9U4+nvMipADYNDsQSdMEA=",
          "dtype": "f8"
         },
         "yaxis": "y2"
        }
       ],
       "layout": {
        "annotations": [
         {
          "font": {
           "size": 16
          },
          "showarrow": false,
          "text": "Overtime Pay for Boston Police Department (2011–2024)",
          "x": 0.5,
          "xanchor": "center",
          "xref": "paper",
          "y": 1,
          "yanchor": "bottom",
          "yref": "paper"
         },
         {
          "font": {
           "size": 16
          },
          "showarrow": false,
          "text": "Year-over-Year Percentage Change in Overtime Pay",
          "x": 0.5,
          "xanchor": "center",
          "xref": "paper",
          "y": 0.425,
          "yanchor": "bottom",
          "yref": "paper"
         },
         {
          "showarrow": false,
          "text": "Last data point (2024)",
          "x": 2024,
          "xanchor": "center",
          "xref": "x",
          "y": 1,
          "yanchor": "bottom",
          "yref": "y domain"
         }
        ],
        "height": 800,
        "hovermode": "closest",
        "legend": {
         "orientation": "h",
         "x": 1,
         "xanchor": "right",
         "y": 1.02,
         "yanchor": "bottom"
        },
        "shapes": [
         {
          "line": {
           "color": "black",
           "dash": "dash",
           "width": 2
          },
          "type": "line",
          "x0": 2024,
          "x1": 2024,
          "xref": "x",
          "y0": 0,
          "y1": 1,
          "yref": "y domain"
         },
         {
          "line": {
           "color": "black",
           "dash": "solid",
           "width": 1
          },
          "type": "line",
          "x0": 2012,
          "x1": 2024,
          "xref": "x2",
          "y0": 0,
          "y1": 0,
          "yref": "y2"
         }
        ],
        "template": {
         "data": {
          "bar": [
           {
            "error_x": {
             "color": "#2a3f5f"
            },
            "error_y": {
             "color": "#2a3f5f"
            },
            "marker": {
             "line": {
              "color": "#E5ECF6",
              "width": 0.5
             },
             "pattern": {
              "fillmode": "overlay",
              "size": 10,
              "solidity": 0.2
             }
            },
            "type": "bar"
           }
          ],
          "barpolar": [
           {
            "marker": {
             "line": {
              "color": "#E5ECF6",
              "width": 0.5
             },
             "pattern": {
              "fillmode": "overlay",
              "size": 10,
              "solidity": 0.2
             }
            },
            "type": "barpolar"
           }
          ],
          "carpet": [
           {
            "aaxis": {
             "endlinecolor": "#2a3f5f",
             "gridcolor": "white",
             "linecolor": "white",
             "minorgridcolor": "white",
             "startlinecolor": "#2a3f5f"
            },
            "baxis": {
             "endlinecolor": "#2a3f5f",
             "gridcolor": "white",
             "linecolor": "white",
             "minorgridcolor": "white",
             "startlinecolor": "#2a3f5f"
            },
            "type": "carpet"
           }
          ],
          "choropleth": [
           {
            "colorbar": {
             "outlinewidth": 0,
             "ticks": ""
            },
            "type": "choropleth"
           }
          ],
          "contour": [
           {
            "colorbar": {
             "outlinewidth": 0,
             "ticks": ""
            },
            "colorscale": [
             [
              0,
              "#0d0887"
             ],
             [
              0.1111111111111111,
              "#46039f"
             ],
             [
              0.2222222222222222,
              "#7201a8"
             ],
             [
              0.3333333333333333,
              "#9c179e"
             ],
             [
              0.4444444444444444,
              "#bd3786"
             ],
             [
              0.5555555555555556,
              "#d8576b"
             ],
             [
              0.6666666666666666,
              "#ed7953"
             ],
             [
              0.7777777777777778,
              "#fb9f3a"
             ],
             [
              0.8888888888888888,
              "#fdca26"
             ],
             [
              1,
              "#f0f921"
             ]
            ],
            "type": "contour"
           }
          ],
          "contourcarpet": [
           {
            "colorbar": {
             "outlinewidth": 0,
             "ticks": ""
            },
            "type": "contourcarpet"
           }
          ],
          "heatmap": [
           {
            "colorbar": {
             "outlinewidth": 0,
             "ticks": ""
            },
            "colorscale": [
             [
              0,
              "#0d0887"
             ],
             [
              0.1111111111111111,
              "#46039f"
             ],
             [
              0.2222222222222222,
              "#7201a8"
             ],
             [
              0.3333333333333333,
              "#9c179e"
             ],
             [
              0.4444444444444444,
              "#bd3786"
             ],
             [
              0.5555555555555556,
              "#d8576b"
             ],
             [
              0.6666666666666666,
              "#ed7953"
             ],
             [
              0.7777777777777778,
              "#fb9f3a"
             ],
             [
              0.8888888888888888,
              "#fdca26"
             ],
             [
              1,
              "#f0f921"
             ]
            ],
            "type": "heatmap"
           }
          ],
          "histogram": [
           {
            "marker": {
             "pattern": {
              "fillmode": "overlay",
              "size": 10,
              "solidity": 0.2
             }
            },
            "type": "histogram"
           }
          ],
          "histogram2d": [
           {
            "colorbar": {
             "outlinewidth": 0,
             "ticks": ""
            },
            "colorscale": [
             [
              0,
              "#0d0887"
             ],
             [
              0.1111111111111111,
              "#46039f"
             ],
             [
              0.2222222222222222,
              "#7201a8"
             ],
             [
              0.3333333333333333,
              "#9c179e"
             ],
             [
              0.4444444444444444,
              "#bd3786"
             ],
             [
              0.5555555555555556,
              "#d8576b"
             ],
             [
              0.6666666666666666,
              "#ed7953"
             ],
             [
              0.7777777777777778,
              "#fb9f3a"
             ],
             [
              0.8888888888888888,
              "#fdca26"
             ],
             [
              1,
              "#f0f921"
             ]
            ],
            "type": "histogram2d"
           }
          ],
          "histogram2dcontour": [
           {
            "colorbar": {
             "outlinewidth": 0,
             "ticks": ""
            },
            "colorscale": [
             [
              0,
              "#0d0887"
             ],
             [
              0.1111111111111111,
              "#46039f"
             ],
             [
              0.2222222222222222,
              "#7201a8"
             ],
             [
              0.3333333333333333,
              "#9c179e"
             ],
             [
              0.4444444444444444,
              "#bd3786"
             ],
             [
              0.5555555555555556,
              "#d8576b"
             ],
             [
              0.6666666666666666,
              "#ed7953"
             ],
             [
              0.7777777777777778,
              "#fb9f3a"
             ],
             [
              0.8888888888888888,
              "#fdca26"
             ],
             [
              1,
              "#f0f921"
             ]
            ],
            "type": "histogram2dcontour"
           }
          ],
          "mesh3d": [
           {
            "colorbar": {
             "outlinewidth": 0,
             "ticks": ""
            },
            "type": "mesh3d"
           }
          ],
          "parcoords": [
           {
            "line": {
             "colorbar": {
              "outlinewidth": 0,
              "ticks": ""
             }
            },
            "type": "parcoords"
           }
          ],
          "pie": [
           {
            "automargin": true,
            "type": "pie"
           }
          ],
          "scatter": [
           {
            "fillpattern": {
             "fillmode": "overlay",
             "size": 10,
             "solidity": 0.2
            },
            "type": "scatter"
           }
          ],
          "scatter3d": [
           {
            "line": {
             "colorbar": {
              "outlinewidth": 0,
              "ticks": ""
             }
            },
            "marker": {
             "colorbar": {
              "outlinewidth": 0,
              "ticks": ""
             }
            },
            "type": "scatter3d"
           }
          ],
          "scattercarpet": [
           {
            "marker": {
             "colorbar": {
              "outlinewidth": 0,
              "ticks": ""
             }
            },
            "type": "scattercarpet"
           }
          ],
          "scattergeo": [
           {
            "marker": {
             "colorbar": {
              "outlinewidth": 0,
              "ticks": ""
             }
            },
            "type": "scattergeo"
           }
          ],
          "scattergl": [
           {
            "marker": {
             "colorbar": {
              "outlinewidth": 0,
              "ticks": ""
             }
            },
            "type": "scattergl"
           }
          ],
          "scattermap": [
           {
            "marker": {
             "colorbar": {
              "outlinewidth": 0,
              "ticks": ""
             }
            },
            "type": "scattermap"
           }
          ],
          "scattermapbox": [
           {
            "marker": {
             "colorbar": {
              "outlinewidth": 0,
              "ticks": ""
             }
            },
            "type": "scattermapbox"
           }
          ],
          "scatterpolar": [
           {
            "marker": {
             "colorbar": {
              "outlinewidth": 0,
              "ticks": ""
             }
            },
            "type": "scatterpolar"
           }
          ],
          "scatterpolargl": [
           {
            "marker": {
             "colorbar": {
              "outlinewidth": 0,
              "ticks": ""
             }
            },
            "type": "scatterpolargl"
           }
          ],
          "scatterternary": [
           {
            "marker": {
             "colorbar": {
              "outlinewidth": 0,
              "ticks": ""
             }
            },
            "type": "scatterternary"
           }
          ],
          "surface": [
           {
            "colorbar": {
             "outlinewidth": 0,
             "ticks": ""
            },
            "colorscale": [
             [
              0,
              "#0d0887"
             ],
             [
              0.1111111111111111,
              "#46039f"
             ],
             [
              0.2222222222222222,
              "#7201a8"
             ],
             [
              0.3333333333333333,
              "#9c179e"
             ],
             [
              0.4444444444444444,
              "#bd3786"
             ],
             [
              0.5555555555555556,
              "#d8576b"
             ],
             [
              0.6666666666666666,
              "#ed7953"
             ],
             [
              0.7777777777777778,
              "#fb9f3a"
             ],
             [
              0.8888888888888888,
              "#fdca26"
             ],
             [
              1,
              "#f0f921"
             ]
            ],
            "type": "surface"
           }
          ],
          "table": [
           {
            "cells": {
             "fill": {
              "color": "#EBF0F8"
             },
             "line": {
              "color": "white"
             }
            },
            "header": {
             "fill": {
              "color": "#C8D4E3"
             },
             "line": {
              "color": "white"
             }
            },
            "type": "table"
           }
          ]
         },
         "layout": {
          "annotationdefaults": {
           "arrowcolor": "#2a3f5f",
           "arrowhead": 0,
           "arrowwidth": 1
          },
          "autotypenumbers": "strict",
          "coloraxis": {
           "colorbar": {
            "outlinewidth": 0,
            "ticks": ""
           }
          },
          "colorscale": {
           "diverging": [
            [
             0,
             "#8e0152"
            ],
            [
             0.1,
             "#c51b7d"
            ],
            [
             0.2,
             "#de77ae"
            ],
            [
             0.3,
             "#f1b6da"
            ],
            [
             0.4,
             "#fde0ef"
            ],
            [
             0.5,
             "#f7f7f7"
            ],
            [
             0.6,
             "#e6f5d0"
            ],
            [
             0.7,
             "#b8e186"
            ],
            [
             0.8,
             "#7fbc41"
            ],
            [
             0.9,
             "#4d9221"
            ],
            [
             1,
             "#276419"
            ]
           ],
           "sequential": [
            [
             0,
             "#0d0887"
            ],
            [
             0.1111111111111111,
             "#46039f"
            ],
            [
             0.2222222222222222,
             "#7201a8"
            ],
            [
             0.3333333333333333,
             "#9c179e"
            ],
            [
             0.4444444444444444,
             "#bd3786"
            ],
            [
             0.5555555555555556,
             "#d8576b"
            ],
            [
             0.6666666666666666,
             "#ed7953"
            ],
            [
             0.7777777777777778,
             "#fb9f3a"
            ],
            [
             0.8888888888888888,
             "#fdca26"
            ],
            [
             1,
             "#f0f921"
            ]
           ],
           "sequentialminus": [
            [
             0,
             "#0d0887"
            ],
            [
             0.1111111111111111,
             "#46039f"
            ],
            [
             0.2222222222222222,
             "#7201a8"
            ],
            [
             0.3333333333333333,
             "#9c179e"
            ],
            [
             0.4444444444444444,
             "#bd3786"
            ],
            [
             0.5555555555555556,
             "#d8576b"
            ],
            [
             0.6666666666666666,
             "#ed7953"
            ],
            [
             0.7777777777777778,
             "#fb9f3a"
            ],
            [
             0.8888888888888888,
             "#fdca26"
            ],
            [
             1,
             "#f0f921"
            ]
           ]
          },
          "colorway": [
           "#636efa",
           "#EF553B",
           "#00cc96",
           "#ab63fa",
           "#FFA15A",
           "#19d3f3",
           "#FF6692",
           "#B6E880",
           "#FF97FF",
           "#FECB52"
          ],
          "font": {
           "color": "#2a3f5f"
          },
          "geo": {
           "bgcolor": "white",
           "lakecolor": "white",
           "landcolor": "#E5ECF6",
           "showlakes": true,
           "showland": true,
           "subunitcolor": "white"
          },
          "hoverlabel": {
           "align": "left"
          },
          "hovermode": "closest",
          "mapbox": {
           "style": "light"
          },
          "paper_bgcolor": "white",
          "plot_bgcolor": "#E5ECF6",
          "polar": {
           "angularaxis": {
            "gridcolor": "white",
            "linecolor": "white",
            "ticks": ""
           },
           "bgcolor": "#E5ECF6",
           "radialaxis": {
            "gridcolor": "white",
            "linecolor": "white",
            "ticks": ""
           }
          },
          "scene": {
           "xaxis": {
            "backgroundcolor": "#E5ECF6",
            "gridcolor": "white",
            "gridwidth": 2,
            "linecolor": "white",
            "showbackground": true,
            "ticks": "",
            "zerolinecolor": "white"
           },
           "yaxis": {
            "backgroundcolor": "#E5ECF6",
            "gridcolor": "white",
            "gridwidth": 2,
            "linecolor": "white",
            "showbackground": true,
            "ticks": "",
            "zerolinecolor": "white"
           },
           "zaxis": {
            "backgroundcolor": "#E5ECF6",
            "gridcolor": "white",
            "gridwidth": 2,
            "linecolor": "white",
            "showbackground": true,
            "ticks": "",
            "zerolinecolor": "white"
           }
          },
          "shapedefaults": {
           "line": {
            "color": "#2a3f5f"
           }
          },
          "ternary": {
           "aaxis": {
            "gridcolor": "white",
            "linecolor": "white",
            "ticks": ""
           },
           "baxis": {
            "gridcolor": "white",
            "linecolor": "white",
            "ticks": ""
           },
           "bgcolor": "#E5ECF6",
           "caxis": {
            "gridcolor": "white",
            "linecolor": "white",
            "ticks": ""
           }
          },
          "title": {
           "x": 0.05
          },
          "xaxis": {
           "automargin": true,
           "gridcolor": "white",
           "linecolor": "white",
           "ticks": "",
           "title": {
            "standoff": 15
           },
           "zerolinecolor": "white",
           "zerolinewidth": 2
          },
          "yaxis": {
           "automargin": true,
           "gridcolor": "white",
           "linecolor": "white",
           "ticks": "",
           "title": {
            "standoff": 15
           },
           "zerolinecolor": "white",
           "zerolinewidth": 2
          }
         }
        },
        "updatemenus": [
         {
          "bgcolor": "rgba(255, 255, 255, 0.8)",
          "bordercolor": "rgba(0, 0, 0, 0.2)",
          "borderwidth": 1,
          "buttons": [
           {
            "args": [
             {
              "visible": [
               true,
               true,
               false,
               false,
               true,
               true
              ]
             }
            ],
            "label": "Degree 2",
            "method": "update"
           },
           {
            "args": [
             {
              "visible": [
               true,
               false,
               true,
               false,
               true,
               true
              ]
             }
            ],
            "label": "Degree 3",
            "method": "update"
           },
           {
            "args": [
             {
              "visible": [
               true,
               false,
               false,
               true,
               true,
               true
              ]
             }
            ],
            "label": "Degree 4",
            "method": "update"
           },
           {
            "args": [
             {
              "visible": [
               true,
               true,
               true,
               true,
               true,
               true
              ]
             }
            ],
            "label": "All Models",
            "method": "update"
           }
          ],
          "direction": "right",
          "pad": {
           "r": 10,
           "t": 10
          },
          "showactive": true,
          "type": "buttons",
          "x": 0.01,
          "xanchor": "left",
          "y": 1.15,
          "yanchor": "top"
         }
        ],
        "xaxis": {
         "anchor": "y",
         "domain": [
          0,
          1
         ],
         "title": {
          "text": "YEAR"
         }
        },
        "xaxis2": {
         "anchor": "y2",
         "domain": [
          0,
          1
         ],
         "title": {
          "text": "YEAR"
         }
        },
        "yaxis": {
         "anchor": "x",
         "domain": [
          0.575,
          1
         ],
         "tickformat": ",.0f",
         "tickprefix": "$",
         "title": {
          "text": "Overtime Pay"
         }
        },
        "yaxis2": {
         "anchor": "x2",
         "domain": [
          0,
          0.425
         ],
         "title": {
          "text": "Percentage Change (%)"
         }
        }
       }
      }
     },
     "metadata": {},
     "output_type": "display_data"
    },
    {
     "name": "stdout",
     "output_type": "stream",
     "text": [
      "\n",
      "=== Forecast Summary for Boston Police Department ===\n",
      "* Best polynomial degree: 4\n",
      "* R² score             : 0.9301\n",
      "* Model equation       : y = -1.23e+14 + 1.16e+05x^1 + 1.81e+08x^2 + -1.19e+05x^3 + 2.22e+01x^4\n"
     ]
    }
   ],
   "source": [
    "from regression import run_overtime_forecast\n",
    "\n",
    "results = run_overtime_forecast(\n",
    "    department_name='Boston Police Department',\n",
    "    dept_dfs=department_dataframes,\n",
    "    forecast_years=2,\n",
    "    test_degrees=[2, 3, 4],\n",
    "    interactive=True\n",
    ")"
   ]
  },
  {
   "cell_type": "markdown",
   "id": "3910ae40",
   "metadata": {},
   "source": [
    "## BFD Overtime Forecast"
   ]
  },
  {
   "cell_type": "code",
   "execution_count": 14,
   "id": "bdfc54ee406da66e",
   "metadata": {
    "ExecuteTime": {
     "end_time": "2025-04-21T18:37:18.336765Z",
     "start_time": "2025-04-21T18:37:18.300559Z"
    }
   },
   "outputs": [
    {
     "name": "stdout",
     "output_type": "stream",
     "text": [
      "Best polynomial degree: 4\n",
      "\n",
      "Predicted future values:\n",
      "Year 2025: $47,546,064.46\n",
      "Year 2026: $49,219,290.30\n",
      "\n",
      "Best model equation:\n",
      "y = 3.87e+13 + -3.65e+04x^1 + -5.69e+07x^2 + 3.76e+04x^3 + -6.97e+00x^4\n"
     ]
    },
    {
     "data": {
      "application/vnd.plotly.v1+json": {
       "config": {
        "plotlyServerURL": "https://plot.ly"
       },
       "data": [
        {
         "hovertemplate": "%{x}, $%{y:,.2f}",
         "marker": {
          "color": "orange",
          "size": 10
         },
         "mode": "markers",
         "name": "Original Data",
         "type": "scatter",
         "x": {
          "bdata": "2wfcB90H3gffB+AH4QfiB+MH5AflB+YH5wfoBw==",
          "dtype": "i2"
         },
         "xaxis": "x",
         "y": {
          "bdata": "PQrXD4j4c0H2KFxPn2p0QR+F6229cXNBMzMzt8RUdEF7FK6Tjap3QVK4HmWCqXZB7FG4HozFdUHXo3ApOZV2QT0K159T33xBhetRZjsZgEHD9SiOERiDQTMzMw0edYRBFK5H303Fg0HD9SgeGQyFQQ==",
          "dtype": "f8"
         },
         "yaxis": "y"
        },
        {
         "customdata": [
          2,
          2,
          2,
          2,
          2,
          2,
          2,
          2,
          2,
          2,
          2,
          2,
          2,
          2,
          2,
          2
         ],
         "hovertemplate": "%{x}, $%{y:,.2f}<br>Model: Degree %{customdata}<extra></extra>",
         "line": {
          "color": "blue",
          "width": 2
         },
         "mode": "lines",
         "name": "Degree 2 (R² = 0.9330)",
         "type": "scatter",
         "visible": "legendonly",
         "x": {
          "bdata": "2wfcB90H3gffB+AH4QfiB+MH5AflB+YH5wfoB+kH6gc=",
          "dtype": "i2"
         },
         "xaxis": "x",
         "y": {
          "bdata": "AIBGhq+zc0EAAB6+ULFzQQCADsKzAXRBAAAWktikdEEAADUuv5p1QQCAbJZn43ZBAIC6ytF+eEEAgCDL/Wx6QQAAn5frrXxBAAA0MJtBf0EAgHBKBhSBQQBA0+KfsIJBAIBBYZp2hEEAgLvF9WWGQQDAQRCyfohBAEDTQM/AikE=",
          "dtype": "f8"
         },
         "yaxis": "y"
        },
        {
         "customdata": [
          3,
          3,
          3,
          3,
          3,
          3,
          3,
          3,
          3,
          3,
          3,
          3,
          3,
          3,
          3,
          3
         ],
         "hovertemplate": "%{x}, $%{y:,.2f}<br>Model: Degree %{customdata}<extra></extra>",
         "line": {
          "color": "green",
          "width": 2
         },
         "mode": "lines",
         "name": "Degree 3 (R² = 0.9442)",
         "type": "scatter",
         "visible": "legendonly",
         "x": {
          "bdata": "2wfcB90H3gffB+AH4QfiB+MH5AflB+YH5wfoB+kH6gc=",
          "dtype": "i2"
         },
         "xaxis": "x",
         "y": {
          "bdata": "AACA9N47dUEAAIBVt89zQQAAgMQDTXNBAACAVV+Yc0EAAIAZZZZ0QQAAgBywK3ZBAACAdNs8eEEAAIArgq56QQAAgFk/ZX1BAADABtcigEEAAMCpNJqBQQAAwCAGC4NBAADA8phnhEEAAECoOqKFQQAAQMo4rYZBAADA4OB6h0E=",
          "dtype": "f8"
         },
         "yaxis": "y"
        },
        {
         "customdata": [
          4,
          4,
          4,
          4,
          4,
          4,
          4,
          4,
          4,
          4,
          4,
          4,
          4,
          4,
          4,
          4
         ],
         "hovertemplate": "%{x}, $%{y:,.2f}<br>Model: Degree %{customdata}<extra></extra>",
         "line": {
          "color": "red",
          "width": 2
         },
         "mode": "lines",
         "name": "Degree 4 (R² = 0.9442)",
         "type": "scatter",
         "visible": true,
         "x": {
          "bdata": "2wfcB90H3gffB+AH4QfiB+MH5AflB+YH5wfoB+kH6gc=",
          "dtype": "i2"
         },
         "xaxis": "x",
         "y": {
          "bdata": "AAAAaR87dUEAAMDjrs9zQQAAQGU7TXNBAACgPZKYc0EAACBDdpZ0QQAAQNufK3ZBAAAA77w8eEEAAAD1cK56QQAAoOtUZX1BAABwrvsigEEAABAtbpqBQQAAkL8+C4NBAADQ+KRnhEEAACAx06GFQQAAsIP2q4ZBAABg0jZ4h0E=",
          "dtype": "f8"
         },
         "yaxis": "y"
        },
        {
         "fill": "toself",
         "fillcolor": "rgba(128, 128, 128, 0.2)",
         "hoverinfo": "skip",
         "line": {
          "color": "rgba(255, 255, 255, 0)"
         },
         "name": "Forecast Region",
         "showlegend": true,
         "type": "scatter",
         "x": {
          "bdata": "6AfpB+oH6gfpB+gH",
          "dtype": "i2"
         },
         "xaxis": "x",
         "y": {
          "bdata": "AAAgMdOhhUEAALCD9quGQQAAYNI2eIdBH4Xrbb1xc0EfhettvXFzQR+F6229cXNB",
          "dtype": "f8"
         },
         "yaxis": "y"
        },
        {
         "hovertemplate": "Year %{x}<br>$%{y:,.2f}<extra></extra>",
         "marker": {
          "color": "red",
          "size": 12,
          "symbol": "diamond"
         },
         "mode": "markers+text",
         "name": "Predictions",
         "text": [
          "2025: $47,546,064M",
          "2026: $49,219,290M"
         ],
         "textposition": "top center",
         "type": "scatter",
         "x": {
          "bdata": "6QfqBw==",
          "dtype": "i2"
         },
         "xaxis": "x",
         "y": {
          "bdata": "AACwg/arhkEAAGDSNniHQQ==",
          "dtype": "f8"
         },
         "yaxis": "y"
        },
        {
         "hovertemplate": "Year %{x}<br>Change: %{y:.1f}%<extra></extra>",
         "marker": {
          "color": "skyblue"
         },
         "name": "YoY Change",
         "text": [
          "2.2%",
          "-4.8%",
          "4.6%",
          "16.4%",
          "-4.2%",
          "-3.9%",
          "3.7%",
          "27.9%",
          "11.5%",
          "18.6%",
          "7.1%",
          "-3.4%",
          "6.5%"
         ],
         "textposition": "outside",
         "type": "bar",
         "x": {
          "bdata": "3AfdB94H3wfgB+EH4gfjB+QH5QfmB+cH6Ac=",
          "dtype": "i2"
         },
         "xaxis": "x2",
         "y": {
          "bdata": "6DVDl0zaAUDuX7mKGgwTwLefWNRVPhJAPcn4fmVnMEBp10hQe/gQwCVB2LNSbw/Ay+qsfQ3PDUAUflimvtk7QL19OW7cBydAj230mmKbMkBqzhCGNpAcQHCj3YxC2wrAizpDy6zTGUA=",
          "dtype": "f8"
         },
         "yaxis": "y2"
        }
       ],
       "layout": {
        "annotations": [
         {
          "font": {
           "size": 16
          },
          "showarrow": false,
          "text": "Overtime Pay for Boston Fire Department (2011–2024)",
          "x": 0.5,
          "xanchor": "center",
          "xref": "paper",
          "y": 1,
          "yanchor": "bottom",
          "yref": "paper"
         },
         {
          "font": {
           "size": 16
          },
          "showarrow": false,
          "text": "Year-over-Year Percentage Change in Overtime Pay",
          "x": 0.5,
          "xanchor": "center",
          "xref": "paper",
          "y": 0.425,
          "yanchor": "bottom",
          "yref": "paper"
         },
         {
          "showarrow": false,
          "text": "Last data point (2024)",
          "x": 2024,
          "xanchor": "center",
          "xref": "x",
          "y": 1,
          "yanchor": "bottom",
          "yref": "y domain"
         }
        ],
        "height": 800,
        "hovermode": "closest",
        "legend": {
         "orientation": "h",
         "x": 1,
         "xanchor": "right",
         "y": 1.02,
         "yanchor": "bottom"
        },
        "shapes": [
         {
          "line": {
           "color": "black",
           "dash": "dash",
           "width": 2
          },
          "type": "line",
          "x0": 2024,
          "x1": 2024,
          "xref": "x",
          "y0": 0,
          "y1": 1,
          "yref": "y domain"
         },
         {
          "line": {
           "color": "black",
           "dash": "solid",
           "width": 1
          },
          "type": "line",
          "x0": 2012,
          "x1": 2024,
          "xref": "x2",
          "y0": 0,
          "y1": 0,
          "yref": "y2"
         }
        ],
        "template": {
         "data": {
          "bar": [
           {
            "error_x": {
             "color": "#2a3f5f"
            },
            "error_y": {
             "color": "#2a3f5f"
            },
            "marker": {
             "line": {
              "color": "#E5ECF6",
              "width": 0.5
             },
             "pattern": {
              "fillmode": "overlay",
              "size": 10,
              "solidity": 0.2
             }
            },
            "type": "bar"
           }
          ],
          "barpolar": [
           {
            "marker": {
             "line": {
              "color": "#E5ECF6",
              "width": 0.5
             },
             "pattern": {
              "fillmode": "overlay",
              "size": 10,
              "solidity": 0.2
             }
            },
            "type": "barpolar"
           }
          ],
          "carpet": [
           {
            "aaxis": {
             "endlinecolor": "#2a3f5f",
             "gridcolor": "white",
             "linecolor": "white",
             "minorgridcolor": "white",
             "startlinecolor": "#2a3f5f"
            },
            "baxis": {
             "endlinecolor": "#2a3f5f",
             "gridcolor": "white",
             "linecolor": "white",
             "minorgridcolor": "white",
             "startlinecolor": "#2a3f5f"
            },
            "type": "carpet"
           }
          ],
          "choropleth": [
           {
            "colorbar": {
             "outlinewidth": 0,
             "ticks": ""
            },
            "type": "choropleth"
           }
          ],
          "contour": [
           {
            "colorbar": {
             "outlinewidth": 0,
             "ticks": ""
            },
            "colorscale": [
             [
              0,
              "#0d0887"
             ],
             [
              0.1111111111111111,
              "#46039f"
             ],
             [
              0.2222222222222222,
              "#7201a8"
             ],
             [
              0.3333333333333333,
              "#9c179e"
             ],
             [
              0.4444444444444444,
              "#bd3786"
             ],
             [
              0.5555555555555556,
              "#d8576b"
             ],
             [
              0.6666666666666666,
              "#ed7953"
             ],
             [
              0.7777777777777778,
              "#fb9f3a"
             ],
             [
              0.8888888888888888,
              "#fdca26"
             ],
             [
              1,
              "#f0f921"
             ]
            ],
            "type": "contour"
           }
          ],
          "contourcarpet": [
           {
            "colorbar": {
             "outlinewidth": 0,
             "ticks": ""
            },
            "type": "contourcarpet"
           }
          ],
          "heatmap": [
           {
            "colorbar": {
             "outlinewidth": 0,
             "ticks": ""
            },
            "colorscale": [
             [
              0,
              "#0d0887"
             ],
             [
              0.1111111111111111,
              "#46039f"
             ],
             [
              0.2222222222222222,
              "#7201a8"
             ],
             [
              0.3333333333333333,
              "#9c179e"
             ],
             [
              0.4444444444444444,
              "#bd3786"
             ],
             [
              0.5555555555555556,
              "#d8576b"
             ],
             [
              0.6666666666666666,
              "#ed7953"
             ],
             [
              0.7777777777777778,
              "#fb9f3a"
             ],
             [
              0.8888888888888888,
              "#fdca26"
             ],
             [
              1,
              "#f0f921"
             ]
            ],
            "type": "heatmap"
           }
          ],
          "histogram": [
           {
            "marker": {
             "pattern": {
              "fillmode": "overlay",
              "size": 10,
              "solidity": 0.2
             }
            },
            "type": "histogram"
           }
          ],
          "histogram2d": [
           {
            "colorbar": {
             "outlinewidth": 0,
             "ticks": ""
            },
            "colorscale": [
             [
              0,
              "#0d0887"
             ],
             [
              0.1111111111111111,
              "#46039f"
             ],
             [
              0.2222222222222222,
              "#7201a8"
             ],
             [
              0.3333333333333333,
              "#9c179e"
             ],
             [
              0.4444444444444444,
              "#bd3786"
             ],
             [
              0.5555555555555556,
              "#d8576b"
             ],
             [
              0.6666666666666666,
              "#ed7953"
             ],
             [
              0.7777777777777778,
              "#fb9f3a"
             ],
             [
              0.8888888888888888,
              "#fdca26"
             ],
             [
              1,
              "#f0f921"
             ]
            ],
            "type": "histogram2d"
           }
          ],
          "histogram2dcontour": [
           {
            "colorbar": {
             "outlinewidth": 0,
             "ticks": ""
            },
            "colorscale": [
             [
              0,
              "#0d0887"
             ],
             [
              0.1111111111111111,
              "#46039f"
             ],
             [
              0.2222222222222222,
              "#7201a8"
             ],
             [
              0.3333333333333333,
              "#9c179e"
             ],
             [
              0.4444444444444444,
              "#bd3786"
             ],
             [
              0.5555555555555556,
              "#d8576b"
             ],
             [
              0.6666666666666666,
              "#ed7953"
             ],
             [
              0.7777777777777778,
              "#fb9f3a"
             ],
             [
              0.8888888888888888,
              "#fdca26"
             ],
             [
              1,
              "#f0f921"
             ]
            ],
            "type": "histogram2dcontour"
           }
          ],
          "mesh3d": [
           {
            "colorbar": {
             "outlinewidth": 0,
             "ticks": ""
            },
            "type": "mesh3d"
           }
          ],
          "parcoords": [
           {
            "line": {
             "colorbar": {
              "outlinewidth": 0,
              "ticks": ""
             }
            },
            "type": "parcoords"
           }
          ],
          "pie": [
           {
            "automargin": true,
            "type": "pie"
           }
          ],
          "scatter": [
           {
            "fillpattern": {
             "fillmode": "overlay",
             "size": 10,
             "solidity": 0.2
            },
            "type": "scatter"
           }
          ],
          "scatter3d": [
           {
            "line": {
             "colorbar": {
              "outlinewidth": 0,
              "ticks": ""
             }
            },
            "marker": {
             "colorbar": {
              "outlinewidth": 0,
              "ticks": ""
             }
            },
            "type": "scatter3d"
           }
          ],
          "scattercarpet": [
           {
            "marker": {
             "colorbar": {
              "outlinewidth": 0,
              "ticks": ""
             }
            },
            "type": "scattercarpet"
           }
          ],
          "scattergeo": [
           {
            "marker": {
             "colorbar": {
              "outlinewidth": 0,
              "ticks": ""
             }
            },
            "type": "scattergeo"
           }
          ],
          "scattergl": [
           {
            "marker": {
             "colorbar": {
              "outlinewidth": 0,
              "ticks": ""
             }
            },
            "type": "scattergl"
           }
          ],
          "scattermap": [
           {
            "marker": {
             "colorbar": {
              "outlinewidth": 0,
              "ticks": ""
             }
            },
            "type": "scattermap"
           }
          ],
          "scattermapbox": [
           {
            "marker": {
             "colorbar": {
              "outlinewidth": 0,
              "ticks": ""
             }
            },
            "type": "scattermapbox"
           }
          ],
          "scatterpolar": [
           {
            "marker": {
             "colorbar": {
              "outlinewidth": 0,
              "ticks": ""
             }
            },
            "type": "scatterpolar"
           }
          ],
          "scatterpolargl": [
           {
            "marker": {
             "colorbar": {
              "outlinewidth": 0,
              "ticks": ""
             }
            },
            "type": "scatterpolargl"
           }
          ],
          "scatterternary": [
           {
            "marker": {
             "colorbar": {
              "outlinewidth": 0,
              "ticks": ""
             }
            },
            "type": "scatterternary"
           }
          ],
          "surface": [
           {
            "colorbar": {
             "outlinewidth": 0,
             "ticks": ""
            },
            "colorscale": [
             [
              0,
              "#0d0887"
             ],
             [
              0.1111111111111111,
              "#46039f"
             ],
             [
              0.2222222222222222,
              "#7201a8"
             ],
             [
              0.3333333333333333,
              "#9c179e"
             ],
             [
              0.4444444444444444,
              "#bd3786"
             ],
             [
              0.5555555555555556,
              "#d8576b"
             ],
             [
              0.6666666666666666,
              "#ed7953"
             ],
             [
              0.7777777777777778,
              "#fb9f3a"
             ],
             [
              0.8888888888888888,
              "#fdca26"
             ],
             [
              1,
              "#f0f921"
             ]
            ],
            "type": "surface"
           }
          ],
          "table": [
           {
            "cells": {
             "fill": {
              "color": "#EBF0F8"
             },
             "line": {
              "color": "white"
             }
            },
            "header": {
             "fill": {
              "color": "#C8D4E3"
             },
             "line": {
              "color": "white"
             }
            },
            "type": "table"
           }
          ]
         },
         "layout": {
          "annotationdefaults": {
           "arrowcolor": "#2a3f5f",
           "arrowhead": 0,
           "arrowwidth": 1
          },
          "autotypenumbers": "strict",
          "coloraxis": {
           "colorbar": {
            "outlinewidth": 0,
            "ticks": ""
           }
          },
          "colorscale": {
           "diverging": [
            [
             0,
             "#8e0152"
            ],
            [
             0.1,
             "#c51b7d"
            ],
            [
             0.2,
             "#de77ae"
            ],
            [
             0.3,
             "#f1b6da"
            ],
            [
             0.4,
             "#fde0ef"
            ],
            [
             0.5,
             "#f7f7f7"
            ],
            [
             0.6,
             "#e6f5d0"
            ],
            [
             0.7,
             "#b8e186"
            ],
            [
             0.8,
             "#7fbc41"
            ],
            [
             0.9,
             "#4d9221"
            ],
            [
             1,
             "#276419"
            ]
           ],
           "sequential": [
            [
             0,
             "#0d0887"
            ],
            [
             0.1111111111111111,
             "#46039f"
            ],
            [
             0.2222222222222222,
             "#7201a8"
            ],
            [
             0.3333333333333333,
             "#9c179e"
            ],
            [
             0.4444444444444444,
             "#bd3786"
            ],
            [
             0.5555555555555556,
             "#d8576b"
            ],
            [
             0.6666666666666666,
             "#ed7953"
            ],
            [
             0.7777777777777778,
             "#fb9f3a"
            ],
            [
             0.8888888888888888,
             "#fdca26"
            ],
            [
             1,
             "#f0f921"
            ]
           ],
           "sequentialminus": [
            [
             0,
             "#0d0887"
            ],
            [
             0.1111111111111111,
             "#46039f"
            ],
            [
             0.2222222222222222,
             "#7201a8"
            ],
            [
             0.3333333333333333,
             "#9c179e"
            ],
            [
             0.4444444444444444,
             "#bd3786"
            ],
            [
             0.5555555555555556,
             "#d8576b"
            ],
            [
             0.6666666666666666,
             "#ed7953"
            ],
            [
             0.7777777777777778,
             "#fb9f3a"
            ],
            [
             0.8888888888888888,
             "#fdca26"
            ],
            [
             1,
             "#f0f921"
            ]
           ]
          },
          "colorway": [
           "#636efa",
           "#EF553B",
           "#00cc96",
           "#ab63fa",
           "#FFA15A",
           "#19d3f3",
           "#FF6692",
           "#B6E880",
           "#FF97FF",
           "#FECB52"
          ],
          "font": {
           "color": "#2a3f5f"
          },
          "geo": {
           "bgcolor": "white",
           "lakecolor": "white",
           "landcolor": "#E5ECF6",
           "showlakes": true,
           "showland": true,
           "subunitcolor": "white"
          },
          "hoverlabel": {
           "align": "left"
          },
          "hovermode": "closest",
          "mapbox": {
           "style": "light"
          },
          "paper_bgcolor": "white",
          "plot_bgcolor": "#E5ECF6",
          "polar": {
           "angularaxis": {
            "gridcolor": "white",
            "linecolor": "white",
            "ticks": ""
           },
           "bgcolor": "#E5ECF6",
           "radialaxis": {
            "gridcolor": "white",
            "linecolor": "white",
            "ticks": ""
           }
          },
          "scene": {
           "xaxis": {
            "backgroundcolor": "#E5ECF6",
            "gridcolor": "white",
            "gridwidth": 2,
            "linecolor": "white",
            "showbackground": true,
            "ticks": "",
            "zerolinecolor": "white"
           },
           "yaxis": {
            "backgroundcolor": "#E5ECF6",
            "gridcolor": "white",
            "gridwidth": 2,
            "linecolor": "white",
            "showbackground": true,
            "ticks": "",
            "zerolinecolor": "white"
           },
           "zaxis": {
            "backgroundcolor": "#E5ECF6",
            "gridcolor": "white",
            "gridwidth": 2,
            "linecolor": "white",
            "showbackground": true,
            "ticks": "",
            "zerolinecolor": "white"
           }
          },
          "shapedefaults": {
           "line": {
            "color": "#2a3f5f"
           }
          },
          "ternary": {
           "aaxis": {
            "gridcolor": "white",
            "linecolor": "white",
            "ticks": ""
           },
           "baxis": {
            "gridcolor": "white",
            "linecolor": "white",
            "ticks": ""
           },
           "bgcolor": "#E5ECF6",
           "caxis": {
            "gridcolor": "white",
            "linecolor": "white",
            "ticks": ""
           }
          },
          "title": {
           "x": 0.05
          },
          "xaxis": {
           "automargin": true,
           "gridcolor": "white",
           "linecolor": "white",
           "ticks": "",
           "title": {
            "standoff": 15
           },
           "zerolinecolor": "white",
           "zerolinewidth": 2
          },
          "yaxis": {
           "automargin": true,
           "gridcolor": "white",
           "linecolor": "white",
           "ticks": "",
           "title": {
            "standoff": 15
           },
           "zerolinecolor": "white",
           "zerolinewidth": 2
          }
         }
        },
        "updatemenus": [
         {
          "bgcolor": "rgba(255, 255, 255, 0.8)",
          "bordercolor": "rgba(0, 0, 0, 0.2)",
          "borderwidth": 1,
          "buttons": [
           {
            "args": [
             {
              "visible": [
               true,
               true,
               false,
               false,
               true,
               true
              ]
             }
            ],
            "label": "Degree 2",
            "method": "update"
           },
           {
            "args": [
             {
              "visible": [
               true,
               false,
               true,
               false,
               true,
               true
              ]
             }
            ],
            "label": "Degree 3",
            "method": "update"
           },
           {
            "args": [
             {
              "visible": [
               true,
               false,
               false,
               true,
               true,
               true
              ]
             }
            ],
            "label": "Degree 4",
            "method": "update"
           },
           {
            "args": [
             {
              "visible": [
               true,
               true,
               true,
               true,
               true,
               true
              ]
             }
            ],
            "label": "All Models",
            "method": "update"
           }
          ],
          "direction": "right",
          "pad": {
           "r": 10,
           "t": 10
          },
          "showactive": true,
          "type": "buttons",
          "x": 0.01,
          "xanchor": "left",
          "y": 1.15,
          "yanchor": "top"
         }
        ],
        "xaxis": {
         "anchor": "y",
         "domain": [
          0,
          1
         ],
         "title": {
          "text": "YEAR"
         }
        },
        "xaxis2": {
         "anchor": "y2",
         "domain": [
          0,
          1
         ],
         "title": {
          "text": "YEAR"
         }
        },
        "yaxis": {
         "anchor": "x",
         "domain": [
          0.575,
          1
         ],
         "tickformat": ",.0f",
         "tickprefix": "$",
         "title": {
          "text": "Overtime Pay"
         }
        },
        "yaxis2": {
         "anchor": "x2",
         "domain": [
          0,
          0.425
         ],
         "title": {
          "text": "Percentage Change (%)"
         }
        }
       }
      }
     },
     "metadata": {},
     "output_type": "display_data"
    },
    {
     "name": "stdout",
     "output_type": "stream",
     "text": [
      "\n",
      "=== Forecast Summary for Boston Fire Department ===\n",
      "* Best polynomial degree: 4\n",
      "* R² score             : 0.9442\n",
      "* Model equation       : y = 3.87e+13 + -3.65e+04x^1 + -5.69e+07x^2 + 3.76e+04x^3 + -6.97e+00x^4\n"
     ]
    }
   ],
   "source": [
    "results = run_overtime_forecast(\n",
    "    department_name='Boston Fire Department',\n",
    "    dept_dfs=department_dataframes,\n",
    "    forecast_years=2,\n",
    "    test_degrees=[2, 3, 4],\n",
    "    interactive=True\n",
    ")"
   ]
  },
  {
   "cell_type": "markdown",
   "id": "a23d41c6",
   "metadata": {},
   "source": [
    "## Property Management Overtime Forecast"
   ]
  },
  {
   "cell_type": "code",
   "execution_count": 16,
   "id": "b29317d1a4fc11e5",
   "metadata": {
    "ExecuteTime": {
     "end_time": "2025-04-21T18:37:18.435666Z",
     "start_time": "2025-04-21T18:37:18.400159Z"
    }
   },
   "outputs": [
    {
     "name": "stdout",
     "output_type": "stream",
     "text": [
      "Best polynomial degree: 3\n",
      "\n",
      "Predicted future values:\n",
      "Year 2025: $3,140,879.32\n",
      "Year 2026: $3,493,237.97\n",
      "\n",
      "Best model equation:\n",
      "y = -1.06e+13 + 1.58e+10x^1 + -7.82e+06x^2 + 1.29e+03x^3\n"
     ]
    },
    {
     "data": {
      "application/vnd.plotly.v1+json": {
       "config": {
        "plotlyServerURL": "https://plot.ly"
       },
       "data": [
        {
         "hovertemplate": "%{x}, $%{y:,.2f}",
         "marker": {
          "color": "orange",
          "size": 10
         },
         "mode": "markers",
         "name": "Original Data",
         "type": "scatter",
         "x": {
          "bdata": "2wfcB90H3gffB+AH4QfiB+MH5AflB+YH5wfoBw==",
          "dtype": "i2"
         },
         "xaxis": "x",
         "y": {
          "bdata": "XI/CNTQJN0GPwvWopwc7QT0K12OLTUBBhetRuNu8PUFI4Xo0MENAQSlcj8KYsDtBzczMDDlDPUHhehSu3ag9QTMzM7MGqz9BexSuh3MfQ0EUrkdh+ydCQWZmZkaab0JBH4XrkT1/REFSuB4lMRxFQQ==",
          "dtype": "f8"
         },
         "yaxis": "y"
        },
        {
         "customdata": [
          2,
          2,
          2,
          2,
          2,
          2,
          2,
          2,
          2,
          2,
          2,
          2,
          2,
          2,
          2,
          2
         ],
         "hovertemplate": "%{x}, $%{y:,.2f}<br>Model: Degree %{customdata}<extra></extra>",
         "line": {
          "color": "blue",
          "width": 2
         },
         "mode": "lines",
         "name": "Degree 2 (R² = 0.7907)",
         "type": "scatter",
         "visible": "legendonly",
         "x": {
          "bdata": "2wfcB90H3gffB+AH4QfiB+MH5AflB+YH5wfoB+kH6gc=",
          "dtype": "i2"
         },
         "xaxis": "x",
         "y": {
          "bdata": "AOARuUHGOkEAYA37VTA7QQCgWM1HujtBAED0LxdkPEEAgN8ixC09QQAAG6ZOFz5BAKCmubYgP0EAAMEu/iRAQQDA1siPyUBBAKAUKxB+QUEAYHpVf0JCQQAgCEjdFkNBABC+Air7Q0EA4JuFZe9EQQDQodCP80VBAKDP46gHR0E=",
          "dtype": "f8"
         },
         "yaxis": "y"
        },
        {
         "customdata": [
          3,
          3,
          3,
          3,
          3,
          3,
          3,
          3,
          3,
          3,
          3,
          3,
          3,
          3,
          3,
          3
         ],
         "hovertemplate": "%{x}, $%{y:,.2f}<br>Model: Degree %{customdata}<extra></extra>",
         "line": {
          "color": "green",
          "width": 2
         },
         "mode": "lines",
         "name": "Degree 3 (R² = 0.8246)",
         "type": "scatter",
         "visible": true,
         "x": {
          "bdata": "2wfcB90H3gffB+AH4QfiB+MH5AflB+YH5wfoB+kH6gc=",
          "dtype": "i2"
         },
         "xaxis": "x",
         "y": {
          "bdata": "AAAA/G0UOUEAAADAyg47QQAAALhHgjxBAAAAcDSNPUEAAAB14E0+QQAAAFeb4j5BAAAAnrRpP0EAAADsvQBAQQAAAEogZEBBAACALinuQEEAAABgAK5BQQAAgKTNskJBAACAw7gLREEAAICD6cdFQQAAAKmH9kdBAACA/LqmSkE=",
          "dtype": "f8"
         },
         "yaxis": "y"
        },
        {
         "customdata": [
          4,
          4,
          4,
          4,
          4,
          4,
          4,
          4,
          4,
          4,
          4,
          4,
          4,
          4,
          4,
          4
         ],
         "hovertemplate": "%{x}, $%{y:,.2f}<br>Model: Degree %{customdata}<extra></extra>",
         "line": {
          "color": "red",
          "width": 2
         },
         "mode": "lines",
         "name": "Degree 4 (R² = 0.8245)",
         "type": "scatter",
         "visible": "legendonly",
         "x": {
          "bdata": "2wfcB90H3gffB+AH4QfiB+MH5AflB+YH5wfoB+kH6gc=",
          "dtype": "i2"
         },
         "xaxis": "x",
         "y": {
          "bdata": "AAAAVPwVOUEAAGBgzQ47QQAAQD2UgTxBAAAALlqMPUEAAED2M00+QQAA4NxB4j5BAAAgq69pP0EAAHBV2gBAQQAAgNRJZEBBAACweU3uQEEAAJAtEq5BQQAAcJjKskJBAADgJK8LREEAAND9/cdFQQAAIA/79kdBAACABfCnSkE=",
          "dtype": "f8"
         },
         "yaxis": "y"
        },
        {
         "fill": "toself",
         "fillcolor": "rgba(128, 128, 128, 0.2)",
         "hoverinfo": "skip",
         "line": {
          "color": "rgba(255, 255, 255, 0)"
         },
         "name": "Forecast Region",
         "showlegend": true,
         "type": "scatter",
         "x": {
          "bdata": "6AfpB+oH6gfpB+gH",
          "dtype": "i2"
         },
         "xaxis": "x",
         "y": {
          "bdata": "AACAg+nHRUEAAACph/ZHQQAAgPy6pkpBXI/CNTQJN0Fcj8I1NAk3QVyPwjU0CTdB",
          "dtype": "f8"
         },
         "yaxis": "y"
        },
        {
         "hovertemplate": "Year %{x}<br>$%{y:,.2f}<extra></extra>",
         "marker": {
          "color": "red",
          "size": 12,
          "symbol": "diamond"
         },
         "mode": "markers+text",
         "name": "Predictions",
         "text": [
          "2025: $3,140,879M",
          "2026: $3,493,238M"
         ],
         "textposition": "top center",
         "type": "scatter",
         "x": {
          "bdata": "6QfqBw==",
          "dtype": "i2"
         },
         "xaxis": "x",
         "y": {
          "bdata": "AAAAqYf2R0EAAID8uqZKQQ==",
          "dtype": "f8"
         },
         "yaxis": "y"
        },
        {
         "hovertemplate": "Year %{x}<br>Change: %{y:.1f}%<extra></extra>",
         "marker": {
          "color": "skyblue"
         },
         "name": "YoY Change",
         "text": [
          "17.3%",
          "20.6%",
          "-8.8%",
          "9.4%",
          "-14.9%",
          "5.7%",
          "1.4%",
          "6.8%",
          "20.8%",
          "-5.1%",
          "1.5%",
          "11.2%",
          "3.0%"
         ],
         "textposition": "outside",
         "type": "bar",
         "x": {
          "bdata": "3AfdB94H3wfgB+EH4gfjB+QH5QfmB+cH6Ac=",
          "dtype": "i2"
         },
         "xaxis": "x2",
         "y": {
          "bdata": "liTGOoBWMUC7YJW78aA0QHW0l+etlyHArbWcyr2+IkAt5GkHRrstwMpH+yI7uBZAyZXlWZK19T/fCLFDJBYbQCKqXsVExTRAY4WAzWg4FMBg6QQshaf4P0bf/+YCXCZAXpDUXdLtB0A=",
          "dtype": "f8"
         },
         "yaxis": "y2"
        }
       ],
       "layout": {
        "annotations": [
         {
          "font": {
           "size": 16
          },
          "showarrow": false,
          "text": "Overtime Pay for Property Management (2011–2024)",
          "x": 0.5,
          "xanchor": "center",
          "xref": "paper",
          "y": 1,
          "yanchor": "bottom",
          "yref": "paper"
         },
         {
          "font": {
           "size": 16
          },
          "showarrow": false,
          "text": "Year-over-Year Percentage Change in Overtime Pay",
          "x": 0.5,
          "xanchor": "center",
          "xref": "paper",
          "y": 0.425,
          "yanchor": "bottom",
          "yref": "paper"
         },
         {
          "showarrow": false,
          "text": "Last data point (2024)",
          "x": 2024,
          "xanchor": "center",
          "xref": "x",
          "y": 1,
          "yanchor": "bottom",
          "yref": "y domain"
         }
        ],
        "height": 800,
        "hovermode": "closest",
        "legend": {
         "orientation": "h",
         "x": 1,
         "xanchor": "right",
         "y": 1.02,
         "yanchor": "bottom"
        },
        "shapes": [
         {
          "line": {
           "color": "black",
           "dash": "dash",
           "width": 2
          },
          "type": "line",
          "x0": 2024,
          "x1": 2024,
          "xref": "x",
          "y0": 0,
          "y1": 1,
          "yref": "y domain"
         },
         {
          "line": {
           "color": "black",
           "dash": "solid",
           "width": 1
          },
          "type": "line",
          "x0": 2012,
          "x1": 2024,
          "xref": "x2",
          "y0": 0,
          "y1": 0,
          "yref": "y2"
         }
        ],
        "template": {
         "data": {
          "bar": [
           {
            "error_x": {
             "color": "#2a3f5f"
            },
            "error_y": {
             "color": "#2a3f5f"
            },
            "marker": {
             "line": {
              "color": "#E5ECF6",
              "width": 0.5
             },
             "pattern": {
              "fillmode": "overlay",
              "size": 10,
              "solidity": 0.2
             }
            },
            "type": "bar"
           }
          ],
          "barpolar": [
           {
            "marker": {
             "line": {
              "color": "#E5ECF6",
              "width": 0.5
             },
             "pattern": {
              "fillmode": "overlay",
              "size": 10,
              "solidity": 0.2
             }
            },
            "type": "barpolar"
           }
          ],
          "carpet": [
           {
            "aaxis": {
             "endlinecolor": "#2a3f5f",
             "gridcolor": "white",
             "linecolor": "white",
             "minorgridcolor": "white",
             "startlinecolor": "#2a3f5f"
            },
            "baxis": {
             "endlinecolor": "#2a3f5f",
             "gridcolor": "white",
             "linecolor": "white",
             "minorgridcolor": "white",
             "startlinecolor": "#2a3f5f"
            },
            "type": "carpet"
           }
          ],
          "choropleth": [
           {
            "colorbar": {
             "outlinewidth": 0,
             "ticks": ""
            },
            "type": "choropleth"
           }
          ],
          "contour": [
           {
            "colorbar": {
             "outlinewidth": 0,
             "ticks": ""
            },
            "colorscale": [
             [
              0,
              "#0d0887"
             ],
             [
              0.1111111111111111,
              "#46039f"
             ],
             [
              0.2222222222222222,
              "#7201a8"
             ],
             [
              0.3333333333333333,
              "#9c179e"
             ],
             [
              0.4444444444444444,
              "#bd3786"
             ],
             [
              0.5555555555555556,
              "#d8576b"
             ],
             [
              0.6666666666666666,
              "#ed7953"
             ],
             [
              0.7777777777777778,
              "#fb9f3a"
             ],
             [
              0.8888888888888888,
              "#fdca26"
             ],
             [
              1,
              "#f0f921"
             ]
            ],
            "type": "contour"
           }
          ],
          "contourcarpet": [
           {
            "colorbar": {
             "outlinewidth": 0,
             "ticks": ""
            },
            "type": "contourcarpet"
           }
          ],
          "heatmap": [
           {
            "colorbar": {
             "outlinewidth": 0,
             "ticks": ""
            },
            "colorscale": [
             [
              0,
              "#0d0887"
             ],
             [
              0.1111111111111111,
              "#46039f"
             ],
             [
              0.2222222222222222,
              "#7201a8"
             ],
             [
              0.3333333333333333,
              "#9c179e"
             ],
             [
              0.4444444444444444,
              "#bd3786"
             ],
             [
              0.5555555555555556,
              "#d8576b"
             ],
             [
              0.6666666666666666,
              "#ed7953"
             ],
             [
              0.7777777777777778,
              "#fb9f3a"
             ],
             [
              0.8888888888888888,
              "#fdca26"
             ],
             [
              1,
              "#f0f921"
             ]
            ],
            "type": "heatmap"
           }
          ],
          "histogram": [
           {
            "marker": {
             "pattern": {
              "fillmode": "overlay",
              "size": 10,
              "solidity": 0.2
             }
            },
            "type": "histogram"
           }
          ],
          "histogram2d": [
           {
            "colorbar": {
             "outlinewidth": 0,
             "ticks": ""
            },
            "colorscale": [
             [
              0,
              "#0d0887"
             ],
             [
              0.1111111111111111,
              "#46039f"
             ],
             [
              0.2222222222222222,
              "#7201a8"
             ],
             [
              0.3333333333333333,
              "#9c179e"
             ],
             [
              0.4444444444444444,
              "#bd3786"
             ],
             [
              0.5555555555555556,
              "#d8576b"
             ],
             [
              0.6666666666666666,
              "#ed7953"
             ],
             [
              0.7777777777777778,
              "#fb9f3a"
             ],
             [
              0.8888888888888888,
              "#fdca26"
             ],
             [
              1,
              "#f0f921"
             ]
            ],
            "type": "histogram2d"
           }
          ],
          "histogram2dcontour": [
           {
            "colorbar": {
             "outlinewidth": 0,
             "ticks": ""
            },
            "colorscale": [
             [
              0,
              "#0d0887"
             ],
             [
              0.1111111111111111,
              "#46039f"
             ],
             [
              0.2222222222222222,
              "#7201a8"
             ],
             [
              0.3333333333333333,
              "#9c179e"
             ],
             [
              0.4444444444444444,
              "#bd3786"
             ],
             [
              0.5555555555555556,
              "#d8576b"
             ],
             [
              0.6666666666666666,
              "#ed7953"
             ],
             [
              0.7777777777777778,
              "#fb9f3a"
             ],
             [
              0.8888888888888888,
              "#fdca26"
             ],
             [
              1,
              "#f0f921"
             ]
            ],
            "type": "histogram2dcontour"
           }
          ],
          "mesh3d": [
           {
            "colorbar": {
             "outlinewidth": 0,
             "ticks": ""
            },
            "type": "mesh3d"
           }
          ],
          "parcoords": [
           {
            "line": {
             "colorbar": {
              "outlinewidth": 0,
              "ticks": ""
             }
            },
            "type": "parcoords"
           }
          ],
          "pie": [
           {
            "automargin": true,
            "type": "pie"
           }
          ],
          "scatter": [
           {
            "fillpattern": {
             "fillmode": "overlay",
             "size": 10,
             "solidity": 0.2
            },
            "type": "scatter"
           }
          ],
          "scatter3d": [
           {
            "line": {
             "colorbar": {
              "outlinewidth": 0,
              "ticks": ""
             }
            },
            "marker": {
             "colorbar": {
              "outlinewidth": 0,
              "ticks": ""
             }
            },
            "type": "scatter3d"
           }
          ],
          "scattercarpet": [
           {
            "marker": {
             "colorbar": {
              "outlinewidth": 0,
              "ticks": ""
             }
            },
            "type": "scattercarpet"
           }
          ],
          "scattergeo": [
           {
            "marker": {
             "colorbar": {
              "outlinewidth": 0,
              "ticks": ""
             }
            },
            "type": "scattergeo"
           }
          ],
          "scattergl": [
           {
            "marker": {
             "colorbar": {
              "outlinewidth": 0,
              "ticks": ""
             }
            },
            "type": "scattergl"
           }
          ],
          "scattermap": [
           {
            "marker": {
             "colorbar": {
              "outlinewidth": 0,
              "ticks": ""
             }
            },
            "type": "scattermap"
           }
          ],
          "scattermapbox": [
           {
            "marker": {
             "colorbar": {
              "outlinewidth": 0,
              "ticks": ""
             }
            },
            "type": "scattermapbox"
           }
          ],
          "scatterpolar": [
           {
            "marker": {
             "colorbar": {
              "outlinewidth": 0,
              "ticks": ""
             }
            },
            "type": "scatterpolar"
           }
          ],
          "scatterpolargl": [
           {
            "marker": {
             "colorbar": {
              "outlinewidth": 0,
              "ticks": ""
             }
            },
            "type": "scatterpolargl"
           }
          ],
          "scatterternary": [
           {
            "marker": {
             "colorbar": {
              "outlinewidth": 0,
              "ticks": ""
             }
            },
            "type": "scatterternary"
           }
          ],
          "surface": [
           {
            "colorbar": {
             "outlinewidth": 0,
             "ticks": ""
            },
            "colorscale": [
             [
              0,
              "#0d0887"
             ],
             [
              0.1111111111111111,
              "#46039f"
             ],
             [
              0.2222222222222222,
              "#7201a8"
             ],
             [
              0.3333333333333333,
              "#9c179e"
             ],
             [
              0.4444444444444444,
              "#bd3786"
             ],
             [
              0.5555555555555556,
              "#d8576b"
             ],
             [
              0.6666666666666666,
              "#ed7953"
             ],
             [
              0.7777777777777778,
              "#fb9f3a"
             ],
             [
              0.8888888888888888,
              "#fdca26"
             ],
             [
              1,
              "#f0f921"
             ]
            ],
            "type": "surface"
           }
          ],
          "table": [
           {
            "cells": {
             "fill": {
              "color": "#EBF0F8"
             },
             "line": {
              "color": "white"
             }
            },
            "header": {
             "fill": {
              "color": "#C8D4E3"
             },
             "line": {
              "color": "white"
             }
            },
            "type": "table"
           }
          ]
         },
         "layout": {
          "annotationdefaults": {
           "arrowcolor": "#2a3f5f",
           "arrowhead": 0,
           "arrowwidth": 1
          },
          "autotypenumbers": "strict",
          "coloraxis": {
           "colorbar": {
            "outlinewidth": 0,
            "ticks": ""
           }
          },
          "colorscale": {
           "diverging": [
            [
             0,
             "#8e0152"
            ],
            [
             0.1,
             "#c51b7d"
            ],
            [
             0.2,
             "#de77ae"
            ],
            [
             0.3,
             "#f1b6da"
            ],
            [
             0.4,
             "#fde0ef"
            ],
            [
             0.5,
             "#f7f7f7"
            ],
            [
             0.6,
             "#e6f5d0"
            ],
            [
             0.7,
             "#b8e186"
            ],
            [
             0.8,
             "#7fbc41"
            ],
            [
             0.9,
             "#4d9221"
            ],
            [
             1,
             "#276419"
            ]
           ],
           "sequential": [
            [
             0,
             "#0d0887"
            ],
            [
             0.1111111111111111,
             "#46039f"
            ],
            [
             0.2222222222222222,
             "#7201a8"
            ],
            [
             0.3333333333333333,
             "#9c179e"
            ],
            [
             0.4444444444444444,
             "#bd3786"
            ],
            [
             0.5555555555555556,
             "#d8576b"
            ],
            [
             0.6666666666666666,
             "#ed7953"
            ],
            [
             0.7777777777777778,
             "#fb9f3a"
            ],
            [
             0.8888888888888888,
             "#fdca26"
            ],
            [
             1,
             "#f0f921"
            ]
           ],
           "sequentialminus": [
            [
             0,
             "#0d0887"
            ],
            [
             0.1111111111111111,
             "#46039f"
            ],
            [
             0.2222222222222222,
             "#7201a8"
            ],
            [
             0.3333333333333333,
             "#9c179e"
            ],
            [
             0.4444444444444444,
             "#bd3786"
            ],
            [
             0.5555555555555556,
             "#d8576b"
            ],
            [
             0.6666666666666666,
             "#ed7953"
            ],
            [
             0.7777777777777778,
             "#fb9f3a"
            ],
            [
             0.8888888888888888,
             "#fdca26"
            ],
            [
             1,
             "#f0f921"
            ]
           ]
          },
          "colorway": [
           "#636efa",
           "#EF553B",
           "#00cc96",
           "#ab63fa",
           "#FFA15A",
           "#19d3f3",
           "#FF6692",
           "#B6E880",
           "#FF97FF",
           "#FECB52"
          ],
          "font": {
           "color": "#2a3f5f"
          },
          "geo": {
           "bgcolor": "white",
           "lakecolor": "white",
           "landcolor": "#E5ECF6",
           "showlakes": true,
           "showland": true,
           "subunitcolor": "white"
          },
          "hoverlabel": {
           "align": "left"
          },
          "hovermode": "closest",
          "mapbox": {
           "style": "light"
          },
          "paper_bgcolor": "white",
          "plot_bgcolor": "#E5ECF6",
          "polar": {
           "angularaxis": {
            "gridcolor": "white",
            "linecolor": "white",
            "ticks": ""
           },
           "bgcolor": "#E5ECF6",
           "radialaxis": {
            "gridcolor": "white",
            "linecolor": "white",
            "ticks": ""
           }
          },
          "scene": {
           "xaxis": {
            "backgroundcolor": "#E5ECF6",
            "gridcolor": "white",
            "gridwidth": 2,
            "linecolor": "white",
            "showbackground": true,
            "ticks": "",
            "zerolinecolor": "white"
           },
           "yaxis": {
            "backgroundcolor": "#E5ECF6",
            "gridcolor": "white",
            "gridwidth": 2,
            "linecolor": "white",
            "showbackground": true,
            "ticks": "",
            "zerolinecolor": "white"
           },
           "zaxis": {
            "backgroundcolor": "#E5ECF6",
            "gridcolor": "white",
            "gridwidth": 2,
            "linecolor": "white",
            "showbackground": true,
            "ticks": "",
            "zerolinecolor": "white"
           }
          },
          "shapedefaults": {
           "line": {
            "color": "#2a3f5f"
           }
          },
          "ternary": {
           "aaxis": {
            "gridcolor": "white",
            "linecolor": "white",
            "ticks": ""
           },
           "baxis": {
            "gridcolor": "white",
            "linecolor": "white",
            "ticks": ""
           },
           "bgcolor": "#E5ECF6",
           "caxis": {
            "gridcolor": "white",
            "linecolor": "white",
            "ticks": ""
           }
          },
          "title": {
           "x": 0.05
          },
          "xaxis": {
           "automargin": true,
           "gridcolor": "white",
           "linecolor": "white",
           "ticks": "",
           "title": {
            "standoff": 15
           },
           "zerolinecolor": "white",
           "zerolinewidth": 2
          },
          "yaxis": {
           "automargin": true,
           "gridcolor": "white",
           "linecolor": "white",
           "ticks": "",
           "title": {
            "standoff": 15
           },
           "zerolinecolor": "white",
           "zerolinewidth": 2
          }
         }
        },
        "updatemenus": [
         {
          "bgcolor": "rgba(255, 255, 255, 0.8)",
          "bordercolor": "rgba(0, 0, 0, 0.2)",
          "borderwidth": 1,
          "buttons": [
           {
            "args": [
             {
              "visible": [
               true,
               true,
               false,
               false,
               true,
               true
              ]
             }
            ],
            "label": "Degree 2",
            "method": "update"
           },
           {
            "args": [
             {
              "visible": [
               true,
               false,
               true,
               false,
               true,
               true
              ]
             }
            ],
            "label": "Degree 3",
            "method": "update"
           },
           {
            "args": [
             {
              "visible": [
               true,
               false,
               false,
               true,
               true,
               true
              ]
             }
            ],
            "label": "Degree 4",
            "method": "update"
           },
           {
            "args": [
             {
              "visible": [
               true,
               true,
               true,
               true,
               true,
               true
              ]
             }
            ],
            "label": "All Models",
            "method": "update"
           }
          ],
          "direction": "right",
          "pad": {
           "r": 10,
           "t": 10
          },
          "showactive": true,
          "type": "buttons",
          "x": 0.01,
          "xanchor": "left",
          "y": 1.15,
          "yanchor": "top"
         }
        ],
        "xaxis": {
         "anchor": "y",
         "domain": [
          0,
          1
         ],
         "title": {
          "text": "YEAR"
         }
        },
        "xaxis2": {
         "anchor": "y2",
         "domain": [
          0,
          1
         ],
         "title": {
          "text": "YEAR"
         }
        },
        "yaxis": {
         "anchor": "x",
         "domain": [
          0.575,
          1
         ],
         "tickformat": ",.0f",
         "tickprefix": "$",
         "title": {
          "text": "Overtime Pay"
         }
        },
        "yaxis2": {
         "anchor": "x2",
         "domain": [
          0,
          0.425
         ],
         "title": {
          "text": "Percentage Change (%)"
         }
        }
       }
      }
     },
     "metadata": {},
     "output_type": "display_data"
    },
    {
     "name": "stdout",
     "output_type": "stream",
     "text": [
      "\n",
      "=== Forecast Summary for Property Management ===\n",
      "* Best polynomial degree: 3\n",
      "* R² score             : 0.8246\n",
      "* Model equation       : y = -1.06e+13 + 1.58e+10x^1 + -7.82e+06x^2 + 1.29e+03x^3\n"
     ]
    }
   ],
   "source": [
    "results = run_overtime_forecast(\n",
    "    department_name=\"Property Management\",\n",
    "    dept_dfs=department_dataframes,\n",
    "    forecast_years=2,\n",
    "    test_degrees=[2, 3, 4],\n",
    "    interactive=True\n",
    ")"
   ]
  },
  {
   "cell_type": "markdown",
   "id": "3957ab9a",
   "metadata": {},
   "source": [
    "## Public Works Department Overtime Forecast"
   ]
  },
  {
   "cell_type": "code",
   "execution_count": 17,
   "id": "63d1cf9e",
   "metadata": {},
   "outputs": [
    {
     "name": "stdout",
     "output_type": "stream",
     "text": [
      "Best polynomial degree: 4\n",
      "\n",
      "Predicted future values:\n",
      "Year 2025: $7,973,137.94\n",
      "Year 2026: $9,883,230.89\n",
      "\n",
      "Best model equation:\n",
      "y = -2.24e+13 + 2.11e+04x^1 + 3.30e+07x^2 + -2.18e+04x^3 + 4.05e+00x^4\n"
     ]
    },
    {
     "data": {
      "application/vnd.plotly.v1+json": {
       "config": {
        "plotlyServerURL": "https://plot.ly"
       },
       "data": [
        {
         "hovertemplate": "%{x}, $%{y:,.2f}",
         "marker": {
          "color": "orange",
          "size": 10
         },
         "mode": "markers",
         "name": "Original Data",
         "type": "scatter",
         "x": {
          "bdata": "2wfcB90H3gffB+AH4QfiB+MH5AflB+YH5wfoBw==",
          "dtype": "i2"
         },
         "xaxis": "x",
         "y": {
          "bdata": "exSu53ZmRkEK16OwOVo6QXsUrqfkB0hBexSuB8w+TUFI4XqE/gBUQTMzM7PDwE9BcT0KF8iCU0Fcj8K1YAxUQQrXoyDkMFFBCtejcJ9HSkFxPQp3YmFOQexRuO6iuVJBuB6FG50DVEHsUbg+BrpaQQ==",
          "dtype": "f8"
         },
         "yaxis": "y"
        },
        {
         "customdata": [
          2,
          2,
          2,
          2,
          2,
          2,
          2,
          2,
          2,
          2,
          2,
          2,
          2,
          2,
          2,
          2
         ],
         "hovertemplate": "%{x}, $%{y:,.2f}<br>Model: Degree %{customdata}<extra></extra>",
         "line": {
          "color": "blue",
          "width": 2
         },
         "mode": "lines",
         "name": "Degree 2 (R² = 0.5116)",
         "type": "scatter",
         "visible": "legendonly",
         "x": {
          "bdata": "2wfcB90H3gffB+AH4QfiB+MH5AflB+YH5wfoB+kH6gc=",
          "dtype": "i2"
         },
         "xaxis": "x",
         "y": {
          "bdata": "AGBsgf3XREEAAKGPfRFHQQAAmvQZNElBAGBXsNI/S0EAYNnCpzRNQQAAICyZEk9BAHAVdtNsUEEAUH2B6ERRQQBgR7iLEVJBAMBzGr3SUkEAMAKofIhTQQAQ82DKMlRBADBGRabRVEEAkPtUEGVVQQAgE5AI7VVBAACN9o5pVkE=",
          "dtype": "f8"
         },
         "yaxis": "y"
        },
        {
         "customdata": [
          3,
          3,
          3,
          3,
          3,
          3,
          3,
          3,
          3,
          3,
          3,
          3,
          3,
          3,
          3,
          3
         ],
         "hovertemplate": "%{x}, $%{y:,.2f}<br>Model: Degree %{customdata}<extra></extra>",
         "line": {
          "color": "green",
          "width": 2
         },
         "mode": "lines",
         "name": "Degree 3 (R² = 0.7001)",
         "type": "scatter",
         "visible": "legendonly",
         "x": {
          "bdata": "2wfcB90H3gffB+AH4QfiB+MH5AflB+YH5wfoB+kH6gc=",
          "dtype": "i2"
         },
         "xaxis": "x",
         "y": {
          "bdata": "AAAABAhpO0EAAAC+RYRGQQAAAFK3fkxBAAAArcQRUEEAAAAzNvlQQQAAAJWINVFBAAAAFZQGUUEAAAALMaxQQQAAALs3ZlBBAAAAfYB0UEEAAACb4xZRQQAAAGc5jVJBAAAAKVoXVUEAAAA1HvVYQQAAANVdZl5BAACArXjVYkE=",
          "dtype": "f8"
         },
         "yaxis": "y"
        },
        {
         "customdata": [
          4,
          4,
          4,
          4,
          4,
          4,
          4,
          4,
          4,
          4,
          4,
          4,
          4,
          4,
          4,
          4
         ],
         "hovertemplate": "%{x}, $%{y:,.2f}<br>Model: Degree %{customdata}<extra></extra>",
         "line": {
          "color": "red",
          "width": 2
         },
         "mode": "lines",
         "name": "Degree 4 (R² = 0.7005)",
         "type": "scatter",
         "visible": true,
         "x": {
          "bdata": "2wfcB90H3gffB+AH4QfiB+MH5AflB+YH5wfoB+kH6gc=",
          "dtype": "i2"
         },
         "xaxis": "x",
         "y": {
          "bdata": "AAAAFa5yO0EAAAC5F4RGQQAAAK5tfExBAACA+X4QUEEAAEAQT/hQQQAAwDEqNVFBAAAAv6sGUUEAAEBih6xQQQAAQBKJZlBBAACAD5V0UEEAAIDjpxZRQQAAAGDWjFJBAACApk0XVUEAAIAeU/ZYQQAAQHxEal5BAACg3MvZYkE=",
          "dtype": "f8"
         },
         "yaxis": "y"
        },
        {
         "fill": "toself",
         "fillcolor": "rgba(128, 128, 128, 0.2)",
         "hoverinfo": "skip",
         "line": {
          "color": "rgba(255, 255, 255, 0)"
         },
         "name": "Forecast Region",
         "showlegend": true,
         "type": "scatter",
         "x": {
          "bdata": "6AfpB+oH6gfpB+gH",
          "dtype": "i2"
         },
         "xaxis": "x",
         "y": {
          "bdata": "AACAHlP2WEEAAEB8RGpeQQAAoNzL2WJBCtejsDlaOkEK16OwOVo6QQrXo7A5WjpB",
          "dtype": "f8"
         },
         "yaxis": "y"
        },
        {
         "hovertemplate": "Year %{x}<br>$%{y:,.2f}<extra></extra>",
         "marker": {
          "color": "red",
          "size": 12,
          "symbol": "diamond"
         },
         "mode": "markers+text",
         "name": "Predictions",
         "text": [
          "2025: $7,973,138M",
          "2026: $9,883,231M"
         ],
         "textposition": "top center",
         "type": "scatter",
         "x": {
          "bdata": "6QfqBw==",
          "dtype": "i2"
         },
         "xaxis": "x",
         "y": {
          "bdata": "AABAfERqXkEAAKDcy9liQQ==",
          "dtype": "f8"
         },
         "yaxis": "y"
        },
        {
         "hovertemplate": "Year %{x}<br>Change: %{y:.1f}%<extra></extra>",
         "marker": {
          "color": "skyblue"
         },
         "name": "YoY Change",
         "text": [
          "-41.2%",
          "82.4%",
          "21.7%",
          "36.8%",
          "-20.6%",
          "22.9%",
          "2.8%",
          "-14.3%",
          "-23.6%",
          "15.6%",
          "23.3%",
          "6.9%",
          "33.5%"
         ],
         "textposition": "outside",
         "type": "bar",
         "x": {
          "bdata": "3AfdB94H3wfgB+EH4gfjB+QH5QfmB+cH6Ac=",
          "dtype": "i2"
         },
         "xaxis": "x2",
         "y": {
          "bdata": "AsmWttCWRMAcH3nqVphUQO/bB3f2sjVAVPWHV3xmQkC0fOTDCKI0wHY49Hc75DZA6T931NMJBkAuq6ynOYEswBG+61GykDfARwfCcR81L0APF1xMa0U3QHxnBgrciBtAr4fTKf/EQEA=",
          "dtype": "f8"
         },
         "yaxis": "y2"
        }
       ],
       "layout": {
        "annotations": [
         {
          "font": {
           "size": 16
          },
          "showarrow": false,
          "text": "Overtime Pay for Public Works Department (2011–2024)",
          "x": 0.5,
          "xanchor": "center",
          "xref": "paper",
          "y": 1,
          "yanchor": "bottom",
          "yref": "paper"
         },
         {
          "font": {
           "size": 16
          },
          "showarrow": false,
          "text": "Year-over-Year Percentage Change in Overtime Pay",
          "x": 0.5,
          "xanchor": "center",
          "xref": "paper",
          "y": 0.425,
          "yanchor": "bottom",
          "yref": "paper"
         },
         {
          "showarrow": false,
          "text": "Last data point (2024)",
          "x": 2024,
          "xanchor": "center",
          "xref": "x",
          "y": 1,
          "yanchor": "bottom",
          "yref": "y domain"
         }
        ],
        "height": 800,
        "hovermode": "closest",
        "legend": {
         "orientation": "h",
         "x": 1,
         "xanchor": "right",
         "y": 1.02,
         "yanchor": "bottom"
        },
        "shapes": [
         {
          "line": {
           "color": "black",
           "dash": "dash",
           "width": 2
          },
          "type": "line",
          "x0": 2024,
          "x1": 2024,
          "xref": "x",
          "y0": 0,
          "y1": 1,
          "yref": "y domain"
         },
         {
          "line": {
           "color": "black",
           "dash": "solid",
           "width": 1
          },
          "type": "line",
          "x0": 2012,
          "x1": 2024,
          "xref": "x2",
          "y0": 0,
          "y1": 0,
          "yref": "y2"
         }
        ],
        "template": {
         "data": {
          "bar": [
           {
            "error_x": {
             "color": "#2a3f5f"
            },
            "error_y": {
             "color": "#2a3f5f"
            },
            "marker": {
             "line": {
              "color": "#E5ECF6",
              "width": 0.5
             },
             "pattern": {
              "fillmode": "overlay",
              "size": 10,
              "solidity": 0.2
             }
            },
            "type": "bar"
           }
          ],
          "barpolar": [
           {
            "marker": {
             "line": {
              "color": "#E5ECF6",
              "width": 0.5
             },
             "pattern": {
              "fillmode": "overlay",
              "size": 10,
              "solidity": 0.2
             }
            },
            "type": "barpolar"
           }
          ],
          "carpet": [
           {
            "aaxis": {
             "endlinecolor": "#2a3f5f",
             "gridcolor": "white",
             "linecolor": "white",
             "minorgridcolor": "white",
             "startlinecolor": "#2a3f5f"
            },
            "baxis": {
             "endlinecolor": "#2a3f5f",
             "gridcolor": "white",
             "linecolor": "white",
             "minorgridcolor": "white",
             "startlinecolor": "#2a3f5f"
            },
            "type": "carpet"
           }
          ],
          "choropleth": [
           {
            "colorbar": {
             "outlinewidth": 0,
             "ticks": ""
            },
            "type": "choropleth"
           }
          ],
          "contour": [
           {
            "colorbar": {
             "outlinewidth": 0,
             "ticks": ""
            },
            "colorscale": [
             [
              0,
              "#0d0887"
             ],
             [
              0.1111111111111111,
              "#46039f"
             ],
             [
              0.2222222222222222,
              "#7201a8"
             ],
             [
              0.3333333333333333,
              "#9c179e"
             ],
             [
              0.4444444444444444,
              "#bd3786"
             ],
             [
              0.5555555555555556,
              "#d8576b"
             ],
             [
              0.6666666666666666,
              "#ed7953"
             ],
             [
              0.7777777777777778,
              "#fb9f3a"
             ],
             [
              0.8888888888888888,
              "#fdca26"
             ],
             [
              1,
              "#f0f921"
             ]
            ],
            "type": "contour"
           }
          ],
          "contourcarpet": [
           {
            "colorbar": {
             "outlinewidth": 0,
             "ticks": ""
            },
            "type": "contourcarpet"
           }
          ],
          "heatmap": [
           {
            "colorbar": {
             "outlinewidth": 0,
             "ticks": ""
            },
            "colorscale": [
             [
              0,
              "#0d0887"
             ],
             [
              0.1111111111111111,
              "#46039f"
             ],
             [
              0.2222222222222222,
              "#7201a8"
             ],
             [
              0.3333333333333333,
              "#9c179e"
             ],
             [
              0.4444444444444444,
              "#bd3786"
             ],
             [
              0.5555555555555556,
              "#d8576b"
             ],
             [
              0.6666666666666666,
              "#ed7953"
             ],
             [
              0.7777777777777778,
              "#fb9f3a"
             ],
             [
              0.8888888888888888,
              "#fdca26"
             ],
             [
              1,
              "#f0f921"
             ]
            ],
            "type": "heatmap"
           }
          ],
          "histogram": [
           {
            "marker": {
             "pattern": {
              "fillmode": "overlay",
              "size": 10,
              "solidity": 0.2
             }
            },
            "type": "histogram"
           }
          ],
          "histogram2d": [
           {
            "colorbar": {
             "outlinewidth": 0,
             "ticks": ""
            },
            "colorscale": [
             [
              0,
              "#0d0887"
             ],
             [
              0.1111111111111111,
              "#46039f"
             ],
             [
              0.2222222222222222,
              "#7201a8"
             ],
             [
              0.3333333333333333,
              "#9c179e"
             ],
             [
              0.4444444444444444,
              "#bd3786"
             ],
             [
              0.5555555555555556,
              "#d8576b"
             ],
             [
              0.6666666666666666,
              "#ed7953"
             ],
             [
              0.7777777777777778,
              "#fb9f3a"
             ],
             [
              0.8888888888888888,
              "#fdca26"
             ],
             [
              1,
              "#f0f921"
             ]
            ],
            "type": "histogram2d"
           }
          ],
          "histogram2dcontour": [
           {
            "colorbar": {
             "outlinewidth": 0,
             "ticks": ""
            },
            "colorscale": [
             [
              0,
              "#0d0887"
             ],
             [
              0.1111111111111111,
              "#46039f"
             ],
             [
              0.2222222222222222,
              "#7201a8"
             ],
             [
              0.3333333333333333,
              "#9c179e"
             ],
             [
              0.4444444444444444,
              "#bd3786"
             ],
             [
              0.5555555555555556,
              "#d8576b"
             ],
             [
              0.6666666666666666,
              "#ed7953"
             ],
             [
              0.7777777777777778,
              "#fb9f3a"
             ],
             [
              0.8888888888888888,
              "#fdca26"
             ],
             [
              1,
              "#f0f921"
             ]
            ],
            "type": "histogram2dcontour"
           }
          ],
          "mesh3d": [
           {
            "colorbar": {
             "outlinewidth": 0,
             "ticks": ""
            },
            "type": "mesh3d"
           }
          ],
          "parcoords": [
           {
            "line": {
             "colorbar": {
              "outlinewidth": 0,
              "ticks": ""
             }
            },
            "type": "parcoords"
           }
          ],
          "pie": [
           {
            "automargin": true,
            "type": "pie"
           }
          ],
          "scatter": [
           {
            "fillpattern": {
             "fillmode": "overlay",
             "size": 10,
             "solidity": 0.2
            },
            "type": "scatter"
           }
          ],
          "scatter3d": [
           {
            "line": {
             "colorbar": {
              "outlinewidth": 0,
              "ticks": ""
             }
            },
            "marker": {
             "colorbar": {
              "outlinewidth": 0,
              "ticks": ""
             }
            },
            "type": "scatter3d"
           }
          ],
          "scattercarpet": [
           {
            "marker": {
             "colorbar": {
              "outlinewidth": 0,
              "ticks": ""
             }
            },
            "type": "scattercarpet"
           }
          ],
          "scattergeo": [
           {
            "marker": {
             "colorbar": {
              "outlinewidth": 0,
              "ticks": ""
             }
            },
            "type": "scattergeo"
           }
          ],
          "scattergl": [
           {
            "marker": {
             "colorbar": {
              "outlinewidth": 0,
              "ticks": ""
             }
            },
            "type": "scattergl"
           }
          ],
          "scattermap": [
           {
            "marker": {
             "colorbar": {
              "outlinewidth": 0,
              "ticks": ""
             }
            },
            "type": "scattermap"
           }
          ],
          "scattermapbox": [
           {
            "marker": {
             "colorbar": {
              "outlinewidth": 0,
              "ticks": ""
             }
            },
            "type": "scattermapbox"
           }
          ],
          "scatterpolar": [
           {
            "marker": {
             "colorbar": {
              "outlinewidth": 0,
              "ticks": ""
             }
            },
            "type": "scatterpolar"
           }
          ],
          "scatterpolargl": [
           {
            "marker": {
             "colorbar": {
              "outlinewidth": 0,
              "ticks": ""
             }
            },
            "type": "scatterpolargl"
           }
          ],
          "scatterternary": [
           {
            "marker": {
             "colorbar": {
              "outlinewidth": 0,
              "ticks": ""
             }
            },
            "type": "scatterternary"
           }
          ],
          "surface": [
           {
            "colorbar": {
             "outlinewidth": 0,
             "ticks": ""
            },
            "colorscale": [
             [
              0,
              "#0d0887"
             ],
             [
              0.1111111111111111,
              "#46039f"
             ],
             [
              0.2222222222222222,
              "#7201a8"
             ],
             [
              0.3333333333333333,
              "#9c179e"
             ],
             [
              0.4444444444444444,
              "#bd3786"
             ],
             [
              0.5555555555555556,
              "#d8576b"
             ],
             [
              0.6666666666666666,
              "#ed7953"
             ],
             [
              0.7777777777777778,
              "#fb9f3a"
             ],
             [
              0.8888888888888888,
              "#fdca26"
             ],
             [
              1,
              "#f0f921"
             ]
            ],
            "type": "surface"
           }
          ],
          "table": [
           {
            "cells": {
             "fill": {
              "color": "#EBF0F8"
             },
             "line": {
              "color": "white"
             }
            },
            "header": {
             "fill": {
              "color": "#C8D4E3"
             },
             "line": {
              "color": "white"
             }
            },
            "type": "table"
           }
          ]
         },
         "layout": {
          "annotationdefaults": {
           "arrowcolor": "#2a3f5f",
           "arrowhead": 0,
           "arrowwidth": 1
          },
          "autotypenumbers": "strict",
          "coloraxis": {
           "colorbar": {
            "outlinewidth": 0,
            "ticks": ""
           }
          },
          "colorscale": {
           "diverging": [
            [
             0,
             "#8e0152"
            ],
            [
             0.1,
             "#c51b7d"
            ],
            [
             0.2,
             "#de77ae"
            ],
            [
             0.3,
             "#f1b6da"
            ],
            [
             0.4,
             "#fde0ef"
            ],
            [
             0.5,
             "#f7f7f7"
            ],
            [
             0.6,
             "#e6f5d0"
            ],
            [
             0.7,
             "#b8e186"
            ],
            [
             0.8,
             "#7fbc41"
            ],
            [
             0.9,
             "#4d9221"
            ],
            [
             1,
             "#276419"
            ]
           ],
           "sequential": [
            [
             0,
             "#0d0887"
            ],
            [
             0.1111111111111111,
             "#46039f"
            ],
            [
             0.2222222222222222,
             "#7201a8"
            ],
            [
             0.3333333333333333,
             "#9c179e"
            ],
            [
             0.4444444444444444,
             "#bd3786"
            ],
            [
             0.5555555555555556,
             "#d8576b"
            ],
            [
             0.6666666666666666,
             "#ed7953"
            ],
            [
             0.7777777777777778,
             "#fb9f3a"
            ],
            [
             0.8888888888888888,
             "#fdca26"
            ],
            [
             1,
             "#f0f921"
            ]
           ],
           "sequentialminus": [
            [
             0,
             "#0d0887"
            ],
            [
             0.1111111111111111,
             "#46039f"
            ],
            [
             0.2222222222222222,
             "#7201a8"
            ],
            [
             0.3333333333333333,
             "#9c179e"
            ],
            [
             0.4444444444444444,
             "#bd3786"
            ],
            [
             0.5555555555555556,
             "#d8576b"
            ],
            [
             0.6666666666666666,
             "#ed7953"
            ],
            [
             0.7777777777777778,
             "#fb9f3a"
            ],
            [
             0.8888888888888888,
             "#fdca26"
            ],
            [
             1,
             "#f0f921"
            ]
           ]
          },
          "colorway": [
           "#636efa",
           "#EF553B",
           "#00cc96",
           "#ab63fa",
           "#FFA15A",
           "#19d3f3",
           "#FF6692",
           "#B6E880",
           "#FF97FF",
           "#FECB52"
          ],
          "font": {
           "color": "#2a3f5f"
          },
          "geo": {
           "bgcolor": "white",
           "lakecolor": "white",
           "landcolor": "#E5ECF6",
           "showlakes": true,
           "showland": true,
           "subunitcolor": "white"
          },
          "hoverlabel": {
           "align": "left"
          },
          "hovermode": "closest",
          "mapbox": {
           "style": "light"
          },
          "paper_bgcolor": "white",
          "plot_bgcolor": "#E5ECF6",
          "polar": {
           "angularaxis": {
            "gridcolor": "white",
            "linecolor": "white",
            "ticks": ""
           },
           "bgcolor": "#E5ECF6",
           "radialaxis": {
            "gridcolor": "white",
            "linecolor": "white",
            "ticks": ""
           }
          },
          "scene": {
           "xaxis": {
            "backgroundcolor": "#E5ECF6",
            "gridcolor": "white",
            "gridwidth": 2,
            "linecolor": "white",
            "showbackground": true,
            "ticks": "",
            "zerolinecolor": "white"
           },
           "yaxis": {
            "backgroundcolor": "#E5ECF6",
            "gridcolor": "white",
            "gridwidth": 2,
            "linecolor": "white",
            "showbackground": true,
            "ticks": "",
            "zerolinecolor": "white"
           },
           "zaxis": {
            "backgroundcolor": "#E5ECF6",
            "gridcolor": "white",
            "gridwidth": 2,
            "linecolor": "white",
            "showbackground": true,
            "ticks": "",
            "zerolinecolor": "white"
           }
          },
          "shapedefaults": {
           "line": {
            "color": "#2a3f5f"
           }
          },
          "ternary": {
           "aaxis": {
            "gridcolor": "white",
            "linecolor": "white",
            "ticks": ""
           },
           "baxis": {
            "gridcolor": "white",
            "linecolor": "white",
            "ticks": ""
           },
           "bgcolor": "#E5ECF6",
           "caxis": {
            "gridcolor": "white",
            "linecolor": "white",
            "ticks": ""
           }
          },
          "title": {
           "x": 0.05
          },
          "xaxis": {
           "automargin": true,
           "gridcolor": "white",
           "linecolor": "white",
           "ticks": "",
           "title": {
            "standoff": 15
           },
           "zerolinecolor": "white",
           "zerolinewidth": 2
          },
          "yaxis": {
           "automargin": true,
           "gridcolor": "white",
           "linecolor": "white",
           "ticks": "",
           "title": {
            "standoff": 15
           },
           "zerolinecolor": "white",
           "zerolinewidth": 2
          }
         }
        },
        "updatemenus": [
         {
          "bgcolor": "rgba(255, 255, 255, 0.8)",
          "bordercolor": "rgba(0, 0, 0, 0.2)",
          "borderwidth": 1,
          "buttons": [
           {
            "args": [
             {
              "visible": [
               true,
               true,
               false,
               false,
               true,
               true
              ]
             }
            ],
            "label": "Degree 2",
            "method": "update"
           },
           {
            "args": [
             {
              "visible": [
               true,
               false,
               true,
               false,
               true,
               true
              ]
             }
            ],
            "label": "Degree 3",
            "method": "update"
           },
           {
            "args": [
             {
              "visible": [
               true,
               false,
               false,
               true,
               true,
               true
              ]
             }
            ],
            "label": "Degree 4",
            "method": "update"
           },
           {
            "args": [
             {
              "visible": [
               true,
               true,
               true,
               true,
               true,
               true
              ]
             }
            ],
            "label": "All Models",
            "method": "update"
           }
          ],
          "direction": "right",
          "pad": {
           "r": 10,
           "t": 10
          },
          "showactive": true,
          "type": "buttons",
          "x": 0.01,
          "xanchor": "left",
          "y": 1.15,
          "yanchor": "top"
         }
        ],
        "xaxis": {
         "anchor": "y",
         "domain": [
          0,
          1
         ],
         "title": {
          "text": "YEAR"
         }
        },
        "xaxis2": {
         "anchor": "y2",
         "domain": [
          0,
          1
         ],
         "title": {
          "text": "YEAR"
         }
        },
        "yaxis": {
         "anchor": "x",
         "domain": [
          0.575,
          1
         ],
         "tickformat": ",.0f",
         "tickprefix": "$",
         "title": {
          "text": "Overtime Pay"
         }
        },
        "yaxis2": {
         "anchor": "x2",
         "domain": [
          0,
          0.425
         ],
         "title": {
          "text": "Percentage Change (%)"
         }
        }
       }
      }
     },
     "metadata": {},
     "output_type": "display_data"
    },
    {
     "name": "stdout",
     "output_type": "stream",
     "text": [
      "\n",
      "=== Forecast Summary for Public Works Department ===\n",
      "* Best polynomial degree: 4\n",
      "* R² score             : 0.7005\n",
      "* Model equation       : y = -2.24e+13 + 2.11e+04x^1 + 3.30e+07x^2 + -2.18e+04x^3 + 4.05e+00x^4\n"
     ]
    }
   ],
   "source": [
    "results = run_overtime_forecast(\n",
    "    department_name='Public Works Department',\n",
    "    dept_dfs=department_dataframes,\n",
    "    forecast_years=2,\n",
    "    test_degrees=[2, 3, 4],\n",
    "    interactive=True\n",
    ")"
   ]
  }
 ],
 "metadata": {
  "kernelspec": {
   "display_name": "base",
   "language": "python",
   "name": "python3"
  },
  "language_info": {
   "codemirror_mode": {
    "name": "ipython",
    "version": 3
   },
   "file_extension": ".py",
   "mimetype": "text/x-python",
   "name": "python",
   "nbconvert_exporter": "python",
   "pygments_lexer": "ipython3",
   "version": "3.9.13"
  }
 },
 "nbformat": 4,
 "nbformat_minor": 5
}
