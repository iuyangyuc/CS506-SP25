{
 "cells": [
  {
   "metadata": {
    "ExecuteTime": {
     "end_time": "2025-04-26T22:06:01.772514Z",
     "start_time": "2025-04-26T22:06:01.762514Z"
    }
   },
   "cell_type": "code",
   "source": "print(\"Hello, world!\")",
   "id": "c088ebb93928e442",
   "outputs": [
    {
     "name": "stdout",
     "output_type": "stream",
     "text": [
      "Hello, world!\n"
     ]
    }
   ],
   "execution_count": 1
  }
 ],
 "metadata": {},
 "nbformat": 4,
 "nbformat_minor": 5
}
