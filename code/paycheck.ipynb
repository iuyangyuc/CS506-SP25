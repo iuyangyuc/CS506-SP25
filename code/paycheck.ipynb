{
 "cells": [
  {
   "cell_type": "markdown",
   "metadata": {},
   "source": [
    "# How have BPD paychecks changed year-over-year?"
   ]
  },
  {
   "cell_type": "code",
   "execution_count": 8,
   "metadata": {},
   "outputs": [],
   "source": [
    "import pandas as pd\n",
    "import matplotlib.pyplot as plt\n",
    "import numpy as np\n",
    "import re\n",
    "import seaborn as sns"
   ]
  },
  {
   "cell_type": "code",
   "execution_count": 9,
   "metadata": {},
   "outputs": [],
   "source": [
    "plt.rcParams['font.family'] = 'Arial'"
   ]
  },
  {
   "cell_type": "code",
   "execution_count": 10,
   "metadata": {},
   "outputs": [],
   "source": [
    "years = [2014, 2015, 2016, 2017, 2018, 2019, 2020, 2021, 2022, 2023, 2024]\n",
    "data_folder_path = '../data/earning/'\n",
    "file_paths = [\n",
    "    \"2014_earnings.csv\", \"2015_earnings.csv\", \"2016_earnings.csv\", \"2017_earnings.csv\", \"2018_earnings.csv\", \"2019_earnings.csv\",\"2020_earnings.csv\", \"2021_earnings.csv\", \"2022_earnings.csv\", \"2023_earnings.csv\", \"2024_earnings.csv\"\n",
    "]\n",
    "file_paths = [data_folder_path + file_path for file_path in file_paths]"
   ]
  },
  {
   "cell_type": "code",
   "execution_count": 11,
   "metadata": {},
   "outputs": [],
   "source": [
    "# Remove symbols in currency values and convert to float\n",
    "def clean_currency(val):\n",
    "    if isinstance(val, str):\n",
    "        val = val.replace('$', '').replace(',', '').replace('(','').replace(')','').strip()\n",
    "        if val == '-' or val == '0.00':\n",
    "            return None\n",
    "        return float(val)\n",
    "    return val"
   ]
  },
  {
   "cell_type": "code",
   "execution_count": 12,
   "metadata": {},
   "outputs": [
    {
     "name": "stdout",
     "output_type": "stream",
     "text": [
      "2014\n",
      "2015\n",
      "2016\n",
      "2017\n",
      "2018\n",
      "2019\n",
      "2020\n",
      "2021\n",
      "2022\n",
      "2023\n",
      "2024\n"
     ]
    }
   ],
   "source": [
    "# Read and process each CSV file\n",
    "dfs = []\n",
    "currency_columns = ['REGULAR','OTHER','OVERTIME','INJURED','DETAIL','QUINN_EDUCATION','TOTAL_GROSS']\n",
    "\n",
    "for year, path in zip(years, file_paths):\n",
    "    df = pd.read_csv(path, encoding='ISO-8859-1')\n",
    "    df['YEAR'] = year\n",
    "    print(year)\n",
    "    for col in currency_columns:\n",
    "        if col in df.columns:\n",
    "            # Clean the currency columns\n",
    "            df[col] = df[col].apply(clean_currency)\n",
    "        else:\n",
    "            print(f\"Warning: Column '{col}' not found in {year} data.\")\n",
    "\n",
    "    dfs.append(df)"
   ]
  },
  {
   "cell_type": "code",
   "execution_count": 13,
   "metadata": {},
   "outputs": [
    {
     "name": "stdout",
     "output_type": "stream",
     "text": [
      "Missing values in each column:\n",
      "NAME                    6\n",
      "TITLE                   6\n",
      "DEPARTMENT_NAME         6\n",
      "REGULAR             10800\n",
      "RETRO              143778\n",
      "OTHER               99389\n",
      "OVERTIME           177839\n",
      "INJURED            237529\n",
      "DETAIL             229035\n",
      "QUINN_EDUCATION    239579\n",
      "TOTAL_GROSS             8\n",
      "POSTAL                201\n",
      "YEAR                    0\n",
      "dtype: int64\n",
      "Full dataset statistics:\n",
      "                    NAME    TITLE           DEPARTMENT_NAME        REGULAR   \n",
      "count             254289   254289                    254289  243497.000000  \\\n",
      "unique             47932     2553                       435            NaN   \n",
      "top     Sullivan,Michael  Teacher  Boston Police Department            NaN   \n",
      "freq                  38    59173                     34697            NaN   \n",
      "mean                 NaN      NaN                       NaN   67428.426415   \n",
      "std                  NaN      NaN                       NaN   41340.984065   \n",
      "min                  NaN      NaN                       NaN  -17515.440000   \n",
      "25%                  NaN      NaN                       NaN   32992.420000   \n",
      "50%                  NaN      NaN                       NaN   68037.540000   \n",
      "75%                  NaN      NaN                       NaN  100786.000000   \n",
      "max                  NaN      NaN                       NaN  517789.820000   \n",
      "\n",
      "         RETRO         OTHER       OVERTIME        INJURED         DETAIL   \n",
      "count   110519  1.549080e+05   76458.000000   16768.000000   25262.000000  \\\n",
      "unique   48864           NaN            NaN            NaN            NaN   \n",
      "top      $0.00           NaN            NaN            NaN            NaN   \n",
      "freq     39504           NaN            NaN            NaN            NaN   \n",
      "mean       NaN  4.236779e+03   18013.741896   24617.498146   17810.068158   \n",
      "std        NaN  1.120361e+04   21324.905048   34713.730843   21523.164922   \n",
      "min        NaN -2.268080e+03   -2000.000000   -2163.680000    -256.000000   \n",
      "25%        NaN  5.500000e+02    2661.390000    2110.325000    2392.000000   \n",
      "50%        NaN  1.343995e+03   11000.000000    9875.040000    9589.500000   \n",
      "75%        NaN  3.968710e+03   25189.505000   31445.270000   25668.000000   \n",
      "max        NaN  1.264844e+06  223773.960000  772034.240000  238613.660000   \n",
      "\n",
      "        QUINN_EDUCATION   TOTAL_GROSS  POSTAL           YEAR  \n",
      "count      14718.000000  2.542890e+05  254094  254289.000000  \n",
      "unique              NaN           NaN    2533            NaN  \n",
      "top                 NaN           NaN   02124            NaN  \n",
      "freq                NaN           NaN   16916            NaN  \n",
      "mean       18398.882225  7.828757e+04     NaN    2019.135507  \n",
      "std         8515.928735  5.780336e+04     NaN       3.188177  \n",
      "min        -1710.220000  1.600000e-01     NaN    2014.000000  \n",
      "25%        12338.560000  3.198830e+04     NaN    2016.000000  \n",
      "50%        18392.285000  7.228675e+04     NaN    2019.000000  \n",
      "75%        23692.120000  1.136917e+05     NaN    2022.000000  \n",
      "max        52416.680000  1.264844e+06     NaN    2024.000000  \n"
     ]
    }
   ],
   "source": [
    "# Concatenate all year dataframes into a single dataframe\n",
    "full_data = pd.concat(dfs, ignore_index=True)\n",
    "\n",
    "# Check for missing values\n",
    "missing_values = full_data.isnull().sum()\n",
    "print(\"Missing values in each column:\")\n",
    "print(missing_values)\n",
    "full_data['DEPARTMENT_NAME'] = full_data['DEPARTMENT_NAME'].fillna('')\n",
    "\n",
    "# Remove rows missing TOTAL_GROSS\n",
    "full_data = full_data.dropna(subset=['TOTAL_GROSS'])\n",
    "\n",
    "# Print the stats of the full dataset\n",
    "print(\"Full dataset statistics:\")\n",
    "print(full_data.describe(include='all'))\n",
    "\n",
    "# Seperate BPD and non-BPD data\n",
    "bpd_data = full_data[full_data['DEPARTMENT_NAME'].str.upper().str.contains('POLICE')]\n",
    "non_bpd_data = full_data[~full_data['DEPARTMENT_NAME'].str.upper().str.contains('POLICE')]"
   ]
  },
  {
   "cell_type": "code",
   "execution_count": 14,
   "metadata": {},
   "outputs": [
    {
     "data": {
      "text/html": [
       "<div>\n",
       "<style scoped>\n",
       "    .dataframe tbody tr th:only-of-type {\n",
       "        vertical-align: middle;\n",
       "    }\n",
       "\n",
       "    .dataframe tbody tr th {\n",
       "        vertical-align: top;\n",
       "    }\n",
       "\n",
       "    .dataframe thead th {\n",
       "        text-align: right;\n",
       "    }\n",
       "</style>\n",
       "<table border=\"1\" class=\"dataframe\">\n",
       "  <thead>\n",
       "    <tr style=\"text-align: right;\">\n",
       "      <th></th>\n",
       "      <th>YEAR</th>\n",
       "      <th>BPD_AVG_GROSS</th>\n",
       "      <th>NON_BPD_AVG_GROSS</th>\n",
       "    </tr>\n",
       "  </thead>\n",
       "  <tbody>\n",
       "    <tr>\n",
       "      <th>0</th>\n",
       "      <td>2014</td>\n",
       "      <td>112589.650642</td>\n",
       "      <td>59304.269696</td>\n",
       "    </tr>\n",
       "    <tr>\n",
       "      <th>1</th>\n",
       "      <td>2015</td>\n",
       "      <td>118041.488626</td>\n",
       "      <td>63268.735794</td>\n",
       "    </tr>\n",
       "    <tr>\n",
       "      <th>2</th>\n",
       "      <td>2016</td>\n",
       "      <td>124787.164775</td>\n",
       "      <td>62942.269980</td>\n",
       "    </tr>\n",
       "    <tr>\n",
       "      <th>3</th>\n",
       "      <td>2017</td>\n",
       "      <td>124254.563280</td>\n",
       "      <td>62820.904814</td>\n",
       "    </tr>\n",
       "    <tr>\n",
       "      <th>4</th>\n",
       "      <td>2018</td>\n",
       "      <td>131321.462320</td>\n",
       "      <td>63828.300246</td>\n",
       "    </tr>\n",
       "    <tr>\n",
       "      <th>5</th>\n",
       "      <td>2019</td>\n",
       "      <td>127094.346316</td>\n",
       "      <td>68909.359765</td>\n",
       "    </tr>\n",
       "    <tr>\n",
       "      <th>6</th>\n",
       "      <td>2020</td>\n",
       "      <td>132487.610436</td>\n",
       "      <td>74998.581716</td>\n",
       "    </tr>\n",
       "    <tr>\n",
       "      <th>7</th>\n",
       "      <td>2021</td>\n",
       "      <td>132114.566694</td>\n",
       "      <td>74947.610265</td>\n",
       "    </tr>\n",
       "    <tr>\n",
       "      <th>8</th>\n",
       "      <td>2022</td>\n",
       "      <td>133494.427569</td>\n",
       "      <td>75620.021611</td>\n",
       "    </tr>\n",
       "    <tr>\n",
       "      <th>9</th>\n",
       "      <td>2023</td>\n",
       "      <td>138366.695543</td>\n",
       "      <td>75703.959911</td>\n",
       "    </tr>\n",
       "    <tr>\n",
       "      <th>10</th>\n",
       "      <td>2024</td>\n",
       "      <td>165563.158445</td>\n",
       "      <td>83558.843475</td>\n",
       "    </tr>\n",
       "  </tbody>\n",
       "</table>\n",
       "</div>"
      ],
      "text/plain": [
       "    YEAR  BPD_AVG_GROSS  NON_BPD_AVG_GROSS\n",
       "0   2014  112589.650642       59304.269696\n",
       "1   2015  118041.488626       63268.735794\n",
       "2   2016  124787.164775       62942.269980\n",
       "3   2017  124254.563280       62820.904814\n",
       "4   2018  131321.462320       63828.300246\n",
       "5   2019  127094.346316       68909.359765\n",
       "6   2020  132487.610436       74998.581716\n",
       "7   2021  132114.566694       74947.610265\n",
       "8   2022  133494.427569       75620.021611\n",
       "9   2023  138366.695543       75703.959911\n",
       "10  2024  165563.158445       83558.843475"
      ]
     },
     "execution_count": 14,
     "metadata": {},
     "output_type": "execute_result"
    }
   ],
   "source": [
    "# Calcaulate average gross\n",
    "bpd_avg = bpd_data.groupby('YEAR')['TOTAL_GROSS'].mean().reset_index(name='BPD_AVG_GROSS')\n",
    "non_bpd_avg = non_bpd_data.groupby('YEAR')['TOTAL_GROSS'].mean().reset_index(name='NON_BPD_AVG_GROSS')\n",
    "\n",
    "avg_comparison = pd.merge(bpd_avg, non_bpd_avg, on='YEAR', how='outer').sort_values('YEAR')\n",
    "\n",
    "avg_comparison"
   ]
  },
  {
   "cell_type": "code",
   "execution_count": 15,
   "metadata": {},
   "outputs": [
    {
     "data": {
      "image/png": "[encoded data removed]",
      "text/plain": [
       "<Figure size 720x432 with 1 Axes>"
      ]
     },
     "metadata": {
      "needs_background": "light"
     },
     "output_type": "display_data"
    }
   ],
   "source": [
    "plt.figure(figsize=(10, 6))\n",
    "plt.plot(avg_comparison['YEAR'], avg_comparison['BPD_AVG_GROSS'], marker='o', label='BPD Avg Gross')\n",
    "plt.plot(avg_comparison['YEAR'], avg_comparison['NON_BPD_AVG_GROSS'], marker='o', label='Non-BPD Avg Gross')\n",
    "plt.title('Average Paycheck Comparison: BPD vs Non-BPD (2014–2024)')\n",
    "plt.xlabel('Year')\n",
    "plt.ylabel('Average Total Gross ($)')\n",
    "plt.grid(True)\n",
    "plt.legend()\n",
    "plt.xticks(avg_comparison['YEAR'])\n",
    "plt.tight_layout()\n",
    "plt.show()"
   ]
  },
  {
   "cell_type": "markdown",
   "metadata": {},
   "source": [
    "# How much BPD officer pay came from injury pay?"
   ]
  },
  {
   "cell_type": "code",
   "execution_count": 16,
   "metadata": {},
   "outputs": [
    {
     "name": "stderr",
     "output_type": "stream",
     "text": [
      "/var/folders/64/dkndw9l10ls5pdzpx8fmcqpc0000gn/T/ipykernel_20732/3637093187.py:5: SettingWithCopyWarning: \n",
      "A value is trying to be set on a copy of a slice from a DataFrame.\n",
      "Try using .loc[row_indexer,col_indexer] = value instead\n",
      "\n",
      "See the caveats in the documentation: https://pandas.pydata.org/pandas-docs/stable/user_guide/indexing.html#returning-a-view-versus-a-copy\n",
      "  bpd_data_dropna['INJURED_RATIO'] = bpd_data_dropna['INJURED'] / bpd_data_dropna['TOTAL_GROSS']\n"
     ]
    }
   ],
   "source": [
    "# Drop rows with missing INJURED values\n",
    "bpd_data_dropna = bpd_data.dropna(subset=['INJURED'])\n",
    "\n",
    "# Calculate the ratio of injured pay to total gross\n",
    "bpd_data_dropna['INJURED_RATIO'] = bpd_data_dropna['INJURED'] / bpd_data_dropna['TOTAL_GROSS']\n"
   ]
  },
  {
   "cell_type": "code",
   "execution_count": 17,
   "metadata": {},
   "outputs": [
    {
     "name": "stderr",
     "output_type": "stream",
     "text": [
      "/var/folders/64/dkndw9l10ls5pdzpx8fmcqpc0000gn/T/ipykernel_20732/1374641421.py:3: FutureWarning: \n",
      "\n",
      "Passing `palette` without assigning `hue` is deprecated and will be removed in v0.14.0. Assign the `x` variable to `hue` and set `legend=False` for the same effect.\n",
      "\n",
      "  sns.boxplot(x='YEAR', y='INJURED_RATIO', data=bpd_data_dropna, palette='Set3')\n"
     ]
    },
    {
     "data": {
      "image/png": "[encoded data removed]",
      "text/plain": [
       "<Figure size 720x432 with 1 Axes>"
      ]
     },
     "metadata": {
      "needs_background": "light"
     },
     "output_type": "display_data"
    }
   ],
   "source": [
    "# Plot boxplot of injured pay ratio per year\n",
    "plt.figure(figsize=(10, 6))\n",
    "sns.boxplot(x='YEAR', y='INJURED_RATIO', data=bpd_data_dropna, palette='Set3')\n",
    "plt.title('Injured Pay Ratio by Year')\n",
    "plt.xlabel('Year')\n",
    "plt.ylabel('Injured Pay Ratio')\n",
    "plt.xticks(rotation=45)\n",
    "plt.tight_layout()\n",
    "plt.show()\n"
   ]
  },
  {
   "cell_type": "code",
   "execution_count": 18,
   "metadata": {},
   "outputs": [
    {
     "data": {
      "text/html": [
       "<div>\n",
       "<style scoped>\n",
       "    .dataframe tbody tr th:only-of-type {\n",
       "        vertical-align: middle;\n",
       "    }\n",
       "\n",
       "    .dataframe tbody tr th {\n",
       "        vertical-align: top;\n",
       "    }\n",
       "\n",
       "    .dataframe thead th {\n",
       "        text-align: right;\n",
       "    }\n",
       "</style>\n",
       "<table border=\"1\" class=\"dataframe\">\n",
       "  <thead>\n",
       "    <tr style=\"text-align: right;\">\n",
       "      <th></th>\n",
       "      <th>YEAR</th>\n",
       "      <th>INJURED_RATIO</th>\n",
       "    </tr>\n",
       "  </thead>\n",
       "  <tbody>\n",
       "    <tr>\n",
       "      <th>0</th>\n",
       "      <td>2014</td>\n",
       "      <td>0.093860</td>\n",
       "    </tr>\n",
       "    <tr>\n",
       "      <th>1</th>\n",
       "      <td>2015</td>\n",
       "      <td>0.217756</td>\n",
       "    </tr>\n",
       "    <tr>\n",
       "      <th>2</th>\n",
       "      <td>2016</td>\n",
       "      <td>0.212965</td>\n",
       "    </tr>\n",
       "    <tr>\n",
       "      <th>3</th>\n",
       "      <td>2017</td>\n",
       "      <td>0.229184</td>\n",
       "    </tr>\n",
       "    <tr>\n",
       "      <th>4</th>\n",
       "      <td>2018</td>\n",
       "      <td>0.264143</td>\n",
       "    </tr>\n",
       "    <tr>\n",
       "      <th>5</th>\n",
       "      <td>2019</td>\n",
       "      <td>0.292817</td>\n",
       "    </tr>\n",
       "    <tr>\n",
       "      <th>6</th>\n",
       "      <td>2020</td>\n",
       "      <td>0.299839</td>\n",
       "    </tr>\n",
       "    <tr>\n",
       "      <th>7</th>\n",
       "      <td>2021</td>\n",
       "      <td>0.329436</td>\n",
       "    </tr>\n",
       "    <tr>\n",
       "      <th>8</th>\n",
       "      <td>2022</td>\n",
       "      <td>0.415957</td>\n",
       "    </tr>\n",
       "    <tr>\n",
       "      <th>9</th>\n",
       "      <td>2023</td>\n",
       "      <td>0.389215</td>\n",
       "    </tr>\n",
       "    <tr>\n",
       "      <th>10</th>\n",
       "      <td>2024</td>\n",
       "      <td>0.164705</td>\n",
       "    </tr>\n",
       "  </tbody>\n",
       "</table>\n",
       "</div>"
      ],
      "text/plain": [
       "    YEAR  INJURED_RATIO\n",
       "0   2014       0.093860\n",
       "1   2015       0.217756\n",
       "2   2016       0.212965\n",
       "3   2017       0.229184\n",
       "4   2018       0.264143\n",
       "5   2019       0.292817\n",
       "6   2020       0.299839\n",
       "7   2021       0.329436\n",
       "8   2022       0.415957\n",
       "9   2023       0.389215\n",
       "10  2024       0.164705"
      ]
     },
     "execution_count": 18,
     "metadata": {},
     "output_type": "execute_result"
    }
   ],
   "source": [
    "# Calculate the average injured ratio per year\n",
    "injured_ratio_avg = bpd_data_dropna['INJURED_RATIO'].groupby(bpd_data_dropna['YEAR']).mean().reset_index(name='INJURED_RATIO')\n",
    "\n",
    "injured_ratio_avg"
   ]
  },
  {
   "cell_type": "code",
   "execution_count": 19,
   "metadata": {},
   "outputs": [
    {
     "name": "stderr",
     "output_type": "stream",
     "text": [
      "/var/folders/64/dkndw9l10ls5pdzpx8fmcqpc0000gn/T/ipykernel_20732/3570248617.py:3: FutureWarning: \n",
      "\n",
      "Passing `palette` without assigning `hue` is deprecated and will be removed in v0.14.0. Assign the `x` variable to `hue` and set `legend=False` for the same effect.\n",
      "\n",
      "  sns.barplot(x='YEAR', y='INJURED_RATIO', data=injured_ratio_avg, palette='Set2')\n"
     ]
    },
    {
     "data": {
      "image/png": "[encoded data removed]",
      "text/plain": [
       "<Figure size 720x432 with 1 Axes>"
      ]
     },
     "metadata": {
      "needs_background": "light"
     },
     "output_type": "display_data"
    }
   ],
   "source": [
    "# Plot the average injured ratio per year\n",
    "plt.figure(figsize=(10, 6))\n",
    "sns.barplot(x='YEAR', y='INJURED_RATIO', data=injured_ratio_avg, palette='Set2')\n",
    "plt.title('Average Injured Pay Ratio by Year')\n",
    "plt.xlabel('Year')\n",
    "plt.ylabel('Average Injured Pay Ratio')\n",
    "plt.xticks(rotation=45)\n",
    "plt.tight_layout()\n",
    "plt.show()\n"
   ]
  },
  {
   "cell_type": "markdown",
   "metadata": {},
   "source": [
    "# What percentage of officers took injury pay in a given year? "
   ]
  },
  {
   "cell_type": "code",
   "execution_count": 20,
   "metadata": {},
   "outputs": [
    {
     "data": {
      "text/html": [
       "<div>\n",
       "<style scoped>\n",
       "    .dataframe tbody tr th:only-of-type {\n",
       "        vertical-align: middle;\n",
       "    }\n",
       "\n",
       "    .dataframe tbody tr th {\n",
       "        vertical-align: top;\n",
       "    }\n",
       "\n",
       "    .dataframe thead th {\n",
       "        text-align: right;\n",
       "    }\n",
       "</style>\n",
       "<table border=\"1\" class=\"dataframe\">\n",
       "  <thead>\n",
       "    <tr style=\"text-align: right;\">\n",
       "      <th></th>\n",
       "      <th>YEAR</th>\n",
       "      <th>INJURED_COUNT</th>\n",
       "      <th>COUNT</th>\n",
       "      <th>INJURED_PERCENTAGE</th>\n",
       "    </tr>\n",
       "  </thead>\n",
       "  <tbody>\n",
       "    <tr>\n",
       "      <th>0</th>\n",
       "      <td>2014</td>\n",
       "      <td>830</td>\n",
       "      <td>3178</td>\n",
       "      <td>26.117055</td>\n",
       "    </tr>\n",
       "    <tr>\n",
       "      <th>1</th>\n",
       "      <td>2015</td>\n",
       "      <td>342</td>\n",
       "      <td>3034</td>\n",
       "      <td>11.272248</td>\n",
       "    </tr>\n",
       "    <tr>\n",
       "      <th>2</th>\n",
       "      <td>2016</td>\n",
       "      <td>449</td>\n",
       "      <td>3114</td>\n",
       "      <td>14.418754</td>\n",
       "    </tr>\n",
       "    <tr>\n",
       "      <th>3</th>\n",
       "      <td>2017</td>\n",
       "      <td>475</td>\n",
       "      <td>3149</td>\n",
       "      <td>15.084154</td>\n",
       "    </tr>\n",
       "    <tr>\n",
       "      <th>4</th>\n",
       "      <td>2018</td>\n",
       "      <td>461</td>\n",
       "      <td>3173</td>\n",
       "      <td>14.528837</td>\n",
       "    </tr>\n",
       "    <tr>\n",
       "      <th>5</th>\n",
       "      <td>2019</td>\n",
       "      <td>458</td>\n",
       "      <td>3271</td>\n",
       "      <td>14.001834</td>\n",
       "    </tr>\n",
       "    <tr>\n",
       "      <th>6</th>\n",
       "      <td>2020</td>\n",
       "      <td>647</td>\n",
       "      <td>3142</td>\n",
       "      <td>20.591980</td>\n",
       "    </tr>\n",
       "    <tr>\n",
       "      <th>7</th>\n",
       "      <td>2021</td>\n",
       "      <td>647</td>\n",
       "      <td>3094</td>\n",
       "      <td>20.911441</td>\n",
       "    </tr>\n",
       "    <tr>\n",
       "      <th>8</th>\n",
       "      <td>2022</td>\n",
       "      <td>459</td>\n",
       "      <td>3040</td>\n",
       "      <td>15.098684</td>\n",
       "    </tr>\n",
       "    <tr>\n",
       "      <th>9</th>\n",
       "      <td>2023</td>\n",
       "      <td>406</td>\n",
       "      <td>3011</td>\n",
       "      <td>13.483892</td>\n",
       "    </tr>\n",
       "    <tr>\n",
       "      <th>10</th>\n",
       "      <td>2024</td>\n",
       "      <td>1132</td>\n",
       "      <td>3491</td>\n",
       "      <td>32.426239</td>\n",
       "    </tr>\n",
       "  </tbody>\n",
       "</table>\n",
       "</div>"
      ],
      "text/plain": [
       "    YEAR  INJURED_COUNT  COUNT  INJURED_PERCENTAGE\n",
       "0   2014            830   3178           26.117055\n",
       "1   2015            342   3034           11.272248\n",
       "2   2016            449   3114           14.418754\n",
       "3   2017            475   3149           15.084154\n",
       "4   2018            461   3173           14.528837\n",
       "5   2019            458   3271           14.001834\n",
       "6   2020            647   3142           20.591980\n",
       "7   2021            647   3094           20.911441\n",
       "8   2022            459   3040           15.098684\n",
       "9   2023            406   3011           13.483892\n",
       "10  2024           1132   3491           32.426239"
      ]
     },
     "execution_count": 20,
     "metadata": {},
     "output_type": "execute_result"
    }
   ],
   "source": [
    "# Count the number of injured officers each year\n",
    "injured_counts = bpd_data_dropna.groupby('YEAR')['INJURED'].count().reset_index(name='INJURED_COUNT')\n",
    "counts = bpd_data.groupby('YEAR')['TOTAL_GROSS'].count().reset_index(name='COUNT')\n",
    "injured_counts = pd.merge(injured_counts, counts, on='YEAR', how='outer')\n",
    "\n",
    "#  Calculate the percentage of injured officers\n",
    "injured_counts['INJURED_PERCENTAGE'] = (injured_counts['INJURED_COUNT'] / injured_counts['COUNT']) * 100\n",
    "\n",
    "injured_counts\n"
   ]
  },
  {
   "cell_type": "code",
   "execution_count": 21,
   "metadata": {},
   "outputs": [
    {
     "name": "stderr",
     "output_type": "stream",
     "text": [
      "/var/folders/64/dkndw9l10ls5pdzpx8fmcqpc0000gn/T/ipykernel_20732/1055180194.py:3: FutureWarning: \n",
      "\n",
      "Passing `palette` without assigning `hue` is deprecated and will be removed in v0.14.0. Assign the `x` variable to `hue` and set `legend=False` for the same effect.\n",
      "\n",
      "  sns.barplot(x='YEAR', y='INJURED_PERCENTAGE', data=injured_counts, palette='Set2')\n"
     ]
    },
    {
     "data": {
      "image/png": "[encoded data removed]",
      "text/plain": [
       "<Figure size 720x432 with 1 Axes>"
      ]
     },
     "metadata": {
      "needs_background": "light"
     },
     "output_type": "display_data"
    }
   ],
   "source": [
    "\n",
    "# Plot the percentage of injured officers by year\n",
    "plt.figure(figsize=(10, 6))\n",
    "sns.barplot(x='YEAR', y='INJURED_PERCENTAGE', data=injured_counts, palette='Set2')\n",
    "plt.title('Percentage of Injured Officers by Year')\n",
    "plt.xlabel('Year')\n",
    "plt.ylabel('Percentage of Injured Officers (%)')\n",
    "plt.xticks(rotation=45)\n",
    "plt.ylim(0, injured_counts['INJURED_PERCENTAGE'].max() + 5)  # Add some space above the max value\n",
    "plt.tight_layout()\n",
    "plt.show()"
   ]
  },
  {
   "cell_type": "code",
   "execution_count": 22,
   "metadata": {},
   "outputs": [
    {
     "data": {
      "text/plain": [
       "count    11.000000\n",
       "mean     17.994102\n",
       "std       6.423665\n",
       "min      11.272248\n",
       "25%      14.210294\n",
       "50%      15.084154\n",
       "75%      20.751711\n",
       "max      32.426239\n",
       "Name: INJURED_PERCENTAGE, dtype: float64"
      ]
     },
     "execution_count": 22,
     "metadata": {},
     "output_type": "execute_result"
    }
   ],
   "source": [
    "injured_counts['INJURED_PERCENTAGE'].describe()"
   ]
  },
  {
   "cell_type": "code",
   "execution_count": null,
   "metadata": {},
   "outputs": [],
   "source": []
  }
 ],
 "metadata": {
  "kernelspec": {
   "display_name": "base",
   "language": "python",
   "name": "python3"
  },
  "language_info": {
   "codemirror_mode": {
    "name": "ipython",
    "version": 3
   },
   "file_extension": ".py",
   "mimetype": "text/x-python",
   "name": "python",
   "nbconvert_exporter": "python",
   "pygments_lexer": "ipython3",
   "version": "3.9.13"
  }
 },
 "nbformat": 4,
 "nbformat_minor": 2
}
