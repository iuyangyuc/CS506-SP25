{
 "cells": [
  {
   "cell_type": "code",
   "id": "initial_id",
   "metadata": {
    "collapsed": true,
    "ExecuteTime": {
     "end_time": "2025-04-21T18:25:48.724549Z",
     "start_time": "2025-04-21T18:25:48.719424Z"
    }
   },
   "source": [
    "import os\n",
    "import glob\n",
    "import pandas as pd\n",
    "import chardet\n"
   ],
   "outputs": [],
   "execution_count": 51
  },
  {
   "cell_type": "code",
   "id": "35fc43f6dfa7fd97",
   "metadata": {
    "ExecuteTime": {
     "end_time": "2025-04-21T18:25:49.251064Z",
     "start_time": "2025-04-21T18:25:48.788632Z"
    }
   },
   "source": [
    "data_folder = \"../data/earning/\"\n",
    "years = [2011, 2012, 2013, 2014, 2015, 2016, 2017, 2018, 2019, 2020, 2021, 2022, 2023]\n",
    "dataframes = {}\n",
    "\n",
    "for year in years:\n",
    "    file_path = os.path.join(data_folder, f\"{year}_earnings.csv\")\n",
    "    if os.path.exists(file_path):\n",
    "        try:\n",
    "            with open(file_path, 'rb') as f:\n",
    "                raw_data = f.read()\n",
    "                # result = chardet.detect(raw_data)\n",
    "                # encoding = result['encoding']\n",
    "                encoding = 'ISO-8859-1'\n",
    "            df = pd.read_csv(file_path, encoding=encoding)\n",
    "            dataframes[year] = df\n",
    "            print(f\"Successfully loaded {file_path} with encoding: {encoding}\")\n",
    "        except Exception as e:\n",
    "            print(f\"Error processing {file_path}: {e}\")\n",
    "    else:\n",
    "        print(f\"File for year {year} does not exist.\")\n"
   ],
   "outputs": [
    {
     "name": "stdout",
     "output_type": "stream",
     "text": [
      "Successfully loaded ../data/earning/2011_earnings.csv with encoding: ISO-8859-1\n",
      "Successfully loaded ../data/earning/2012_earnings.csv with encoding: ISO-8859-1\n",
      "Successfully loaded ../data/earning/2013_earnings.csv with encoding: ISO-8859-1\n",
      "Successfully loaded ../data/earning/2014_earnings.csv with encoding: ISO-8859-1\n",
      "Successfully loaded ../data/earning/2015_earnings.csv with encoding: ISO-8859-1\n",
      "Successfully loaded ../data/earning/2016_earnings.csv with encoding: ISO-8859-1\n",
      "Successfully loaded ../data/earning/2017_earnings.csv with encoding: ISO-8859-1\n",
      "Successfully loaded ../data/earning/2018_earnings.csv with encoding: ISO-8859-1\n",
      "Successfully loaded ../data/earning/2019_earnings.csv with encoding: ISO-8859-1\n",
      "Successfully loaded ../data/earning/2020_earnings.csv with encoding: ISO-8859-1\n",
      "Successfully loaded ../data/earning/2021_earnings.csv with encoding: ISO-8859-1\n",
      "Successfully loaded ../data/earning/2022_earnings.csv with encoding: ISO-8859-1\n",
      "Successfully loaded ../data/earning/2023_earnings.csv with encoding: ISO-8859-1\n"
     ]
    }
   ],
   "execution_count": 52
  },
  {
   "cell_type": "code",
   "id": "4c6f8d30a7dd7e53",
   "metadata": {
    "ExecuteTime": {
     "end_time": "2025-04-21T18:25:49.312514Z",
     "start_time": "2025-04-21T18:25:49.303487Z"
    }
   },
   "source": [
    "#print the data type of each column\n",
    "for year, df in dataframes.items():\n",
    "    print(f\"\\nData types for {year}:\")\n",
    "    print(df.dtypes)\n",
    "\n",
    "# display random 10 rows from 2023\n",
    "if 2012 in dataframes:\n",
    "    print(\"\\nSample data from 2021:\")\n",
    "    display(dataframes[2012].sample(10))"
   ],
   "outputs": [
    {
     "name": "stdout",
     "output_type": "stream",
     "text": [
      "\n",
      "Data types for 2011:\n",
      "ï»¿_id              int64\n",
      "Name               object\n",
      "Department Name    object\n",
      "Title              object\n",
      "Regular            object\n",
      "Retro              object\n",
      "Other              object\n",
      "Overtime           object\n",
      "Injured            object\n",
      "Detail             object\n",
      "Quinn              object\n",
      "Total Earnings     object\n",
      "Zip Code           object\n",
      "dtype: object\n",
      "\n",
      "Data types for 2012:\n",
      "ï»¿_id             int64\n",
      "NAME              object\n",
      "DEPARTMENT        object\n",
      "TITLE             object\n",
      "REGULAR           object\n",
      "RETRO             object\n",
      "OTHER             object\n",
      "OVERTIME          object\n",
      "INJURED           object\n",
      "DETAIL            object\n",
      "QUINN             object\n",
      "TOTAL EARNINGS    object\n",
      "ZIP               object\n",
      "dtype: object\n",
      "\n",
      "Data types for 2013:\n",
      "ï»¿_id             int64\n",
      "NAME              object\n",
      "TITLE             object\n",
      "DEPARTMENT        object\n",
      "REGULAR           object\n",
      "RETRO             object\n",
      "OTHER             object\n",
      "OVERTIME          object\n",
      "INJURED           object\n",
      "DETAIL            object\n",
      "QUINN             object\n",
      "TOTAL EARNINGS    object\n",
      "ZIP               object\n",
      "dtype: object\n",
      "\n",
      "Data types for 2014:\n",
      "NAME               object\n",
      "TITLE              object\n",
      "DEPARTMENT_NAME    object\n",
      "REGULAR            object\n",
      "RETRO              object\n",
      "OTHER              object\n",
      "OVERTIME           object\n",
      "INJURED            object\n",
      "DETAIL             object\n",
      "QUINN_EDUCATION    object\n",
      "TOTAL_GROSS        object\n",
      "POSTAL             object\n",
      "dtype: object\n",
      "\n",
      "Data types for 2015:\n",
      "NAME               object\n",
      "DEPARTMENT_NAME    object\n",
      "TITLE              object\n",
      "REGULAR            object\n",
      "RETRO              object\n",
      "OTHER              object\n",
      "OVERTIME           object\n",
      "INJURED            object\n",
      "DETAIL             object\n",
      "QUINN_EDUCATION    object\n",
      "TOTAL_GROSS        object\n",
      "POSTAL             object\n",
      "dtype: object\n",
      "\n",
      "Data types for 2016:\n",
      "NAME               object\n",
      "DEPARTMENT_NAME    object\n",
      "TITLE              object\n",
      "REGULAR            object\n",
      "RETRO              object\n",
      "OTHER              object\n",
      "OVERTIME           object\n",
      "INJURED            object\n",
      "DETAIL             object\n",
      "QUINN_EDUCATION    object\n",
      "TOTAL_GROSS        object\n",
      "POSTAL             object\n",
      "dtype: object\n",
      "\n",
      "Data types for 2017:\n",
      "NAME               object\n",
      "DEPARTMENT_NAME    object\n",
      "TITLE              object\n",
      "REGULAR            object\n",
      "RETRO              object\n",
      "OTHER              object\n",
      "OVERTIME           object\n",
      "INJURED            object\n",
      "DETAIL             object\n",
      "QUINN_EDUCATION    object\n",
      "TOTAL_GROSS        object\n",
      "POSTAL             object\n",
      "dtype: object\n",
      "\n",
      "Data types for 2018:\n",
      "NAME               object\n",
      "DEPARTMENT_NAME    object\n",
      "TITLE              object\n",
      "REGULAR            object\n",
      "RETRO              object\n",
      "OTHER              object\n",
      "OVERTIME           object\n",
      "INJURED            object\n",
      "DETAIL             object\n",
      "QUINN_EDUCATION    object\n",
      "TOTAL_GROSS        object\n",
      "POSTAL             object\n",
      "dtype: object\n",
      "\n",
      "Data types for 2019:\n",
      "NAME               object\n",
      "DEPARTMENT_NAME    object\n",
      "TITLE              object\n",
      "REGULAR            object\n",
      "RETRO              object\n",
      "OTHER              object\n",
      "OVERTIME           object\n",
      "INJURED            object\n",
      "DETAIL             object\n",
      "QUINN_EDUCATION    object\n",
      "TOTAL_GROSS        object\n",
      "POSTAL              int64\n",
      "dtype: object\n",
      "\n",
      "Data types for 2020:\n",
      "NAME               object\n",
      "DEPARTMENT_NAME    object\n",
      "TITLE              object\n",
      "REGULAR            object\n",
      "RETRO              object\n",
      "OTHER              object\n",
      "OVERTIME           object\n",
      "INJURED            object\n",
      "DETAIL             object\n",
      "QUINN_EDUCATION    object\n",
      "TOTAL_GROSS        object\n",
      "POSTAL             object\n",
      "dtype: object\n",
      "\n",
      "Data types for 2021:\n",
      "NAME               object\n",
      "DEPARTMENT_NAME    object\n",
      "TITLE              object\n",
      "REGULAR            object\n",
      "RETRO              object\n",
      "OTHER              object\n",
      "OVERTIME           object\n",
      "INJURED            object\n",
      "DETAIL             object\n",
      "QUINN_EDUCATION    object\n",
      "TOTAL_GROSS        object\n",
      "POSTAL             object\n",
      "dtype: object\n",
      "\n",
      "Data types for 2022:\n",
      "NAME               object\n",
      "DEPARTMENT_NAME    object\n",
      "TITLE              object\n",
      "REGULAR            object\n",
      "RETRO              object\n",
      "OTHER              object\n",
      "OVERTIME           object\n",
      "INJURED            object\n",
      "DETAIL             object\n",
      "QUINN_EDUCATION    object\n",
      "TOTAL_GROSS        object\n",
      "POSTAL             object\n",
      "dtype: object\n",
      "\n",
      "Data types for 2023:\n",
      "NAME               object\n",
      "DEPARTMENT_NAME    object\n",
      "TITLE              object\n",
      "REGULAR            object\n",
      "RETRO              object\n",
      "OTHER              object\n",
      "OVERTIME           object\n",
      "INJURED            object\n",
      "DETAIL             object\n",
      "QUINN_EDUCATION    object\n",
      "TOTAL_GROSS        object\n",
      "POSTAL             object\n",
      "dtype: object\n",
      "\n",
      "Sample data from 2021:\n"
     ]
    },
    {
     "data": {
      "text/plain": [
       "       ï»¿_id                       NAME                      DEPARTMENT  \\\n",
       "12194   12195                Syms,Joan E           Boston Public Schools   \n",
       "3635     3636  Thompson II,Anthony Vance       Transportation Department   \n",
       "13070   13071           Howland,Linda M.           Boston Public Schools   \n",
       "7064     7065           Humphrey,Edna M.        Boston Police Department   \n",
       "9069     9070    Jones-Carradine,Lynette           Boston Public Schools   \n",
       "2404     2405            Pineda,Lucia A.        Neighborhood Development   \n",
       "17161   17162               Warren,David           Boston Public Schools   \n",
       "16089   16090          MacLeod,Jessica M           Boston Public Schools   \n",
       "11484   11485           Ibiam,Okwukwe O.           Boston Public Schools   \n",
       "1003     1004              Petreyko,John  Boston Cntr - Youth & Families   \n",
       "\n",
       "                              TITLE     REGULAR    RETRO     OTHER OVERTIME  \\\n",
       "12194                       Teacher       $0.00    $0.00  $8511.27    $0.00   \n",
       "3635   Parking Meter Opr Person I##   $35904.27  $259.02   $994.65  $688.78   \n",
       "13070              Paraprofessional   $25802.02    $0.00     $0.00    $0.00   \n",
       "7064            School Traffic Supv   $10078.85   $81.47   $485.00    $0.00   \n",
       "9069   Sen Coordinator (C) (non-ac)  $102586.55    $0.00     $0.00    $0.00   \n",
       "2404    Sr Accts Payable Specialist       $0.00    $0.00  $1405.72    $0.00   \n",
       "17161              Paraprofessional   $34723.32    $0.00     $0.00    $0.00   \n",
       "16089                       Teacher   $90529.13    $0.00  $1072.24    $0.00   \n",
       "11484                       Teacher   $92511.84    $0.00     $0.00    $0.00   \n",
       "1003                   Youth Worker   $41696.33  $190.29     $0.00    $0.00   \n",
       "\n",
       "      INJURED DETAIL  QUINN TOTAL EARNINGS         ZIP  \n",
       "12194   $0.00  $0.00  $0.00       $8511.27  33705-4812  \n",
       "3635    $0.00  $0.00  $0.00      $37846.72  02124-1859  \n",
       "13070   $0.00  $0.00  $0.00      $25802.02  02125-3334  \n",
       "7064    $0.00  $0.00  $0.00      $10645.32  02136-6431  \n",
       "9069    $0.00  $0.00  $0.00     $102586.55  02124-5007  \n",
       "2404    $0.00  $0.00  $0.00       $1405.72  02125-1248  \n",
       "17161   $0.00  $0.00  $0.00      $34723.32  02115-3637  \n",
       "16089   $0.00  $0.00  $0.00      $91601.37  01844-2915  \n",
       "11484   $0.00  $0.00  $0.00      $92511.84  02368-5528  \n",
       "1003    $0.00  $0.00  $0.00      $41886.62  02136-2036  "
      ],
      "text/html": [
       "<div>\n",
       "<style scoped>\n",
       "    .dataframe tbody tr th:only-of-type {\n",
       "        vertical-align: middle;\n",
       "    }\n",
       "\n",
       "    .dataframe tbody tr th {\n",
       "        vertical-align: top;\n",
       "    }\n",
       "\n",
       "    .dataframe thead th {\n",
       "        text-align: right;\n",
       "    }\n",
       "</style>\n",
       "<table border=\"1\" class=\"dataframe\">\n",
       "  <thead>\n",
       "    <tr style=\"text-align: right;\">\n",
       "      <th></th>\n",
       "      <th>ï»¿_id</th>\n",
       "      <th>NAME</th>\n",
       "      <th>DEPARTMENT</th>\n",
       "      <th>TITLE</th>\n",
       "      <th>REGULAR</th>\n",
       "      <th>RETRO</th>\n",
       "      <th>OTHER</th>\n",
       "      <th>OVERTIME</th>\n",
       "      <th>INJURED</th>\n",
       "      <th>DETAIL</th>\n",
       "      <th>QUINN</th>\n",
       "      <th>TOTAL EARNINGS</th>\n",
       "      <th>ZIP</th>\n",
       "    </tr>\n",
       "  </thead>\n",
       "  <tbody>\n",
       "    <tr>\n",
       "      <th>12194</th>\n",
       "      <td>12195</td>\n",
       "      <td>Syms,Joan E</td>\n",
       "      <td>Boston Public Schools</td>\n",
       "      <td>Teacher</td>\n",
       "      <td>$0.00</td>\n",
       "      <td>$0.00</td>\n",
       "      <td>$8511.27</td>\n",
       "      <td>$0.00</td>\n",
       "      <td>$0.00</td>\n",
       "      <td>$0.00</td>\n",
       "      <td>$0.00</td>\n",
       "      <td>$8511.27</td>\n",
       "      <td>33705-4812</td>\n",
       "    </tr>\n",
       "    <tr>\n",
       "      <th>3635</th>\n",
       "      <td>3636</td>\n",
       "      <td>Thompson II,Anthony Vance</td>\n",
       "      <td>Transportation Department</td>\n",
       "      <td>Parking Meter Opr Person I##</td>\n",
       "      <td>$35904.27</td>\n",
       "      <td>$259.02</td>\n",
       "      <td>$994.65</td>\n",
       "      <td>$688.78</td>\n",
       "      <td>$0.00</td>\n",
       "      <td>$0.00</td>\n",
       "      <td>$0.00</td>\n",
       "      <td>$37846.72</td>\n",
       "      <td>02124-1859</td>\n",
       "    </tr>\n",
       "    <tr>\n",
       "      <th>13070</th>\n",
       "      <td>13071</td>\n",
       "      <td>Howland,Linda M.</td>\n",
       "      <td>Boston Public Schools</td>\n",
       "      <td>Paraprofessional</td>\n",
       "      <td>$25802.02</td>\n",
       "      <td>$0.00</td>\n",
       "      <td>$0.00</td>\n",
       "      <td>$0.00</td>\n",
       "      <td>$0.00</td>\n",
       "      <td>$0.00</td>\n",
       "      <td>$0.00</td>\n",
       "      <td>$25802.02</td>\n",
       "      <td>02125-3334</td>\n",
       "    </tr>\n",
       "    <tr>\n",
       "      <th>7064</th>\n",
       "      <td>7065</td>\n",
       "      <td>Humphrey,Edna M.</td>\n",
       "      <td>Boston Police Department</td>\n",
       "      <td>School Traffic Supv</td>\n",
       "      <td>$10078.85</td>\n",
       "      <td>$81.47</td>\n",
       "      <td>$485.00</td>\n",
       "      <td>$0.00</td>\n",
       "      <td>$0.00</td>\n",
       "      <td>$0.00</td>\n",
       "      <td>$0.00</td>\n",
       "      <td>$10645.32</td>\n",
       "      <td>02136-6431</td>\n",
       "    </tr>\n",
       "    <tr>\n",
       "      <th>9069</th>\n",
       "      <td>9070</td>\n",
       "      <td>Jones-Carradine,Lynette</td>\n",
       "      <td>Boston Public Schools</td>\n",
       "      <td>Sen Coordinator (C) (non-ac)</td>\n",
       "      <td>$102586.55</td>\n",
       "      <td>$0.00</td>\n",
       "      <td>$0.00</td>\n",
       "      <td>$0.00</td>\n",
       "      <td>$0.00</td>\n",
       "      <td>$0.00</td>\n",
       "      <td>$0.00</td>\n",
       "      <td>$102586.55</td>\n",
       "      <td>02124-5007</td>\n",
       "    </tr>\n",
       "    <tr>\n",
       "      <th>2404</th>\n",
       "      <td>2405</td>\n",
       "      <td>Pineda,Lucia A.</td>\n",
       "      <td>Neighborhood Development</td>\n",
       "      <td>Sr Accts Payable Specialist</td>\n",
       "      <td>$0.00</td>\n",
       "      <td>$0.00</td>\n",
       "      <td>$1405.72</td>\n",
       "      <td>$0.00</td>\n",
       "      <td>$0.00</td>\n",
       "      <td>$0.00</td>\n",
       "      <td>$0.00</td>\n",
       "      <td>$1405.72</td>\n",
       "      <td>02125-1248</td>\n",
       "    </tr>\n",
       "    <tr>\n",
       "      <th>17161</th>\n",
       "      <td>17162</td>\n",
       "      <td>Warren,David</td>\n",
       "      <td>Boston Public Schools</td>\n",
       "      <td>Paraprofessional</td>\n",
       "      <td>$34723.32</td>\n",
       "      <td>$0.00</td>\n",
       "      <td>$0.00</td>\n",
       "      <td>$0.00</td>\n",
       "      <td>$0.00</td>\n",
       "      <td>$0.00</td>\n",
       "      <td>$0.00</td>\n",
       "      <td>$34723.32</td>\n",
       "      <td>02115-3637</td>\n",
       "    </tr>\n",
       "    <tr>\n",
       "      <th>16089</th>\n",
       "      <td>16090</td>\n",
       "      <td>MacLeod,Jessica M</td>\n",
       "      <td>Boston Public Schools</td>\n",
       "      <td>Teacher</td>\n",
       "      <td>$90529.13</td>\n",
       "      <td>$0.00</td>\n",
       "      <td>$1072.24</td>\n",
       "      <td>$0.00</td>\n",
       "      <td>$0.00</td>\n",
       "      <td>$0.00</td>\n",
       "      <td>$0.00</td>\n",
       "      <td>$91601.37</td>\n",
       "      <td>01844-2915</td>\n",
       "    </tr>\n",
       "    <tr>\n",
       "      <th>11484</th>\n",
       "      <td>11485</td>\n",
       "      <td>Ibiam,Okwukwe O.</td>\n",
       "      <td>Boston Public Schools</td>\n",
       "      <td>Teacher</td>\n",
       "      <td>$92511.84</td>\n",
       "      <td>$0.00</td>\n",
       "      <td>$0.00</td>\n",
       "      <td>$0.00</td>\n",
       "      <td>$0.00</td>\n",
       "      <td>$0.00</td>\n",
       "      <td>$0.00</td>\n",
       "      <td>$92511.84</td>\n",
       "      <td>02368-5528</td>\n",
       "    </tr>\n",
       "    <tr>\n",
       "      <th>1003</th>\n",
       "      <td>1004</td>\n",
       "      <td>Petreyko,John</td>\n",
       "      <td>Boston Cntr - Youth &amp; Families</td>\n",
       "      <td>Youth Worker</td>\n",
       "      <td>$41696.33</td>\n",
       "      <td>$190.29</td>\n",
       "      <td>$0.00</td>\n",
       "      <td>$0.00</td>\n",
       "      <td>$0.00</td>\n",
       "      <td>$0.00</td>\n",
       "      <td>$0.00</td>\n",
       "      <td>$41886.62</td>\n",
       "      <td>02136-2036</td>\n",
       "    </tr>\n",
       "  </tbody>\n",
       "</table>\n",
       "</div>"
      ]
     },
     "metadata": {},
     "output_type": "display_data"
    }
   ],
   "execution_count": 53
  },
  {
   "cell_type": "code",
   "id": "9d87920a6c2b6381",
   "metadata": {
    "ExecuteTime": {
     "end_time": "2025-04-21T18:25:49.452709Z",
     "start_time": "2025-04-21T18:25:49.370012Z"
    }
   },
   "source": [
    "def unify_columns(df, year):\n",
    "    df = df.copy()\n",
    "\n",
    "    if '_id' in df.columns:\n",
    "        df = df.drop('_id', axis=1)\n",
    "\n",
    "    column_map = {\n",
    "        'Name': 'NAME',\n",
    "\n",
    "        'Department Name': 'DEPARTMENT_NAME',\n",
    "        'DEPARTMENT': 'DEPARTMENT_NAME',\n",
    "        'DEPARTMENT NAME': 'DEPARTMENT_NAME',\n",
    "\n",
    "        'Title': 'TITLE',\n",
    "\n",
    "        'Regular': 'REGULAR',\n",
    "\n",
    "        'Retro': 'RETRO',\n",
    "\n",
    "        'Other': 'OTHER',\n",
    "\n",
    "        'Overtime': 'OVERTIME',\n",
    "\n",
    "        'Injured': 'INJURED',\n",
    "\n",
    "        'Detail': 'DETAIL',\n",
    "        'DETAILS': 'DETAIL',\n",
    "\n",
    "        'Total Earnings': 'TOTAL_GROSS',\n",
    "        'TOTAL EARNINGS': 'TOTAL_GROSS',\n",
    "        ' TOTAL EARNINGS ': 'TOTAL_GROSS',\n",
    "        'TOTAL_ GROSS': 'TOTAL_GROSS',\n",
    "        'TOTAL GROSS': 'TOTAL_GROSS',\n",
    "        'TOTAL_GROSS': 'TOTAL_GROSS',\n",
    "\n",
    "        'Quinn': 'QUINN_EDUCATION',\n",
    "        'QUINN': 'QUINN_EDUCATION',\n",
    "        'QUINN/EDUCATION INCENTIVE': 'QUINN_EDUCATION',\n",
    "        ' QUINN/EDUCATION INCENTIVE ': 'QUINN_EDUCATION',\n",
    "        ' QUINN / EDUCATION INCENTIVE ': 'QUINN_EDUCATION',\n",
    "        'QUINN_EDUCATION_INCENTIVE': 'QUINN_EDUCATION',\n",
    "\n",
    "        'Zip Code': 'POSTAL',\n",
    "        'ZIP': 'POSTAL',\n",
    "\n",
    "        ' REGULAR ': 'REGULAR',\n",
    "        ' RETRO ': 'RETRO',\n",
    "        ' OTHER ': 'OTHER',\n",
    "        ' OVERTIME ': 'OVERTIME',\n",
    "        ' INJURED ': 'INJURED',\n",
    "        ' DETAIL ': 'DETAIL'\n",
    "    }\n",
    "\n",
    "    df = df.rename(columns=column_map)\n",
    "\n",
    "    standard_columns = [\n",
    "        'NAME',\n",
    "        'DEPARTMENT_NAME',\n",
    "        'TITLE',\n",
    "        'REGULAR',\n",
    "        'RETRO',\n",
    "        'OTHER',\n",
    "        'OVERTIME',\n",
    "        'INJURED',\n",
    "        'DETAIL',\n",
    "        'QUINN_EDUCATION',\n",
    "        'TOTAL_GROSS',\n",
    "        'POSTAL'\n",
    "    ]\n",
    "\n",
    "    for col in standard_columns:\n",
    "        if col not in df.columns:\n",
    "            df[col] = pd.NA\n",
    "\n",
    "    df = df[standard_columns]\n",
    "\n",
    "    return df\n",
    "\n",
    "unified_dataframes = {}\n",
    "for year, df in dataframes.items():\n",
    "    try:\n",
    "        unified_df = unify_columns(df, year)\n",
    "        unified_dataframes[year] = unified_df\n",
    "        print(f\"Successfully unified columns for year {year}\")\n",
    "    except Exception as e:\n",
    "        print(f\"Error unifying columns for year {year}: {e}\")\n",
    "\n",
    "\n",
    "columns_set = set(unified_dataframes[2011].columns)\n",
    "for year, df in unified_dataframes.items():\n",
    "    if set(df.columns) != columns_set:\n",
    "        print(f\"Column mismatch for year {year}\")\n",
    "    else:\n",
    "        print(f\"Columns match for year {year}\")"
   ],
   "outputs": [
    {
     "name": "stdout",
     "output_type": "stream",
     "text": [
      "Successfully unified columns for year 2011\n",
      "Successfully unified columns for year 2012\n",
      "Successfully unified columns for year 2013\n",
      "Successfully unified columns for year 2014\n",
      "Successfully unified columns for year 2015\n",
      "Successfully unified columns for year 2016\n",
      "Successfully unified columns for year 2017\n",
      "Successfully unified columns for year 2018\n",
      "Successfully unified columns for year 2019\n",
      "Successfully unified columns for year 2020\n",
      "Successfully unified columns for year 2021\n",
      "Successfully unified columns for year 2022\n",
      "Successfully unified columns for year 2023\n",
      "Columns match for year 2011\n",
      "Columns match for year 2012\n",
      "Columns match for year 2013\n",
      "Columns match for year 2014\n",
      "Columns match for year 2015\n",
      "Columns match for year 2016\n",
      "Columns match for year 2017\n",
      "Columns match for year 2018\n",
      "Columns match for year 2019\n",
      "Columns match for year 2020\n",
      "Columns match for year 2021\n",
      "Columns match for year 2022\n",
      "Columns match for year 2023\n"
     ]
    }
   ],
   "execution_count": 54
  },
  {
   "cell_type": "code",
   "id": "f75e3a250aa3b0da",
   "metadata": {
    "ExecuteTime": {
     "end_time": "2025-04-21T18:25:50.939841Z",
     "start_time": "2025-04-21T18:25:49.505801Z"
    }
   },
   "source": [
    "object_columns = ['REGULAR','RETRO','OTHER','OVERTIME','INJURED','DETAIL','QUINN_EDUCATION','TOTAL_GROSS',]\n",
    "\n",
    "for year, df in unified_dataframes.items():\n",
    "    for col in object_columns:\n",
    "        if df[col].dtype == 'object':\n",
    "            df[col] = pd.to_numeric(df[col].astype(str).str.replace('[$,]', '', regex=True), errors='coerce')\n",
    "\n",
    "display(unified_dataframes[2012].sample(10))"
   ],
   "outputs": [
    {
     "data": {
      "text/plain": [
       "                           NAME                 DEPARTMENT_NAME  \\\n",
       "11892            Yanni,Annirene           Boston Public Schools   \n",
       "17766  Bayer,Dara Kwayera Imani           Boston Public Schools   \n",
       "993             Jackson,Kenneth  Boston Cntr - Youth & Families   \n",
       "4556          Espinosa,Arthur D          Boston Fire Department   \n",
       "5316           Ordonez,Philip T          Boston Fire Department   \n",
       "5946         Broderick,Miriam N        Boston Police Department   \n",
       "9941                Mauro,Mario           Boston Public Schools   \n",
       "14707             Dean,Dorris E           Boston Public Schools   \n",
       "20711           O'Rourke,Jane F           Boston Public Schools   \n",
       "1200               Kyi,David T.           Boston Public Library   \n",
       "\n",
       "                        TITLE   REGULAR   RETRO    OTHER  OVERTIME  INJURED  \\\n",
       "11892                 Teacher  92915.37    0.00     0.00      0.00      0.0   \n",
       "17766                 Teacher  54183.59    0.00   750.00      0.00      0.0   \n",
       "993              Youth Worker  33861.84  153.51     0.00     28.23      0.0   \n",
       "4556             Fire Fighter  88747.73    0.00  2153.41  20652.27      0.0   \n",
       "5316             Fire Fighter  88959.37    0.00  2157.24  13221.18      0.0   \n",
       "5946   Head Clerk & Secretary      0.00    0.00  1052.81      0.00      0.0   \n",
       "9941                  Teacher  83545.32    0.00     0.00      0.00      0.0   \n",
       "14707        Paraprofessional  28951.34    0.00     0.00      0.00      0.0   \n",
       "20711   Sub Teacher - Retiree  16174.41    0.00  1000.00      0.00      0.0   \n",
       "1200             Library Aide   8276.00    0.00     0.00      0.00      0.0   \n",
       "\n",
       "        DETAIL  QUINN_EDUCATION  TOTAL_GROSS      POSTAL  \n",
       "11892      0.0              0.0     92915.37  01040-9513  \n",
       "17766      0.0              0.0     54933.59  02124-1333  \n",
       "993        0.0              0.0     34043.58  02121-3829  \n",
       "4556       0.0              0.0    111553.41  02093-1253  \n",
       "5316   17730.0              0.0    122067.79  02124-4929  \n",
       "5946       0.0              0.0      1052.81  02136-3346  \n",
       "9941       0.0              0.0     83545.32  04027-3048  \n",
       "14707      0.0              0.0     28951.34  02121-1620  \n",
       "20711      0.0              0.0     17174.41  02090-1220  \n",
       "1200       0.0              0.0      8276.00  02120-3446  "
      ],
      "text/html": [
       "<div>\n",
       "<style scoped>\n",
       "    .dataframe tbody tr th:only-of-type {\n",
       "        vertical-align: middle;\n",
       "    }\n",
       "\n",
       "    .dataframe tbody tr th {\n",
       "        vertical-align: top;\n",
       "    }\n",
       "\n",
       "    .dataframe thead th {\n",
       "        text-align: right;\n",
       "    }\n",
       "</style>\n",
       "<table border=\"1\" class=\"dataframe\">\n",
       "  <thead>\n",
       "    <tr style=\"text-align: right;\">\n",
       "      <th></th>\n",
       "      <th>NAME</th>\n",
       "      <th>DEPARTMENT_NAME</th>\n",
       "      <th>TITLE</th>\n",
       "      <th>REGULAR</th>\n",
       "      <th>RETRO</th>\n",
       "      <th>OTHER</th>\n",
       "      <th>OVERTIME</th>\n",
       "      <th>INJURED</th>\n",
       "      <th>DETAIL</th>\n",
       "      <th>QUINN_EDUCATION</th>\n",
       "      <th>TOTAL_GROSS</th>\n",
       "      <th>POSTAL</th>\n",
       "    </tr>\n",
       "  </thead>\n",
       "  <tbody>\n",
       "    <tr>\n",
       "      <th>11892</th>\n",
       "      <td>Yanni,Annirene</td>\n",
       "      <td>Boston Public Schools</td>\n",
       "      <td>Teacher</td>\n",
       "      <td>92915.37</td>\n",
       "      <td>0.00</td>\n",
       "      <td>0.00</td>\n",
       "      <td>0.00</td>\n",
       "      <td>0.0</td>\n",
       "      <td>0.0</td>\n",
       "      <td>0.0</td>\n",
       "      <td>92915.37</td>\n",
       "      <td>01040-9513</td>\n",
       "    </tr>\n",
       "    <tr>\n",
       "      <th>17766</th>\n",
       "      <td>Bayer,Dara Kwayera Imani</td>\n",
       "      <td>Boston Public Schools</td>\n",
       "      <td>Teacher</td>\n",
       "      <td>54183.59</td>\n",
       "      <td>0.00</td>\n",
       "      <td>750.00</td>\n",
       "      <td>0.00</td>\n",
       "      <td>0.0</td>\n",
       "      <td>0.0</td>\n",
       "      <td>0.0</td>\n",
       "      <td>54933.59</td>\n",
       "      <td>02124-1333</td>\n",
       "    </tr>\n",
       "    <tr>\n",
       "      <th>993</th>\n",
       "      <td>Jackson,Kenneth</td>\n",
       "      <td>Boston Cntr - Youth &amp; Families</td>\n",
       "      <td>Youth Worker</td>\n",
       "      <td>33861.84</td>\n",
       "      <td>153.51</td>\n",
       "      <td>0.00</td>\n",
       "      <td>28.23</td>\n",
       "      <td>0.0</td>\n",
       "      <td>0.0</td>\n",
       "      <td>0.0</td>\n",
       "      <td>34043.58</td>\n",
       "      <td>02121-3829</td>\n",
       "    </tr>\n",
       "    <tr>\n",
       "      <th>4556</th>\n",
       "      <td>Espinosa,Arthur D</td>\n",
       "      <td>Boston Fire Department</td>\n",
       "      <td>Fire Fighter</td>\n",
       "      <td>88747.73</td>\n",
       "      <td>0.00</td>\n",
       "      <td>2153.41</td>\n",
       "      <td>20652.27</td>\n",
       "      <td>0.0</td>\n",
       "      <td>0.0</td>\n",
       "      <td>0.0</td>\n",
       "      <td>111553.41</td>\n",
       "      <td>02093-1253</td>\n",
       "    </tr>\n",
       "    <tr>\n",
       "      <th>5316</th>\n",
       "      <td>Ordonez,Philip T</td>\n",
       "      <td>Boston Fire Department</td>\n",
       "      <td>Fire Fighter</td>\n",
       "      <td>88959.37</td>\n",
       "      <td>0.00</td>\n",
       "      <td>2157.24</td>\n",
       "      <td>13221.18</td>\n",
       "      <td>0.0</td>\n",
       "      <td>17730.0</td>\n",
       "      <td>0.0</td>\n",
       "      <td>122067.79</td>\n",
       "      <td>02124-4929</td>\n",
       "    </tr>\n",
       "    <tr>\n",
       "      <th>5946</th>\n",
       "      <td>Broderick,Miriam N</td>\n",
       "      <td>Boston Police Department</td>\n",
       "      <td>Head Clerk &amp; Secretary</td>\n",
       "      <td>0.00</td>\n",
       "      <td>0.00</td>\n",
       "      <td>1052.81</td>\n",
       "      <td>0.00</td>\n",
       "      <td>0.0</td>\n",
       "      <td>0.0</td>\n",
       "      <td>0.0</td>\n",
       "      <td>1052.81</td>\n",
       "      <td>02136-3346</td>\n",
       "    </tr>\n",
       "    <tr>\n",
       "      <th>9941</th>\n",
       "      <td>Mauro,Mario</td>\n",
       "      <td>Boston Public Schools</td>\n",
       "      <td>Teacher</td>\n",
       "      <td>83545.32</td>\n",
       "      <td>0.00</td>\n",
       "      <td>0.00</td>\n",
       "      <td>0.00</td>\n",
       "      <td>0.0</td>\n",
       "      <td>0.0</td>\n",
       "      <td>0.0</td>\n",
       "      <td>83545.32</td>\n",
       "      <td>04027-3048</td>\n",
       "    </tr>\n",
       "    <tr>\n",
       "      <th>14707</th>\n",
       "      <td>Dean,Dorris E</td>\n",
       "      <td>Boston Public Schools</td>\n",
       "      <td>Paraprofessional</td>\n",
       "      <td>28951.34</td>\n",
       "      <td>0.00</td>\n",
       "      <td>0.00</td>\n",
       "      <td>0.00</td>\n",
       "      <td>0.0</td>\n",
       "      <td>0.0</td>\n",
       "      <td>0.0</td>\n",
       "      <td>28951.34</td>\n",
       "      <td>02121-1620</td>\n",
       "    </tr>\n",
       "    <tr>\n",
       "      <th>20711</th>\n",
       "      <td>O'Rourke,Jane F</td>\n",
       "      <td>Boston Public Schools</td>\n",
       "      <td>Sub Teacher - Retiree</td>\n",
       "      <td>16174.41</td>\n",
       "      <td>0.00</td>\n",
       "      <td>1000.00</td>\n",
       "      <td>0.00</td>\n",
       "      <td>0.0</td>\n",
       "      <td>0.0</td>\n",
       "      <td>0.0</td>\n",
       "      <td>17174.41</td>\n",
       "      <td>02090-1220</td>\n",
       "    </tr>\n",
       "    <tr>\n",
       "      <th>1200</th>\n",
       "      <td>Kyi,David T.</td>\n",
       "      <td>Boston Public Library</td>\n",
       "      <td>Library Aide</td>\n",
       "      <td>8276.00</td>\n",
       "      <td>0.00</td>\n",
       "      <td>0.00</td>\n",
       "      <td>0.00</td>\n",
       "      <td>0.0</td>\n",
       "      <td>0.0</td>\n",
       "      <td>0.0</td>\n",
       "      <td>8276.00</td>\n",
       "      <td>02120-3446</td>\n",
       "    </tr>\n",
       "  </tbody>\n",
       "</table>\n",
       "</div>"
      ]
     },
     "metadata": {},
     "output_type": "display_data"
    }
   ],
   "execution_count": 55
  },
  {
   "cell_type": "code",
   "id": "b57a471cacc3cc45",
   "metadata": {
    "ExecuteTime": {
     "end_time": "2025-04-21T18:25:51.001884Z",
     "start_time": "2025-04-21T18:25:50.996776Z"
    }
   },
   "source": [
    "print(\"Unified column names:\")\n",
    "print(unified_dataframes[2011].columns.tolist())\n",
    "for year, df in unified_dataframes.items():\n",
    "    print(f\"\\nData types for {year}:\")\n",
    "    print(df.dtypes)"
   ],
   "outputs": [
    {
     "name": "stdout",
     "output_type": "stream",
     "text": [
      "Unified column names:\n",
      "['NAME', 'DEPARTMENT_NAME', 'TITLE', 'REGULAR', 'RETRO', 'OTHER', 'OVERTIME', 'INJURED', 'DETAIL', 'QUINN_EDUCATION', 'TOTAL_GROSS', 'POSTAL']\n",
      "\n",
      "Data types for 2011:\n",
      "NAME                object\n",
      "DEPARTMENT_NAME     object\n",
      "TITLE               object\n",
      "REGULAR            float64\n",
      "RETRO              float64\n",
      "OTHER              float64\n",
      "OVERTIME           float64\n",
      "INJURED            float64\n",
      "DETAIL             float64\n",
      "QUINN_EDUCATION    float64\n",
      "TOTAL_GROSS        float64\n",
      "POSTAL              object\n",
      "dtype: object\n",
      "\n",
      "Data types for 2012:\n",
      "NAME                object\n",
      "DEPARTMENT_NAME     object\n",
      "TITLE               object\n",
      "REGULAR            float64\n",
      "RETRO              float64\n",
      "OTHER              float64\n",
      "OVERTIME           float64\n",
      "INJURED            float64\n",
      "DETAIL             float64\n",
      "QUINN_EDUCATION    float64\n",
      "TOTAL_GROSS        float64\n",
      "POSTAL              object\n",
      "dtype: object\n",
      "\n",
      "Data types for 2013:\n",
      "NAME                object\n",
      "DEPARTMENT_NAME     object\n",
      "TITLE               object\n",
      "REGULAR            float64\n",
      "RETRO              float64\n",
      "OTHER              float64\n",
      "OVERTIME           float64\n",
      "INJURED            float64\n",
      "DETAIL             float64\n",
      "QUINN_EDUCATION    float64\n",
      "TOTAL_GROSS        float64\n",
      "POSTAL              object\n",
      "dtype: object\n",
      "\n",
      "Data types for 2014:\n",
      "NAME                object\n",
      "DEPARTMENT_NAME     object\n",
      "TITLE               object\n",
      "REGULAR            float64\n",
      "RETRO              float64\n",
      "OTHER              float64\n",
      "OVERTIME           float64\n",
      "INJURED            float64\n",
      "DETAIL             float64\n",
      "QUINN_EDUCATION    float64\n",
      "TOTAL_GROSS        float64\n",
      "POSTAL              object\n",
      "dtype: object\n",
      "\n",
      "Data types for 2015:\n",
      "NAME                object\n",
      "DEPARTMENT_NAME     object\n",
      "TITLE               object\n",
      "REGULAR            float64\n",
      "RETRO              float64\n",
      "OTHER              float64\n",
      "OVERTIME           float64\n",
      "INJURED            float64\n",
      "DETAIL             float64\n",
      "QUINN_EDUCATION    float64\n",
      "TOTAL_GROSS        float64\n",
      "POSTAL              object\n",
      "dtype: object\n",
      "\n",
      "Data types for 2016:\n",
      "NAME                object\n",
      "DEPARTMENT_NAME     object\n",
      "TITLE               object\n",
      "REGULAR            float64\n",
      "RETRO              float64\n",
      "OTHER              float64\n",
      "OVERTIME           float64\n",
      "INJURED            float64\n",
      "DETAIL             float64\n",
      "QUINN_EDUCATION    float64\n",
      "TOTAL_GROSS        float64\n",
      "POSTAL              object\n",
      "dtype: object\n",
      "\n",
      "Data types for 2017:\n",
      "NAME                object\n",
      "DEPARTMENT_NAME     object\n",
      "TITLE               object\n",
      "REGULAR            float64\n",
      "RETRO              float64\n",
      "OTHER              float64\n",
      "OVERTIME           float64\n",
      "INJURED            float64\n",
      "DETAIL             float64\n",
      "QUINN_EDUCATION    float64\n",
      "TOTAL_GROSS        float64\n",
      "POSTAL              object\n",
      "dtype: object\n",
      "\n",
      "Data types for 2018:\n",
      "NAME                object\n",
      "DEPARTMENT_NAME     object\n",
      "TITLE               object\n",
      "REGULAR            float64\n",
      "RETRO              float64\n",
      "OTHER              float64\n",
      "OVERTIME           float64\n",
      "INJURED            float64\n",
      "DETAIL             float64\n",
      "QUINN_EDUCATION    float64\n",
      "TOTAL_GROSS        float64\n",
      "POSTAL              object\n",
      "dtype: object\n",
      "\n",
      "Data types for 2019:\n",
      "NAME                object\n",
      "DEPARTMENT_NAME     object\n",
      "TITLE               object\n",
      "REGULAR            float64\n",
      "RETRO              float64\n",
      "OTHER              float64\n",
      "OVERTIME           float64\n",
      "INJURED            float64\n",
      "DETAIL             float64\n",
      "QUINN_EDUCATION    float64\n",
      "TOTAL_GROSS        float64\n",
      "POSTAL               int64\n",
      "dtype: object\n",
      "\n",
      "Data types for 2020:\n",
      "NAME                object\n",
      "DEPARTMENT_NAME     object\n",
      "TITLE               object\n",
      "REGULAR            float64\n",
      "RETRO              float64\n",
      "OTHER              float64\n",
      "OVERTIME           float64\n",
      "INJURED            float64\n",
      "DETAIL             float64\n",
      "QUINN_EDUCATION    float64\n",
      "TOTAL_GROSS        float64\n",
      "POSTAL              object\n",
      "dtype: object\n",
      "\n",
      "Data types for 2021:\n",
      "NAME                object\n",
      "DEPARTMENT_NAME     object\n",
      "TITLE               object\n",
      "REGULAR            float64\n",
      "RETRO              float64\n",
      "OTHER              float64\n",
      "OVERTIME           float64\n",
      "INJURED            float64\n",
      "DETAIL             float64\n",
      "QUINN_EDUCATION    float64\n",
      "TOTAL_GROSS        float64\n",
      "POSTAL              object\n",
      "dtype: object\n",
      "\n",
      "Data types for 2022:\n",
      "NAME                object\n",
      "DEPARTMENT_NAME     object\n",
      "TITLE               object\n",
      "REGULAR            float64\n",
      "RETRO              float64\n",
      "OTHER              float64\n",
      "OVERTIME           float64\n",
      "INJURED            float64\n",
      "DETAIL             float64\n",
      "QUINN_EDUCATION    float64\n",
      "TOTAL_GROSS        float64\n",
      "POSTAL              object\n",
      "dtype: object\n",
      "\n",
      "Data types for 2023:\n",
      "NAME                object\n",
      "DEPARTMENT_NAME     object\n",
      "TITLE               object\n",
      "REGULAR            float64\n",
      "RETRO              float64\n",
      "OTHER              float64\n",
      "OVERTIME           float64\n",
      "INJURED            float64\n",
      "DETAIL             float64\n",
      "QUINN_EDUCATION    float64\n",
      "TOTAL_GROSS        float64\n",
      "POSTAL              object\n",
      "dtype: object\n"
     ]
    }
   ],
   "execution_count": 56
  },
  {
   "cell_type": "code",
   "id": "1888dc2081ce0002",
   "metadata": {
    "ExecuteTime": {
     "end_time": "2025-04-21T18:25:51.098764Z",
     "start_time": "2025-04-21T18:25:51.060749Z"
    }
   },
   "source": [
    "#get the unique values in the DEPARTMENT_NAME column\n",
    "for year, df in unified_dataframes.items():\n",
    "    unique_departments = df['DEPARTMENT_NAME'].unique()\n",
    "\n",
    "#get the DEPARTMENT_NAME that appears in every year\n",
    "    common_departments = set(unique_departments)\n",
    "    if year == 2011:\n",
    "        common_departments = set(unique_departments)\n",
    "    else:\n",
    "        common_departments.intersection_update(unique_departments)\n",
    "\n",
    "#for each year, based on the unique values in the DEPARTMENT_NAME column, compute the sum of the TOTAL_GROSS and OVERTIME columns, then store the result in a new dataframe set, with the year as the key\n",
    "department_summaries = {}\n",
    "for year, df in unified_dataframes.items():\n",
    "    department_summary = df.groupby('DEPARTMENT_NAME')[['TOTAL_GROSS', 'OVERTIME']].sum().reset_index()\n",
    "    department_summaries[year] = department_summary\n",
    "\n",
    "\n",
    "display(department_summaries[2012].sample(10))\n"
   ],
   "outputs": [
    {
     "data": {
      "text/plain": [
       "                 DEPARTMENT_NAME  TOTAL_GROSS   OVERTIME\n",
       "44  Treasury-Collecting Division   1452961.95   21439.38\n",
       "21            Elderly Commission   3394629.24   11681.05\n",
       "3   ASD Office of Budget Mangmnt   1862797.49   14299.45\n",
       "24            Finance Commission    178858.43       0.00\n",
       "30      Neighborhood Development  11601082.42       0.00\n",
       "42     Transportation Department  17155235.10  901261.78\n",
       "4        ASD Purchasing Division   1558046.38   19186.49\n",
       "1    ASD Intergvernmtl Relations    769293.11       0.00\n",
       "45    Treasury-Treasury Division   2069288.37   22886.86\n",
       "8            Auditing Department   2736767.35  102689.59"
      ],
      "text/html": [
       "<div>\n",
       "<style scoped>\n",
       "    .dataframe tbody tr th:only-of-type {\n",
       "        vertical-align: middle;\n",
       "    }\n",
       "\n",
       "    .dataframe tbody tr th {\n",
       "        vertical-align: top;\n",
       "    }\n",
       "\n",
       "    .dataframe thead th {\n",
       "        text-align: right;\n",
       "    }\n",
       "</style>\n",
       "<table border=\"1\" class=\"dataframe\">\n",
       "  <thead>\n",
       "    <tr style=\"text-align: right;\">\n",
       "      <th></th>\n",
       "      <th>DEPARTMENT_NAME</th>\n",
       "      <th>TOTAL_GROSS</th>\n",
       "      <th>OVERTIME</th>\n",
       "    </tr>\n",
       "  </thead>\n",
       "  <tbody>\n",
       "    <tr>\n",
       "      <th>44</th>\n",
       "      <td>Treasury-Collecting Division</td>\n",
       "      <td>1452961.95</td>\n",
       "      <td>21439.38</td>\n",
       "    </tr>\n",
       "    <tr>\n",
       "      <th>21</th>\n",
       "      <td>Elderly Commission</td>\n",
       "      <td>3394629.24</td>\n",
       "      <td>11681.05</td>\n",
       "    </tr>\n",
       "    <tr>\n",
       "      <th>3</th>\n",
       "      <td>ASD Office of Budget Mangmnt</td>\n",
       "      <td>1862797.49</td>\n",
       "      <td>14299.45</td>\n",
       "    </tr>\n",
       "    <tr>\n",
       "      <th>24</th>\n",
       "      <td>Finance Commission</td>\n",
       "      <td>178858.43</td>\n",
       "      <td>0.00</td>\n",
       "    </tr>\n",
       "    <tr>\n",
       "      <th>30</th>\n",
       "      <td>Neighborhood Development</td>\n",
       "      <td>11601082.42</td>\n",
       "      <td>0.00</td>\n",
       "    </tr>\n",
       "    <tr>\n",
       "      <th>42</th>\n",
       "      <td>Transportation Department</td>\n",
       "      <td>17155235.10</td>\n",
       "      <td>901261.78</td>\n",
       "    </tr>\n",
       "    <tr>\n",
       "      <th>4</th>\n",
       "      <td>ASD Purchasing Division</td>\n",
       "      <td>1558046.38</td>\n",
       "      <td>19186.49</td>\n",
       "    </tr>\n",
       "    <tr>\n",
       "      <th>1</th>\n",
       "      <td>ASD Intergvernmtl Relations</td>\n",
       "      <td>769293.11</td>\n",
       "      <td>0.00</td>\n",
       "    </tr>\n",
       "    <tr>\n",
       "      <th>45</th>\n",
       "      <td>Treasury-Treasury Division</td>\n",
       "      <td>2069288.37</td>\n",
       "      <td>22886.86</td>\n",
       "    </tr>\n",
       "    <tr>\n",
       "      <th>8</th>\n",
       "      <td>Auditing Department</td>\n",
       "      <td>2736767.35</td>\n",
       "      <td>102689.59</td>\n",
       "    </tr>\n",
       "  </tbody>\n",
       "</table>\n",
       "</div>"
      ]
     },
     "metadata": {},
     "output_type": "display_data"
    }
   ],
   "execution_count": 57
  },
  {
   "cell_type": "code",
   "id": "ac4ba3e0af76f064",
   "metadata": {
    "ExecuteTime": {
     "end_time": "2025-04-21T18:25:51.187869Z",
     "start_time": "2025-04-21T18:25:51.153109Z"
    }
   },
   "source": [
    "# In each year, keep the five departments with the most overtime pay\n",
    "top_departments = {}\n",
    "for year, df in department_summaries.items():\n",
    "    # Changed from 50 to 5 to match the actual requirement\n",
    "    top_departments[year] = df.nlargest(5, 'OVERTIME')['DEPARTMENT_NAME'].tolist()\n",
    "\n",
    "# Create a DataFrame to store the data for the top 5 departments in each year\n",
    "top_department_data = {}\n",
    "for year, df in department_summaries.items():\n",
    "    top_dept = top_departments[year]\n",
    "    # Filter to only include departments in the top 5 for the current year\n",
    "    top_department_data[year] = df[df['DEPARTMENT_NAME'].isin(top_dept)]\n",
    "\n",
    "# Find departments that appear in the top 5 every year\n",
    "# Start with the departments from the first year\n",
    "first_year = min(top_department_data.keys())\n",
    "common_departments = set(top_departments[first_year])\n",
    "\n",
    "# Find the intersection of departments across all years\n",
    "for year in top_departments:\n",
    "    if year != first_year:  # Skip the first year since we already used it\n",
    "        common_departments = common_departments.intersection(set(top_departments[year]))\n",
    "\n",
    "print(f\"Departments in top 5 for overtime in every year: {common_departments}\")\n",
    "\n",
    "# Filter top_department_data to only include common departments\n",
    "for year, df in top_department_data.items():\n",
    "    top_department_data[year] = df[df['DEPARTMENT_NAME'].isin(common_departments)]\n",
    "\n",
    "# Create a DataFrame for each department\n",
    "department_dataframes = {}\n",
    "for dept in common_departments:\n",
    "    # Initialize an empty list to store data for this department\n",
    "    dept_data = []\n",
    "\n",
    "    # Collect data for this department across all years\n",
    "    for year, df in top_department_data.items():\n",
    "        # Get the row for this department in this year\n",
    "        dept_row = df[df['DEPARTMENT_NAME'] == dept]\n",
    "\n",
    "        if not dept_row.empty:\n",
    "            # Add year as a column and append to the department's data\n",
    "            dept_row = dept_row.copy()\n",
    "            dept_row['YEAR'] = year\n",
    "            dept_data.append(dept_row)\n",
    "\n",
    "    # Concatenate all years' data for this department into a single DataFrame\n",
    "    if dept_data:\n",
    "        department_dataframes[dept] = pd.concat(dept_data, ignore_index=True)\n",
    "\n",
    "# Display the department DataFrames\n",
    "for dept, df in department_dataframes.items():\n",
    "    print(f\"\\nDataFrame for {dept}:\")\n",
    "    display(df)"
   ],
   "outputs": [
    {
     "name": "stdout",
     "output_type": "stream",
     "text": [
      "Departments in top 5 for overtime in every year: {'Boston Fire Department', 'Property Management', 'Boston Police Department', 'Public Works Department'}\n",
      "\n",
      "DataFrame for Boston Fire Department:\n"
     ]
    },
    {
     "data": {
      "text/plain": [
       "           DEPARTMENT_NAME   TOTAL_GROSS     OVERTIME  YEAR\n",
       "0   Boston Fire Department  1.731703e+08  20940928.99  2011\n",
       "1   Boston Fire Department  1.791011e+08  21408244.96  2012\n",
       "2   Boston Fire Department  1.778649e+08  20388822.87  2013\n",
       "3   Boston Fire Department  2.097233e+08  21318731.45  2014\n",
       "4   Boston Fire Department  2.094536e+08  24815833.23  2015\n",
       "5   Boston Fire Department  2.114572e+08  23762982.32  2016\n",
       "6   Boston Fire Department  2.151573e+08  22829249.92  2017\n",
       "7   Boston Fire Department  2.199342e+08  23679890.59  2018\n",
       "8   Boston Fire Department  2.655112e+08  30274873.99  2019\n",
       "9   Boston Fire Department  2.642356e+08  33761132.79  2020\n",
       "10  Boston Fire Department  2.698774e+08  40043057.77  2021\n",
       "11  Boston Fire Department  2.780314e+08  42902465.65  2022\n",
       "12  Boston Fire Department  2.812171e+08  41462203.91  2023"
      ],
      "text/html": [
       "<div>\n",
       "<style scoped>\n",
       "    .dataframe tbody tr th:only-of-type {\n",
       "        vertical-align: middle;\n",
       "    }\n",
       "\n",
       "    .dataframe tbody tr th {\n",
       "        vertical-align: top;\n",
       "    }\n",
       "\n",
       "    .dataframe thead th {\n",
       "        text-align: right;\n",
       "    }\n",
       "</style>\n",
       "<table border=\"1\" class=\"dataframe\">\n",
       "  <thead>\n",
       "    <tr style=\"text-align: right;\">\n",
       "      <th></th>\n",
       "      <th>DEPARTMENT_NAME</th>\n",
       "      <th>TOTAL_GROSS</th>\n",
       "      <th>OVERTIME</th>\n",
       "      <th>YEAR</th>\n",
       "    </tr>\n",
       "  </thead>\n",
       "  <tbody>\n",
       "    <tr>\n",
       "      <th>0</th>\n",
       "      <td>Boston Fire Department</td>\n",
       "      <td>1.731703e+08</td>\n",
       "      <td>20940928.99</td>\n",
       "      <td>2011</td>\n",
       "    </tr>\n",
       "    <tr>\n",
       "      <th>1</th>\n",
       "      <td>Boston Fire Department</td>\n",
       "      <td>1.791011e+08</td>\n",
       "      <td>21408244.96</td>\n",
       "      <td>2012</td>\n",
       "    </tr>\n",
       "    <tr>\n",
       "      <th>2</th>\n",
       "      <td>Boston Fire Department</td>\n",
       "      <td>1.778649e+08</td>\n",
       "      <td>20388822.87</td>\n",
       "      <td>2013</td>\n",
       "    </tr>\n",
       "    <tr>\n",
       "      <th>3</th>\n",
       "      <td>Boston Fire Department</td>\n",
       "      <td>2.097233e+08</td>\n",
       "      <td>21318731.45</td>\n",
       "      <td>2014</td>\n",
       "    </tr>\n",
       "    <tr>\n",
       "      <th>4</th>\n",
       "      <td>Boston Fire Department</td>\n",
       "      <td>2.094536e+08</td>\n",
       "      <td>24815833.23</td>\n",
       "      <td>2015</td>\n",
       "    </tr>\n",
       "    <tr>\n",
       "      <th>5</th>\n",
       "      <td>Boston Fire Department</td>\n",
       "      <td>2.114572e+08</td>\n",
       "      <td>23762982.32</td>\n",
       "      <td>2016</td>\n",
       "    </tr>\n",
       "    <tr>\n",
       "      <th>6</th>\n",
       "      <td>Boston Fire Department</td>\n",
       "      <td>2.151573e+08</td>\n",
       "      <td>22829249.92</td>\n",
       "      <td>2017</td>\n",
       "    </tr>\n",
       "    <tr>\n",
       "      <th>7</th>\n",
       "      <td>Boston Fire Department</td>\n",
       "      <td>2.199342e+08</td>\n",
       "      <td>23679890.59</td>\n",
       "      <td>2018</td>\n",
       "    </tr>\n",
       "    <tr>\n",
       "      <th>8</th>\n",
       "      <td>Boston Fire Department</td>\n",
       "      <td>2.655112e+08</td>\n",
       "      <td>30274873.99</td>\n",
       "      <td>2019</td>\n",
       "    </tr>\n",
       "    <tr>\n",
       "      <th>9</th>\n",
       "      <td>Boston Fire Department</td>\n",
       "      <td>2.642356e+08</td>\n",
       "      <td>33761132.79</td>\n",
       "      <td>2020</td>\n",
       "    </tr>\n",
       "    <tr>\n",
       "      <th>10</th>\n",
       "      <td>Boston Fire Department</td>\n",
       "      <td>2.698774e+08</td>\n",
       "      <td>40043057.77</td>\n",
       "      <td>2021</td>\n",
       "    </tr>\n",
       "    <tr>\n",
       "      <th>11</th>\n",
       "      <td>Boston Fire Department</td>\n",
       "      <td>2.780314e+08</td>\n",
       "      <td>42902465.65</td>\n",
       "      <td>2022</td>\n",
       "    </tr>\n",
       "    <tr>\n",
       "      <th>12</th>\n",
       "      <td>Boston Fire Department</td>\n",
       "      <td>2.812171e+08</td>\n",
       "      <td>41462203.91</td>\n",
       "      <td>2023</td>\n",
       "    </tr>\n",
       "  </tbody>\n",
       "</table>\n",
       "</div>"
      ]
     },
     "metadata": {},
     "output_type": "display_data"
    },
    {
     "name": "stdout",
     "output_type": "stream",
     "text": [
      "\n",
      "DataFrame for Property Management:\n"
     ]
    },
    {
     "data": {
      "text/plain": [
       "        DEPARTMENT_NAME  TOTAL_GROSS    OVERTIME  YEAR\n",
       "0   Property Management  14173062.33  1509684.21  2011\n",
       "1   Property Management  14727492.81  1771431.66  2012\n",
       "2   Property Management  15225876.72  2136854.78  2013\n",
       "3   Property Management  15103896.30  1948891.72  2014\n",
       "4   Property Management  14867023.90  2131552.41  2015\n",
       "5   Property Management  10103922.14  1814680.76  2016\n",
       "6   Property Management  10570764.93  1917753.05  2017\n",
       "7   Property Management  11080659.67  1943773.68  2018\n",
       "8   Property Management  11006087.59  2075398.70  2019\n",
       "9   Property Management  10775455.78  2506471.06  2020\n",
       "10  Property Management  10632450.36  2379766.76  2021\n",
       "11  Property Management  11558093.92  2416436.55  2022\n",
       "12  Property Management  12722179.25  2686587.14  2023"
      ],
      "text/html": [
       "<div>\n",
       "<style scoped>\n",
       "    .dataframe tbody tr th:only-of-type {\n",
       "        vertical-align: middle;\n",
       "    }\n",
       "\n",
       "    .dataframe tbody tr th {\n",
       "        vertical-align: top;\n",
       "    }\n",
       "\n",
       "    .dataframe thead th {\n",
       "        text-align: right;\n",
       "    }\n",
       "</style>\n",
       "<table border=\"1\" class=\"dataframe\">\n",
       "  <thead>\n",
       "    <tr style=\"text-align: right;\">\n",
       "      <th></th>\n",
       "      <th>DEPARTMENT_NAME</th>\n",
       "      <th>TOTAL_GROSS</th>\n",
       "      <th>OVERTIME</th>\n",
       "      <th>YEAR</th>\n",
       "    </tr>\n",
       "  </thead>\n",
       "  <tbody>\n",
       "    <tr>\n",
       "      <th>0</th>\n",
       "      <td>Property Management</td>\n",
       "      <td>14173062.33</td>\n",
       "      <td>1509684.21</td>\n",
       "      <td>2011</td>\n",
       "    </tr>\n",
       "    <tr>\n",
       "      <th>1</th>\n",
       "      <td>Property Management</td>\n",
       "      <td>14727492.81</td>\n",
       "      <td>1771431.66</td>\n",
       "      <td>2012</td>\n",
       "    </tr>\n",
       "    <tr>\n",
       "      <th>2</th>\n",
       "      <td>Property Management</td>\n",
       "      <td>15225876.72</td>\n",
       "      <td>2136854.78</td>\n",
       "      <td>2013</td>\n",
       "    </tr>\n",
       "    <tr>\n",
       "      <th>3</th>\n",
       "      <td>Property Management</td>\n",
       "      <td>15103896.30</td>\n",
       "      <td>1948891.72</td>\n",
       "      <td>2014</td>\n",
       "    </tr>\n",
       "    <tr>\n",
       "      <th>4</th>\n",
       "      <td>Property Management</td>\n",
       "      <td>14867023.90</td>\n",
       "      <td>2131552.41</td>\n",
       "      <td>2015</td>\n",
       "    </tr>\n",
       "    <tr>\n",
       "      <th>5</th>\n",
       "      <td>Property Management</td>\n",
       "      <td>10103922.14</td>\n",
       "      <td>1814680.76</td>\n",
       "      <td>2016</td>\n",
       "    </tr>\n",
       "    <tr>\n",
       "      <th>6</th>\n",
       "      <td>Property Management</td>\n",
       "      <td>10570764.93</td>\n",
       "      <td>1917753.05</td>\n",
       "      <td>2017</td>\n",
       "    </tr>\n",
       "    <tr>\n",
       "      <th>7</th>\n",
       "      <td>Property Management</td>\n",
       "      <td>11080659.67</td>\n",
       "      <td>1943773.68</td>\n",
       "      <td>2018</td>\n",
       "    </tr>\n",
       "    <tr>\n",
       "      <th>8</th>\n",
       "      <td>Property Management</td>\n",
       "      <td>11006087.59</td>\n",
       "      <td>2075398.70</td>\n",
       "      <td>2019</td>\n",
       "    </tr>\n",
       "    <tr>\n",
       "      <th>9</th>\n",
       "      <td>Property Management</td>\n",
       "      <td>10775455.78</td>\n",
       "      <td>2506471.06</td>\n",
       "      <td>2020</td>\n",
       "    </tr>\n",
       "    <tr>\n",
       "      <th>10</th>\n",
       "      <td>Property Management</td>\n",
       "      <td>10632450.36</td>\n",
       "      <td>2379766.76</td>\n",
       "      <td>2021</td>\n",
       "    </tr>\n",
       "    <tr>\n",
       "      <th>11</th>\n",
       "      <td>Property Management</td>\n",
       "      <td>11558093.92</td>\n",
       "      <td>2416436.55</td>\n",
       "      <td>2022</td>\n",
       "    </tr>\n",
       "    <tr>\n",
       "      <th>12</th>\n",
       "      <td>Property Management</td>\n",
       "      <td>12722179.25</td>\n",
       "      <td>2686587.14</td>\n",
       "      <td>2023</td>\n",
       "    </tr>\n",
       "  </tbody>\n",
       "</table>\n",
       "</div>"
      ]
     },
     "metadata": {},
     "output_type": "display_data"
    },
    {
     "name": "stdout",
     "output_type": "stream",
     "text": [
      "\n",
      "DataFrame for Boston Police Department:\n"
     ]
    },
    {
     "data": {
      "text/plain": [
       "             DEPARTMENT_NAME   TOTAL_GROSS     OVERTIME  YEAR\n",
       "0   Boston Police Department  2.905179e+08  42237360.79  2011\n",
       "1   Boston Police Department  2.958616e+08  44697415.97  2012\n",
       "2   Boston Police Department  3.077962e+08  57483767.63  2013\n",
       "3   Boston Police Department  3.578099e+08  57914605.89  2014\n",
       "4   Boston Police Department  3.581379e+08  61608144.93  2015\n",
       "5   Boston Police Department  3.885872e+08  60989917.25  2016\n",
       "6   Boston Police Department  3.912776e+08  66933649.87  2017\n",
       "7   Boston Police Department  4.166830e+08  77855435.98  2018\n",
       "8   Boston Police Department  4.157256e+08  77764302.51  2019\n",
       "9   Boston Police Department  4.162761e+08  78057696.23  2020\n",
       "10  Boston Police Department  4.087625e+08  72222785.03  2021\n",
       "11  Boston Police Department  4.058231e+08  78265402.51  2022\n",
       "12  Boston Police Department  4.166221e+08  88517768.46  2023"
      ],
      "text/html": [
       "<div>\n",
       "<style scoped>\n",
       "    .dataframe tbody tr th:only-of-type {\n",
       "        vertical-align: middle;\n",
       "    }\n",
       "\n",
       "    .dataframe tbody tr th {\n",
       "        vertical-align: top;\n",
       "    }\n",
       "\n",
       "    .dataframe thead th {\n",
       "        text-align: right;\n",
       "    }\n",
       "</style>\n",
       "<table border=\"1\" class=\"dataframe\">\n",
       "  <thead>\n",
       "    <tr style=\"text-align: right;\">\n",
       "      <th></th>\n",
       "      <th>DEPARTMENT_NAME</th>\n",
       "      <th>TOTAL_GROSS</th>\n",
       "      <th>OVERTIME</th>\n",
       "      <th>YEAR</th>\n",
       "    </tr>\n",
       "  </thead>\n",
       "  <tbody>\n",
       "    <tr>\n",
       "      <th>0</th>\n",
       "      <td>Boston Police Department</td>\n",
       "      <td>2.905179e+08</td>\n",
       "      <td>42237360.79</td>\n",
       "      <td>2011</td>\n",
       "    </tr>\n",
       "    <tr>\n",
       "      <th>1</th>\n",
       "      <td>Boston Police Department</td>\n",
       "      <td>2.958616e+08</td>\n",
       "      <td>44697415.97</td>\n",
       "      <td>2012</td>\n",
       "    </tr>\n",
       "    <tr>\n",
       "      <th>2</th>\n",
       "      <td>Boston Police Department</td>\n",
       "      <td>3.077962e+08</td>\n",
       "      <td>57483767.63</td>\n",
       "      <td>2013</td>\n",
       "    </tr>\n",
       "    <tr>\n",
       "      <th>3</th>\n",
       "      <td>Boston Police Department</td>\n",
       "      <td>3.578099e+08</td>\n",
       "      <td>57914605.89</td>\n",
       "      <td>2014</td>\n",
       "    </tr>\n",
       "    <tr>\n",
       "      <th>4</th>\n",
       "      <td>Boston Police Department</td>\n",
       "      <td>3.581379e+08</td>\n",
       "      <td>61608144.93</td>\n",
       "      <td>2015</td>\n",
       "    </tr>\n",
       "    <tr>\n",
       "      <th>5</th>\n",
       "      <td>Boston Police Department</td>\n",
       "      <td>3.885872e+08</td>\n",
       "      <td>60989917.25</td>\n",
       "      <td>2016</td>\n",
       "    </tr>\n",
       "    <tr>\n",
       "      <th>6</th>\n",
       "      <td>Boston Police Department</td>\n",
       "      <td>3.912776e+08</td>\n",
       "      <td>66933649.87</td>\n",
       "      <td>2017</td>\n",
       "    </tr>\n",
       "    <tr>\n",
       "      <th>7</th>\n",
       "      <td>Boston Police Department</td>\n",
       "      <td>4.166830e+08</td>\n",
       "      <td>77855435.98</td>\n",
       "      <td>2018</td>\n",
       "    </tr>\n",
       "    <tr>\n",
       "      <th>8</th>\n",
       "      <td>Boston Police Department</td>\n",
       "      <td>4.157256e+08</td>\n",
       "      <td>77764302.51</td>\n",
       "      <td>2019</td>\n",
       "    </tr>\n",
       "    <tr>\n",
       "      <th>9</th>\n",
       "      <td>Boston Police Department</td>\n",
       "      <td>4.162761e+08</td>\n",
       "      <td>78057696.23</td>\n",
       "      <td>2020</td>\n",
       "    </tr>\n",
       "    <tr>\n",
       "      <th>10</th>\n",
       "      <td>Boston Police Department</td>\n",
       "      <td>4.087625e+08</td>\n",
       "      <td>72222785.03</td>\n",
       "      <td>2021</td>\n",
       "    </tr>\n",
       "    <tr>\n",
       "      <th>11</th>\n",
       "      <td>Boston Police Department</td>\n",
       "      <td>4.058231e+08</td>\n",
       "      <td>78265402.51</td>\n",
       "      <td>2022</td>\n",
       "    </tr>\n",
       "    <tr>\n",
       "      <th>12</th>\n",
       "      <td>Boston Police Department</td>\n",
       "      <td>4.166221e+08</td>\n",
       "      <td>88517768.46</td>\n",
       "      <td>2023</td>\n",
       "    </tr>\n",
       "  </tbody>\n",
       "</table>\n",
       "</div>"
      ]
     },
     "metadata": {},
     "output_type": "display_data"
    },
    {
     "name": "stdout",
     "output_type": "stream",
     "text": [
      "\n",
      "DataFrame for Public Works Department:\n"
     ]
    },
    {
     "data": {
      "text/plain": [
       "            DEPARTMENT_NAME  TOTAL_GROSS    OVERTIME  YEAR\n",
       "0   Public Works Department  21637431.56  2936045.81  2011\n",
       "1   Public Works Department  20839543.57  1727033.69  2012\n",
       "2   Public Works Department  22160388.68  3149769.31  2013\n",
       "3   Public Works Department  24888293.92  3833240.06  2014\n",
       "4   Public Works Department  27029986.10  5243898.07  2015\n",
       "5   Public Works Department  25931149.01  4161927.40  2016\n",
       "6   Public Works Department  26674448.16  5114656.36  2017\n",
       "7   Public Works Department  27067680.29  5255554.84  2018\n",
       "8   Public Works Department  26285862.95  4506512.51  2019\n",
       "9   Public Works Department  26098861.91  3444542.88  2020\n",
       "10  Public Works Department  26454426.14  3982020.93  2021\n",
       "11  Public Works Department  27529072.93  4908683.73  2022\n",
       "12  Public Works Department  26026308.85  5246580.43  2023"
      ],
      "text/html": [
       "<div>\n",
       "<style scoped>\n",
       "    .dataframe tbody tr th:only-of-type {\n",
       "        vertical-align: middle;\n",
       "    }\n",
       "\n",
       "    .dataframe tbody tr th {\n",
       "        vertical-align: top;\n",
       "    }\n",
       "\n",
       "    .dataframe thead th {\n",
       "        text-align: right;\n",
       "    }\n",
       "</style>\n",
       "<table border=\"1\" class=\"dataframe\">\n",
       "  <thead>\n",
       "    <tr style=\"text-align: right;\">\n",
       "      <th></th>\n",
       "      <th>DEPARTMENT_NAME</th>\n",
       "      <th>TOTAL_GROSS</th>\n",
       "      <th>OVERTIME</th>\n",
       "      <th>YEAR</th>\n",
       "    </tr>\n",
       "  </thead>\n",
       "  <tbody>\n",
       "    <tr>\n",
       "      <th>0</th>\n",
       "      <td>Public Works Department</td>\n",
       "      <td>21637431.56</td>\n",
       "      <td>2936045.81</td>\n",
       "      <td>2011</td>\n",
       "    </tr>\n",
       "    <tr>\n",
       "      <th>1</th>\n",
       "      <td>Public Works Department</td>\n",
       "      <td>20839543.57</td>\n",
       "      <td>1727033.69</td>\n",
       "      <td>2012</td>\n",
       "    </tr>\n",
       "    <tr>\n",
       "      <th>2</th>\n",
       "      <td>Public Works Department</td>\n",
       "      <td>22160388.68</td>\n",
       "      <td>3149769.31</td>\n",
       "      <td>2013</td>\n",
       "    </tr>\n",
       "    <tr>\n",
       "      <th>3</th>\n",
       "      <td>Public Works Department</td>\n",
       "      <td>24888293.92</td>\n",
       "      <td>3833240.06</td>\n",
       "      <td>2014</td>\n",
       "    </tr>\n",
       "    <tr>\n",
       "      <th>4</th>\n",
       "      <td>Public Works Department</td>\n",
       "      <td>27029986.10</td>\n",
       "      <td>5243898.07</td>\n",
       "      <td>2015</td>\n",
       "    </tr>\n",
       "    <tr>\n",
       "      <th>5</th>\n",
       "      <td>Public Works Department</td>\n",
       "      <td>25931149.01</td>\n",
       "      <td>4161927.40</td>\n",
       "      <td>2016</td>\n",
       "    </tr>\n",
       "    <tr>\n",
       "      <th>6</th>\n",
       "      <td>Public Works Department</td>\n",
       "      <td>26674448.16</td>\n",
       "      <td>5114656.36</td>\n",
       "      <td>2017</td>\n",
       "    </tr>\n",
       "    <tr>\n",
       "      <th>7</th>\n",
       "      <td>Public Works Department</td>\n",
       "      <td>27067680.29</td>\n",
       "      <td>5255554.84</td>\n",
       "      <td>2018</td>\n",
       "    </tr>\n",
       "    <tr>\n",
       "      <th>8</th>\n",
       "      <td>Public Works Department</td>\n",
       "      <td>26285862.95</td>\n",
       "      <td>4506512.51</td>\n",
       "      <td>2019</td>\n",
       "    </tr>\n",
       "    <tr>\n",
       "      <th>9</th>\n",
       "      <td>Public Works Department</td>\n",
       "      <td>26098861.91</td>\n",
       "      <td>3444542.88</td>\n",
       "      <td>2020</td>\n",
       "    </tr>\n",
       "    <tr>\n",
       "      <th>10</th>\n",
       "      <td>Public Works Department</td>\n",
       "      <td>26454426.14</td>\n",
       "      <td>3982020.93</td>\n",
       "      <td>2021</td>\n",
       "    </tr>\n",
       "    <tr>\n",
       "      <th>11</th>\n",
       "      <td>Public Works Department</td>\n",
       "      <td>27529072.93</td>\n",
       "      <td>4908683.73</td>\n",
       "      <td>2022</td>\n",
       "    </tr>\n",
       "    <tr>\n",
       "      <th>12</th>\n",
       "      <td>Public Works Department</td>\n",
       "      <td>26026308.85</td>\n",
       "      <td>5246580.43</td>\n",
       "      <td>2023</td>\n",
       "    </tr>\n",
       "  </tbody>\n",
       "</table>\n",
       "</div>"
      ]
     },
     "metadata": {},
     "output_type": "display_data"
    }
   ],
   "execution_count": 58
  },
  {
   "cell_type": "code",
   "id": "95e691584674bd53",
   "metadata": {
    "ExecuteTime": {
     "end_time": "2025-04-21T18:25:51.614206Z",
     "start_time": "2025-04-21T18:25:51.285808Z"
    }
   },
   "source": [
    "import seaborn as sns\n",
    "\n",
    "def plot_department_overtime(top_department_data):\n",
    "    palette = sns.color_palette(\"husl\", len(top_department_data))\n",
    "\n",
    "    for i, department in enumerate(top_department_data[2011]['DEPARTMENT_NAME']):\n",
    "        plt.figure(figsize=(10, 6))\n",
    "\n",
    "        for year, df in top_department_data.items():\n",
    "            if department in df['DEPARTMENT_NAME'].values:\n",
    "                plt.plot(year, df[df['DEPARTMENT_NAME'] == department]['OVERTIME'].values[0], marker='o', label=department, color=palette[i])\n",
    "\n",
    "        plt.title(f\"Overtime Pay for {department} (2011-2023)\")\n",
    "        plt.xlabel(\"Year\")\n",
    "        plt.ylabel(\"Overtime Pay\")\n",
    "        plt.xticks(years)\n",
    "        plt.grid()\n",
    "        plt.show()\n",
    "\n",
    "plot_department_overtime(top_department_data)"
   ],
   "outputs": [
    {
     "data": {
      "text/plain": [
       "<Figure size 1000x600 with 1 Axes>"
      ],
      "image/png": "[encoded data removed]"
     },
     "metadata": {},
     "output_type": "display_data"
    },
    {
     "data": {
      "text/plain": [
       "<Figure size 1000x600 with 1 Axes>"
      ],
      "image/png": "[encoded data removed]"
     },
     "metadata": {},
     "output_type": "display_data"
    },
    {
     "data": {
      "text/plain": [
       "<Figure size 1000x600 with 1 Axes>"
      ],
      "image/png": "[encoded data removed]"
     },
     "metadata": {},
     "output_type": "display_data"
    },
    {
     "data": {
      "text/plain": [
       "<Figure size 1000x600 with 1 Axes>"
      ],
      "image/png": "[encoded data removed]"
     },
     "metadata": {},
     "output_type": "display_data"
    }
   ],
   "execution_count": 59
  },
  {
   "metadata": {
    "ExecuteTime": {
     "end_time": "2025-04-21T18:25:51.692094Z",
     "start_time": "2025-04-21T18:25:51.672938Z"
    }
   },
   "cell_type": "code",
   "source": [
    "import numpy as np\n",
    "import pandas as pd\n",
    "import matplotlib.pyplot as plt\n",
    "import plotly.graph_objects as go\n",
    "import plotly.express as px\n",
    "from plotly.subplots import make_subplots\n",
    "from sklearn.preprocessing import PolynomialFeatures\n",
    "from sklearn.linear_model import LinearRegression\n",
    "from sklearn.metrics import mean_squared_error, r2_score\n",
    "\n",
    "def polynomial_regression_forecast(\n",
    "    df,\n",
    "    x_column,\n",
    "    y_column,\n",
    "    forecast_years=2,\n",
    "    test_degrees=[2, 3, 4],\n",
    "    title=\"Polynomial Regression Forecast\",\n",
    "    y_label=\"Value\",\n",
    "    figsize=(12, 8),\n",
    "    currency_format=True,\n",
    "    yoy_analysis=True,\n",
    "    interactive=True\n",
    "):\n",
    "    \"\"\"\n",
    "    Perform polynomial regression on time series data and forecast future values\n",
    "    with interactive visualizations.\n",
    "\n",
    "    Parameters:\n",
    "    -----------\n",
    "    df : pandas.DataFrame\n",
    "        The dataframe containing the time series data\n",
    "    x_column : str\n",
    "        The name of the column containing the years/dates\n",
    "    y_column : str\n",
    "        The name of the column containing the values to forecast\n",
    "    forecast_years : int, default=2\n",
    "        The number of years to forecast into the future\n",
    "    test_degrees : list, default=[2, 3, 4]\n",
    "        List of polynomial degrees to test\n",
    "    title : str, default=\"Polynomial Regression Forecast\"\n",
    "        The title of the main plot\n",
    "    y_label : str, default=\"Value\"\n",
    "        The label for the y-axis\n",
    "    figsize : tuple, default=(12, 8)\n",
    "        The size of the figure (for non-interactive plots)\n",
    "    currency_format : bool, default=True\n",
    "        Whether to format y-axis as currency (with $ and M for millions)\n",
    "    yoy_analysis : bool, default=True\n",
    "        Whether to create a year-over-year percentage change plot\n",
    "    interactive : bool, default=True\n",
    "        Whether to create interactive plots (True) or static matplotlib plots (False)\n",
    "\n",
    "    Returns:\n",
    "    --------\n",
    "    dict\n",
    "        A dictionary containing the results of the analysis:\n",
    "        - 'best_degree': The best polynomial degree\n",
    "        - 'best_model': The trained model with the best fit\n",
    "        - 'predictions': Dictionary of predictions for each model\n",
    "        - 'future_predictions': Forecasted values\n",
    "        - 'equation': The equation of the best model\n",
    "        - 'metrics': Dictionary of metrics (R², MSE) for each model\n",
    "        - 'fig': The interactive Plotly figure (if interactive=True)\n",
    "    \"\"\"\n",
    "    # Extract data from dataframe\n",
    "    years = df[x_column].values\n",
    "    values = df[y_column].values\n",
    "\n",
    "    # Reshape the data for sklearn\n",
    "    X = years.reshape(-1, 1)\n",
    "    y = values\n",
    "\n",
    "    # Prepare results\n",
    "    models = {}\n",
    "    predictions = {}\n",
    "    metrics = {}\n",
    "    colors = ['blue', 'green', 'red', 'purple', 'cyan']  # More colors for more degrees\n",
    "\n",
    "    # Get the last year in the data\n",
    "    last_year = int(years[-1])\n",
    "\n",
    "    # Create future years array for predictions\n",
    "    future_years = np.array(range(int(years[0]), last_year + forecast_years + 1)).reshape(-1, 1)\n",
    "\n",
    "    # Try different polynomial degrees and find the best fit\n",
    "    for i, degree in enumerate(test_degrees):\n",
    "        color_idx = i % len(colors)  # Use modulo to cycle through colors if more degrees than colors\n",
    "\n",
    "        # Create polynomial features\n",
    "        poly_features = PolynomialFeatures(degree=degree)\n",
    "        X_poly = poly_features.fit_transform(X)\n",
    "\n",
    "        # Fit the model\n",
    "        model = LinearRegression()\n",
    "        model.fit(X_poly, y)\n",
    "        models[degree] = model\n",
    "\n",
    "        # Make predictions for the training data\n",
    "        y_pred = model.predict(X_poly)\n",
    "        predictions[degree] = y_pred\n",
    "\n",
    "        # Calculate metrics\n",
    "        mse = mean_squared_error(y, y_pred)\n",
    "        r2 = r2_score(y, y_pred)\n",
    "        metrics[degree] = {'mse': mse, 'r2': r2}\n",
    "\n",
    "    # Find the best model based on R² score\n",
    "    best_degree = max(models.keys(), key=lambda d: metrics[d]['r2'])\n",
    "    print(f\"Best polynomial degree: {best_degree}\")\n",
    "\n",
    "    # Get the best model\n",
    "    best_model = models[best_degree]\n",
    "\n",
    "    # Predict future values using the best model\n",
    "    poly_features = PolynomialFeatures(degree=best_degree)\n",
    "    poly_features.fit(X)  # Fit the transformer first\n",
    "    future_years_pred = np.array(range(last_year + 1, last_year + forecast_years + 1)).reshape(-1, 1)\n",
    "    future_poly = poly_features.transform(future_years_pred)\n",
    "    future_predictions = best_model.predict(future_poly)\n",
    "\n",
    "    # Print future predictions\n",
    "    print(\"\\nPredicted future values:\")\n",
    "    if currency_format:\n",
    "        for year, pred in zip(future_years_pred.flatten(), future_predictions):\n",
    "            print(f\"Year {int(year)}: ${pred:,.2f}\")\n",
    "    else:\n",
    "        for year, pred in zip(future_years_pred.flatten(), future_predictions):\n",
    "            print(f\"Year {int(year)}: {pred:,.2f}\")\n",
    "\n",
    "    # Display the best model's coefficients\n",
    "    best_poly_features = PolynomialFeatures(degree=best_degree)\n",
    "    X_best_poly = best_poly_features.fit_transform(X)\n",
    "    coefficients = best_model.coef_\n",
    "    intercept = best_model.intercept_\n",
    "\n",
    "    print(\"\\nBest model equation:\")\n",
    "    equation = f\"y = {intercept:.2e}\"\n",
    "    for i, coef in enumerate(coefficients[1:], 1):\n",
    "        equation += f\" + {coef:.2e}x^{i}\"\n",
    "    print(equation)\n",
    "\n",
    "    if interactive:\n",
    "        # Create interactive plotly figure\n",
    "        fig = create_interactive_plots(\n",
    "            years, values, models, future_years, metrics, last_year,\n",
    "            forecast_years, best_degree, future_years_pred, future_predictions,\n",
    "            x_column, y_label, title, currency_format, yoy_analysis\n",
    "        )\n",
    "        fig.show()\n",
    "\n",
    "        # Return the results with figure\n",
    "        return {\n",
    "            'best_degree': best_degree,\n",
    "            'best_model': best_model,\n",
    "            'predictions': predictions,\n",
    "            'future_predictions': future_predictions,\n",
    "            'equation': equation,\n",
    "            'metrics': metrics,\n",
    "            'fig': fig\n",
    "        }\n",
    "    else:\n",
    "        # Create static matplotlib figure\n",
    "        create_static_plots(\n",
    "            years, values, models, future_years, metrics, last_year,\n",
    "            forecast_years, best_degree, poly_features,\n",
    "            x_column, y_label, title, figsize, currency_format, yoy_analysis\n",
    "        )\n",
    "\n",
    "        # Return the results without figure\n",
    "        return {\n",
    "            'best_degree': best_degree,\n",
    "            'best_model': best_model,\n",
    "            'predictions': predictions,\n",
    "            'future_predictions': future_predictions,\n",
    "            'equation': equation,\n",
    "            'metrics': metrics\n",
    "        }\n",
    "\n",
    "def create_interactive_plots(\n",
    "    years, values, models, future_years, metrics, last_year,\n",
    "    forecast_years, best_degree, future_years_pred, future_predictions,\n",
    "    x_column, y_label, title, currency_format, yoy_analysis\n",
    "):\n",
    "    \"\"\"\n",
    "    Create interactive Plotly visualizations for polynomial regression.\n",
    "    \"\"\"\n",
    "    # Colors for different polynomial degrees\n",
    "    colors = ['blue', 'green', 'red', 'purple', 'cyan']\n",
    "\n",
    "    # Create figure with subplots if yoy_analysis is True\n",
    "    if yoy_analysis and len(values) > 1:\n",
    "        fig = make_subplots(\n",
    "            rows=2, cols=1,\n",
    "            subplot_titles=[title, f'Year-over-Year Percentage Change in {y_label}'],\n",
    "            vertical_spacing=0.15,\n",
    "            specs=[[{\"type\": \"scatter\"}], [{\"type\": \"bar\"}]]\n",
    "        )\n",
    "        fig_height = 800\n",
    "    else:\n",
    "        fig = go.Figure()\n",
    "        fig.update_layout(title=title)\n",
    "        fig_height = 600\n",
    "\n",
    "    # Add original data points\n",
    "    hover_template = '%{x}, ' + ('$%{y:,.2f}' if currency_format else '%{y:,.2f}')\n",
    "    fig.add_trace(\n",
    "        go.Scatter(\n",
    "            x=years,\n",
    "            y=values,\n",
    "            mode='markers',\n",
    "            name='Original Data',\n",
    "            marker=dict(color='orange', size=10),\n",
    "            hovertemplate=hover_template\n",
    "        ),\n",
    "        row=1, col=1\n",
    "    )\n",
    "\n",
    "    # Add polynomial fits\n",
    "    for i, degree in enumerate(models.keys()):\n",
    "        color_idx = i % len(colors)\n",
    "        model = models[degree]\n",
    "\n",
    "        # Calculate predictions for the expanded year range\n",
    "        poly_features = PolynomialFeatures(degree=degree)\n",
    "        future_poly = poly_features.fit_transform(future_years)\n",
    "        future_pred = model.predict(future_poly)\n",
    "\n",
    "        # Add line for this polynomial degree\n",
    "        r2 = metrics[degree]['r2']\n",
    "        mse = metrics[degree]['mse']\n",
    "\n",
    "        fig.add_trace(\n",
    "            go.Scatter(\n",
    "                x=future_years.flatten(),\n",
    "                y=future_pred,\n",
    "                mode='lines',\n",
    "                name=f'Degree {degree} (R² = {r2:.4f})',\n",
    "                line=dict(color=colors[color_idx], width=2),\n",
    "                hovertemplate=hover_template + '<br>Model: Degree %{customdata}<extra></extra>',\n",
    "                customdata=[degree] * len(future_years),\n",
    "                visible='legendonly' if degree != best_degree else True\n",
    "            ),\n",
    "            row=1, col=1\n",
    "        )\n",
    "\n",
    "    # Add forecast region for best model\n",
    "    forecast_years_array = np.array(range(last_year, last_year + forecast_years + 1))\n",
    "    forecast_values = []\n",
    "\n",
    "    # Calculate forecast values using the best model\n",
    "    poly_features = PolynomialFeatures(degree=best_degree)\n",
    "    forecast_poly = poly_features.fit_transform(forecast_years_array.reshape(-1, 1))\n",
    "    forecast_values = models[best_degree].predict(forecast_poly)\n",
    "\n",
    "    # Add a vertical line at the last actual data point\n",
    "    fig.add_vline(\n",
    "        x=last_year, line_width=2, line_dash=\"dash\", line_color=\"black\",\n",
    "        annotation_text=f\"Last data point ({last_year})\",\n",
    "        annotation_position=\"top\",\n",
    "        row=1, col=1\n",
    "    )\n",
    "\n",
    "    # Highlight forecast region\n",
    "    fig.add_trace(\n",
    "        go.Scatter(\n",
    "            x=np.concatenate([forecast_years_array, forecast_years_array[::-1]]),\n",
    "            y=np.concatenate([forecast_values, [np.min(values)]*len(forecast_years_array)]),\n",
    "            fill='toself',\n",
    "            fillcolor='rgba(128, 128, 128, 0.2)',\n",
    "            line=dict(color='rgba(255, 255, 255, 0)'),\n",
    "            hoverinfo='skip',\n",
    "            name='Forecast Region',\n",
    "            showlegend=True\n",
    "        ),\n",
    "        row=1, col=1\n",
    "    )\n",
    "\n",
    "    # Add predicted future points with annotations\n",
    "    fig.add_trace(\n",
    "        go.Scatter(\n",
    "            x=future_years_pred.flatten(),\n",
    "            y=future_predictions,\n",
    "            mode='markers+text',\n",
    "            marker=dict(color='red', size=12, symbol='diamond'),\n",
    "            text=[f\"{int(yr)}: \" + ('$' if currency_format else '') + f\"{val:,.0f}\" +\n",
    "                  ('M' if currency_format and val > 1e6 else '')\n",
    "                  for yr, val in zip(future_years_pred.flatten(), future_predictions)],\n",
    "            textposition=\"top center\",\n",
    "            name='Predictions',\n",
    "            hovertemplate='Year %{x}<br>' + ('$%{y:,.2f}' if currency_format else '%{y:,.2f}') + '<extra></extra>'\n",
    "        ),\n",
    "        row=1, col=1\n",
    "    )\n",
    "\n",
    "    # Add Year-over-Year percentage change chart if requested\n",
    "    if yoy_analysis and len(values) > 1:\n",
    "        yoy_change = np.diff(values) / values[:-1] * 100\n",
    "\n",
    "        # Create the bar chart for YoY change\n",
    "        fig.add_trace(\n",
    "            go.Bar(\n",
    "                x=years[1:],\n",
    "                y=yoy_change,\n",
    "                marker_color='skyblue',\n",
    "                text=[f\"{val:.1f}%\" for val in yoy_change],\n",
    "                textposition='outside',\n",
    "                name='YoY Change',\n",
    "                hovertemplate='Year %{x}<br>Change: %{y:.1f}%<extra></extra>'\n",
    "            ),\n",
    "            row=2, col=1\n",
    "        )\n",
    "\n",
    "        # Add horizontal line at 0% for reference\n",
    "        fig.add_shape(\n",
    "            type=\"line\",\n",
    "            x0=min(years[1:]),\n",
    "            x1=max(years[1:]),\n",
    "            y0=0,\n",
    "            y1=0,\n",
    "            line=dict(color=\"black\", width=1, dash=\"solid\"),\n",
    "            row=2, col=1\n",
    "        )\n",
    "\n",
    "    # Update layout\n",
    "    fig.update_layout(\n",
    "        height=fig_height,\n",
    "        hovermode=\"closest\",\n",
    "        legend=dict(\n",
    "            orientation=\"h\",\n",
    "            yanchor=\"bottom\",\n",
    "            y=1.02,\n",
    "            xanchor=\"right\",\n",
    "            x=1\n",
    "        )\n",
    "    )\n",
    "\n",
    "    # Update x and y axis labels\n",
    "    fig.update_xaxes(title_text=x_column, row=1, col=1)\n",
    "    fig.update_yaxes(title_text=y_label, row=1, col=1)\n",
    "\n",
    "    if yoy_analysis and len(values) > 1:\n",
    "        fig.update_xaxes(title_text=x_column, row=2, col=1)\n",
    "        fig.update_yaxes(title_text='Percentage Change (%)', row=2, col=1)\n",
    "\n",
    "    # Format y-axis with currency if requested\n",
    "    if currency_format:\n",
    "        fig.update_yaxes(\n",
    "            tickprefix='$',\n",
    "            tickformat=',.0f',\n",
    "            row=1, col=1\n",
    "        )\n",
    "\n",
    "    # Add buttons to toggle polynomial degrees\n",
    "    degree_buttons = []\n",
    "    for degree in models.keys():\n",
    "        degree_buttons.append(\n",
    "            dict(\n",
    "                method='update',\n",
    "                label=f'Degree {degree}',\n",
    "                args=[{'visible': [True] +\n",
    "                      [deg == degree for deg in models.keys()] +\n",
    "                      [True, True]}]\n",
    "            )\n",
    "        )\n",
    "\n",
    "    # Add all models button\n",
    "    all_visible = [True] * (len(models) + 3)  # +3 for original data, forecast region, predictions\n",
    "    degree_buttons.append(\n",
    "        dict(\n",
    "            method='update',\n",
    "            label='All Models',\n",
    "            args=[{'visible': all_visible}]\n",
    "        )\n",
    "    )\n",
    "\n",
    "    # Add buttons to figure\n",
    "    fig.update_layout(\n",
    "        updatemenus=[\n",
    "            dict(\n",
    "                type='buttons',\n",
    "                direction='right',\n",
    "                buttons=degree_buttons,\n",
    "                pad={'r': 10, 't': 10},\n",
    "                showactive=True,\n",
    "                x=0.1,\n",
    "                xanchor='left',\n",
    "                y=1.1,\n",
    "                yanchor='top'\n",
    "            )\n",
    "        ]\n",
    "    )\n",
    "\n",
    "    # Add annotation for the best model\n",
    "    fig.add_annotation(\n",
    "        x=0.5, y=1.05,\n",
    "        xref='paper', yref='paper',\n",
    "        text=f\"Best Model: Polynomial Degree {best_degree} (R² = {metrics[best_degree]['r2']:.4f})\",\n",
    "        showarrow=False,\n",
    "        font=dict(size=14, color=\"black\"),\n",
    "        align='center',\n",
    "        bgcolor='rgba(255, 255, 255, 0.8)',\n",
    "        bordercolor='black',\n",
    "        borderwidth=1,\n",
    "        borderpad=4\n",
    "    )\n",
    "\n",
    "    return fig\n",
    "\n",
    "def create_static_plots(\n",
    "    years, values, models, future_years, metrics, last_year,\n",
    "    forecast_years, best_degree, poly_features,\n",
    "    x_column, y_label, title, figsize, currency_format, yoy_analysis\n",
    "):\n",
    "    \"\"\"\n",
    "    Create static matplotlib visualizations (original implementation).\n",
    "    \"\"\"\n",
    "    # Colors for different polynomial degrees\n",
    "    colors = ['blue', 'green', 'red', 'purple', 'cyan']\n",
    "\n",
    "    # Create a figure for visualization\n",
    "    plt.figure(figsize=figsize)\n",
    "\n",
    "    # Plot original data\n",
    "    plt.scatter(years, values, color='orange', label='Original data')\n",
    "    plt.title(title)\n",
    "    plt.xlabel(x_column)\n",
    "    plt.ylabel(y_label)\n",
    "    plt.grid(True, linestyle='--', alpha=0.7)\n",
    "\n",
    "    # Plot polynomial fits\n",
    "    for i, degree in enumerate(models.keys()):\n",
    "        color_idx = i % len(colors)\n",
    "        model = models[degree]\n",
    "\n",
    "        # Calculate predictions for the expanded year range\n",
    "        poly_features_deg = PolynomialFeatures(degree=degree)\n",
    "        future_poly = poly_features_deg.fit_transform(future_years)\n",
    "        future_pred = model.predict(future_poly)\n",
    "\n",
    "        # Plot the polynomial fit\n",
    "        mse = metrics[degree]['mse']\n",
    "        r2 = metrics[degree]['r2']\n",
    "        plt.plot(future_years, future_pred, color=colors[color_idx],\n",
    "                label=f'Degree {degree} (R² = {r2:.4f}, MSE = {mse:.2e})')\n",
    "\n",
    "    # Highlight forecast region\n",
    "    forecast_years_array = np.array(range(last_year, last_year + forecast_years + 1))\n",
    "    forecast_poly = poly_features.transform(forecast_years_array.reshape(-1, 1))\n",
    "    forecast_values = models[best_degree].predict(forecast_poly)\n",
    "    plt.fill_between(forecast_years_array, forecast_values, alpha=0.2, color='gray', label='Forecast region')\n",
    "\n",
    "    # Add a vertical line at the last actual data point\n",
    "    plt.axvline(x=last_year, color='black', linestyle='--', alpha=0.5, label=f'Last data point ({last_year})')\n",
    "\n",
    "    # Format y-axis with millions if currency format is enabled\n",
    "    if currency_format:\n",
    "        plt.gca().yaxis.set_major_formatter(plt.FuncFormatter(lambda x, _: f'${x/1e6:.0f}M'))\n",
    "\n",
    "    plt.legend()\n",
    "    plt.tight_layout()\n",
    "    plt.show()\n",
    "\n",
    "    # Additional analysis: Year-over-year percentage change\n",
    "    if yoy_analysis and len(values) > 1:\n",
    "        yoy_change = np.diff(values) / values[:-1] * 100\n",
    "\n",
    "        plt.figure(figsize=(12, 6))\n",
    "        plt.bar(years[1:], yoy_change, color='skyblue')\n",
    "        plt.axhline(y=0, color='black', linestyle='-', alpha=0.3)\n",
    "        plt.title(f'Year-over-Year Percentage Change in {y_label}')\n",
    "        plt.xlabel(x_column)\n",
    "        plt.ylabel('Percentage Change (%)')\n",
    "        plt.grid(True, linestyle='--', alpha=0.7)\n",
    "\n",
    "        for i, value in enumerate(yoy_change):\n",
    "            plt.text(years[i+1], value + (2 if value > 0 else -5), f'{value:.1f}%', ha='center')\n",
    "\n",
    "        plt.tight_layout()\n",
    "        plt.show()"
   ],
   "id": "2866a98d8abd0796",
   "outputs": [],
   "execution_count": 60
  },
  {
   "metadata": {
    "ExecuteTime": {
     "end_time": "2025-04-21T18:25:51.771484Z",
     "start_time": "2025-04-21T18:25:51.744797Z"
    }
   },
   "cell_type": "code",
   "source": [
    "# Select the department to analyze\n",
    "department_to_analyze = 'Boston Fire Department'\n",
    "if department_to_analyze in department_dataframes:\n",
    "    df = department_dataframes[department_to_analyze]\n",
    "\n",
    "# Run the analysis\n",
    "results = polynomial_regression_forecast(\n",
    "    df=df,\n",
    "    x_column='YEAR',\n",
    "    y_column='OVERTIME',\n",
    "    forecast_years=2,\n",
    "    test_degrees=[2, 3, 4],\n",
    "    title='Overtime Pay for Boston Fire Department (2011-2023)',\n",
    "    y_label='Overtime Pay'\n",
    ")\n",
    "\n",
    "# Access the results\n",
    "print(f\"\\nForecast summary:\")\n",
    "print(f\"Best degree polynomial: {results['best_degree']}\")\n",
    "print(f\"R² score: {results['metrics'][results['best_degree']]['r2']:.4f}\")\n",
    "print(f\"Equation: {results['equation']}\")"
   ],
   "id": "b12e4579eb9bf961",
   "outputs": [
    {
     "name": "stdout",
     "output_type": "stream",
     "text": [
      "Best polynomial degree: 4\n",
      "\n",
      "Predicted future values:\n",
      "Year 2024: $48,228,192.38\n",
      "Year 2025: $52,225,158.67\n",
      "\n",
      "Best model equation:\n",
      "y = 1.82e+13 + -9.68e+03x^1 + -2.67e+07x^2 + 1.76e+04x^3 + -3.25e+00x^4\n"
     ]
    },
    {
     "data": {
      "application/vnd.plotly.v1+json": {
       "data": [
        {
         "hovertemplate": "%{x}, $%{y:,.2f}",
         "marker": {
          "color": "orange",
          "size": 10
         },
         "mode": "markers",
         "name": "Original Data",
         "x": [
          2011,
          2012,
          2013,
          2014,
          2015,
          2016,
          2017,
          2018,
          2019,
          2020,
          2021,
          2022,
          2023
         ],
         "y": [
          2.094092899E7,
          2.140824496E7,
          2.038882287E7,
          2.131873145E7,
          2.481583323E7,
          2.376298232E7,
          2.282924992E7,
          2.367989059E7,
          3.027487399E7,
          3.376113279E7,
          4.004305777E7,
          4.290246565E7,
          4.146220391E7
         ],
         "type": "scatter",
         "xaxis": "x",
         "yaxis": "y"
        },
        {
         "customdata": [
          2,
          2,
          2,
          2,
          2,
          2,
          2,
          2,
          2,
          2,
          2,
          2,
          2,
          2,
          2
         ],
         "hovertemplate": "%{x}, $%{y:,.2f}<br>Model: Degree %{customdata}<extra></extra>",
         "line": {
          "color": "blue",
          "width": 2
         },
         "mode": "lines",
         "name": "Degree 2 (R² = 0.9330)",
         "visible": "legendonly",
         "x": [
          2011,
          2012,
          2013,
          2014,
          2015,
          2016,
          2017,
          2018,
          2019,
          2020,
          2021,
          2022,
          2023,
          2024,
          2025
         ],
         "y": [
          2.13127750736084E7,
          2.086717410974121E7,
          2.0859612368530273E7,
          2.1290089849853516E7,
          2.2158606553833008E7,
          2.346516248034668E7,
          2.52097576295166E7,
          2.7392392001586914E7,
          3.0013065595947266E7,
          3.3071778412841797E7,
          3.656853045239258E7,
          4.050332171447754E7,
          4.487615219921875E7,
          4.968702190649414E7,
          5.493593083642578E7
         ],
         "type": "scatter",
         "xaxis": "x",
         "yaxis": "y"
        },
        {
         "customdata": [
          3,
          3,
          3,
          3,
          3,
          3,
          3,
          3,
          3,
          3,
          3,
          3,
          3,
          3,
          3
         ],
         "hovertemplate": "%{x}, $%{y:,.2f}<br>Model: Degree %{customdata}<extra></extra>",
         "line": {
          "color": "green",
          "width": 2
         },
         "mode": "lines",
         "name": "Degree 3 (R² = 0.9348)",
         "visible": "legendonly",
         "x": [
          2011,
          2012,
          2013,
          2014,
          2015,
          2016,
          2017,
          2018,
          2019,
          2020,
          2021,
          2022,
          2023,
          2024,
          2025
         ],
         "y": [
          2.1881782625E7,
          2.086721315625E7,
          2.0549317875E7,
          2.08763665625E7,
          2.179662890625E7,
          2.32583745E7,
          2.520987315625E7,
          2.759939453125E7,
          3.03752083125E7,
          3.34855841875E7,
          3.687879190625E7,
          4.050310103125E7,
          4.430678140625E7,
          4.823810265625E7,
          5.22453344375E7
         ],
         "type": "scatter",
         "xaxis": "x",
         "yaxis": "y"
        },
        {
         "customdata": [
          4,
          4,
          4,
          4,
          4,
          4,
          4,
          4,
          4,
          4,
          4,
          4,
          4,
          4,
          4
         ],
         "hovertemplate": "%{x}, $%{y:,.2f}<br>Model: Degree %{customdata}<extra></extra>",
         "line": {
          "color": "red",
          "width": 2
         },
         "mode": "lines",
         "name": "Degree 4 (R² = 0.9348)",
         "visible": true,
         "x": [
          2011,
          2012,
          2013,
          2014,
          2015,
          2016,
          2017,
          2018,
          2019,
          2020,
          2021,
          2022,
          2023,
          2024,
          2025
         ],
         "y": [
          2.188429839453125E7,
          2.08675435078125E7,
          2.05481085390625E7,
          2.087433802734375E7,
          2.17944983671875E7,
          2.3256778109375E7,
          2.52092877109375E7,
          2.760005966796875E7,
          3.037704844921875E7,
          3.348813058203125E7,
          3.688110454296875E7,
          4.050369080078125E7,
          4.43035319453125E7,
          4.822819237890625E7,
          5.222515866796875E7
         ],
         "type": "scatter",
         "xaxis": "x",
         "yaxis": "y"
        },
        {
         "fill": "toself",
         "fillcolor": "rgba(128, 128, 128, 0.2)",
         "hoverinfo": "skip",
         "line": {
          "color": "rgba(255, 255, 255, 0)"
         },
         "name": "Forecast Region",
         "showlegend": true,
         "x": [
          2023,
          2024,
          2025,
          2025,
          2024,
          2023
         ],
         "y": [
          4.43035319453125E7,
          4.822819237890625E7,
          5.222515866796875E7,
          2.038882287E7,
          2.038882287E7,
          2.038882287E7
         ],
         "type": "scatter",
         "xaxis": "x",
         "yaxis": "y"
        },
        {
         "hovertemplate": "Year %{x}<br>$%{y:,.2f}<extra></extra>",
         "marker": {
          "color": "red",
          "size": 12,
          "symbol": "diamond"
         },
         "mode": "markers+text",
         "name": "Predictions",
         "text": [
          "2024: $48,228,192M",
          "2025: $52,225,159M"
         ],
         "textposition": "top center",
         "x": [
          2024,
          2025
         ],
         "y": [
          4.822819237890625E7,
          5.222515866796875E7
         ],
         "type": "scatter",
         "xaxis": "x",
         "yaxis": "y"
        },
        {
         "hovertemplate": "Year %{x}<br>Change: %{y:.1f}%<extra></extra>",
         "marker": {
          "color": "skyblue"
         },
         "name": "YoY Change",
         "text": [
          "2.2%",
          "-4.8%",
          "4.6%",
          "16.4%",
          "-4.2%",
          "-3.9%",
          "3.7%",
          "27.9%",
          "11.5%",
          "18.6%",
          "7.1%",
          "-3.4%"
         ],
         "textposition": "outside",
         "x": [
          2012,
          2013,
          2014,
          2015,
          2016,
          2017,
          2018,
          2019,
          2020,
          2021,
          2022,
          2023
         ],
         "y": [
          2.231591397989849,
          -4.76181999927938,
          4.56087428847234,
          16.40389245580558,
          -4.242657904096498,
          -3.929356961285651,
          3.726099950637353,
          27.85056533489667,
          11.51535362674519,
          18.60697334735374,
          7.140832991386199,
          -3.3570605282915764
         ],
         "type": "bar",
         "xaxis": "x2",
         "yaxis": "y2"
        }
       ],
       "layout": {
        "template": {
         "data": {
          "histogram2dcontour": [
           {
            "type": "histogram2dcontour",
            "colorbar": {
             "outlinewidth": 0,
             "ticks": ""
            },
            "colorscale": [
             [
              0.0,
              "#0d0887"
             ],
             [
              0.1111111111111111,
              "#46039f"
             ],
             [
              0.2222222222222222,
              "#7201a8"
             ],
             [
              0.3333333333333333,
              "#9c179e"
             ],
             [
              0.4444444444444444,
              "#bd3786"
             ],
             [
              0.5555555555555556,
              "#d8576b"
             ],
             [
              0.6666666666666666,
              "#ed7953"
             ],
             [
              0.7777777777777778,
              "#fb9f3a"
             ],
             [
              0.8888888888888888,
              "#fdca26"
             ],
             [
              1.0,
              "#f0f921"
             ]
            ]
           }
          ],
          "choropleth": [
           {
            "type": "choropleth",
            "colorbar": {
             "outlinewidth": 0,
             "ticks": ""
            }
           }
          ],
          "histogram2d": [
           {
            "type": "histogram2d",
            "colorbar": {
             "outlinewidth": 0,
             "ticks": ""
            },
            "colorscale": [
             [
              0.0,
              "#0d0887"
             ],
             [
              0.1111111111111111,
              "#46039f"
             ],
             [
              0.2222222222222222,
              "#7201a8"
             ],
             [
              0.3333333333333333,
              "#9c179e"
             ],
             [
              0.4444444444444444,
              "#bd3786"
             ],
             [
              0.5555555555555556,
              "#d8576b"
             ],
             [
              0.6666666666666666,
              "#ed7953"
             ],
             [
              0.7777777777777778,
              "#fb9f3a"
             ],
             [
              0.8888888888888888,
              "#fdca26"
             ],
             [
              1.0,
              "#f0f921"
             ]
            ]
           }
          ],
          "heatmap": [
           {
            "type": "heatmap",
            "colorbar": {
             "outlinewidth": 0,
             "ticks": ""
            },
            "colorscale": [
             [
              0.0,
              "#0d0887"
             ],
             [
              0.1111111111111111,
              "#46039f"
             ],
             [
              0.2222222222222222,
              "#7201a8"
             ],
             [
              0.3333333333333333,
              "#9c179e"
             ],
             [
              0.4444444444444444,
              "#bd3786"
             ],
             [
              0.5555555555555556,
              "#d8576b"
             ],
             [
              0.6666666666666666,
              "#ed7953"
             ],
             [
              0.7777777777777778,
              "#fb9f3a"
             ],
             [
              0.8888888888888888,
              "#fdca26"
             ],
             [
              1.0,
              "#f0f921"
             ]
            ]
           }
          ],
          "heatmapgl": [
           {
            "type": "heatmapgl",
            "colorbar": {
             "outlinewidth": 0,
             "ticks": ""
            },
            "colorscale": [
             [
              0.0,
              "#0d0887"
             ],
             [
              0.1111111111111111,
              "#46039f"
             ],
             [
              0.2222222222222222,
              "#7201a8"
             ],
             [
              0.3333333333333333,
              "#9c179e"
             ],
             [
              0.4444444444444444,
              "#bd3786"
             ],
             [
              0.5555555555555556,
              "#d8576b"
             ],
             [
              0.6666666666666666,
              "#ed7953"
             ],
             [
              0.7777777777777778,
              "#fb9f3a"
             ],
             [
              0.8888888888888888,
              "#fdca26"
             ],
             [
              1.0,
              "#f0f921"
             ]
            ]
           }
          ],
          "contourcarpet": [
           {
            "type": "contourcarpet",
            "colorbar": {
             "outlinewidth": 0,
             "ticks": ""
            }
           }
          ],
          "contour": [
           {
            "type": "contour",
            "colorbar": {
             "outlinewidth": 0,
             "ticks": ""
            },
            "colorscale": [
             [
              0.0,
              "#0d0887"
             ],
             [
              0.1111111111111111,
              "#46039f"
             ],
             [
              0.2222222222222222,
              "#7201a8"
             ],
             [
              0.3333333333333333,
              "#9c179e"
             ],
             [
              0.4444444444444444,
              "#bd3786"
             ],
             [
              0.5555555555555556,
              "#d8576b"
             ],
             [
              0.6666666666666666,
              "#ed7953"
             ],
             [
              0.7777777777777778,
              "#fb9f3a"
             ],
             [
              0.8888888888888888,
              "#fdca26"
             ],
             [
              1.0,
              "#f0f921"
             ]
            ]
           }
          ],
          "surface": [
           {
            "type": "surface",
            "colorbar": {
             "outlinewidth": 0,
             "ticks": ""
            },
            "colorscale": [
             [
              0.0,
              "#0d0887"
             ],
             [
              0.1111111111111111,
              "#46039f"
             ],
             [
              0.2222222222222222,
              "#7201a8"
             ],
             [
              0.3333333333333333,
              "#9c179e"
             ],
             [
              0.4444444444444444,
              "#bd3786"
             ],
             [
              0.5555555555555556,
              "#d8576b"
             ],
             [
              0.6666666666666666,
              "#ed7953"
             ],
             [
              0.7777777777777778,
              "#fb9f3a"
             ],
             [
              0.8888888888888888,
              "#fdca26"
             ],
             [
              1.0,
              "#f0f921"
             ]
            ]
           }
          ],
          "mesh3d": [
           {
            "type": "mesh3d",
            "colorbar": {
             "outlinewidth": 0,
             "ticks": ""
            }
           }
          ],
          "scatter": [
           {
            "fillpattern": {
             "fillmode": "overlay",
             "size": 10,
             "solidity": 0.2
            },
            "type": "scatter"
           }
          ],
          "parcoords": [
           {
            "type": "parcoords",
            "line": {
             "colorbar": {
              "outlinewidth": 0,
              "ticks": ""
             }
            }
           }
          ],
          "scatterpolargl": [
           {
            "type": "scatterpolargl",
            "marker": {
             "colorbar": {
              "outlinewidth": 0,
              "ticks": ""
             }
            }
           }
          ],
          "bar": [
           {
            "error_x": {
             "color": "#2a3f5f"
            },
            "error_y": {
             "color": "#2a3f5f"
            },
            "marker": {
             "line": {
              "color": "#E5ECF6",
              "width": 0.5
             },
             "pattern": {
              "fillmode": "overlay",
              "size": 10,
              "solidity": 0.2
             }
            },
            "type": "bar"
           }
          ],
          "scattergeo": [
           {
            "type": "scattergeo",
            "marker": {
             "colorbar": {
              "outlinewidth": 0,
              "ticks": ""
             }
            }
           }
          ],
          "scatterpolar": [
           {
            "type": "scatterpolar",
            "marker": {
             "colorbar": {
              "outlinewidth": 0,
              "ticks": ""
             }
            }
           }
          ],
          "histogram": [
           {
            "marker": {
             "pattern": {
              "fillmode": "overlay",
              "size": 10,
              "solidity": 0.2
             }
            },
            "type": "histogram"
           }
          ],
          "scattergl": [
           {
            "type": "scattergl",
            "marker": {
             "colorbar": {
              "outlinewidth": 0,
              "ticks": ""
             }
            }
           }
          ],
          "scatter3d": [
           {
            "type": "scatter3d",
            "line": {
             "colorbar": {
              "outlinewidth": 0,
              "ticks": ""
             }
            },
            "marker": {
             "colorbar": {
              "outlinewidth": 0,
              "ticks": ""
             }
            }
           }
          ],
          "scattermapbox": [
           {
            "type": "scattermapbox",
            "marker": {
             "colorbar": {
              "outlinewidth": 0,
              "ticks": ""
             }
            }
           }
          ],
          "scatterternary": [
           {
            "type": "scatterternary",
            "marker": {
             "colorbar": {
              "outlinewidth": 0,
              "ticks": ""
             }
            }
           }
          ],
          "scattercarpet": [
           {
            "type": "scattercarpet",
            "marker": {
             "colorbar": {
              "outlinewidth": 0,
              "ticks": ""
             }
            }
           }
          ],
          "carpet": [
           {
            "aaxis": {
             "endlinecolor": "#2a3f5f",
             "gridcolor": "white",
             "linecolor": "white",
             "minorgridcolor": "white",
             "startlinecolor": "#2a3f5f"
            },
            "baxis": {
             "endlinecolor": "#2a3f5f",
             "gridcolor": "white",
             "linecolor": "white",
             "minorgridcolor": "white",
             "startlinecolor": "#2a3f5f"
            },
            "type": "carpet"
           }
          ],
          "table": [
           {
            "cells": {
             "fill": {
              "color": "#EBF0F8"
             },
             "line": {
              "color": "white"
             }
            },
            "header": {
             "fill": {
              "color": "#C8D4E3"
             },
             "line": {
              "color": "white"
             }
            },
            "type": "table"
           }
          ],
          "barpolar": [
           {
            "marker": {
             "line": {
              "color": "#E5ECF6",
              "width": 0.5
             },
             "pattern": {
              "fillmode": "overlay",
              "size": 10,
              "solidity": 0.2
             }
            },
            "type": "barpolar"
           }
          ],
          "pie": [
           {
            "automargin": true,
            "type": "pie"
           }
          ]
         },
         "layout": {
          "autotypenumbers": "strict",
          "colorway": [
           "#636efa",
           "#EF553B",
           "#00cc96",
           "#ab63fa",
           "#FFA15A",
           "#19d3f3",
           "#FF6692",
           "#B6E880",
           "#FF97FF",
           "#FECB52"
          ],
          "font": {
           "color": "#2a3f5f"
          },
          "hovermode": "closest",
          "hoverlabel": {
           "align": "left"
          },
          "paper_bgcolor": "white",
          "plot_bgcolor": "#E5ECF6",
          "polar": {
           "bgcolor": "#E5ECF6",
           "angularaxis": {
            "gridcolor": "white",
            "linecolor": "white",
            "ticks": ""
           },
           "radialaxis": {
            "gridcolor": "white",
            "linecolor": "white",
            "ticks": ""
           }
          },
          "ternary": {
           "bgcolor": "#E5ECF6",
           "aaxis": {
            "gridcolor": "white",
            "linecolor": "white",
            "ticks": ""
           },
           "baxis": {
            "gridcolor": "white",
            "linecolor": "white",
            "ticks": ""
           },
           "caxis": {
            "gridcolor": "white",
            "linecolor": "white",
            "ticks": ""
           }
          },
          "coloraxis": {
           "colorbar": {
            "outlinewidth": 0,
            "ticks": ""
           }
          },
          "colorscale": {
           "sequential": [
            [
             0.0,
             "#0d0887"
            ],
            [
             0.1111111111111111,
             "#46039f"
            ],
            [
             0.2222222222222222,
             "#7201a8"
            ],
            [
             0.3333333333333333,
             "#9c179e"
            ],
            [
             0.4444444444444444,
             "#bd3786"
            ],
            [
             0.5555555555555556,
             "#d8576b"
            ],
            [
             0.6666666666666666,
             "#ed7953"
            ],
            [
             0.7777777777777778,
             "#fb9f3a"
            ],
            [
             0.8888888888888888,
             "#fdca26"
            ],
            [
             1.0,
             "#f0f921"
            ]
           ],
           "sequentialminus": [
            [
             0.0,
             "#0d0887"
            ],
            [
             0.1111111111111111,
             "#46039f"
            ],
            [
             0.2222222222222222,
             "#7201a8"
            ],
            [
             0.3333333333333333,
             "#9c179e"
            ],
            [
             0.4444444444444444,
             "#bd3786"
            ],
            [
             0.5555555555555556,
             "#d8576b"
            ],
            [
             0.6666666666666666,
             "#ed7953"
            ],
            [
             0.7777777777777778,
             "#fb9f3a"
            ],
            [
             0.8888888888888888,
             "#fdca26"
            ],
            [
             1.0,
             "#f0f921"
            ]
           ],
           "diverging": [
            [
             0,
             "#8e0152"
            ],
            [
             0.1,
             "#c51b7d"
            ],
            [
             0.2,
             "#de77ae"
            ],
            [
             0.3,
             "#f1b6da"
            ],
            [
             0.4,
             "#fde0ef"
            ],
            [
             0.5,
             "#f7f7f7"
            ],
            [
             0.6,
             "#e6f5d0"
            ],
            [
             0.7,
             "#b8e186"
            ],
            [
             0.8,
             "#7fbc41"
            ],
            [
             0.9,
             "#4d9221"
            ],
            [
             1,
             "#276419"
            ]
           ]
          },
          "xaxis": {
           "gridcolor": "white",
           "linecolor": "white",
           "ticks": "",
           "title": {
            "standoff": 15
           },
           "zerolinecolor": "white",
           "automargin": true,
           "zerolinewidth": 2
          },
          "yaxis": {
           "gridcolor": "white",
           "linecolor": "white",
           "ticks": "",
           "title": {
            "standoff": 15
           },
           "zerolinecolor": "white",
           "automargin": true,
           "zerolinewidth": 2
          },
          "scene": {
           "xaxis": {
            "backgroundcolor": "#E5ECF6",
            "gridcolor": "white",
            "linecolor": "white",
            "showbackground": true,
            "ticks": "",
            "zerolinecolor": "white",
            "gridwidth": 2
           },
           "yaxis": {
            "backgroundcolor": "#E5ECF6",
            "gridcolor": "white",
            "linecolor": "white",
            "showbackground": true,
            "ticks": "",
            "zerolinecolor": "white",
            "gridwidth": 2
           },
           "zaxis": {
            "backgroundcolor": "#E5ECF6",
            "gridcolor": "white",
            "linecolor": "white",
            "showbackground": true,
            "ticks": "",
            "zerolinecolor": "white",
            "gridwidth": 2
           }
          },
          "shapedefaults": {
           "line": {
            "color": "#2a3f5f"
           }
          },
          "annotationdefaults": {
           "arrowcolor": "#2a3f5f",
           "arrowhead": 0,
           "arrowwidth": 1
          },
          "geo": {
           "bgcolor": "white",
           "landcolor": "#E5ECF6",
           "subunitcolor": "white",
           "showland": true,
           "showlakes": true,
           "lakecolor": "white"
          },
          "title": {
           "x": 0.05
          },
          "mapbox": {
           "style": "light"
          }
         }
        },
        "xaxis": {
         "anchor": "y",
         "domain": [
          0.0,
          1.0
         ],
         "title": {
          "text": "YEAR"
         }
        },
        "yaxis": {
         "anchor": "x",
         "domain": [
          0.575,
          1.0
         ],
         "title": {
          "text": "Overtime Pay"
         },
         "tickprefix": "$",
         "tickformat": ",.0f"
        },
        "xaxis2": {
         "anchor": "y2",
         "domain": [
          0.0,
          1.0
         ],
         "title": {
          "text": "YEAR"
         }
        },
        "yaxis2": {
         "anchor": "x2",
         "domain": [
          0.0,
          0.425
         ],
         "title": {
          "text": "Percentage Change (%)"
         }
        },
        "annotations": [
         {
          "font": {
           "size": 16
          },
          "showarrow": false,
          "text": "Overtime Pay for Boston Fire Department (2011-2023)",
          "x": 0.5,
          "xanchor": "center",
          "xref": "paper",
          "y": 1.0,
          "yanchor": "bottom",
          "yref": "paper"
         },
         {
          "font": {
           "size": 16
          },
          "showarrow": false,
          "text": "Year-over-Year Percentage Change in Overtime Pay",
          "x": 0.5,
          "xanchor": "center",
          "xref": "paper",
          "y": 0.425,
          "yanchor": "bottom",
          "yref": "paper"
         },
         {
          "showarrow": false,
          "text": "Last data point (2023)",
          "x": 2023,
          "xanchor": "center",
          "xref": "x",
          "y": 1,
          "yanchor": "bottom",
          "yref": "y domain"
         },
         {
          "align": "center",
          "bgcolor": "rgba(255, 255, 255, 0.8)",
          "bordercolor": "black",
          "borderpad": 4,
          "borderwidth": 1,
          "font": {
           "color": "black",
           "size": 14
          },
          "showarrow": false,
          "text": "Best Model: Polynomial Degree 4 (R² = 0.9348)",
          "x": 0.5,
          "xref": "paper",
          "y": 1.05,
          "yref": "paper"
         }
        ],
        "shapes": [
         {
          "line": {
           "color": "black",
           "dash": "dash",
           "width": 2
          },
          "type": "line",
          "x0": 2023,
          "x1": 2023,
          "xref": "x",
          "y0": 0,
          "y1": 1,
          "yref": "y domain"
         },
         {
          "line": {
           "color": "black",
           "dash": "solid",
           "width": 1
          },
          "type": "line",
          "x0": 2012,
          "x1": 2023,
          "xref": "x2",
          "y0": 0,
          "y1": 0,
          "yref": "y2"
         }
        ],
        "legend": {
         "orientation": "h",
         "yanchor": "bottom",
         "y": 1.02,
         "xanchor": "right",
         "x": 1
        },
        "height": 800,
        "hovermode": "closest",
        "updatemenus": [
         {
          "buttons": [
           {
            "args": [
             {
              "visible": [
               true,
               true,
               false,
               false,
               true,
               true
              ]
             }
            ],
            "label": "Degree 2",
            "method": "update"
           },
           {
            "args": [
             {
              "visible": [
               true,
               false,
               true,
               false,
               true,
               true
              ]
             }
            ],
            "label": "Degree 3",
            "method": "update"
           },
           {
            "args": [
             {
              "visible": [
               true,
               false,
               false,
               true,
               true,
               true
              ]
             }
            ],
            "label": "Degree 4",
            "method": "update"
           },
           {
            "args": [
             {
              "visible": [
               true,
               true,
               true,
               true,
               true,
               true
              ]
             }
            ],
            "label": "All Models",
            "method": "update"
           }
          ],
          "direction": "right",
          "pad": {
           "r": 10,
           "t": 10
          },
          "showactive": true,
          "type": "buttons",
          "x": 0.1,
          "xanchor": "left",
          "y": 1.1,
          "yanchor": "top"
         }
        ]
       },
       "config": {
        "plotlyServerURL": "https://plot.ly"
       }
      },
      "text/html": [
       "<div>                            <div id=\"8d040775-d2f8-48c6-bcac-33f5fc50628f\" class=\"plotly-graph-div\" style=\"height:800px; width:100%;\"></div>            <script type=\"text/javascript\">                require([\"plotly\"], function(Plotly) {                    window.PLOTLYENV=window.PLOTLYENV || {};                                    if (document.getElementById(\"8d040775-d2f8-48c6-bcac-33f5fc50628f\")) {                    Plotly.newPlot(                        \"8d040775-d2f8-48c6-bcac-33f5fc50628f\",                        [{\"hovertemplate\":\"%{x}, $%{y:,.2f}\",\"marker\":{\"color\":\"orange\",\"size\":10},\"mode\":\"markers\",\"name\":\"Original Data\",\"x\":[2011,2012,2013,2014,2015,2016,2017,2018,2019,2020,2021,2022,2023],\"y\":[20940928.99,21408244.96,20388822.87,21318731.45,24815833.23,23762982.32,22829249.92,23679890.59,30274873.99,33761132.79,40043057.77,42902465.65,41462203.91],\"type\":\"scatter\",\"xaxis\":\"x\",\"yaxis\":\"y\"},{\"customdata\":[2,2,2,2,2,2,2,2,2,2,2,2,2,2,2],\"hovertemplate\":\"%{x}, $%{y:,.2f}\\u003cbr\\u003eModel: Degree %{customdata}\\u003cextra\\u003e\\u003c\\u002fextra\\u003e\",\"line\":{\"color\":\"blue\",\"width\":2},\"mode\":\"lines\",\"name\":\"Degree 2 (R\\u00b2 = 0.9330)\",\"visible\":\"legendonly\",\"x\":[2011,2012,2013,2014,2015,2016,2017,2018,2019,2020,2021,2022,2023,2024,2025],\"y\":[21312775.0736084,20867174.10974121,20859612.368530273,21290089.849853516,22158606.553833008,23465162.48034668,25209757.6295166,27392392.001586914,30013065.595947266,33071778.412841797,36568530.45239258,40503321.71447754,44876152.19921875,49687021.90649414,54935930.83642578],\"type\":\"scatter\",\"xaxis\":\"x\",\"yaxis\":\"y\"},{\"customdata\":[3,3,3,3,3,3,3,3,3,3,3,3,3,3,3],\"hovertemplate\":\"%{x}, $%{y:,.2f}\\u003cbr\\u003eModel: Degree %{customdata}\\u003cextra\\u003e\\u003c\\u002fextra\\u003e\",\"line\":{\"color\":\"green\",\"width\":2},\"mode\":\"lines\",\"name\":\"Degree 3 (R\\u00b2 = 0.9348)\",\"visible\":\"legendonly\",\"x\":[2011,2012,2013,2014,2015,2016,2017,2018,2019,2020,2021,2022,2023,2024,2025],\"y\":[21881782.625,20867213.15625,20549317.875,20876366.5625,21796628.90625,23258374.5,25209873.15625,27599394.53125,30375208.3125,33485584.1875,36878791.90625,40503101.03125,44306781.40625,48238102.65625,52245334.4375],\"type\":\"scatter\",\"xaxis\":\"x\",\"yaxis\":\"y\"},{\"customdata\":[4,4,4,4,4,4,4,4,4,4,4,4,4,4,4],\"hovertemplate\":\"%{x}, $%{y:,.2f}\\u003cbr\\u003eModel: Degree %{customdata}\\u003cextra\\u003e\\u003c\\u002fextra\\u003e\",\"line\":{\"color\":\"red\",\"width\":2},\"mode\":\"lines\",\"name\":\"Degree 4 (R\\u00b2 = 0.9348)\",\"visible\":true,\"x\":[2011,2012,2013,2014,2015,2016,2017,2018,2019,2020,2021,2022,2023,2024,2025],\"y\":[21884298.39453125,20867543.5078125,20548108.5390625,20874338.02734375,21794498.3671875,23256778.109375,25209287.7109375,27600059.66796875,30377048.44921875,33488130.58203125,36881104.54296875,40503690.80078125,44303531.9453125,48228192.37890625,52225158.66796875],\"type\":\"scatter\",\"xaxis\":\"x\",\"yaxis\":\"y\"},{\"fill\":\"toself\",\"fillcolor\":\"rgba(128, 128, 128, 0.2)\",\"hoverinfo\":\"skip\",\"line\":{\"color\":\"rgba(255, 255, 255, 0)\"},\"name\":\"Forecast Region\",\"showlegend\":true,\"x\":[2023,2024,2025,2025,2024,2023],\"y\":[44303531.9453125,48228192.37890625,52225158.66796875,20388822.87,20388822.87,20388822.87],\"type\":\"scatter\",\"xaxis\":\"x\",\"yaxis\":\"y\"},{\"hovertemplate\":\"Year %{x}\\u003cbr\\u003e$%{y:,.2f}\\u003cextra\\u003e\\u003c\\u002fextra\\u003e\",\"marker\":{\"color\":\"red\",\"size\":12,\"symbol\":\"diamond\"},\"mode\":\"markers+text\",\"name\":\"Predictions\",\"text\":[\"2024: $48,228,192M\",\"2025: $52,225,159M\"],\"textposition\":\"top center\",\"x\":[2024,2025],\"y\":[48228192.37890625,52225158.66796875],\"type\":\"scatter\",\"xaxis\":\"x\",\"yaxis\":\"y\"},{\"hovertemplate\":\"Year %{x}\\u003cbr\\u003eChange: %{y:.1f}%\\u003cextra\\u003e\\u003c\\u002fextra\\u003e\",\"marker\":{\"color\":\"skyblue\"},\"name\":\"YoY Change\",\"text\":[\"2.2%\",\"-4.8%\",\"4.6%\",\"16.4%\",\"-4.2%\",\"-3.9%\",\"3.7%\",\"27.9%\",\"11.5%\",\"18.6%\",\"7.1%\",\"-3.4%\"],\"textposition\":\"outside\",\"x\":[2012,2013,2014,2015,2016,2017,2018,2019,2020,2021,2022,2023],\"y\":[2.231591397989849,-4.76181999927938,4.56087428847234,16.40389245580558,-4.242657904096498,-3.929356961285651,3.726099950637353,27.85056533489667,11.51535362674519,18.60697334735374,7.140832991386199,-3.3570605282915764],\"type\":\"bar\",\"xaxis\":\"x2\",\"yaxis\":\"y2\"}],                        {\"template\":{\"data\":{\"histogram2dcontour\":[{\"type\":\"histogram2dcontour\",\"colorbar\":{\"outlinewidth\":0,\"ticks\":\"\"},\"colorscale\":[[0.0,\"#0d0887\"],[0.1111111111111111,\"#46039f\"],[0.2222222222222222,\"#7201a8\"],[0.3333333333333333,\"#9c179e\"],[0.4444444444444444,\"#bd3786\"],[0.5555555555555556,\"#d8576b\"],[0.6666666666666666,\"#ed7953\"],[0.7777777777777778,\"#fb9f3a\"],[0.8888888888888888,\"#fdca26\"],[1.0,\"#f0f921\"]]}],\"choropleth\":[{\"type\":\"choropleth\",\"colorbar\":{\"outlinewidth\":0,\"ticks\":\"\"}}],\"histogram2d\":[{\"type\":\"histogram2d\",\"colorbar\":{\"outlinewidth\":0,\"ticks\":\"\"},\"colorscale\":[[0.0,\"#0d0887\"],[0.1111111111111111,\"#46039f\"],[0.2222222222222222,\"#7201a8\"],[0.3333333333333333,\"#9c179e\"],[0.4444444444444444,\"#bd3786\"],[0.5555555555555556,\"#d8576b\"],[0.6666666666666666,\"#ed7953\"],[0.7777777777777778,\"#fb9f3a\"],[0.8888888888888888,\"#fdca26\"],[1.0,\"#f0f921\"]]}],\"heatmap\":[{\"type\":\"heatmap\",\"colorbar\":{\"outlinewidth\":0,\"ticks\":\"\"},\"colorscale\":[[0.0,\"#0d0887\"],[0.1111111111111111,\"#46039f\"],[0.2222222222222222,\"#7201a8\"],[0.3333333333333333,\"#9c179e\"],[0.4444444444444444,\"#bd3786\"],[0.5555555555555556,\"#d8576b\"],[0.6666666666666666,\"#ed7953\"],[0.7777777777777778,\"#fb9f3a\"],[0.8888888888888888,\"#fdca26\"],[1.0,\"#f0f921\"]]}],\"heatmapgl\":[{\"type\":\"heatmapgl\",\"colorbar\":{\"outlinewidth\":0,\"ticks\":\"\"},\"colorscale\":[[0.0,\"#0d0887\"],[0.1111111111111111,\"#46039f\"],[0.2222222222222222,\"#7201a8\"],[0.3333333333333333,\"#9c179e\"],[0.4444444444444444,\"#bd3786\"],[0.5555555555555556,\"#d8576b\"],[0.6666666666666666,\"#ed7953\"],[0.7777777777777778,\"#fb9f3a\"],[0.8888888888888888,\"#fdca26\"],[1.0,\"#f0f921\"]]}],\"contourcarpet\":[{\"type\":\"contourcarpet\",\"colorbar\":{\"outlinewidth\":0,\"ticks\":\"\"}}],\"contour\":[{\"type\":\"contour\",\"colorbar\":{\"outlinewidth\":0,\"ticks\":\"\"},\"colorscale\":[[0.0,\"#0d0887\"],[0.1111111111111111,\"#46039f\"],[0.2222222222222222,\"#7201a8\"],[0.3333333333333333,\"#9c179e\"],[0.4444444444444444,\"#bd3786\"],[0.5555555555555556,\"#d8576b\"],[0.6666666666666666,\"#ed7953\"],[0.7777777777777778,\"#fb9f3a\"],[0.8888888888888888,\"#fdca26\"],[1.0,\"#f0f921\"]]}],\"surface\":[{\"type\":\"surface\",\"colorbar\":{\"outlinewidth\":0,\"ticks\":\"\"},\"colorscale\":[[0.0,\"#0d0887\"],[0.1111111111111111,\"#46039f\"],[0.2222222222222222,\"#7201a8\"],[0.3333333333333333,\"#9c179e\"],[0.4444444444444444,\"#bd3786\"],[0.5555555555555556,\"#d8576b\"],[0.6666666666666666,\"#ed7953\"],[0.7777777777777778,\"#fb9f3a\"],[0.8888888888888888,\"#fdca26\"],[1.0,\"#f0f921\"]]}],\"mesh3d\":[{\"type\":\"mesh3d\",\"colorbar\":{\"outlinewidth\":0,\"ticks\":\"\"}}],\"scatter\":[{\"fillpattern\":{\"fillmode\":\"overlay\",\"size\":10,\"solidity\":0.2},\"type\":\"scatter\"}],\"parcoords\":[{\"type\":\"parcoords\",\"line\":{\"colorbar\":{\"outlinewidth\":0,\"ticks\":\"\"}}}],\"scatterpolargl\":[{\"type\":\"scatterpolargl\",\"marker\":{\"colorbar\":{\"outlinewidth\":0,\"ticks\":\"\"}}}],\"bar\":[{\"error_x\":{\"color\":\"#2a3f5f\"},\"error_y\":{\"color\":\"#2a3f5f\"},\"marker\":{\"line\":{\"color\":\"#E5ECF6\",\"width\":0.5},\"pattern\":{\"fillmode\":\"overlay\",\"size\":10,\"solidity\":0.2}},\"type\":\"bar\"}],\"scattergeo\":[{\"type\":\"scattergeo\",\"marker\":{\"colorbar\":{\"outlinewidth\":0,\"ticks\":\"\"}}}],\"scatterpolar\":[{\"type\":\"scatterpolar\",\"marker\":{\"colorbar\":{\"outlinewidth\":0,\"ticks\":\"\"}}}],\"histogram\":[{\"marker\":{\"pattern\":{\"fillmode\":\"overlay\",\"size\":10,\"solidity\":0.2}},\"type\":\"histogram\"}],\"scattergl\":[{\"type\":\"scattergl\",\"marker\":{\"colorbar\":{\"outlinewidth\":0,\"ticks\":\"\"}}}],\"scatter3d\":[{\"type\":\"scatter3d\",\"line\":{\"colorbar\":{\"outlinewidth\":0,\"ticks\":\"\"}},\"marker\":{\"colorbar\":{\"outlinewidth\":0,\"ticks\":\"\"}}}],\"scattermapbox\":[{\"type\":\"scattermapbox\",\"marker\":{\"colorbar\":{\"outlinewidth\":0,\"ticks\":\"\"}}}],\"scatterternary\":[{\"type\":\"scatterternary\",\"marker\":{\"colorbar\":{\"outlinewidth\":0,\"ticks\":\"\"}}}],\"scattercarpet\":[{\"type\":\"scattercarpet\",\"marker\":{\"colorbar\":{\"outlinewidth\":0,\"ticks\":\"\"}}}],\"carpet\":[{\"aaxis\":{\"endlinecolor\":\"#2a3f5f\",\"gridcolor\":\"white\",\"linecolor\":\"white\",\"minorgridcolor\":\"white\",\"startlinecolor\":\"#2a3f5f\"},\"baxis\":{\"endlinecolor\":\"#2a3f5f\",\"gridcolor\":\"white\",\"linecolor\":\"white\",\"minorgridcolor\":\"white\",\"startlinecolor\":\"#2a3f5f\"},\"type\":\"carpet\"}],\"table\":[{\"cells\":{\"fill\":{\"color\":\"#EBF0F8\"},\"line\":{\"color\":\"white\"}},\"header\":{\"fill\":{\"color\":\"#C8D4E3\"},\"line\":{\"color\":\"white\"}},\"type\":\"table\"}],\"barpolar\":[{\"marker\":{\"line\":{\"color\":\"#E5ECF6\",\"width\":0.5},\"pattern\":{\"fillmode\":\"overlay\",\"size\":10,\"solidity\":0.2}},\"type\":\"barpolar\"}],\"pie\":[{\"automargin\":true,\"type\":\"pie\"}]},\"layout\":{\"autotypenumbers\":\"strict\",\"colorway\":[\"#636efa\",\"#EF553B\",\"#00cc96\",\"#ab63fa\",\"#FFA15A\",\"#19d3f3\",\"#FF6692\",\"#B6E880\",\"#FF97FF\",\"#FECB52\"],\"font\":{\"color\":\"#2a3f5f\"},\"hovermode\":\"closest\",\"hoverlabel\":{\"align\":\"left\"},\"paper_bgcolor\":\"white\",\"plot_bgcolor\":\"#E5ECF6\",\"polar\":{\"bgcolor\":\"#E5ECF6\",\"angularaxis\":{\"gridcolor\":\"white\",\"linecolor\":\"white\",\"ticks\":\"\"},\"radialaxis\":{\"gridcolor\":\"white\",\"linecolor\":\"white\",\"ticks\":\"\"}},\"ternary\":{\"bgcolor\":\"#E5ECF6\",\"aaxis\":{\"gridcolor\":\"white\",\"linecolor\":\"white\",\"ticks\":\"\"},\"baxis\":{\"gridcolor\":\"white\",\"linecolor\":\"white\",\"ticks\":\"\"},\"caxis\":{\"gridcolor\":\"white\",\"linecolor\":\"white\",\"ticks\":\"\"}},\"coloraxis\":{\"colorbar\":{\"outlinewidth\":0,\"ticks\":\"\"}},\"colorscale\":{\"sequential\":[[0.0,\"#0d0887\"],[0.1111111111111111,\"#46039f\"],[0.2222222222222222,\"#7201a8\"],[0.3333333333333333,\"#9c179e\"],[0.4444444444444444,\"#bd3786\"],[0.5555555555555556,\"#d8576b\"],[0.6666666666666666,\"#ed7953\"],[0.7777777777777778,\"#fb9f3a\"],[0.8888888888888888,\"#fdca26\"],[1.0,\"#f0f921\"]],\"sequentialminus\":[[0.0,\"#0d0887\"],[0.1111111111111111,\"#46039f\"],[0.2222222222222222,\"#7201a8\"],[0.3333333333333333,\"#9c179e\"],[0.4444444444444444,\"#bd3786\"],[0.5555555555555556,\"#d8576b\"],[0.6666666666666666,\"#ed7953\"],[0.7777777777777778,\"#fb9f3a\"],[0.8888888888888888,\"#fdca26\"],[1.0,\"#f0f921\"]],\"diverging\":[[0,\"#8e0152\"],[0.1,\"#c51b7d\"],[0.2,\"#de77ae\"],[0.3,\"#f1b6da\"],[0.4,\"#fde0ef\"],[0.5,\"#f7f7f7\"],[0.6,\"#e6f5d0\"],[0.7,\"#b8e186\"],[0.8,\"#7fbc41\"],[0.9,\"#4d9221\"],[1,\"#276419\"]]},\"xaxis\":{\"gridcolor\":\"white\",\"linecolor\":\"white\",\"ticks\":\"\",\"title\":{\"standoff\":15},\"zerolinecolor\":\"white\",\"automargin\":true,\"zerolinewidth\":2},\"yaxis\":{\"gridcolor\":\"white\",\"linecolor\":\"white\",\"ticks\":\"\",\"title\":{\"standoff\":15},\"zerolinecolor\":\"white\",\"automargin\":true,\"zerolinewidth\":2},\"scene\":{\"xaxis\":{\"backgroundcolor\":\"#E5ECF6\",\"gridcolor\":\"white\",\"linecolor\":\"white\",\"showbackground\":true,\"ticks\":\"\",\"zerolinecolor\":\"white\",\"gridwidth\":2},\"yaxis\":{\"backgroundcolor\":\"#E5ECF6\",\"gridcolor\":\"white\",\"linecolor\":\"white\",\"showbackground\":true,\"ticks\":\"\",\"zerolinecolor\":\"white\",\"gridwidth\":2},\"zaxis\":{\"backgroundcolor\":\"#E5ECF6\",\"gridcolor\":\"white\",\"linecolor\":\"white\",\"showbackground\":true,\"ticks\":\"\",\"zerolinecolor\":\"white\",\"gridwidth\":2}},\"shapedefaults\":{\"line\":{\"color\":\"#2a3f5f\"}},\"annotationdefaults\":{\"arrowcolor\":\"#2a3f5f\",\"arrowhead\":0,\"arrowwidth\":1},\"geo\":{\"bgcolor\":\"white\",\"landcolor\":\"#E5ECF6\",\"subunitcolor\":\"white\",\"showland\":true,\"showlakes\":true,\"lakecolor\":\"white\"},\"title\":{\"x\":0.05},\"mapbox\":{\"style\":\"light\"}}},\"xaxis\":{\"anchor\":\"y\",\"domain\":[0.0,1.0],\"title\":{\"text\":\"YEAR\"}},\"yaxis\":{\"anchor\":\"x\",\"domain\":[0.575,1.0],\"title\":{\"text\":\"Overtime Pay\"},\"tickprefix\":\"$\",\"tickformat\":\",.0f\"},\"xaxis2\":{\"anchor\":\"y2\",\"domain\":[0.0,1.0],\"title\":{\"text\":\"YEAR\"}},\"yaxis2\":{\"anchor\":\"x2\",\"domain\":[0.0,0.425],\"title\":{\"text\":\"Percentage Change (%)\"}},\"annotations\":[{\"font\":{\"size\":16},\"showarrow\":false,\"text\":\"Overtime Pay for Boston Fire Department (2011-2023)\",\"x\":0.5,\"xanchor\":\"center\",\"xref\":\"paper\",\"y\":1.0,\"yanchor\":\"bottom\",\"yref\":\"paper\"},{\"font\":{\"size\":16},\"showarrow\":false,\"text\":\"Year-over-Year Percentage Change in Overtime Pay\",\"x\":0.5,\"xanchor\":\"center\",\"xref\":\"paper\",\"y\":0.425,\"yanchor\":\"bottom\",\"yref\":\"paper\"},{\"showarrow\":false,\"text\":\"Last data point (2023)\",\"x\":2023,\"xanchor\":\"center\",\"xref\":\"x\",\"y\":1,\"yanchor\":\"bottom\",\"yref\":\"y domain\"},{\"align\":\"center\",\"bgcolor\":\"rgba(255, 255, 255, 0.8)\",\"bordercolor\":\"black\",\"borderpad\":4,\"borderwidth\":1,\"font\":{\"color\":\"black\",\"size\":14},\"showarrow\":false,\"text\":\"Best Model: Polynomial Degree 4 (R\\u00b2 = 0.9348)\",\"x\":0.5,\"xref\":\"paper\",\"y\":1.05,\"yref\":\"paper\"}],\"shapes\":[{\"line\":{\"color\":\"black\",\"dash\":\"dash\",\"width\":2},\"type\":\"line\",\"x0\":2023,\"x1\":2023,\"xref\":\"x\",\"y0\":0,\"y1\":1,\"yref\":\"y domain\"},{\"line\":{\"color\":\"black\",\"dash\":\"solid\",\"width\":1},\"type\":\"line\",\"x0\":2012,\"x1\":2023,\"xref\":\"x2\",\"y0\":0,\"y1\":0,\"yref\":\"y2\"}],\"legend\":{\"orientation\":\"h\",\"yanchor\":\"bottom\",\"y\":1.02,\"xanchor\":\"right\",\"x\":1},\"height\":800,\"hovermode\":\"closest\",\"updatemenus\":[{\"buttons\":[{\"args\":[{\"visible\":[true,true,false,false,true,true]}],\"label\":\"Degree 2\",\"method\":\"update\"},{\"args\":[{\"visible\":[true,false,true,false,true,true]}],\"label\":\"Degree 3\",\"method\":\"update\"},{\"args\":[{\"visible\":[true,false,false,true,true,true]}],\"label\":\"Degree 4\",\"method\":\"update\"},{\"args\":[{\"visible\":[true,true,true,true,true,true]}],\"label\":\"All Models\",\"method\":\"update\"}],\"direction\":\"right\",\"pad\":{\"r\":10,\"t\":10},\"showactive\":true,\"type\":\"buttons\",\"x\":0.1,\"xanchor\":\"left\",\"y\":1.1,\"yanchor\":\"top\"}]},                        {\"responsive\": true}                    ).then(function(){\n",
       "                            \n",
       "var gd = document.getElementById('8d040775-d2f8-48c6-bcac-33f5fc50628f');\n",
       "var x = new MutationObserver(function (mutations, observer) {{\n",
       "        var display = window.getComputedStyle(gd).display;\n",
       "        if (!display || display === 'none') {{\n",
       "            console.log([gd, 'removed!']);\n",
       "            Plotly.purge(gd);\n",
       "            observer.disconnect();\n",
       "        }}\n",
       "}});\n",
       "\n",
       "// Listen for the removal of the full notebook cells\n",
       "var notebookContainer = gd.closest('#notebook-container');\n",
       "if (notebookContainer) {{\n",
       "    x.observe(notebookContainer, {childList: true});\n",
       "}}\n",
       "\n",
       "// Listen for the clearing of the current output cell\n",
       "var outputEl = gd.closest('.output');\n",
       "if (outputEl) {{\n",
       "    x.observe(outputEl, {childList: true});\n",
       "}}\n",
       "\n",
       "                        })                };                });            </script>        </div>"
      ]
     },
     "metadata": {},
     "output_type": "display_data"
    },
    {
     "name": "stdout",
     "output_type": "stream",
     "text": [
      "\n",
      "Forecast summary:\n",
      "Best degree polynomial: 4\n",
      "R² score: 0.9348\n",
      "Equation: y = 1.82e+13 + -9.68e+03x^1 + -2.67e+07x^2 + 1.76e+04x^3 + -3.25e+00x^4\n"
     ]
    }
   ],
   "execution_count": 61
  },
  {
   "metadata": {
    "ExecuteTime": {
     "end_time": "2025-04-21T18:25:51.869506Z",
     "start_time": "2025-04-21T18:25:51.844118Z"
    }
   },
   "cell_type": "code",
   "source": [
    "# Select the department to analyze\n",
    "department_to_analyze = 'Boston Police Department'\n",
    "if department_to_analyze in department_dataframes:\n",
    "    df = department_dataframes[department_to_analyze]\n",
    "\n",
    "# Run the analysis\n",
    "results = polynomial_regression_forecast(\n",
    "    df=df,\n",
    "    x_column='YEAR',\n",
    "    y_column='OVERTIME',\n",
    "    forecast_years=2,\n",
    "    test_degrees=[2, 3, 4],\n",
    "    title='Overtime Pay for Boston Police Department (2011-2023)',\n",
    "    y_label='Overtime Pay'\n",
    ")\n",
    "\n",
    "# Access the results\n",
    "print(f\"\\nForecast summary:\")\n",
    "print(f\"Best degree polynomial: {results['best_degree']}\")\n",
    "print(f\"R² score: {results['metrics'][results['best_degree']]['r2']:.4f}\")\n",
    "print(f\"Equation: {results['equation']}\")"
   ],
   "id": "2f723c83d84c4b97",
   "outputs": [
    {
     "name": "stdout",
     "output_type": "stream",
     "text": [
      "Best polynomial degree: 4\n",
      "\n",
      "Predicted future values:\n",
      "Year 2024: $88,282,388.94\n",
      "Year 2025: $92,533,622.70\n",
      "\n",
      "Best model equation:\n",
      "y = -4.76e+13 + 2.54e+04x^1 + 7.00e+07x^2 + -4.62e+04x^3 + 8.59e+00x^4\n"
     ]
    },
    {
     "data": {
      "application/vnd.plotly.v1+json": {
       "data": [
        {
         "hovertemplate": "%{x}, $%{y:,.2f}",
         "marker": {
          "color": "orange",
          "size": 10
         },
         "mode": "markers",
         "name": "Original Data",
         "x": [
          2011,
          2012,
          2013,
          2014,
          2015,
          2016,
          2017,
          2018,
          2019,
          2020,
          2021,
          2022,
          2023
         ],
         "y": [
          4.223736079E7,
          4.469741597E7,
          5.748376763E7,
          5.791460589E7,
          6.160814493E7,
          6.098991725E7,
          6.693364987E7,
          7.785543598E7,
          7.776430251E7,
          7.805769623E7,
          7.222278503E7,
          7.826540251E7,
          8.851776846E7
         ],
         "type": "scatter",
         "xaxis": "x",
         "yaxis": "y"
        },
        {
         "customdata": [
          2,
          2,
          2,
          2,
          2,
          2,
          2,
          2,
          2,
          2,
          2,
          2,
          2,
          2,
          2
         ],
         "hovertemplate": "%{x}, $%{y:,.2f}<br>Model: Degree %{customdata}<extra></extra>",
         "line": {
          "color": "blue",
          "width": 2
         },
         "mode": "lines",
         "name": "Degree 2 (R² = 0.9166)",
         "visible": "legendonly",
         "x": [
          2011,
          2012,
          2013,
          2014,
          2015,
          2016,
          2017,
          2018,
          2019,
          2020,
          2021,
          2022,
          2023,
          2024,
          2025
         ],
         "y": [
          4.266539987426758E7,
          4.7836362931152344E7,
          5.268062296789551E7,
          5.719817998461914E7,
          6.13890339810791E7,
          6.525318495751953E7,
          6.87906329140625E7,
          7.200137785009766E7,
          7.488541976611328E7,
          7.74427586619873E7,
          7.967339453771973E7,
          8.157732739331055E7,
          8.315455722875977E7,
          8.440508404431152E7,
          8.532890783947754E7
         ],
         "type": "scatter",
         "xaxis": "x",
         "yaxis": "y"
        },
        {
         "customdata": [
          3,
          3,
          3,
          3,
          3,
          3,
          3,
          3,
          3,
          3,
          3,
          3,
          3,
          3,
          3
         ],
         "hovertemplate": "%{x}, $%{y:,.2f}<br>Model: Degree %{customdata}<extra></extra>",
         "line": {
          "color": "green",
          "width": 2
         },
         "mode": "lines",
         "name": "Degree 3 (R² = 0.9213)",
         "visible": "legendonly",
         "x": [
          2011,
          2012,
          2013,
          2014,
          2015,
          2016,
          2017,
          2018,
          2019,
          2020,
          2021,
          2022,
          2023,
          2024,
          2025
         ],
         "y": [
          4.114918778125E7,
          4.783732365625E7,
          5.350900165625E7,
          5.830218153125E7,
          6.235482278125E7,
          6.580488515625E7,
          6.879032828125E7,
          7.144911203125E7,
          7.391919578125E7,
          7.633853953125E7,
          7.884510278125E7,
          8.157684503125E7,
          8.467172640625E7,
          8.826770615625E7,
          9.250274428125E7
         ],
         "type": "scatter",
         "xaxis": "x",
         "yaxis": "y"
        },
        {
         "customdata": [
          4,
          4,
          4,
          4,
          4,
          4,
          4,
          4,
          4,
          4,
          4,
          4,
          4,
          4,
          4
         ],
         "hovertemplate": "%{x}, $%{y:,.2f}<br>Model: Degree %{customdata}<extra></extra>",
         "line": {
          "color": "red",
          "width": 2
         },
         "mode": "lines",
         "name": "Degree 4 (R² = 0.9213)",
         "visible": true,
         "x": [
          2011,
          2012,
          2013,
          2014,
          2015,
          2016,
          2017,
          2018,
          2019,
          2020,
          2021,
          2022,
          2023,
          2024,
          2025
         ],
         "y": [
          4.114637846875E7,
          4.783539025E7,
          5.35085603984375E7,
          5.8303186640625E7,
          6.2356772953125E7,
          6.58070290703125E7,
          6.8791871125E7,
          7.14494210703125E7,
          7.39180071171875E7,
          7.63361634921875E7,
          7.88426304453125E7,
          8.157635440625E7,
          8.4676487703125E7,
          8.82823889375E7,
          9.25336226953125E7
         ],
         "type": "scatter",
         "xaxis": "x",
         "yaxis": "y"
        },
        {
         "fill": "toself",
         "fillcolor": "rgba(128, 128, 128, 0.2)",
         "hoverinfo": "skip",
         "line": {
          "color": "rgba(255, 255, 255, 0)"
         },
         "name": "Forecast Region",
         "showlegend": true,
         "x": [
          2023,
          2024,
          2025,
          2025,
          2024,
          2023
         ],
         "y": [
          8.4676487703125E7,
          8.82823889375E7,
          9.25336226953125E7,
          4.223736079E7,
          4.223736079E7,
          4.223736079E7
         ],
         "type": "scatter",
         "xaxis": "x",
         "yaxis": "y"
        },
        {
         "hovertemplate": "Year %{x}<br>$%{y:,.2f}<extra></extra>",
         "marker": {
          "color": "red",
          "size": 12,
          "symbol": "diamond"
         },
         "mode": "markers+text",
         "name": "Predictions",
         "text": [
          "2024: $88,282,389M",
          "2025: $92,533,623M"
         ],
         "textposition": "top center",
         "x": [
          2024,
          2025
         ],
         "y": [
          8.82823889375E7,
          9.25336226953125E7
         ],
         "type": "scatter",
         "xaxis": "x",
         "yaxis": "y"
        },
        {
         "hovertemplate": "Year %{x}<br>Change: %{y:.1f}%<extra></extra>",
         "marker": {
          "color": "skyblue"
         },
         "name": "YoY Change",
         "text": [
          "5.8%",
          "28.6%",
          "0.7%",
          "6.4%",
          "-1.0%",
          "9.7%",
          "16.3%",
          "-0.1%",
          "0.4%",
          "-7.5%",
          "8.4%",
          "13.1%"
         ],
         "textposition": "outside",
         "x": [
          2012,
          2013,
          2014,
          2015,
          2016,
          2017,
          2018,
          2019,
          2020,
          2021,
          2022,
          2023
         ],
         "y": [
          5.82435818428891,
          28.606467247641216,
          0.7494955145827102,
          6.377560519043013,
          -1.0034836801245002,
          9.74543479971683,
          16.3173323600499,
          -0.11705472951613777,
          0.3772858632175993,
          -7.475126069320842,
          8.366635927276985,
          13.099486645698958
         ],
         "type": "bar",
         "xaxis": "x2",
         "yaxis": "y2"
        }
       ],
       "layout": {
        "template": {
         "data": {
          "histogram2dcontour": [
           {
            "type": "histogram2dcontour",
            "colorbar": {
             "outlinewidth": 0,
             "ticks": ""
            },
            "colorscale": [
             [
              0.0,
              "#0d0887"
             ],
             [
              0.1111111111111111,
              "#46039f"
             ],
             [
              0.2222222222222222,
              "#7201a8"
             ],
             [
              0.3333333333333333,
              "#9c179e"
             ],
             [
              0.4444444444444444,
              "#bd3786"
             ],
             [
              0.5555555555555556,
              "#d8576b"
             ],
             [
              0.6666666666666666,
              "#ed7953"
             ],
             [
              0.7777777777777778,
              "#fb9f3a"
             ],
             [
              0.8888888888888888,
              "#fdca26"
             ],
             [
              1.0,
              "#f0f921"
             ]
            ]
           }
          ],
          "choropleth": [
           {
            "type": "choropleth",
            "colorbar": {
             "outlinewidth": 0,
             "ticks": ""
            }
           }
          ],
          "histogram2d": [
           {
            "type": "histogram2d",
            "colorbar": {
             "outlinewidth": 0,
             "ticks": ""
            },
            "colorscale": [
             [
              0.0,
              "#0d0887"
             ],
             [
              0.1111111111111111,
              "#46039f"
             ],
             [
              0.2222222222222222,
              "#7201a8"
             ],
             [
              0.3333333333333333,
              "#9c179e"
             ],
             [
              0.4444444444444444,
              "#bd3786"
             ],
             [
              0.5555555555555556,
              "#d8576b"
             ],
             [
              0.6666666666666666,
              "#ed7953"
             ],
             [
              0.7777777777777778,
              "#fb9f3a"
             ],
             [
              0.8888888888888888,
              "#fdca26"
             ],
             [
              1.0,
              "#f0f921"
             ]
            ]
           }
          ],
          "heatmap": [
           {
            "type": "heatmap",
            "colorbar": {
             "outlinewidth": 0,
             "ticks": ""
            },
            "colorscale": [
             [
              0.0,
              "#0d0887"
             ],
             [
              0.1111111111111111,
              "#46039f"
             ],
             [
              0.2222222222222222,
              "#7201a8"
             ],
             [
              0.3333333333333333,
              "#9c179e"
             ],
             [
              0.4444444444444444,
              "#bd3786"
             ],
             [
              0.5555555555555556,
              "#d8576b"
             ],
             [
              0.6666666666666666,
              "#ed7953"
             ],
             [
              0.7777777777777778,
              "#fb9f3a"
             ],
             [
              0.8888888888888888,
              "#fdca26"
             ],
             [
              1.0,
              "#f0f921"
             ]
            ]
           }
          ],
          "heatmapgl": [
           {
            "type": "heatmapgl",
            "colorbar": {
             "outlinewidth": 0,
             "ticks": ""
            },
            "colorscale": [
             [
              0.0,
              "#0d0887"
             ],
             [
              0.1111111111111111,
              "#46039f"
             ],
             [
              0.2222222222222222,
              "#7201a8"
             ],
             [
              0.3333333333333333,
              "#9c179e"
             ],
             [
              0.4444444444444444,
              "#bd3786"
             ],
             [
              0.5555555555555556,
              "#d8576b"
             ],
             [
              0.6666666666666666,
              "#ed7953"
             ],
             [
              0.7777777777777778,
              "#fb9f3a"
             ],
             [
              0.8888888888888888,
              "#fdca26"
             ],
             [
              1.0,
              "#f0f921"
             ]
            ]
           }
          ],
          "contourcarpet": [
           {
            "type": "contourcarpet",
            "colorbar": {
             "outlinewidth": 0,
             "ticks": ""
            }
           }
          ],
          "contour": [
           {
            "type": "contour",
            "colorbar": {
             "outlinewidth": 0,
             "ticks": ""
            },
            "colorscale": [
             [
              0.0,
              "#0d0887"
             ],
             [
              0.1111111111111111,
              "#46039f"
             ],
             [
              0.2222222222222222,
              "#7201a8"
             ],
             [
              0.3333333333333333,
              "#9c179e"
             ],
             [
              0.4444444444444444,
              "#bd3786"
             ],
             [
              0.5555555555555556,
              "#d8576b"
             ],
             [
              0.6666666666666666,
              "#ed7953"
             ],
             [
              0.7777777777777778,
              "#fb9f3a"
             ],
             [
              0.8888888888888888,
              "#fdca26"
             ],
             [
              1.0,
              "#f0f921"
             ]
            ]
           }
          ],
          "surface": [
           {
            "type": "surface",
            "colorbar": {
             "outlinewidth": 0,
             "ticks": ""
            },
            "colorscale": [
             [
              0.0,
              "#0d0887"
             ],
             [
              0.1111111111111111,
              "#46039f"
             ],
             [
              0.2222222222222222,
              "#7201a8"
             ],
             [
              0.3333333333333333,
              "#9c179e"
             ],
             [
              0.4444444444444444,
              "#bd3786"
             ],
             [
              0.5555555555555556,
              "#d8576b"
             ],
             [
              0.6666666666666666,
              "#ed7953"
             ],
             [
              0.7777777777777778,
              "#fb9f3a"
             ],
             [
              0.8888888888888888,
              "#fdca26"
             ],
             [
              1.0,
              "#f0f921"
             ]
            ]
           }
          ],
          "mesh3d": [
           {
            "type": "mesh3d",
            "colorbar": {
             "outlinewidth": 0,
             "ticks": ""
            }
           }
          ],
          "scatter": [
           {
            "fillpattern": {
             "fillmode": "overlay",
             "size": 10,
             "solidity": 0.2
            },
            "type": "scatter"
           }
          ],
          "parcoords": [
           {
            "type": "parcoords",
            "line": {
             "colorbar": {
              "outlinewidth": 0,
              "ticks": ""
             }
            }
           }
          ],
          "scatterpolargl": [
           {
            "type": "scatterpolargl",
            "marker": {
             "colorbar": {
              "outlinewidth": 0,
              "ticks": ""
             }
            }
           }
          ],
          "bar": [
           {
            "error_x": {
             "color": "#2a3f5f"
            },
            "error_y": {
             "color": "#2a3f5f"
            },
            "marker": {
             "line": {
              "color": "#E5ECF6",
              "width": 0.5
             },
             "pattern": {
              "fillmode": "overlay",
              "size": 10,
              "solidity": 0.2
             }
            },
            "type": "bar"
           }
          ],
          "scattergeo": [
           {
            "type": "scattergeo",
            "marker": {
             "colorbar": {
              "outlinewidth": 0,
              "ticks": ""
             }
            }
           }
          ],
          "scatterpolar": [
           {
            "type": "scatterpolar",
            "marker": {
             "colorbar": {
              "outlinewidth": 0,
              "ticks": ""
             }
            }
           }
          ],
          "histogram": [
           {
            "marker": {
             "pattern": {
              "fillmode": "overlay",
              "size": 10,
              "solidity": 0.2
             }
            },
            "type": "histogram"
           }
          ],
          "scattergl": [
           {
            "type": "scattergl",
            "marker": {
             "colorbar": {
              "outlinewidth": 0,
              "ticks": ""
             }
            }
           }
          ],
          "scatter3d": [
           {
            "type": "scatter3d",
            "line": {
             "colorbar": {
              "outlinewidth": 0,
              "ticks": ""
             }
            },
            "marker": {
             "colorbar": {
              "outlinewidth": 0,
              "ticks": ""
             }
            }
           }
          ],
          "scattermapbox": [
           {
            "type": "scattermapbox",
            "marker": {
             "colorbar": {
              "outlinewidth": 0,
              "ticks": ""
             }
            }
           }
          ],
          "scatterternary": [
           {
            "type": "scatterternary",
            "marker": {
             "colorbar": {
              "outlinewidth": 0,
              "ticks": ""
             }
            }
           }
          ],
          "scattercarpet": [
           {
            "type": "scattercarpet",
            "marker": {
             "colorbar": {
              "outlinewidth": 0,
              "ticks": ""
             }
            }
           }
          ],
          "carpet": [
           {
            "aaxis": {
             "endlinecolor": "#2a3f5f",
             "gridcolor": "white",
             "linecolor": "white",
             "minorgridcolor": "white",
             "startlinecolor": "#2a3f5f"
            },
            "baxis": {
             "endlinecolor": "#2a3f5f",
             "gridcolor": "white",
             "linecolor": "white",
             "minorgridcolor": "white",
             "startlinecolor": "#2a3f5f"
            },
            "type": "carpet"
           }
          ],
          "table": [
           {
            "cells": {
             "fill": {
              "color": "#EBF0F8"
             },
             "line": {
              "color": "white"
             }
            },
            "header": {
             "fill": {
              "color": "#C8D4E3"
             },
             "line": {
              "color": "white"
             }
            },
            "type": "table"
           }
          ],
          "barpolar": [
           {
            "marker": {
             "line": {
              "color": "#E5ECF6",
              "width": 0.5
             },
             "pattern": {
              "fillmode": "overlay",
              "size": 10,
              "solidity": 0.2
             }
            },
            "type": "barpolar"
           }
          ],
          "pie": [
           {
            "automargin": true,
            "type": "pie"
           }
          ]
         },
         "layout": {
          "autotypenumbers": "strict",
          "colorway": [
           "#636efa",
           "#EF553B",
           "#00cc96",
           "#ab63fa",
           "#FFA15A",
           "#19d3f3",
           "#FF6692",
           "#B6E880",
           "#FF97FF",
           "#FECB52"
          ],
          "font": {
           "color": "#2a3f5f"
          },
          "hovermode": "closest",
          "hoverlabel": {
           "align": "left"
          },
          "paper_bgcolor": "white",
          "plot_bgcolor": "#E5ECF6",
          "polar": {
           "bgcolor": "#E5ECF6",
           "angularaxis": {
            "gridcolor": "white",
            "linecolor": "white",
            "ticks": ""
           },
           "radialaxis": {
            "gridcolor": "white",
            "linecolor": "white",
            "ticks": ""
           }
          },
          "ternary": {
           "bgcolor": "#E5ECF6",
           "aaxis": {
            "gridcolor": "white",
            "linecolor": "white",
            "ticks": ""
           },
           "baxis": {
            "gridcolor": "white",
            "linecolor": "white",
            "ticks": ""
           },
           "caxis": {
            "gridcolor": "white",
            "linecolor": "white",
            "ticks": ""
           }
          },
          "coloraxis": {
           "colorbar": {
            "outlinewidth": 0,
            "ticks": ""
           }
          },
          "colorscale": {
           "sequential": [
            [
             0.0,
             "#0d0887"
            ],
            [
             0.1111111111111111,
             "#46039f"
            ],
            [
             0.2222222222222222,
             "#7201a8"
            ],
            [
             0.3333333333333333,
             "#9c179e"
            ],
            [
             0.4444444444444444,
             "#bd3786"
            ],
            [
             0.5555555555555556,
             "#d8576b"
            ],
            [
             0.6666666666666666,
             "#ed7953"
            ],
            [
             0.7777777777777778,
             "#fb9f3a"
            ],
            [
             0.8888888888888888,
             "#fdca26"
            ],
            [
             1.0,
             "#f0f921"
            ]
           ],
           "sequentialminus": [
            [
             0.0,
             "#0d0887"
            ],
            [
             0.1111111111111111,
             "#46039f"
            ],
            [
             0.2222222222222222,
             "#7201a8"
            ],
            [
             0.3333333333333333,
             "#9c179e"
            ],
            [
             0.4444444444444444,
             "#bd3786"
            ],
            [
             0.5555555555555556,
             "#d8576b"
            ],
            [
             0.6666666666666666,
             "#ed7953"
            ],
            [
             0.7777777777777778,
             "#fb9f3a"
            ],
            [
             0.8888888888888888,
             "#fdca26"
            ],
            [
             1.0,
             "#f0f921"
            ]
           ],
           "diverging": [
            [
             0,
             "#8e0152"
            ],
            [
             0.1,
             "#c51b7d"
            ],
            [
             0.2,
             "#de77ae"
            ],
            [
             0.3,
             "#f1b6da"
            ],
            [
             0.4,
             "#fde0ef"
            ],
            [
             0.5,
             "#f7f7f7"
            ],
            [
             0.6,
             "#e6f5d0"
            ],
            [
             0.7,
             "#b8e186"
            ],
            [
             0.8,
             "#7fbc41"
            ],
            [
             0.9,
             "#4d9221"
            ],
            [
             1,
             "#276419"
            ]
           ]
          },
          "xaxis": {
           "gridcolor": "white",
           "linecolor": "white",
           "ticks": "",
           "title": {
            "standoff": 15
           },
           "zerolinecolor": "white",
           "automargin": true,
           "zerolinewidth": 2
          },
          "yaxis": {
           "gridcolor": "white",
           "linecolor": "white",
           "ticks": "",
           "title": {
            "standoff": 15
           },
           "zerolinecolor": "white",
           "automargin": true,
           "zerolinewidth": 2
          },
          "scene": {
           "xaxis": {
            "backgroundcolor": "#E5ECF6",
            "gridcolor": "white",
            "linecolor": "white",
            "showbackground": true,
            "ticks": "",
            "zerolinecolor": "white",
            "gridwidth": 2
           },
           "yaxis": {
            "backgroundcolor": "#E5ECF6",
            "gridcolor": "white",
            "linecolor": "white",
            "showbackground": true,
            "ticks": "",
            "zerolinecolor": "white",
            "gridwidth": 2
           },
           "zaxis": {
            "backgroundcolor": "#E5ECF6",
            "gridcolor": "white",
            "linecolor": "white",
            "showbackground": true,
            "ticks": "",
            "zerolinecolor": "white",
            "gridwidth": 2
           }
          },
          "shapedefaults": {
           "line": {
            "color": "#2a3f5f"
           }
          },
          "annotationdefaults": {
           "arrowcolor": "#2a3f5f",
           "arrowhead": 0,
           "arrowwidth": 1
          },
          "geo": {
           "bgcolor": "white",
           "landcolor": "#E5ECF6",
           "subunitcolor": "white",
           "showland": true,
           "showlakes": true,
           "lakecolor": "white"
          },
          "title": {
           "x": 0.05
          },
          "mapbox": {
           "style": "light"
          }
         }
        },
        "xaxis": {
         "anchor": "y",
         "domain": [
          0.0,
          1.0
         ],
         "title": {
          "text": "YEAR"
         }
        },
        "yaxis": {
         "anchor": "x",
         "domain": [
          0.575,
          1.0
         ],
         "title": {
          "text": "Overtime Pay"
         },
         "tickprefix": "$",
         "tickformat": ",.0f"
        },
        "xaxis2": {
         "anchor": "y2",
         "domain": [
          0.0,
          1.0
         ],
         "title": {
          "text": "YEAR"
         }
        },
        "yaxis2": {
         "anchor": "x2",
         "domain": [
          0.0,
          0.425
         ],
         "title": {
          "text": "Percentage Change (%)"
         }
        },
        "annotations": [
         {
          "font": {
           "size": 16
          },
          "showarrow": false,
          "text": "Overtime Pay for Boston Police Department (2011-2023)",
          "x": 0.5,
          "xanchor": "center",
          "xref": "paper",
          "y": 1.0,
          "yanchor": "bottom",
          "yref": "paper"
         },
         {
          "font": {
           "size": 16
          },
          "showarrow": false,
          "text": "Year-over-Year Percentage Change in Overtime Pay",
          "x": 0.5,
          "xanchor": "center",
          "xref": "paper",
          "y": 0.425,
          "yanchor": "bottom",
          "yref": "paper"
         },
         {
          "showarrow": false,
          "text": "Last data point (2023)",
          "x": 2023,
          "xanchor": "center",
          "xref": "x",
          "y": 1,
          "yanchor": "bottom",
          "yref": "y domain"
         },
         {
          "align": "center",
          "bgcolor": "rgba(255, 255, 255, 0.8)",
          "bordercolor": "black",
          "borderpad": 4,
          "borderwidth": 1,
          "font": {
           "color": "black",
           "size": 14
          },
          "showarrow": false,
          "text": "Best Model: Polynomial Degree 4 (R² = 0.9213)",
          "x": 0.5,
          "xref": "paper",
          "y": 1.05,
          "yref": "paper"
         }
        ],
        "shapes": [
         {
          "line": {
           "color": "black",
           "dash": "dash",
           "width": 2
          },
          "type": "line",
          "x0": 2023,
          "x1": 2023,
          "xref": "x",
          "y0": 0,
          "y1": 1,
          "yref": "y domain"
         },
         {
          "line": {
           "color": "black",
           "dash": "solid",
           "width": 1
          },
          "type": "line",
          "x0": 2012,
          "x1": 2023,
          "xref": "x2",
          "y0": 0,
          "y1": 0,
          "yref": "y2"
         }
        ],
        "legend": {
         "orientation": "h",
         "yanchor": "bottom",
         "y": 1.02,
         "xanchor": "right",
         "x": 1
        },
        "height": 800,
        "hovermode": "closest",
        "updatemenus": [
         {
          "buttons": [
           {
            "args": [
             {
              "visible": [
               true,
               true,
               false,
               false,
               true,
               true
              ]
             }
            ],
            "label": "Degree 2",
            "method": "update"
           },
           {
            "args": [
             {
              "visible": [
               true,
               false,
               true,
               false,
               true,
               true
              ]
             }
            ],
            "label": "Degree 3",
            "method": "update"
           },
           {
            "args": [
             {
              "visible": [
               true,
               false,
               false,
               true,
               true,
               true
              ]
             }
            ],
            "label": "Degree 4",
            "method": "update"
           },
           {
            "args": [
             {
              "visible": [
               true,
               true,
               true,
               true,
               true,
               true
              ]
             }
            ],
            "label": "All Models",
            "method": "update"
           }
          ],
          "direction": "right",
          "pad": {
           "r": 10,
           "t": 10
          },
          "showactive": true,
          "type": "buttons",
          "x": 0.1,
          "xanchor": "left",
          "y": 1.1,
          "yanchor": "top"
         }
        ]
       },
       "config": {
        "plotlyServerURL": "https://plot.ly"
       }
      },
      "text/html": [
       "<div>                            <div id=\"df67dc5d-be41-4bc2-a0e5-809dfc903f3e\" class=\"plotly-graph-div\" style=\"height:800px; width:100%;\"></div>            <script type=\"text/javascript\">                require([\"plotly\"], function(Plotly) {                    window.PLOTLYENV=window.PLOTLYENV || {};                                    if (document.getElementById(\"df67dc5d-be41-4bc2-a0e5-809dfc903f3e\")) {                    Plotly.newPlot(                        \"df67dc5d-be41-4bc2-a0e5-809dfc903f3e\",                        [{\"hovertemplate\":\"%{x}, $%{y:,.2f}\",\"marker\":{\"color\":\"orange\",\"size\":10},\"mode\":\"markers\",\"name\":\"Original Data\",\"x\":[2011,2012,2013,2014,2015,2016,2017,2018,2019,2020,2021,2022,2023],\"y\":[42237360.79,44697415.97,57483767.63,57914605.89,61608144.93,60989917.25,66933649.87,77855435.98,77764302.51,78057696.23,72222785.03,78265402.51,88517768.46],\"type\":\"scatter\",\"xaxis\":\"x\",\"yaxis\":\"y\"},{\"customdata\":[2,2,2,2,2,2,2,2,2,2,2,2,2,2,2],\"hovertemplate\":\"%{x}, $%{y:,.2f}\\u003cbr\\u003eModel: Degree %{customdata}\\u003cextra\\u003e\\u003c\\u002fextra\\u003e\",\"line\":{\"color\":\"blue\",\"width\":2},\"mode\":\"lines\",\"name\":\"Degree 2 (R\\u00b2 = 0.9166)\",\"visible\":\"legendonly\",\"x\":[2011,2012,2013,2014,2015,2016,2017,2018,2019,2020,2021,2022,2023,2024,2025],\"y\":[42665399.87426758,47836362.931152344,52680622.96789551,57198179.98461914,61389033.9810791,65253184.95751953,68790632.9140625,72001377.85009766,74885419.76611328,77442758.6619873,79673394.53771973,81577327.39331055,83154557.22875977,84405084.04431152,85328907.83947754],\"type\":\"scatter\",\"xaxis\":\"x\",\"yaxis\":\"y\"},{\"customdata\":[3,3,3,3,3,3,3,3,3,3,3,3,3,3,3],\"hovertemplate\":\"%{x}, $%{y:,.2f}\\u003cbr\\u003eModel: Degree %{customdata}\\u003cextra\\u003e\\u003c\\u002fextra\\u003e\",\"line\":{\"color\":\"green\",\"width\":2},\"mode\":\"lines\",\"name\":\"Degree 3 (R\\u00b2 = 0.9213)\",\"visible\":\"legendonly\",\"x\":[2011,2012,2013,2014,2015,2016,2017,2018,2019,2020,2021,2022,2023,2024,2025],\"y\":[41149187.78125,47837323.65625,53509001.65625,58302181.53125,62354822.78125,65804885.15625,68790328.28125,71449112.03125,73919195.78125,76338539.53125,78845102.78125,81576845.03125,84671726.40625,88267706.15625,92502744.28125],\"type\":\"scatter\",\"xaxis\":\"x\",\"yaxis\":\"y\"},{\"customdata\":[4,4,4,4,4,4,4,4,4,4,4,4,4,4,4],\"hovertemplate\":\"%{x}, $%{y:,.2f}\\u003cbr\\u003eModel: Degree %{customdata}\\u003cextra\\u003e\\u003c\\u002fextra\\u003e\",\"line\":{\"color\":\"red\",\"width\":2},\"mode\":\"lines\",\"name\":\"Degree 4 (R\\u00b2 = 0.9213)\",\"visible\":true,\"x\":[2011,2012,2013,2014,2015,2016,2017,2018,2019,2020,2021,2022,2023,2024,2025],\"y\":[41146378.46875,47835390.25,53508560.3984375,58303186.640625,62356772.953125,65807029.0703125,68791871.125,71449421.0703125,73918007.1171875,76336163.4921875,78842630.4453125,81576354.40625,84676487.703125,88282388.9375,92533622.6953125],\"type\":\"scatter\",\"xaxis\":\"x\",\"yaxis\":\"y\"},{\"fill\":\"toself\",\"fillcolor\":\"rgba(128, 128, 128, 0.2)\",\"hoverinfo\":\"skip\",\"line\":{\"color\":\"rgba(255, 255, 255, 0)\"},\"name\":\"Forecast Region\",\"showlegend\":true,\"x\":[2023,2024,2025,2025,2024,2023],\"y\":[84676487.703125,88282388.9375,92533622.6953125,42237360.79,42237360.79,42237360.79],\"type\":\"scatter\",\"xaxis\":\"x\",\"yaxis\":\"y\"},{\"hovertemplate\":\"Year %{x}\\u003cbr\\u003e$%{y:,.2f}\\u003cextra\\u003e\\u003c\\u002fextra\\u003e\",\"marker\":{\"color\":\"red\",\"size\":12,\"symbol\":\"diamond\"},\"mode\":\"markers+text\",\"name\":\"Predictions\",\"text\":[\"2024: $88,282,389M\",\"2025: $92,533,623M\"],\"textposition\":\"top center\",\"x\":[2024,2025],\"y\":[88282388.9375,92533622.6953125],\"type\":\"scatter\",\"xaxis\":\"x\",\"yaxis\":\"y\"},{\"hovertemplate\":\"Year %{x}\\u003cbr\\u003eChange: %{y:.1f}%\\u003cextra\\u003e\\u003c\\u002fextra\\u003e\",\"marker\":{\"color\":\"skyblue\"},\"name\":\"YoY Change\",\"text\":[\"5.8%\",\"28.6%\",\"0.7%\",\"6.4%\",\"-1.0%\",\"9.7%\",\"16.3%\",\"-0.1%\",\"0.4%\",\"-7.5%\",\"8.4%\",\"13.1%\"],\"textposition\":\"outside\",\"x\":[2012,2013,2014,2015,2016,2017,2018,2019,2020,2021,2022,2023],\"y\":[5.82435818428891,28.606467247641216,0.7494955145827102,6.377560519043013,-1.0034836801245002,9.74543479971683,16.3173323600499,-0.11705472951613777,0.3772858632175993,-7.475126069320842,8.366635927276985,13.099486645698958],\"type\":\"bar\",\"xaxis\":\"x2\",\"yaxis\":\"y2\"}],                        {\"template\":{\"data\":{\"histogram2dcontour\":[{\"type\":\"histogram2dcontour\",\"colorbar\":{\"outlinewidth\":0,\"ticks\":\"\"},\"colorscale\":[[0.0,\"#0d0887\"],[0.1111111111111111,\"#46039f\"],[0.2222222222222222,\"#7201a8\"],[0.3333333333333333,\"#9c179e\"],[0.4444444444444444,\"#bd3786\"],[0.5555555555555556,\"#d8576b\"],[0.6666666666666666,\"#ed7953\"],[0.7777777777777778,\"#fb9f3a\"],[0.8888888888888888,\"#fdca26\"],[1.0,\"#f0f921\"]]}],\"choropleth\":[{\"type\":\"choropleth\",\"colorbar\":{\"outlinewidth\":0,\"ticks\":\"\"}}],\"histogram2d\":[{\"type\":\"histogram2d\",\"colorbar\":{\"outlinewidth\":0,\"ticks\":\"\"},\"colorscale\":[[0.0,\"#0d0887\"],[0.1111111111111111,\"#46039f\"],[0.2222222222222222,\"#7201a8\"],[0.3333333333333333,\"#9c179e\"],[0.4444444444444444,\"#bd3786\"],[0.5555555555555556,\"#d8576b\"],[0.6666666666666666,\"#ed7953\"],[0.7777777777777778,\"#fb9f3a\"],[0.8888888888888888,\"#fdca26\"],[1.0,\"#f0f921\"]]}],\"heatmap\":[{\"type\":\"heatmap\",\"colorbar\":{\"outlinewidth\":0,\"ticks\":\"\"},\"colorscale\":[[0.0,\"#0d0887\"],[0.1111111111111111,\"#46039f\"],[0.2222222222222222,\"#7201a8\"],[0.3333333333333333,\"#9c179e\"],[0.4444444444444444,\"#bd3786\"],[0.5555555555555556,\"#d8576b\"],[0.6666666666666666,\"#ed7953\"],[0.7777777777777778,\"#fb9f3a\"],[0.8888888888888888,\"#fdca26\"],[1.0,\"#f0f921\"]]}],\"heatmapgl\":[{\"type\":\"heatmapgl\",\"colorbar\":{\"outlinewidth\":0,\"ticks\":\"\"},\"colorscale\":[[0.0,\"#0d0887\"],[0.1111111111111111,\"#46039f\"],[0.2222222222222222,\"#7201a8\"],[0.3333333333333333,\"#9c179e\"],[0.4444444444444444,\"#bd3786\"],[0.5555555555555556,\"#d8576b\"],[0.6666666666666666,\"#ed7953\"],[0.7777777777777778,\"#fb9f3a\"],[0.8888888888888888,\"#fdca26\"],[1.0,\"#f0f921\"]]}],\"contourcarpet\":[{\"type\":\"contourcarpet\",\"colorbar\":{\"outlinewidth\":0,\"ticks\":\"\"}}],\"contour\":[{\"type\":\"contour\",\"colorbar\":{\"outlinewidth\":0,\"ticks\":\"\"},\"colorscale\":[[0.0,\"#0d0887\"],[0.1111111111111111,\"#46039f\"],[0.2222222222222222,\"#7201a8\"],[0.3333333333333333,\"#9c179e\"],[0.4444444444444444,\"#bd3786\"],[0.5555555555555556,\"#d8576b\"],[0.6666666666666666,\"#ed7953\"],[0.7777777777777778,\"#fb9f3a\"],[0.8888888888888888,\"#fdca26\"],[1.0,\"#f0f921\"]]}],\"surface\":[{\"type\":\"surface\",\"colorbar\":{\"outlinewidth\":0,\"ticks\":\"\"},\"colorscale\":[[0.0,\"#0d0887\"],[0.1111111111111111,\"#46039f\"],[0.2222222222222222,\"#7201a8\"],[0.3333333333333333,\"#9c179e\"],[0.4444444444444444,\"#bd3786\"],[0.5555555555555556,\"#d8576b\"],[0.6666666666666666,\"#ed7953\"],[0.7777777777777778,\"#fb9f3a\"],[0.8888888888888888,\"#fdca26\"],[1.0,\"#f0f921\"]]}],\"mesh3d\":[{\"type\":\"mesh3d\",\"colorbar\":{\"outlinewidth\":0,\"ticks\":\"\"}}],\"scatter\":[{\"fillpattern\":{\"fillmode\":\"overlay\",\"size\":10,\"solidity\":0.2},\"type\":\"scatter\"}],\"parcoords\":[{\"type\":\"parcoords\",\"line\":{\"colorbar\":{\"outlinewidth\":0,\"ticks\":\"\"}}}],\"scatterpolargl\":[{\"type\":\"scatterpolargl\",\"marker\":{\"colorbar\":{\"outlinewidth\":0,\"ticks\":\"\"}}}],\"bar\":[{\"error_x\":{\"color\":\"#2a3f5f\"},\"error_y\":{\"color\":\"#2a3f5f\"},\"marker\":{\"line\":{\"color\":\"#E5ECF6\",\"width\":0.5},\"pattern\":{\"fillmode\":\"overlay\",\"size\":10,\"solidity\":0.2}},\"type\":\"bar\"}],\"scattergeo\":[{\"type\":\"scattergeo\",\"marker\":{\"colorbar\":{\"outlinewidth\":0,\"ticks\":\"\"}}}],\"scatterpolar\":[{\"type\":\"scatterpolar\",\"marker\":{\"colorbar\":{\"outlinewidth\":0,\"ticks\":\"\"}}}],\"histogram\":[{\"marker\":{\"pattern\":{\"fillmode\":\"overlay\",\"size\":10,\"solidity\":0.2}},\"type\":\"histogram\"}],\"scattergl\":[{\"type\":\"scattergl\",\"marker\":{\"colorbar\":{\"outlinewidth\":0,\"ticks\":\"\"}}}],\"scatter3d\":[{\"type\":\"scatter3d\",\"line\":{\"colorbar\":{\"outlinewidth\":0,\"ticks\":\"\"}},\"marker\":{\"colorbar\":{\"outlinewidth\":0,\"ticks\":\"\"}}}],\"scattermapbox\":[{\"type\":\"scattermapbox\",\"marker\":{\"colorbar\":{\"outlinewidth\":0,\"ticks\":\"\"}}}],\"scatterternary\":[{\"type\":\"scatterternary\",\"marker\":{\"colorbar\":{\"outlinewidth\":0,\"ticks\":\"\"}}}],\"scattercarpet\":[{\"type\":\"scattercarpet\",\"marker\":{\"colorbar\":{\"outlinewidth\":0,\"ticks\":\"\"}}}],\"carpet\":[{\"aaxis\":{\"endlinecolor\":\"#2a3f5f\",\"gridcolor\":\"white\",\"linecolor\":\"white\",\"minorgridcolor\":\"white\",\"startlinecolor\":\"#2a3f5f\"},\"baxis\":{\"endlinecolor\":\"#2a3f5f\",\"gridcolor\":\"white\",\"linecolor\":\"white\",\"minorgridcolor\":\"white\",\"startlinecolor\":\"#2a3f5f\"},\"type\":\"carpet\"}],\"table\":[{\"cells\":{\"fill\":{\"color\":\"#EBF0F8\"},\"line\":{\"color\":\"white\"}},\"header\":{\"fill\":{\"color\":\"#C8D4E3\"},\"line\":{\"color\":\"white\"}},\"type\":\"table\"}],\"barpolar\":[{\"marker\":{\"line\":{\"color\":\"#E5ECF6\",\"width\":0.5},\"pattern\":{\"fillmode\":\"overlay\",\"size\":10,\"solidity\":0.2}},\"type\":\"barpolar\"}],\"pie\":[{\"automargin\":true,\"type\":\"pie\"}]},\"layout\":{\"autotypenumbers\":\"strict\",\"colorway\":[\"#636efa\",\"#EF553B\",\"#00cc96\",\"#ab63fa\",\"#FFA15A\",\"#19d3f3\",\"#FF6692\",\"#B6E880\",\"#FF97FF\",\"#FECB52\"],\"font\":{\"color\":\"#2a3f5f\"},\"hovermode\":\"closest\",\"hoverlabel\":{\"align\":\"left\"},\"paper_bgcolor\":\"white\",\"plot_bgcolor\":\"#E5ECF6\",\"polar\":{\"bgcolor\":\"#E5ECF6\",\"angularaxis\":{\"gridcolor\":\"white\",\"linecolor\":\"white\",\"ticks\":\"\"},\"radialaxis\":{\"gridcolor\":\"white\",\"linecolor\":\"white\",\"ticks\":\"\"}},\"ternary\":{\"bgcolor\":\"#E5ECF6\",\"aaxis\":{\"gridcolor\":\"white\",\"linecolor\":\"white\",\"ticks\":\"\"},\"baxis\":{\"gridcolor\":\"white\",\"linecolor\":\"white\",\"ticks\":\"\"},\"caxis\":{\"gridcolor\":\"white\",\"linecolor\":\"white\",\"ticks\":\"\"}},\"coloraxis\":{\"colorbar\":{\"outlinewidth\":0,\"ticks\":\"\"}},\"colorscale\":{\"sequential\":[[0.0,\"#0d0887\"],[0.1111111111111111,\"#46039f\"],[0.2222222222222222,\"#7201a8\"],[0.3333333333333333,\"#9c179e\"],[0.4444444444444444,\"#bd3786\"],[0.5555555555555556,\"#d8576b\"],[0.6666666666666666,\"#ed7953\"],[0.7777777777777778,\"#fb9f3a\"],[0.8888888888888888,\"#fdca26\"],[1.0,\"#f0f921\"]],\"sequentialminus\":[[0.0,\"#0d0887\"],[0.1111111111111111,\"#46039f\"],[0.2222222222222222,\"#7201a8\"],[0.3333333333333333,\"#9c179e\"],[0.4444444444444444,\"#bd3786\"],[0.5555555555555556,\"#d8576b\"],[0.6666666666666666,\"#ed7953\"],[0.7777777777777778,\"#fb9f3a\"],[0.8888888888888888,\"#fdca26\"],[1.0,\"#f0f921\"]],\"diverging\":[[0,\"#8e0152\"],[0.1,\"#c51b7d\"],[0.2,\"#de77ae\"],[0.3,\"#f1b6da\"],[0.4,\"#fde0ef\"],[0.5,\"#f7f7f7\"],[0.6,\"#e6f5d0\"],[0.7,\"#b8e186\"],[0.8,\"#7fbc41\"],[0.9,\"#4d9221\"],[1,\"#276419\"]]},\"xaxis\":{\"gridcolor\":\"white\",\"linecolor\":\"white\",\"ticks\":\"\",\"title\":{\"standoff\":15},\"zerolinecolor\":\"white\",\"automargin\":true,\"zerolinewidth\":2},\"yaxis\":{\"gridcolor\":\"white\",\"linecolor\":\"white\",\"ticks\":\"\",\"title\":{\"standoff\":15},\"zerolinecolor\":\"white\",\"automargin\":true,\"zerolinewidth\":2},\"scene\":{\"xaxis\":{\"backgroundcolor\":\"#E5ECF6\",\"gridcolor\":\"white\",\"linecolor\":\"white\",\"showbackground\":true,\"ticks\":\"\",\"zerolinecolor\":\"white\",\"gridwidth\":2},\"yaxis\":{\"backgroundcolor\":\"#E5ECF6\",\"gridcolor\":\"white\",\"linecolor\":\"white\",\"showbackground\":true,\"ticks\":\"\",\"zerolinecolor\":\"white\",\"gridwidth\":2},\"zaxis\":{\"backgroundcolor\":\"#E5ECF6\",\"gridcolor\":\"white\",\"linecolor\":\"white\",\"showbackground\":true,\"ticks\":\"\",\"zerolinecolor\":\"white\",\"gridwidth\":2}},\"shapedefaults\":{\"line\":{\"color\":\"#2a3f5f\"}},\"annotationdefaults\":{\"arrowcolor\":\"#2a3f5f\",\"arrowhead\":0,\"arrowwidth\":1},\"geo\":{\"bgcolor\":\"white\",\"landcolor\":\"#E5ECF6\",\"subunitcolor\":\"white\",\"showland\":true,\"showlakes\":true,\"lakecolor\":\"white\"},\"title\":{\"x\":0.05},\"mapbox\":{\"style\":\"light\"}}},\"xaxis\":{\"anchor\":\"y\",\"domain\":[0.0,1.0],\"title\":{\"text\":\"YEAR\"}},\"yaxis\":{\"anchor\":\"x\",\"domain\":[0.575,1.0],\"title\":{\"text\":\"Overtime Pay\"},\"tickprefix\":\"$\",\"tickformat\":\",.0f\"},\"xaxis2\":{\"anchor\":\"y2\",\"domain\":[0.0,1.0],\"title\":{\"text\":\"YEAR\"}},\"yaxis2\":{\"anchor\":\"x2\",\"domain\":[0.0,0.425],\"title\":{\"text\":\"Percentage Change (%)\"}},\"annotations\":[{\"font\":{\"size\":16},\"showarrow\":false,\"text\":\"Overtime Pay for Boston Police Department (2011-2023)\",\"x\":0.5,\"xanchor\":\"center\",\"xref\":\"paper\",\"y\":1.0,\"yanchor\":\"bottom\",\"yref\":\"paper\"},{\"font\":{\"size\":16},\"showarrow\":false,\"text\":\"Year-over-Year Percentage Change in Overtime Pay\",\"x\":0.5,\"xanchor\":\"center\",\"xref\":\"paper\",\"y\":0.425,\"yanchor\":\"bottom\",\"yref\":\"paper\"},{\"showarrow\":false,\"text\":\"Last data point (2023)\",\"x\":2023,\"xanchor\":\"center\",\"xref\":\"x\",\"y\":1,\"yanchor\":\"bottom\",\"yref\":\"y domain\"},{\"align\":\"center\",\"bgcolor\":\"rgba(255, 255, 255, 0.8)\",\"bordercolor\":\"black\",\"borderpad\":4,\"borderwidth\":1,\"font\":{\"color\":\"black\",\"size\":14},\"showarrow\":false,\"text\":\"Best Model: Polynomial Degree 4 (R\\u00b2 = 0.9213)\",\"x\":0.5,\"xref\":\"paper\",\"y\":1.05,\"yref\":\"paper\"}],\"shapes\":[{\"line\":{\"color\":\"black\",\"dash\":\"dash\",\"width\":2},\"type\":\"line\",\"x0\":2023,\"x1\":2023,\"xref\":\"x\",\"y0\":0,\"y1\":1,\"yref\":\"y domain\"},{\"line\":{\"color\":\"black\",\"dash\":\"solid\",\"width\":1},\"type\":\"line\",\"x0\":2012,\"x1\":2023,\"xref\":\"x2\",\"y0\":0,\"y1\":0,\"yref\":\"y2\"}],\"legend\":{\"orientation\":\"h\",\"yanchor\":\"bottom\",\"y\":1.02,\"xanchor\":\"right\",\"x\":1},\"height\":800,\"hovermode\":\"closest\",\"updatemenus\":[{\"buttons\":[{\"args\":[{\"visible\":[true,true,false,false,true,true]}],\"label\":\"Degree 2\",\"method\":\"update\"},{\"args\":[{\"visible\":[true,false,true,false,true,true]}],\"label\":\"Degree 3\",\"method\":\"update\"},{\"args\":[{\"visible\":[true,false,false,true,true,true]}],\"label\":\"Degree 4\",\"method\":\"update\"},{\"args\":[{\"visible\":[true,true,true,true,true,true]}],\"label\":\"All Models\",\"method\":\"update\"}],\"direction\":\"right\",\"pad\":{\"r\":10,\"t\":10},\"showactive\":true,\"type\":\"buttons\",\"x\":0.1,\"xanchor\":\"left\",\"y\":1.1,\"yanchor\":\"top\"}]},                        {\"responsive\": true}                    ).then(function(){\n",
       "                            \n",
       "var gd = document.getElementById('df67dc5d-be41-4bc2-a0e5-809dfc903f3e');\n",
       "var x = new MutationObserver(function (mutations, observer) {{\n",
       "        var display = window.getComputedStyle(gd).display;\n",
       "        if (!display || display === 'none') {{\n",
       "            console.log([gd, 'removed!']);\n",
       "            Plotly.purge(gd);\n",
       "            observer.disconnect();\n",
       "        }}\n",
       "}});\n",
       "\n",
       "// Listen for the removal of the full notebook cells\n",
       "var notebookContainer = gd.closest('#notebook-container');\n",
       "if (notebookContainer) {{\n",
       "    x.observe(notebookContainer, {childList: true});\n",
       "}}\n",
       "\n",
       "// Listen for the clearing of the current output cell\n",
       "var outputEl = gd.closest('.output');\n",
       "if (outputEl) {{\n",
       "    x.observe(outputEl, {childList: true});\n",
       "}}\n",
       "\n",
       "                        })                };                });            </script>        </div>"
      ]
     },
     "metadata": {},
     "output_type": "display_data"
    },
    {
     "name": "stdout",
     "output_type": "stream",
     "text": [
      "\n",
      "Forecast summary:\n",
      "Best degree polynomial: 4\n",
      "R² score: 0.9213\n",
      "Equation: y = -4.76e+13 + 2.54e+04x^1 + 7.00e+07x^2 + -4.62e+04x^3 + 8.59e+00x^4\n"
     ]
    }
   ],
   "execution_count": 62
  },
  {
   "metadata": {
    "ExecuteTime": {
     "end_time": "2025-04-21T18:25:51.962733Z",
     "start_time": "2025-04-21T18:25:51.938420Z"
    }
   },
   "cell_type": "code",
   "source": [
    "# Select the department to analyze\n",
    "department_to_analyze = 'Public Works Department'\n",
    "if department_to_analyze in department_dataframes:\n",
    "    df = department_dataframes[department_to_analyze]\n",
    "\n",
    "# Run the analysis\n",
    "results = polynomial_regression_forecast(\n",
    "    df=df,\n",
    "    x_column='YEAR',\n",
    "    y_column='OVERTIME',\n",
    "    forecast_years=2,\n",
    "    test_degrees=[2, 3, 4],\n",
    "    title='Overtime Pay for Public Works Department (2011-2023)',\n",
    "    y_label='Overtime Pay'\n",
    ")\n",
    "\n",
    "# Access the results\n",
    "print(f\"\\nForecast summary:\")\n",
    "print(f\"Best degree polynomial: {results['best_degree']}\")\n",
    "print(f\"R² score: {results['metrics'][results['best_degree']]['r2']:.4f}\")\n",
    "print(f\"Equation: {results['equation']}\")"
   ],
   "id": "bdfc54ee406da66e",
   "outputs": [
    {
     "name": "stdout",
     "output_type": "stream",
     "text": [
      "Best polynomial degree: 4\n",
      "\n",
      "Predicted future values:\n",
      "Year 2024: $5,464,298.58\n",
      "Year 2025: $6,208,636.55\n",
      "\n",
      "Best model equation:\n",
      "y = -1.46e+13 + 7.82e+03x^1 + 2.15e+07x^2 + -1.42e+04x^3 + 2.64e+00x^4\n"
     ]
    },
    {
     "data": {
      "application/vnd.plotly.v1+json": {
       "data": [
        {
         "hovertemplate": "%{x}, $%{y:,.2f}",
         "marker": {
          "color": "orange",
          "size": 10
         },
         "mode": "markers",
         "name": "Original Data",
         "x": [
          2011,
          2012,
          2013,
          2014,
          2015,
          2016,
          2017,
          2018,
          2019,
          2020,
          2021,
          2022,
          2023
         ],
         "y": [
          2936045.81,
          1727033.69,
          3149769.31,
          3833240.06,
          5243898.07,
          4161927.4,
          5114656.36,
          5255554.84,
          4506512.51,
          3444542.88,
          3982020.93,
          4908683.73,
          5246580.43
         ],
         "type": "scatter",
         "xaxis": "x",
         "yaxis": "y"
        },
        {
         "customdata": [
          2,
          2,
          2,
          2,
          2,
          2,
          2,
          2,
          2,
          2,
          2,
          2,
          2,
          2,
          2
         ],
         "hovertemplate": "%{x}, $%{y:,.2f}<br>Model: Degree %{customdata}<extra></extra>",
         "line": {
          "color": "blue",
          "width": 2
         },
         "mode": "lines",
         "name": "Degree 2 (R² = 0.5142)",
         "visible": "legendonly",
         "x": [
          2011,
          2012,
          2013,
          2014,
          2015,
          2016,
          2017,
          2018,
          2019,
          2020,
          2021,
          2022,
          2023,
          2024,
          2025
         ],
         "y": [
          2409476.3218078613,
          2916094.225616455,
          3362121.490753174,
          3747558.117202759,
          4072404.1049957275,
          4336659.454116821,
          4540324.16456604,
          4683398.236328125,
          4765881.669433594,
          4787774.463851929,
          4749076.619598389,
          4649788.136688232,
          4489909.015090942,
          4269439.254821777,
          3988378.8558807373
         ],
         "type": "scatter",
         "xaxis": "x",
         "yaxis": "y"
        },
        {
         "customdata": [
          3,
          3,
          3,
          3,
          3,
          3,
          3,
          3,
          3,
          3,
          3,
          3,
          3,
          3,
          3
         ],
         "hovertemplate": "%{x}, $%{y:,.2f}<br>Model: Degree %{customdata}<extra></extra>",
         "line": {
          "color": "green",
          "width": 2
         },
         "mode": "lines",
         "name": "Degree 3 (R² = 0.5870)",
         "visible": "legendonly",
         "x": [
          2011,
          2012,
          2013,
          2014,
          2015,
          2016,
          2017,
          2018,
          2019,
          2020,
          2021,
          2022,
          2023,
          2024,
          2025
         ],
         "y": [
          1943000.0078125,
          2916707.9765625,
          3617442.5390625,
          4087682.8515625,
          4369908.1640625,
          4506597.7578125,
          4540230.7578125,
          4513286.5078125,
          4468244.2265625,
          4447583.0390625,
          4493782.2578125,
          4649321.1015625,
          4956678.8203125,
          5458334.6328125,
          6196767.7265625
         ],
         "type": "scatter",
         "xaxis": "x",
         "yaxis": "y"
        },
        {
         "customdata": [
          4,
          4,
          4,
          4,
          4,
          4,
          4,
          4,
          4,
          4,
          4,
          4,
          4,
          4,
          4
         ],
         "hovertemplate": "%{x}, $%{y:,.2f}<br>Model: Degree %{customdata}<extra></extra>",
         "line": {
          "color": "red",
          "width": 2
         },
         "mode": "lines",
         "name": "Degree 4 (R² = 0.5873)",
         "visible": true,
         "x": [
          2011,
          2012,
          2013,
          2014,
          2015,
          2016,
          2017,
          2018,
          2019,
          2020,
          2021,
          2022,
          2023,
          2024,
          2025
         ],
         "y": [
          1941361.568359375,
          2915794.427734375,
          3617265.5703125,
          4088086.0234375,
          4370630.2890625,
          4507336.345703125,
          4540705.5234375,
          4513302.712890625,
          4467756.1796875,
          4446757.62890625,
          4493062.25,
          4649488.669921875,
          4958918.94140625,
          5464298.580078125,
          6208636.546875
         ],
         "type": "scatter",
         "xaxis": "x",
         "yaxis": "y"
        },
        {
         "fill": "toself",
         "fillcolor": "rgba(128, 128, 128, 0.2)",
         "hoverinfo": "skip",
         "line": {
          "color": "rgba(255, 255, 255, 0)"
         },
         "name": "Forecast Region",
         "showlegend": true,
         "x": [
          2023,
          2024,
          2025,
          2025,
          2024,
          2023
         ],
         "y": [
          4958918.94140625,
          5464298.580078125,
          6208636.546875,
          1727033.69,
          1727033.69,
          1727033.69
         ],
         "type": "scatter",
         "xaxis": "x",
         "yaxis": "y"
        },
        {
         "hovertemplate": "Year %{x}<br>$%{y:,.2f}<extra></extra>",
         "marker": {
          "color": "red",
          "size": 12,
          "symbol": "diamond"
         },
         "mode": "markers+text",
         "name": "Predictions",
         "text": [
          "2024: $5,464,299M",
          "2025: $6,208,637M"
         ],
         "textposition": "top center",
         "x": [
          2024,
          2025
         ],
         "y": [
          5464298.580078125,
          6208636.546875
         ],
         "type": "scatter",
         "xaxis": "x",
         "yaxis": "y"
        },
        {
         "hovertemplate": "Year %{x}<br>Change: %{y:.1f}%<extra></extra>",
         "marker": {
          "color": "skyblue"
         },
         "name": "YoY Change",
         "text": [
          "-41.2%",
          "82.4%",
          "21.7%",
          "36.8%",
          "-20.6%",
          "22.9%",
          "2.8%",
          "-14.3%",
          "-23.6%",
          "15.6%",
          "23.3%",
          "6.9%"
         ],
         "textposition": "outside",
         "x": [
          2012,
          2013,
          2014,
          2015,
          2016,
          2017,
          2018,
          2019,
          2020,
          2021,
          2022,
          2023
         ],
         "y": [
          -41.17824442255552,
          82.38030492618822,
          21.699073256891946,
          36.800669614206214,
          -20.632946246417035,
          22.891532418369444,
          2.7547985648052316,
          -14.252392997577399,
          -23.565220947317417,
          15.60375552648078,
          23.27116849182408,
          6.883651882782825
         ],
         "type": "bar",
         "xaxis": "x2",
         "yaxis": "y2"
        }
       ],
       "layout": {
        "template": {
         "data": {
          "histogram2dcontour": [
           {
            "type": "histogram2dcontour",
            "colorbar": {
             "outlinewidth": 0,
             "ticks": ""
            },
            "colorscale": [
             [
              0.0,
              "#0d0887"
             ],
             [
              0.1111111111111111,
              "#46039f"
             ],
             [
              0.2222222222222222,
              "#7201a8"
             ],
             [
              0.3333333333333333,
              "#9c179e"
             ],
             [
              0.4444444444444444,
              "#bd3786"
             ],
             [
              0.5555555555555556,
              "#d8576b"
             ],
             [
              0.6666666666666666,
              "#ed7953"
             ],
             [
              0.7777777777777778,
              "#fb9f3a"
             ],
             [
              0.8888888888888888,
              "#fdca26"
             ],
             [
              1.0,
              "#f0f921"
             ]
            ]
           }
          ],
          "choropleth": [
           {
            "type": "choropleth",
            "colorbar": {
             "outlinewidth": 0,
             "ticks": ""
            }
           }
          ],
          "histogram2d": [
           {
            "type": "histogram2d",
            "colorbar": {
             "outlinewidth": 0,
             "ticks": ""
            },
            "colorscale": [
             [
              0.0,
              "#0d0887"
             ],
             [
              0.1111111111111111,
              "#46039f"
             ],
             [
              0.2222222222222222,
              "#7201a8"
             ],
             [
              0.3333333333333333,
              "#9c179e"
             ],
             [
              0.4444444444444444,
              "#bd3786"
             ],
             [
              0.5555555555555556,
              "#d8576b"
             ],
             [
              0.6666666666666666,
              "#ed7953"
             ],
             [
              0.7777777777777778,
              "#fb9f3a"
             ],
             [
              0.8888888888888888,
              "#fdca26"
             ],
             [
              1.0,
              "#f0f921"
             ]
            ]
           }
          ],
          "heatmap": [
           {
            "type": "heatmap",
            "colorbar": {
             "outlinewidth": 0,
             "ticks": ""
            },
            "colorscale": [
             [
              0.0,
              "#0d0887"
             ],
             [
              0.1111111111111111,
              "#46039f"
             ],
             [
              0.2222222222222222,
              "#7201a8"
             ],
             [
              0.3333333333333333,
              "#9c179e"
             ],
             [
              0.4444444444444444,
              "#bd3786"
             ],
             [
              0.5555555555555556,
              "#d8576b"
             ],
             [
              0.6666666666666666,
              "#ed7953"
             ],
             [
              0.7777777777777778,
              "#fb9f3a"
             ],
             [
              0.8888888888888888,
              "#fdca26"
             ],
             [
              1.0,
              "#f0f921"
             ]
            ]
           }
          ],
          "heatmapgl": [
           {
            "type": "heatmapgl",
            "colorbar": {
             "outlinewidth": 0,
             "ticks": ""
            },
            "colorscale": [
             [
              0.0,
              "#0d0887"
             ],
             [
              0.1111111111111111,
              "#46039f"
             ],
             [
              0.2222222222222222,
              "#7201a8"
             ],
             [
              0.3333333333333333,
              "#9c179e"
             ],
             [
              0.4444444444444444,
              "#bd3786"
             ],
             [
              0.5555555555555556,
              "#d8576b"
             ],
             [
              0.6666666666666666,
              "#ed7953"
             ],
             [
              0.7777777777777778,
              "#fb9f3a"
             ],
             [
              0.8888888888888888,
              "#fdca26"
             ],
             [
              1.0,
              "#f0f921"
             ]
            ]
           }
          ],
          "contourcarpet": [
           {
            "type": "contourcarpet",
            "colorbar": {
             "outlinewidth": 0,
             "ticks": ""
            }
           }
          ],
          "contour": [
           {
            "type": "contour",
            "colorbar": {
             "outlinewidth": 0,
             "ticks": ""
            },
            "colorscale": [
             [
              0.0,
              "#0d0887"
             ],
             [
              0.1111111111111111,
              "#46039f"
             ],
             [
              0.2222222222222222,
              "#7201a8"
             ],
             [
              0.3333333333333333,
              "#9c179e"
             ],
             [
              0.4444444444444444,
              "#bd3786"
             ],
             [
              0.5555555555555556,
              "#d8576b"
             ],
             [
              0.6666666666666666,
              "#ed7953"
             ],
             [
              0.7777777777777778,
              "#fb9f3a"
             ],
             [
              0.8888888888888888,
              "#fdca26"
             ],
             [
              1.0,
              "#f0f921"
             ]
            ]
           }
          ],
          "surface": [
           {
            "type": "surface",
            "colorbar": {
             "outlinewidth": 0,
             "ticks": ""
            },
            "colorscale": [
             [
              0.0,
              "#0d0887"
             ],
             [
              0.1111111111111111,
              "#46039f"
             ],
             [
              0.2222222222222222,
              "#7201a8"
             ],
             [
              0.3333333333333333,
              "#9c179e"
             ],
             [
              0.4444444444444444,
              "#bd3786"
             ],
             [
              0.5555555555555556,
              "#d8576b"
             ],
             [
              0.6666666666666666,
              "#ed7953"
             ],
             [
              0.7777777777777778,
              "#fb9f3a"
             ],
             [
              0.8888888888888888,
              "#fdca26"
             ],
             [
              1.0,
              "#f0f921"
             ]
            ]
           }
          ],
          "mesh3d": [
           {
            "type": "mesh3d",
            "colorbar": {
             "outlinewidth": 0,
             "ticks": ""
            }
           }
          ],
          "scatter": [
           {
            "fillpattern": {
             "fillmode": "overlay",
             "size": 10,
             "solidity": 0.2
            },
            "type": "scatter"
           }
          ],
          "parcoords": [
           {
            "type": "parcoords",
            "line": {
             "colorbar": {
              "outlinewidth": 0,
              "ticks": ""
             }
            }
           }
          ],
          "scatterpolargl": [
           {
            "type": "scatterpolargl",
            "marker": {
             "colorbar": {
              "outlinewidth": 0,
              "ticks": ""
             }
            }
           }
          ],
          "bar": [
           {
            "error_x": {
             "color": "#2a3f5f"
            },
            "error_y": {
             "color": "#2a3f5f"
            },
            "marker": {
             "line": {
              "color": "#E5ECF6",
              "width": 0.5
             },
             "pattern": {
              "fillmode": "overlay",
              "size": 10,
              "solidity": 0.2
             }
            },
            "type": "bar"
           }
          ],
          "scattergeo": [
           {
            "type": "scattergeo",
            "marker": {
             "colorbar": {
              "outlinewidth": 0,
              "ticks": ""
             }
            }
           }
          ],
          "scatterpolar": [
           {
            "type": "scatterpolar",
            "marker": {
             "colorbar": {
              "outlinewidth": 0,
              "ticks": ""
             }
            }
           }
          ],
          "histogram": [
           {
            "marker": {
             "pattern": {
              "fillmode": "overlay",
              "size": 10,
              "solidity": 0.2
             }
            },
            "type": "histogram"
           }
          ],
          "scattergl": [
           {
            "type": "scattergl",
            "marker": {
             "colorbar": {
              "outlinewidth": 0,
              "ticks": ""
             }
            }
           }
          ],
          "scatter3d": [
           {
            "type": "scatter3d",
            "line": {
             "colorbar": {
              "outlinewidth": 0,
              "ticks": ""
             }
            },
            "marker": {
             "colorbar": {
              "outlinewidth": 0,
              "ticks": ""
             }
            }
           }
          ],
          "scattermapbox": [
           {
            "type": "scattermapbox",
            "marker": {
             "colorbar": {
              "outlinewidth": 0,
              "ticks": ""
             }
            }
           }
          ],
          "scatterternary": [
           {
            "type": "scatterternary",
            "marker": {
             "colorbar": {
              "outlinewidth": 0,
              "ticks": ""
             }
            }
           }
          ],
          "scattercarpet": [
           {
            "type": "scattercarpet",
            "marker": {
             "colorbar": {
              "outlinewidth": 0,
              "ticks": ""
             }
            }
           }
          ],
          "carpet": [
           {
            "aaxis": {
             "endlinecolor": "#2a3f5f",
             "gridcolor": "white",
             "linecolor": "white",
             "minorgridcolor": "white",
             "startlinecolor": "#2a3f5f"
            },
            "baxis": {
             "endlinecolor": "#2a3f5f",
             "gridcolor": "white",
             "linecolor": "white",
             "minorgridcolor": "white",
             "startlinecolor": "#2a3f5f"
            },
            "type": "carpet"
           }
          ],
          "table": [
           {
            "cells": {
             "fill": {
              "color": "#EBF0F8"
             },
             "line": {
              "color": "white"
             }
            },
            "header": {
             "fill": {
              "color": "#C8D4E3"
             },
             "line": {
              "color": "white"
             }
            },
            "type": "table"
           }
          ],
          "barpolar": [
           {
            "marker": {
             "line": {
              "color": "#E5ECF6",
              "width": 0.5
             },
             "pattern": {
              "fillmode": "overlay",
              "size": 10,
              "solidity": 0.2
             }
            },
            "type": "barpolar"
           }
          ],
          "pie": [
           {
            "automargin": true,
            "type": "pie"
           }
          ]
         },
         "layout": {
          "autotypenumbers": "strict",
          "colorway": [
           "#636efa",
           "#EF553B",
           "#00cc96",
           "#ab63fa",
           "#FFA15A",
           "#19d3f3",
           "#FF6692",
           "#B6E880",
           "#FF97FF",
           "#FECB52"
          ],
          "font": {
           "color": "#2a3f5f"
          },
          "hovermode": "closest",
          "hoverlabel": {
           "align": "left"
          },
          "paper_bgcolor": "white",
          "plot_bgcolor": "#E5ECF6",
          "polar": {
           "bgcolor": "#E5ECF6",
           "angularaxis": {
            "gridcolor": "white",
            "linecolor": "white",
            "ticks": ""
           },
           "radialaxis": {
            "gridcolor": "white",
            "linecolor": "white",
            "ticks": ""
           }
          },
          "ternary": {
           "bgcolor": "#E5ECF6",
           "aaxis": {
            "gridcolor": "white",
            "linecolor": "white",
            "ticks": ""
           },
           "baxis": {
            "gridcolor": "white",
            "linecolor": "white",
            "ticks": ""
           },
           "caxis": {
            "gridcolor": "white",
            "linecolor": "white",
            "ticks": ""
           }
          },
          "coloraxis": {
           "colorbar": {
            "outlinewidth": 0,
            "ticks": ""
           }
          },
          "colorscale": {
           "sequential": [
            [
             0.0,
             "#0d0887"
            ],
            [
             0.1111111111111111,
             "#46039f"
            ],
            [
             0.2222222222222222,
             "#7201a8"
            ],
            [
             0.3333333333333333,
             "#9c179e"
            ],
            [
             0.4444444444444444,
             "#bd3786"
            ],
            [
             0.5555555555555556,
             "#d8576b"
            ],
            [
             0.6666666666666666,
             "#ed7953"
            ],
            [
             0.7777777777777778,
             "#fb9f3a"
            ],
            [
             0.8888888888888888,
             "#fdca26"
            ],
            [
             1.0,
             "#f0f921"
            ]
           ],
           "sequentialminus": [
            [
             0.0,
             "#0d0887"
            ],
            [
             0.1111111111111111,
             "#46039f"
            ],
            [
             0.2222222222222222,
             "#7201a8"
            ],
            [
             0.3333333333333333,
             "#9c179e"
            ],
            [
             0.4444444444444444,
             "#bd3786"
            ],
            [
             0.5555555555555556,
             "#d8576b"
            ],
            [
             0.6666666666666666,
             "#ed7953"
            ],
            [
             0.7777777777777778,
             "#fb9f3a"
            ],
            [
             0.8888888888888888,
             "#fdca26"
            ],
            [
             1.0,
             "#f0f921"
            ]
           ],
           "diverging": [
            [
             0,
             "#8e0152"
            ],
            [
             0.1,
             "#c51b7d"
            ],
            [
             0.2,
             "#de77ae"
            ],
            [
             0.3,
             "#f1b6da"
            ],
            [
             0.4,
             "#fde0ef"
            ],
            [
             0.5,
             "#f7f7f7"
            ],
            [
             0.6,
             "#e6f5d0"
            ],
            [
             0.7,
             "#b8e186"
            ],
            [
             0.8,
             "#7fbc41"
            ],
            [
             0.9,
             "#4d9221"
            ],
            [
             1,
             "#276419"
            ]
           ]
          },
          "xaxis": {
           "gridcolor": "white",
           "linecolor": "white",
           "ticks": "",
           "title": {
            "standoff": 15
           },
           "zerolinecolor": "white",
           "automargin": true,
           "zerolinewidth": 2
          },
          "yaxis": {
           "gridcolor": "white",
           "linecolor": "white",
           "ticks": "",
           "title": {
            "standoff": 15
           },
           "zerolinecolor": "white",
           "automargin": true,
           "zerolinewidth": 2
          },
          "scene": {
           "xaxis": {
            "backgroundcolor": "#E5ECF6",
            "gridcolor": "white",
            "linecolor": "white",
            "showbackground": true,
            "ticks": "",
            "zerolinecolor": "white",
            "gridwidth": 2
           },
           "yaxis": {
            "backgroundcolor": "#E5ECF6",
            "gridcolor": "white",
            "linecolor": "white",
            "showbackground": true,
            "ticks": "",
            "zerolinecolor": "white",
            "gridwidth": 2
           },
           "zaxis": {
            "backgroundcolor": "#E5ECF6",
            "gridcolor": "white",
            "linecolor": "white",
            "showbackground": true,
            "ticks": "",
            "zerolinecolor": "white",
            "gridwidth": 2
           }
          },
          "shapedefaults": {
           "line": {
            "color": "#2a3f5f"
           }
          },
          "annotationdefaults": {
           "arrowcolor": "#2a3f5f",
           "arrowhead": 0,
           "arrowwidth": 1
          },
          "geo": {
           "bgcolor": "white",
           "landcolor": "#E5ECF6",
           "subunitcolor": "white",
           "showland": true,
           "showlakes": true,
           "lakecolor": "white"
          },
          "title": {
           "x": 0.05
          },
          "mapbox": {
           "style": "light"
          }
         }
        },
        "xaxis": {
         "anchor": "y",
         "domain": [
          0.0,
          1.0
         ],
         "title": {
          "text": "YEAR"
         }
        },
        "yaxis": {
         "anchor": "x",
         "domain": [
          0.575,
          1.0
         ],
         "title": {
          "text": "Overtime Pay"
         },
         "tickprefix": "$",
         "tickformat": ",.0f"
        },
        "xaxis2": {
         "anchor": "y2",
         "domain": [
          0.0,
          1.0
         ],
         "title": {
          "text": "YEAR"
         }
        },
        "yaxis2": {
         "anchor": "x2",
         "domain": [
          0.0,
          0.425
         ],
         "title": {
          "text": "Percentage Change (%)"
         }
        },
        "annotations": [
         {
          "font": {
           "size": 16
          },
          "showarrow": false,
          "text": "Overtime Pay for Public Works Department (2011-2023)",
          "x": 0.5,
          "xanchor": "center",
          "xref": "paper",
          "y": 1.0,
          "yanchor": "bottom",
          "yref": "paper"
         },
         {
          "font": {
           "size": 16
          },
          "showarrow": false,
          "text": "Year-over-Year Percentage Change in Overtime Pay",
          "x": 0.5,
          "xanchor": "center",
          "xref": "paper",
          "y": 0.425,
          "yanchor": "bottom",
          "yref": "paper"
         },
         {
          "showarrow": false,
          "text": "Last data point (2023)",
          "x": 2023,
          "xanchor": "center",
          "xref": "x",
          "y": 1,
          "yanchor": "bottom",
          "yref": "y domain"
         },
         {
          "align": "center",
          "bgcolor": "rgba(255, 255, 255, 0.8)",
          "bordercolor": "black",
          "borderpad": 4,
          "borderwidth": 1,
          "font": {
           "color": "black",
           "size": 14
          },
          "showarrow": false,
          "text": "Best Model: Polynomial Degree 4 (R² = 0.5873)",
          "x": 0.5,
          "xref": "paper",
          "y": 1.05,
          "yref": "paper"
         }
        ],
        "shapes": [
         {
          "line": {
           "color": "black",
           "dash": "dash",
           "width": 2
          },
          "type": "line",
          "x0": 2023,
          "x1": 2023,
          "xref": "x",
          "y0": 0,
          "y1": 1,
          "yref": "y domain"
         },
         {
          "line": {
           "color": "black",
           "dash": "solid",
           "width": 1
          },
          "type": "line",
          "x0": 2012,
          "x1": 2023,
          "xref": "x2",
          "y0": 0,
          "y1": 0,
          "yref": "y2"
         }
        ],
        "legend": {
         "orientation": "h",
         "yanchor": "bottom",
         "y": 1.02,
         "xanchor": "right",
         "x": 1
        },
        "height": 800,
        "hovermode": "closest",
        "updatemenus": [
         {
          "buttons": [
           {
            "args": [
             {
              "visible": [
               true,
               true,
               false,
               false,
               true,
               true
              ]
             }
            ],
            "label": "Degree 2",
            "method": "update"
           },
           {
            "args": [
             {
              "visible": [
               true,
               false,
               true,
               false,
               true,
               true
              ]
             }
            ],
            "label": "Degree 3",
            "method": "update"
           },
           {
            "args": [
             {
              "visible": [
               true,
               false,
               false,
               true,
               true,
               true
              ]
             }
            ],
            "label": "Degree 4",
            "method": "update"
           },
           {
            "args": [
             {
              "visible": [
               true,
               true,
               true,
               true,
               true,
               true
              ]
             }
            ],
            "label": "All Models",
            "method": "update"
           }
          ],
          "direction": "right",
          "pad": {
           "r": 10,
           "t": 10
          },
          "showactive": true,
          "type": "buttons",
          "x": 0.1,
          "xanchor": "left",
          "y": 1.1,
          "yanchor": "top"
         }
        ]
       },
       "config": {
        "plotlyServerURL": "https://plot.ly"
       }
      },
      "text/html": [
       "<div>                            <div id=\"12d4e077-2182-4e00-9291-93303208d573\" class=\"plotly-graph-div\" style=\"height:800px; width:100%;\"></div>            <script type=\"text/javascript\">                require([\"plotly\"], function(Plotly) {                    window.PLOTLYENV=window.PLOTLYENV || {};                                    if (document.getElementById(\"12d4e077-2182-4e00-9291-93303208d573\")) {                    Plotly.newPlot(                        \"12d4e077-2182-4e00-9291-93303208d573\",                        [{\"hovertemplate\":\"%{x}, $%{y:,.2f}\",\"marker\":{\"color\":\"orange\",\"size\":10},\"mode\":\"markers\",\"name\":\"Original Data\",\"x\":[2011,2012,2013,2014,2015,2016,2017,2018,2019,2020,2021,2022,2023],\"y\":[2936045.81,1727033.69,3149769.31,3833240.06,5243898.07,4161927.4,5114656.36,5255554.84,4506512.51,3444542.88,3982020.93,4908683.73,5246580.43],\"type\":\"scatter\",\"xaxis\":\"x\",\"yaxis\":\"y\"},{\"customdata\":[2,2,2,2,2,2,2,2,2,2,2,2,2,2,2],\"hovertemplate\":\"%{x}, $%{y:,.2f}\\u003cbr\\u003eModel: Degree %{customdata}\\u003cextra\\u003e\\u003c\\u002fextra\\u003e\",\"line\":{\"color\":\"blue\",\"width\":2},\"mode\":\"lines\",\"name\":\"Degree 2 (R\\u00b2 = 0.5142)\",\"visible\":\"legendonly\",\"x\":[2011,2012,2013,2014,2015,2016,2017,2018,2019,2020,2021,2022,2023,2024,2025],\"y\":[2409476.3218078613,2916094.225616455,3362121.490753174,3747558.117202759,4072404.1049957275,4336659.454116821,4540324.16456604,4683398.236328125,4765881.669433594,4787774.463851929,4749076.619598389,4649788.136688232,4489909.015090942,4269439.254821777,3988378.8558807373],\"type\":\"scatter\",\"xaxis\":\"x\",\"yaxis\":\"y\"},{\"customdata\":[3,3,3,3,3,3,3,3,3,3,3,3,3,3,3],\"hovertemplate\":\"%{x}, $%{y:,.2f}\\u003cbr\\u003eModel: Degree %{customdata}\\u003cextra\\u003e\\u003c\\u002fextra\\u003e\",\"line\":{\"color\":\"green\",\"width\":2},\"mode\":\"lines\",\"name\":\"Degree 3 (R\\u00b2 = 0.5870)\",\"visible\":\"legendonly\",\"x\":[2011,2012,2013,2014,2015,2016,2017,2018,2019,2020,2021,2022,2023,2024,2025],\"y\":[1943000.0078125,2916707.9765625,3617442.5390625,4087682.8515625,4369908.1640625,4506597.7578125,4540230.7578125,4513286.5078125,4468244.2265625,4447583.0390625,4493782.2578125,4649321.1015625,4956678.8203125,5458334.6328125,6196767.7265625],\"type\":\"scatter\",\"xaxis\":\"x\",\"yaxis\":\"y\"},{\"customdata\":[4,4,4,4,4,4,4,4,4,4,4,4,4,4,4],\"hovertemplate\":\"%{x}, $%{y:,.2f}\\u003cbr\\u003eModel: Degree %{customdata}\\u003cextra\\u003e\\u003c\\u002fextra\\u003e\",\"line\":{\"color\":\"red\",\"width\":2},\"mode\":\"lines\",\"name\":\"Degree 4 (R\\u00b2 = 0.5873)\",\"visible\":true,\"x\":[2011,2012,2013,2014,2015,2016,2017,2018,2019,2020,2021,2022,2023,2024,2025],\"y\":[1941361.568359375,2915794.427734375,3617265.5703125,4088086.0234375,4370630.2890625,4507336.345703125,4540705.5234375,4513302.712890625,4467756.1796875,4446757.62890625,4493062.25,4649488.669921875,4958918.94140625,5464298.580078125,6208636.546875],\"type\":\"scatter\",\"xaxis\":\"x\",\"yaxis\":\"y\"},{\"fill\":\"toself\",\"fillcolor\":\"rgba(128, 128, 128, 0.2)\",\"hoverinfo\":\"skip\",\"line\":{\"color\":\"rgba(255, 255, 255, 0)\"},\"name\":\"Forecast Region\",\"showlegend\":true,\"x\":[2023,2024,2025,2025,2024,2023],\"y\":[4958918.94140625,5464298.580078125,6208636.546875,1727033.69,1727033.69,1727033.69],\"type\":\"scatter\",\"xaxis\":\"x\",\"yaxis\":\"y\"},{\"hovertemplate\":\"Year %{x}\\u003cbr\\u003e$%{y:,.2f}\\u003cextra\\u003e\\u003c\\u002fextra\\u003e\",\"marker\":{\"color\":\"red\",\"size\":12,\"symbol\":\"diamond\"},\"mode\":\"markers+text\",\"name\":\"Predictions\",\"text\":[\"2024: $5,464,299M\",\"2025: $6,208,637M\"],\"textposition\":\"top center\",\"x\":[2024,2025],\"y\":[5464298.580078125,6208636.546875],\"type\":\"scatter\",\"xaxis\":\"x\",\"yaxis\":\"y\"},{\"hovertemplate\":\"Year %{x}\\u003cbr\\u003eChange: %{y:.1f}%\\u003cextra\\u003e\\u003c\\u002fextra\\u003e\",\"marker\":{\"color\":\"skyblue\"},\"name\":\"YoY Change\",\"text\":[\"-41.2%\",\"82.4%\",\"21.7%\",\"36.8%\",\"-20.6%\",\"22.9%\",\"2.8%\",\"-14.3%\",\"-23.6%\",\"15.6%\",\"23.3%\",\"6.9%\"],\"textposition\":\"outside\",\"x\":[2012,2013,2014,2015,2016,2017,2018,2019,2020,2021,2022,2023],\"y\":[-41.17824442255552,82.38030492618822,21.699073256891946,36.800669614206214,-20.632946246417035,22.891532418369444,2.7547985648052316,-14.252392997577399,-23.565220947317417,15.60375552648078,23.27116849182408,6.883651882782825],\"type\":\"bar\",\"xaxis\":\"x2\",\"yaxis\":\"y2\"}],                        {\"template\":{\"data\":{\"histogram2dcontour\":[{\"type\":\"histogram2dcontour\",\"colorbar\":{\"outlinewidth\":0,\"ticks\":\"\"},\"colorscale\":[[0.0,\"#0d0887\"],[0.1111111111111111,\"#46039f\"],[0.2222222222222222,\"#7201a8\"],[0.3333333333333333,\"#9c179e\"],[0.4444444444444444,\"#bd3786\"],[0.5555555555555556,\"#d8576b\"],[0.6666666666666666,\"#ed7953\"],[0.7777777777777778,\"#fb9f3a\"],[0.8888888888888888,\"#fdca26\"],[1.0,\"#f0f921\"]]}],\"choropleth\":[{\"type\":\"choropleth\",\"colorbar\":{\"outlinewidth\":0,\"ticks\":\"\"}}],\"histogram2d\":[{\"type\":\"histogram2d\",\"colorbar\":{\"outlinewidth\":0,\"ticks\":\"\"},\"colorscale\":[[0.0,\"#0d0887\"],[0.1111111111111111,\"#46039f\"],[0.2222222222222222,\"#7201a8\"],[0.3333333333333333,\"#9c179e\"],[0.4444444444444444,\"#bd3786\"],[0.5555555555555556,\"#d8576b\"],[0.6666666666666666,\"#ed7953\"],[0.7777777777777778,\"#fb9f3a\"],[0.8888888888888888,\"#fdca26\"],[1.0,\"#f0f921\"]]}],\"heatmap\":[{\"type\":\"heatmap\",\"colorbar\":{\"outlinewidth\":0,\"ticks\":\"\"},\"colorscale\":[[0.0,\"#0d0887\"],[0.1111111111111111,\"#46039f\"],[0.2222222222222222,\"#7201a8\"],[0.3333333333333333,\"#9c179e\"],[0.4444444444444444,\"#bd3786\"],[0.5555555555555556,\"#d8576b\"],[0.6666666666666666,\"#ed7953\"],[0.7777777777777778,\"#fb9f3a\"],[0.8888888888888888,\"#fdca26\"],[1.0,\"#f0f921\"]]}],\"heatmapgl\":[{\"type\":\"heatmapgl\",\"colorbar\":{\"outlinewidth\":0,\"ticks\":\"\"},\"colorscale\":[[0.0,\"#0d0887\"],[0.1111111111111111,\"#46039f\"],[0.2222222222222222,\"#7201a8\"],[0.3333333333333333,\"#9c179e\"],[0.4444444444444444,\"#bd3786\"],[0.5555555555555556,\"#d8576b\"],[0.6666666666666666,\"#ed7953\"],[0.7777777777777778,\"#fb9f3a\"],[0.8888888888888888,\"#fdca26\"],[1.0,\"#f0f921\"]]}],\"contourcarpet\":[{\"type\":\"contourcarpet\",\"colorbar\":{\"outlinewidth\":0,\"ticks\":\"\"}}],\"contour\":[{\"type\":\"contour\",\"colorbar\":{\"outlinewidth\":0,\"ticks\":\"\"},\"colorscale\":[[0.0,\"#0d0887\"],[0.1111111111111111,\"#46039f\"],[0.2222222222222222,\"#7201a8\"],[0.3333333333333333,\"#9c179e\"],[0.4444444444444444,\"#bd3786\"],[0.5555555555555556,\"#d8576b\"],[0.6666666666666666,\"#ed7953\"],[0.7777777777777778,\"#fb9f3a\"],[0.8888888888888888,\"#fdca26\"],[1.0,\"#f0f921\"]]}],\"surface\":[{\"type\":\"surface\",\"colorbar\":{\"outlinewidth\":0,\"ticks\":\"\"},\"colorscale\":[[0.0,\"#0d0887\"],[0.1111111111111111,\"#46039f\"],[0.2222222222222222,\"#7201a8\"],[0.3333333333333333,\"#9c179e\"],[0.4444444444444444,\"#bd3786\"],[0.5555555555555556,\"#d8576b\"],[0.6666666666666666,\"#ed7953\"],[0.7777777777777778,\"#fb9f3a\"],[0.8888888888888888,\"#fdca26\"],[1.0,\"#f0f921\"]]}],\"mesh3d\":[{\"type\":\"mesh3d\",\"colorbar\":{\"outlinewidth\":0,\"ticks\":\"\"}}],\"scatter\":[{\"fillpattern\":{\"fillmode\":\"overlay\",\"size\":10,\"solidity\":0.2},\"type\":\"scatter\"}],\"parcoords\":[{\"type\":\"parcoords\",\"line\":{\"colorbar\":{\"outlinewidth\":0,\"ticks\":\"\"}}}],\"scatterpolargl\":[{\"type\":\"scatterpolargl\",\"marker\":{\"colorbar\":{\"outlinewidth\":0,\"ticks\":\"\"}}}],\"bar\":[{\"error_x\":{\"color\":\"#2a3f5f\"},\"error_y\":{\"color\":\"#2a3f5f\"},\"marker\":{\"line\":{\"color\":\"#E5ECF6\",\"width\":0.5},\"pattern\":{\"fillmode\":\"overlay\",\"size\":10,\"solidity\":0.2}},\"type\":\"bar\"}],\"scattergeo\":[{\"type\":\"scattergeo\",\"marker\":{\"colorbar\":{\"outlinewidth\":0,\"ticks\":\"\"}}}],\"scatterpolar\":[{\"type\":\"scatterpolar\",\"marker\":{\"colorbar\":{\"outlinewidth\":0,\"ticks\":\"\"}}}],\"histogram\":[{\"marker\":{\"pattern\":{\"fillmode\":\"overlay\",\"size\":10,\"solidity\":0.2}},\"type\":\"histogram\"}],\"scattergl\":[{\"type\":\"scattergl\",\"marker\":{\"colorbar\":{\"outlinewidth\":0,\"ticks\":\"\"}}}],\"scatter3d\":[{\"type\":\"scatter3d\",\"line\":{\"colorbar\":{\"outlinewidth\":0,\"ticks\":\"\"}},\"marker\":{\"colorbar\":{\"outlinewidth\":0,\"ticks\":\"\"}}}],\"scattermapbox\":[{\"type\":\"scattermapbox\",\"marker\":{\"colorbar\":{\"outlinewidth\":0,\"ticks\":\"\"}}}],\"scatterternary\":[{\"type\":\"scatterternary\",\"marker\":{\"colorbar\":{\"outlinewidth\":0,\"ticks\":\"\"}}}],\"scattercarpet\":[{\"type\":\"scattercarpet\",\"marker\":{\"colorbar\":{\"outlinewidth\":0,\"ticks\":\"\"}}}],\"carpet\":[{\"aaxis\":{\"endlinecolor\":\"#2a3f5f\",\"gridcolor\":\"white\",\"linecolor\":\"white\",\"minorgridcolor\":\"white\",\"startlinecolor\":\"#2a3f5f\"},\"baxis\":{\"endlinecolor\":\"#2a3f5f\",\"gridcolor\":\"white\",\"linecolor\":\"white\",\"minorgridcolor\":\"white\",\"startlinecolor\":\"#2a3f5f\"},\"type\":\"carpet\"}],\"table\":[{\"cells\":{\"fill\":{\"color\":\"#EBF0F8\"},\"line\":{\"color\":\"white\"}},\"header\":{\"fill\":{\"color\":\"#C8D4E3\"},\"line\":{\"color\":\"white\"}},\"type\":\"table\"}],\"barpolar\":[{\"marker\":{\"line\":{\"color\":\"#E5ECF6\",\"width\":0.5},\"pattern\":{\"fillmode\":\"overlay\",\"size\":10,\"solidity\":0.2}},\"type\":\"barpolar\"}],\"pie\":[{\"automargin\":true,\"type\":\"pie\"}]},\"layout\":{\"autotypenumbers\":\"strict\",\"colorway\":[\"#636efa\",\"#EF553B\",\"#00cc96\",\"#ab63fa\",\"#FFA15A\",\"#19d3f3\",\"#FF6692\",\"#B6E880\",\"#FF97FF\",\"#FECB52\"],\"font\":{\"color\":\"#2a3f5f\"},\"hovermode\":\"closest\",\"hoverlabel\":{\"align\":\"left\"},\"paper_bgcolor\":\"white\",\"plot_bgcolor\":\"#E5ECF6\",\"polar\":{\"bgcolor\":\"#E5ECF6\",\"angularaxis\":{\"gridcolor\":\"white\",\"linecolor\":\"white\",\"ticks\":\"\"},\"radialaxis\":{\"gridcolor\":\"white\",\"linecolor\":\"white\",\"ticks\":\"\"}},\"ternary\":{\"bgcolor\":\"#E5ECF6\",\"aaxis\":{\"gridcolor\":\"white\",\"linecolor\":\"white\",\"ticks\":\"\"},\"baxis\":{\"gridcolor\":\"white\",\"linecolor\":\"white\",\"ticks\":\"\"},\"caxis\":{\"gridcolor\":\"white\",\"linecolor\":\"white\",\"ticks\":\"\"}},\"coloraxis\":{\"colorbar\":{\"outlinewidth\":0,\"ticks\":\"\"}},\"colorscale\":{\"sequential\":[[0.0,\"#0d0887\"],[0.1111111111111111,\"#46039f\"],[0.2222222222222222,\"#7201a8\"],[0.3333333333333333,\"#9c179e\"],[0.4444444444444444,\"#bd3786\"],[0.5555555555555556,\"#d8576b\"],[0.6666666666666666,\"#ed7953\"],[0.7777777777777778,\"#fb9f3a\"],[0.8888888888888888,\"#fdca26\"],[1.0,\"#f0f921\"]],\"sequentialminus\":[[0.0,\"#0d0887\"],[0.1111111111111111,\"#46039f\"],[0.2222222222222222,\"#7201a8\"],[0.3333333333333333,\"#9c179e\"],[0.4444444444444444,\"#bd3786\"],[0.5555555555555556,\"#d8576b\"],[0.6666666666666666,\"#ed7953\"],[0.7777777777777778,\"#fb9f3a\"],[0.8888888888888888,\"#fdca26\"],[1.0,\"#f0f921\"]],\"diverging\":[[0,\"#8e0152\"],[0.1,\"#c51b7d\"],[0.2,\"#de77ae\"],[0.3,\"#f1b6da\"],[0.4,\"#fde0ef\"],[0.5,\"#f7f7f7\"],[0.6,\"#e6f5d0\"],[0.7,\"#b8e186\"],[0.8,\"#7fbc41\"],[0.9,\"#4d9221\"],[1,\"#276419\"]]},\"xaxis\":{\"gridcolor\":\"white\",\"linecolor\":\"white\",\"ticks\":\"\",\"title\":{\"standoff\":15},\"zerolinecolor\":\"white\",\"automargin\":true,\"zerolinewidth\":2},\"yaxis\":{\"gridcolor\":\"white\",\"linecolor\":\"white\",\"ticks\":\"\",\"title\":{\"standoff\":15},\"zerolinecolor\":\"white\",\"automargin\":true,\"zerolinewidth\":2},\"scene\":{\"xaxis\":{\"backgroundcolor\":\"#E5ECF6\",\"gridcolor\":\"white\",\"linecolor\":\"white\",\"showbackground\":true,\"ticks\":\"\",\"zerolinecolor\":\"white\",\"gridwidth\":2},\"yaxis\":{\"backgroundcolor\":\"#E5ECF6\",\"gridcolor\":\"white\",\"linecolor\":\"white\",\"showbackground\":true,\"ticks\":\"\",\"zerolinecolor\":\"white\",\"gridwidth\":2},\"zaxis\":{\"backgroundcolor\":\"#E5ECF6\",\"gridcolor\":\"white\",\"linecolor\":\"white\",\"showbackground\":true,\"ticks\":\"\",\"zerolinecolor\":\"white\",\"gridwidth\":2}},\"shapedefaults\":{\"line\":{\"color\":\"#2a3f5f\"}},\"annotationdefaults\":{\"arrowcolor\":\"#2a3f5f\",\"arrowhead\":0,\"arrowwidth\":1},\"geo\":{\"bgcolor\":\"white\",\"landcolor\":\"#E5ECF6\",\"subunitcolor\":\"white\",\"showland\":true,\"showlakes\":true,\"lakecolor\":\"white\"},\"title\":{\"x\":0.05},\"mapbox\":{\"style\":\"light\"}}},\"xaxis\":{\"anchor\":\"y\",\"domain\":[0.0,1.0],\"title\":{\"text\":\"YEAR\"}},\"yaxis\":{\"anchor\":\"x\",\"domain\":[0.575,1.0],\"title\":{\"text\":\"Overtime Pay\"},\"tickprefix\":\"$\",\"tickformat\":\",.0f\"},\"xaxis2\":{\"anchor\":\"y2\",\"domain\":[0.0,1.0],\"title\":{\"text\":\"YEAR\"}},\"yaxis2\":{\"anchor\":\"x2\",\"domain\":[0.0,0.425],\"title\":{\"text\":\"Percentage Change (%)\"}},\"annotations\":[{\"font\":{\"size\":16},\"showarrow\":false,\"text\":\"Overtime Pay for Public Works Department (2011-2023)\",\"x\":0.5,\"xanchor\":\"center\",\"xref\":\"paper\",\"y\":1.0,\"yanchor\":\"bottom\",\"yref\":\"paper\"},{\"font\":{\"size\":16},\"showarrow\":false,\"text\":\"Year-over-Year Percentage Change in Overtime Pay\",\"x\":0.5,\"xanchor\":\"center\",\"xref\":\"paper\",\"y\":0.425,\"yanchor\":\"bottom\",\"yref\":\"paper\"},{\"showarrow\":false,\"text\":\"Last data point (2023)\",\"x\":2023,\"xanchor\":\"center\",\"xref\":\"x\",\"y\":1,\"yanchor\":\"bottom\",\"yref\":\"y domain\"},{\"align\":\"center\",\"bgcolor\":\"rgba(255, 255, 255, 0.8)\",\"bordercolor\":\"black\",\"borderpad\":4,\"borderwidth\":1,\"font\":{\"color\":\"black\",\"size\":14},\"showarrow\":false,\"text\":\"Best Model: Polynomial Degree 4 (R\\u00b2 = 0.5873)\",\"x\":0.5,\"xref\":\"paper\",\"y\":1.05,\"yref\":\"paper\"}],\"shapes\":[{\"line\":{\"color\":\"black\",\"dash\":\"dash\",\"width\":2},\"type\":\"line\",\"x0\":2023,\"x1\":2023,\"xref\":\"x\",\"y0\":0,\"y1\":1,\"yref\":\"y domain\"},{\"line\":{\"color\":\"black\",\"dash\":\"solid\",\"width\":1},\"type\":\"line\",\"x0\":2012,\"x1\":2023,\"xref\":\"x2\",\"y0\":0,\"y1\":0,\"yref\":\"y2\"}],\"legend\":{\"orientation\":\"h\",\"yanchor\":\"bottom\",\"y\":1.02,\"xanchor\":\"right\",\"x\":1},\"height\":800,\"hovermode\":\"closest\",\"updatemenus\":[{\"buttons\":[{\"args\":[{\"visible\":[true,true,false,false,true,true]}],\"label\":\"Degree 2\",\"method\":\"update\"},{\"args\":[{\"visible\":[true,false,true,false,true,true]}],\"label\":\"Degree 3\",\"method\":\"update\"},{\"args\":[{\"visible\":[true,false,false,true,true,true]}],\"label\":\"Degree 4\",\"method\":\"update\"},{\"args\":[{\"visible\":[true,true,true,true,true,true]}],\"label\":\"All Models\",\"method\":\"update\"}],\"direction\":\"right\",\"pad\":{\"r\":10,\"t\":10},\"showactive\":true,\"type\":\"buttons\",\"x\":0.1,\"xanchor\":\"left\",\"y\":1.1,\"yanchor\":\"top\"}]},                        {\"responsive\": true}                    ).then(function(){\n",
       "                            \n",
       "var gd = document.getElementById('12d4e077-2182-4e00-9291-93303208d573');\n",
       "var x = new MutationObserver(function (mutations, observer) {{\n",
       "        var display = window.getComputedStyle(gd).display;\n",
       "        if (!display || display === 'none') {{\n",
       "            console.log([gd, 'removed!']);\n",
       "            Plotly.purge(gd);\n",
       "            observer.disconnect();\n",
       "        }}\n",
       "}});\n",
       "\n",
       "// Listen for the removal of the full notebook cells\n",
       "var notebookContainer = gd.closest('#notebook-container');\n",
       "if (notebookContainer) {{\n",
       "    x.observe(notebookContainer, {childList: true});\n",
       "}}\n",
       "\n",
       "// Listen for the clearing of the current output cell\n",
       "var outputEl = gd.closest('.output');\n",
       "if (outputEl) {{\n",
       "    x.observe(outputEl, {childList: true});\n",
       "}}\n",
       "\n",
       "                        })                };                });            </script>        </div>"
      ]
     },
     "metadata": {},
     "output_type": "display_data"
    },
    {
     "name": "stdout",
     "output_type": "stream",
     "text": [
      "\n",
      "Forecast summary:\n",
      "Best degree polynomial: 4\n",
      "R² score: 0.5873\n",
      "Equation: y = -1.46e+13 + 7.82e+03x^1 + 2.15e+07x^2 + -1.42e+04x^3 + 2.64e+00x^4\n"
     ]
    }
   ],
   "execution_count": 63
  },
  {
   "metadata": {
    "ExecuteTime": {
     "end_time": "2025-04-21T18:25:52.044336Z",
     "start_time": "2025-04-21T18:25:52.019354Z"
    }
   },
   "cell_type": "code",
   "source": [
    "# Select the department to analyze\n",
    "department_to_analyze = 'Property Management'\n",
    "if department_to_analyze in department_dataframes:\n",
    "    df = department_dataframes[department_to_analyze]\n",
    "\n",
    "# Run the analysis\n",
    "results = polynomial_regression_forecast(\n",
    "    df=df,\n",
    "    x_column='YEAR',\n",
    "    y_column='OVERTIME',\n",
    "    forecast_years=2,\n",
    "    test_degrees=[2, 3, 4],\n",
    "    title='Overtime Pay for Property Management (2011-2023)',\n",
    "    y_label='Overtime Pay'\n",
    ")\n",
    "\n",
    "# Access the results\n",
    "print(f\"\\nForecast summary:\")\n",
    "print(f\"Best degree polynomial: {results['best_degree']}\")\n",
    "print(f\"R² score: {results['metrics'][results['best_degree']]['r2']:.4f}\")\n",
    "print(f\"Equation: {results['equation']}\")"
   ],
   "id": "b29317d1a4fc11e5",
   "outputs": [
    {
     "name": "stdout",
     "output_type": "stream",
     "text": [
      "Best polynomial degree: 3\n",
      "\n",
      "Predicted future values:\n",
      "Year 2024: $3,060,206.97\n",
      "Year 2025: $3,476,248.02\n",
      "\n",
      "Best model equation:\n",
      "y = -1.65e+13 + 2.45e+10x^1 + -1.22e+07x^2 + 2.01e+03x^3\n"
     ]
    },
    {
     "data": {
      "application/vnd.plotly.v1+json": {
       "data": [
        {
         "hovertemplate": "%{x}, $%{y:,.2f}",
         "marker": {
          "color": "orange",
          "size": 10
         },
         "mode": "markers",
         "name": "Original Data",
         "x": [
          2011,
          2012,
          2013,
          2014,
          2015,
          2016,
          2017,
          2018,
          2019,
          2020,
          2021,
          2022,
          2023
         ],
         "y": [
          1509684.21,
          1771431.66,
          2136854.78,
          1948891.72,
          2131552.41,
          1814680.76,
          1917753.05,
          1943773.68,
          2075398.7,
          2506471.06,
          2379766.76,
          2416436.55,
          2686587.14
         ],
         "type": "scatter",
         "xaxis": "x",
         "yaxis": "y"
        },
        {
         "customdata": [
          2,
          2,
          2,
          2,
          2,
          2,
          2,
          2,
          2,
          2,
          2,
          2,
          2,
          2,
          2
         ],
         "hovertemplate": "%{x}, $%{y:,.2f}<br>Model: Degree %{customdata}<extra></extra>",
         "line": {
          "color": "blue",
          "width": 2
         },
         "mode": "lines",
         "name": "Degree 2 (R² = 0.7245)",
         "visible": "legendonly",
         "x": [
          2011,
          2012,
          2013,
          2014,
          2015,
          2016,
          2017,
          2018,
          2019,
          2020,
          2021,
          2022,
          2023,
          2024,
          2025
         ],
         "y": [
          1749396.9739704132,
          1780081.731060028,
          1818122.1201992035,
          1863518.14138031,
          1916269.7946128845,
          1976377.0798892975,
          2043839.9972133636,
          2118658.5465812683,
          2200832.728000641,
          2290362.5414657593,
          2387247.986972809,
          2491489.0645313263,
          2603085.7741298676,
          2722038.115781784,
          2848346.0894756317
         ],
         "type": "scatter",
         "xaxis": "x",
         "yaxis": "y"
        },
        {
         "customdata": [
          3,
          3,
          3,
          3,
          3,
          3,
          3,
          3,
          3,
          3,
          3,
          3,
          3,
          3,
          3
         ],
         "hovertemplate": "%{x}, $%{y:,.2f}<br>Model: Degree %{customdata}<extra></extra>",
         "line": {
          "color": "green",
          "width": 2
         },
         "mode": "lines",
         "name": "Degree 3 (R² = 0.7882)",
         "visible": true,
         "x": [
          2011,
          2012,
          2013,
          2014,
          2015,
          2016,
          2017,
          2018,
          2019,
          2020,
          2021,
          2022,
          2023,
          2024,
          2025
         ],
         "y": [
          1616550.0078125,
          1780005.484375,
          1890469.3671875,
          1960011.875,
          2000703.2265625,
          2024613.6171875,
          2043813.25,
          2070372.3359375,
          2116361.078125,
          2193849.6953125,
          2314908.3828125,
          2491607.359375,
          2736016.8125,
          3060206.96875,
          3476248.0234375
         ],
         "type": "scatter",
         "xaxis": "x",
         "yaxis": "y"
        },
        {
         "customdata": [
          4,
          4,
          4,
          4,
          4,
          4,
          4,
          4,
          4,
          4,
          4,
          4,
          4,
          4,
          4
         ],
         "hovertemplate": "%{x}, $%{y:,.2f}<br>Model: Degree %{customdata}<extra></extra>",
         "line": {
          "color": "red",
          "width": 2
         },
         "mode": "lines",
         "name": "Degree 4 (R² = 0.7881)",
         "visible": "legendonly",
         "x": [
          2011,
          2012,
          2013,
          2014,
          2015,
          2016,
          2017,
          2018,
          2019,
          2020,
          2021,
          2022,
          2023,
          2024,
          2025
         ],
         "y": [
          1616922.8403320312,
          1779997.3251953125,
          1890327.0654296875,
          1959886.0610351562,
          2000666.234375,
          2024677.4262695312,
          2043947.3920898438,
          2070521.8110351562,
          2116464.2797851562,
          2193856.3037109375,
          2314797.328125,
          2491404.7001953125,
          2735813.6879882812,
          3060177.482421875,
          3476667.1982421875
         ],
         "type": "scatter",
         "xaxis": "x",
         "yaxis": "y"
        },
        {
         "fill": "toself",
         "fillcolor": "rgba(128, 128, 128, 0.2)",
         "hoverinfo": "skip",
         "line": {
          "color": "rgba(255, 255, 255, 0)"
         },
         "name": "Forecast Region",
         "showlegend": true,
         "x": [
          2023,
          2024,
          2025,
          2025,
          2024,
          2023
         ],
         "y": [
          2736016.8125,
          3060206.96875,
          3476248.0234375,
          1509684.21,
          1509684.21,
          1509684.21
         ],
         "type": "scatter",
         "xaxis": "x",
         "yaxis": "y"
        },
        {
         "hovertemplate": "Year %{x}<br>$%{y:,.2f}<extra></extra>",
         "marker": {
          "color": "red",
          "size": 12,
          "symbol": "diamond"
         },
         "mode": "markers+text",
         "name": "Predictions",
         "text": [
          "2024: $3,060,207M",
          "2025: $3,476,248M"
         ],
         "textposition": "top center",
         "x": [
          2024,
          2025
         ],
         "y": [
          3060206.96875,
          3476248.0234375
         ],
         "type": "scatter",
         "xaxis": "x",
         "yaxis": "y"
        },
        {
         "hovertemplate": "Year %{x}<br>Change: %{y:.1f}%<extra></extra>",
         "marker": {
          "color": "skyblue"
         },
         "name": "YoY Change",
         "text": [
          "17.3%",
          "20.6%",
          "-8.8%",
          "9.4%",
          "-14.9%",
          "5.7%",
          "1.4%",
          "6.8%",
          "20.8%",
          "-5.1%",
          "1.5%",
          "11.2%"
         ],
         "textposition": "outside",
         "x": [
          2012,
          2013,
          2014,
          2015,
          2016,
          2017,
          2018,
          2019,
          2020,
          2021,
          2022,
          2023
         ],
         "y": [
          17.33789412820314,
          20.628688549012377,
          -8.796248662251154,
          9.372541743878935,
          -14.865768653560815,
          5.679913088404598,
          1.3568290244669348,
          6.7716227127841355,
          20.770580611812086,
          -5.055087290734579,
          1.5408984870433287,
          11.179709643110652
         ],
         "type": "bar",
         "xaxis": "x2",
         "yaxis": "y2"
        }
       ],
       "layout": {
        "template": {
         "data": {
          "histogram2dcontour": [
           {
            "type": "histogram2dcontour",
            "colorbar": {
             "outlinewidth": 0,
             "ticks": ""
            },
            "colorscale": [
             [
              0.0,
              "#0d0887"
             ],
             [
              0.1111111111111111,
              "#46039f"
             ],
             [
              0.2222222222222222,
              "#7201a8"
             ],
             [
              0.3333333333333333,
              "#9c179e"
             ],
             [
              0.4444444444444444,
              "#bd3786"
             ],
             [
              0.5555555555555556,
              "#d8576b"
             ],
             [
              0.6666666666666666,
              "#ed7953"
             ],
             [
              0.7777777777777778,
              "#fb9f3a"
             ],
             [
              0.8888888888888888,
              "#fdca26"
             ],
             [
              1.0,
              "#f0f921"
             ]
            ]
           }
          ],
          "choropleth": [
           {
            "type": "choropleth",
            "colorbar": {
             "outlinewidth": 0,
             "ticks": ""
            }
           }
          ],
          "histogram2d": [
           {
            "type": "histogram2d",
            "colorbar": {
             "outlinewidth": 0,
             "ticks": ""
            },
            "colorscale": [
             [
              0.0,
              "#0d0887"
             ],
             [
              0.1111111111111111,
              "#46039f"
             ],
             [
              0.2222222222222222,
              "#7201a8"
             ],
             [
              0.3333333333333333,
              "#9c179e"
             ],
             [
              0.4444444444444444,
              "#bd3786"
             ],
             [
              0.5555555555555556,
              "#d8576b"
             ],
             [
              0.6666666666666666,
              "#ed7953"
             ],
             [
              0.7777777777777778,
              "#fb9f3a"
             ],
             [
              0.8888888888888888,
              "#fdca26"
             ],
             [
              1.0,
              "#f0f921"
             ]
            ]
           }
          ],
          "heatmap": [
           {
            "type": "heatmap",
            "colorbar": {
             "outlinewidth": 0,
             "ticks": ""
            },
            "colorscale": [
             [
              0.0,
              "#0d0887"
             ],
             [
              0.1111111111111111,
              "#46039f"
             ],
             [
              0.2222222222222222,
              "#7201a8"
             ],
             [
              0.3333333333333333,
              "#9c179e"
             ],
             [
              0.4444444444444444,
              "#bd3786"
             ],
             [
              0.5555555555555556,
              "#d8576b"
             ],
             [
              0.6666666666666666,
              "#ed7953"
             ],
             [
              0.7777777777777778,
              "#fb9f3a"
             ],
             [
              0.8888888888888888,
              "#fdca26"
             ],
             [
              1.0,
              "#f0f921"
             ]
            ]
           }
          ],
          "heatmapgl": [
           {
            "type": "heatmapgl",
            "colorbar": {
             "outlinewidth": 0,
             "ticks": ""
            },
            "colorscale": [
             [
              0.0,
              "#0d0887"
             ],
             [
              0.1111111111111111,
              "#46039f"
             ],
             [
              0.2222222222222222,
              "#7201a8"
             ],
             [
              0.3333333333333333,
              "#9c179e"
             ],
             [
              0.4444444444444444,
              "#bd3786"
             ],
             [
              0.5555555555555556,
              "#d8576b"
             ],
             [
              0.6666666666666666,
              "#ed7953"
             ],
             [
              0.7777777777777778,
              "#fb9f3a"
             ],
             [
              0.8888888888888888,
              "#fdca26"
             ],
             [
              1.0,
              "#f0f921"
             ]
            ]
           }
          ],
          "contourcarpet": [
           {
            "type": "contourcarpet",
            "colorbar": {
             "outlinewidth": 0,
             "ticks": ""
            }
           }
          ],
          "contour": [
           {
            "type": "contour",
            "colorbar": {
             "outlinewidth": 0,
             "ticks": ""
            },
            "colorscale": [
             [
              0.0,
              "#0d0887"
             ],
             [
              0.1111111111111111,
              "#46039f"
             ],
             [
              0.2222222222222222,
              "#7201a8"
             ],
             [
              0.3333333333333333,
              "#9c179e"
             ],
             [
              0.4444444444444444,
              "#bd3786"
             ],
             [
              0.5555555555555556,
              "#d8576b"
             ],
             [
              0.6666666666666666,
              "#ed7953"
             ],
             [
              0.7777777777777778,
              "#fb9f3a"
             ],
             [
              0.8888888888888888,
              "#fdca26"
             ],
             [
              1.0,
              "#f0f921"
             ]
            ]
           }
          ],
          "surface": [
           {
            "type": "surface",
            "colorbar": {
             "outlinewidth": 0,
             "ticks": ""
            },
            "colorscale": [
             [
              0.0,
              "#0d0887"
             ],
             [
              0.1111111111111111,
              "#46039f"
             ],
             [
              0.2222222222222222,
              "#7201a8"
             ],
             [
              0.3333333333333333,
              "#9c179e"
             ],
             [
              0.4444444444444444,
              "#bd3786"
             ],
             [
              0.5555555555555556,
              "#d8576b"
             ],
             [
              0.6666666666666666,
              "#ed7953"
             ],
             [
              0.7777777777777778,
              "#fb9f3a"
             ],
             [
              0.8888888888888888,
              "#fdca26"
             ],
             [
              1.0,
              "#f0f921"
             ]
            ]
           }
          ],
          "mesh3d": [
           {
            "type": "mesh3d",
            "colorbar": {
             "outlinewidth": 0,
             "ticks": ""
            }
           }
          ],
          "scatter": [
           {
            "fillpattern": {
             "fillmode": "overlay",
             "size": 10,
             "solidity": 0.2
            },
            "type": "scatter"
           }
          ],
          "parcoords": [
           {
            "type": "parcoords",
            "line": {
             "colorbar": {
              "outlinewidth": 0,
              "ticks": ""
             }
            }
           }
          ],
          "scatterpolargl": [
           {
            "type": "scatterpolargl",
            "marker": {
             "colorbar": {
              "outlinewidth": 0,
              "ticks": ""
             }
            }
           }
          ],
          "bar": [
           {
            "error_x": {
             "color": "#2a3f5f"
            },
            "error_y": {
             "color": "#2a3f5f"
            },
            "marker": {
             "line": {
              "color": "#E5ECF6",
              "width": 0.5
             },
             "pattern": {
              "fillmode": "overlay",
              "size": 10,
              "solidity": 0.2
             }
            },
            "type": "bar"
           }
          ],
          "scattergeo": [
           {
            "type": "scattergeo",
            "marker": {
             "colorbar": {
              "outlinewidth": 0,
              "ticks": ""
             }
            }
           }
          ],
          "scatterpolar": [
           {
            "type": "scatterpolar",
            "marker": {
             "colorbar": {
              "outlinewidth": 0,
              "ticks": ""
             }
            }
           }
          ],
          "histogram": [
           {
            "marker": {
             "pattern": {
              "fillmode": "overlay",
              "size": 10,
              "solidity": 0.2
             }
            },
            "type": "histogram"
           }
          ],
          "scattergl": [
           {
            "type": "scattergl",
            "marker": {
             "colorbar": {
              "outlinewidth": 0,
              "ticks": ""
             }
            }
           }
          ],
          "scatter3d": [
           {
            "type": "scatter3d",
            "line": {
             "colorbar": {
              "outlinewidth": 0,
              "ticks": ""
             }
            },
            "marker": {
             "colorbar": {
              "outlinewidth": 0,
              "ticks": ""
             }
            }
           }
          ],
          "scattermapbox": [
           {
            "type": "scattermapbox",
            "marker": {
             "colorbar": {
              "outlinewidth": 0,
              "ticks": ""
             }
            }
           }
          ],
          "scatterternary": [
           {
            "type": "scatterternary",
            "marker": {
             "colorbar": {
              "outlinewidth": 0,
              "ticks": ""
             }
            }
           }
          ],
          "scattercarpet": [
           {
            "type": "scattercarpet",
            "marker": {
             "colorbar": {
              "outlinewidth": 0,
              "ticks": ""
             }
            }
           }
          ],
          "carpet": [
           {
            "aaxis": {
             "endlinecolor": "#2a3f5f",
             "gridcolor": "white",
             "linecolor": "white",
             "minorgridcolor": "white",
             "startlinecolor": "#2a3f5f"
            },
            "baxis": {
             "endlinecolor": "#2a3f5f",
             "gridcolor": "white",
             "linecolor": "white",
             "minorgridcolor": "white",
             "startlinecolor": "#2a3f5f"
            },
            "type": "carpet"
           }
          ],
          "table": [
           {
            "cells": {
             "fill": {
              "color": "#EBF0F8"
             },
             "line": {
              "color": "white"
             }
            },
            "header": {
             "fill": {
              "color": "#C8D4E3"
             },
             "line": {
              "color": "white"
             }
            },
            "type": "table"
           }
          ],
          "barpolar": [
           {
            "marker": {
             "line": {
              "color": "#E5ECF6",
              "width": 0.5
             },
             "pattern": {
              "fillmode": "overlay",
              "size": 10,
              "solidity": 0.2
             }
            },
            "type": "barpolar"
           }
          ],
          "pie": [
           {
            "automargin": true,
            "type": "pie"
           }
          ]
         },
         "layout": {
          "autotypenumbers": "strict",
          "colorway": [
           "#636efa",
           "#EF553B",
           "#00cc96",
           "#ab63fa",
           "#FFA15A",
           "#19d3f3",
           "#FF6692",
           "#B6E880",
           "#FF97FF",
           "#FECB52"
          ],
          "font": {
           "color": "#2a3f5f"
          },
          "hovermode": "closest",
          "hoverlabel": {
           "align": "left"
          },
          "paper_bgcolor": "white",
          "plot_bgcolor": "#E5ECF6",
          "polar": {
           "bgcolor": "#E5ECF6",
           "angularaxis": {
            "gridcolor": "white",
            "linecolor": "white",
            "ticks": ""
           },
           "radialaxis": {
            "gridcolor": "white",
            "linecolor": "white",
            "ticks": ""
           }
          },
          "ternary": {
           "bgcolor": "#E5ECF6",
           "aaxis": {
            "gridcolor": "white",
            "linecolor": "white",
            "ticks": ""
           },
           "baxis": {
            "gridcolor": "white",
            "linecolor": "white",
            "ticks": ""
           },
           "caxis": {
            "gridcolor": "white",
            "linecolor": "white",
            "ticks": ""
           }
          },
          "coloraxis": {
           "colorbar": {
            "outlinewidth": 0,
            "ticks": ""
           }
          },
          "colorscale": {
           "sequential": [
            [
             0.0,
             "#0d0887"
            ],
            [
             0.1111111111111111,
             "#46039f"
            ],
            [
             0.2222222222222222,
             "#7201a8"
            ],
            [
             0.3333333333333333,
             "#9c179e"
            ],
            [
             0.4444444444444444,
             "#bd3786"
            ],
            [
             0.5555555555555556,
             "#d8576b"
            ],
            [
             0.6666666666666666,
             "#ed7953"
            ],
            [
             0.7777777777777778,
             "#fb9f3a"
            ],
            [
             0.8888888888888888,
             "#fdca26"
            ],
            [
             1.0,
             "#f0f921"
            ]
           ],
           "sequentialminus": [
            [
             0.0,
             "#0d0887"
            ],
            [
             0.1111111111111111,
             "#46039f"
            ],
            [
             0.2222222222222222,
             "#7201a8"
            ],
            [
             0.3333333333333333,
             "#9c179e"
            ],
            [
             0.4444444444444444,
             "#bd3786"
            ],
            [
             0.5555555555555556,
             "#d8576b"
            ],
            [
             0.6666666666666666,
             "#ed7953"
            ],
            [
             0.7777777777777778,
             "#fb9f3a"
            ],
            [
             0.8888888888888888,
             "#fdca26"
            ],
            [
             1.0,
             "#f0f921"
            ]
           ],
           "diverging": [
            [
             0,
             "#8e0152"
            ],
            [
             0.1,
             "#c51b7d"
            ],
            [
             0.2,
             "#de77ae"
            ],
            [
             0.3,
             "#f1b6da"
            ],
            [
             0.4,
             "#fde0ef"
            ],
            [
             0.5,
             "#f7f7f7"
            ],
            [
             0.6,
             "#e6f5d0"
            ],
            [
             0.7,
             "#b8e186"
            ],
            [
             0.8,
             "#7fbc41"
            ],
            [
             0.9,
             "#4d9221"
            ],
            [
             1,
             "#276419"
            ]
           ]
          },
          "xaxis": {
           "gridcolor": "white",
           "linecolor": "white",
           "ticks": "",
           "title": {
            "standoff": 15
           },
           "zerolinecolor": "white",
           "automargin": true,
           "zerolinewidth": 2
          },
          "yaxis": {
           "gridcolor": "white",
           "linecolor": "white",
           "ticks": "",
           "title": {
            "standoff": 15
           },
           "zerolinecolor": "white",
           "automargin": true,
           "zerolinewidth": 2
          },
          "scene": {
           "xaxis": {
            "backgroundcolor": "#E5ECF6",
            "gridcolor": "white",
            "linecolor": "white",
            "showbackground": true,
            "ticks": "",
            "zerolinecolor": "white",
            "gridwidth": 2
           },
           "yaxis": {
            "backgroundcolor": "#E5ECF6",
            "gridcolor": "white",
            "linecolor": "white",
            "showbackground": true,
            "ticks": "",
            "zerolinecolor": "white",
            "gridwidth": 2
           },
           "zaxis": {
            "backgroundcolor": "#E5ECF6",
            "gridcolor": "white",
            "linecolor": "white",
            "showbackground": true,
            "ticks": "",
            "zerolinecolor": "white",
            "gridwidth": 2
           }
          },
          "shapedefaults": {
           "line": {
            "color": "#2a3f5f"
           }
          },
          "annotationdefaults": {
           "arrowcolor": "#2a3f5f",
           "arrowhead": 0,
           "arrowwidth": 1
          },
          "geo": {
           "bgcolor": "white",
           "landcolor": "#E5ECF6",
           "subunitcolor": "white",
           "showland": true,
           "showlakes": true,
           "lakecolor": "white"
          },
          "title": {
           "x": 0.05
          },
          "mapbox": {
           "style": "light"
          }
         }
        },
        "xaxis": {
         "anchor": "y",
         "domain": [
          0.0,
          1.0
         ],
         "title": {
          "text": "YEAR"
         }
        },
        "yaxis": {
         "anchor": "x",
         "domain": [
          0.575,
          1.0
         ],
         "title": {
          "text": "Overtime Pay"
         },
         "tickprefix": "$",
         "tickformat": ",.0f"
        },
        "xaxis2": {
         "anchor": "y2",
         "domain": [
          0.0,
          1.0
         ],
         "title": {
          "text": "YEAR"
         }
        },
        "yaxis2": {
         "anchor": "x2",
         "domain": [
          0.0,
          0.425
         ],
         "title": {
          "text": "Percentage Change (%)"
         }
        },
        "annotations": [
         {
          "font": {
           "size": 16
          },
          "showarrow": false,
          "text": "Overtime Pay for Property Management (2011-2023)",
          "x": 0.5,
          "xanchor": "center",
          "xref": "paper",
          "y": 1.0,
          "yanchor": "bottom",
          "yref": "paper"
         },
         {
          "font": {
           "size": 16
          },
          "showarrow": false,
          "text": "Year-over-Year Percentage Change in Overtime Pay",
          "x": 0.5,
          "xanchor": "center",
          "xref": "paper",
          "y": 0.425,
          "yanchor": "bottom",
          "yref": "paper"
         },
         {
          "showarrow": false,
          "text": "Last data point (2023)",
          "x": 2023,
          "xanchor": "center",
          "xref": "x",
          "y": 1,
          "yanchor": "bottom",
          "yref": "y domain"
         },
         {
          "align": "center",
          "bgcolor": "rgba(255, 255, 255, 0.8)",
          "bordercolor": "black",
          "borderpad": 4,
          "borderwidth": 1,
          "font": {
           "color": "black",
           "size": 14
          },
          "showarrow": false,
          "text": "Best Model: Polynomial Degree 3 (R² = 0.7882)",
          "x": 0.5,
          "xref": "paper",
          "y": 1.05,
          "yref": "paper"
         }
        ],
        "shapes": [
         {
          "line": {
           "color": "black",
           "dash": "dash",
           "width": 2
          },
          "type": "line",
          "x0": 2023,
          "x1": 2023,
          "xref": "x",
          "y0": 0,
          "y1": 1,
          "yref": "y domain"
         },
         {
          "line": {
           "color": "black",
           "dash": "solid",
           "width": 1
          },
          "type": "line",
          "x0": 2012,
          "x1": 2023,
          "xref": "x2",
          "y0": 0,
          "y1": 0,
          "yref": "y2"
         }
        ],
        "legend": {
         "orientation": "h",
         "yanchor": "bottom",
         "y": 1.02,
         "xanchor": "right",
         "x": 1
        },
        "height": 800,
        "hovermode": "closest",
        "updatemenus": [
         {
          "buttons": [
           {
            "args": [
             {
              "visible": [
               true,
               true,
               false,
               false,
               true,
               true
              ]
             }
            ],
            "label": "Degree 2",
            "method": "update"
           },
           {
            "args": [
             {
              "visible": [
               true,
               false,
               true,
               false,
               true,
               true
              ]
             }
            ],
            "label": "Degree 3",
            "method": "update"
           },
           {
            "args": [
             {
              "visible": [
               true,
               false,
               false,
               true,
               true,
               true
              ]
             }
            ],
            "label": "Degree 4",
            "method": "update"
           },
           {
            "args": [
             {
              "visible": [
               true,
               true,
               true,
               true,
               true,
               true
              ]
             }
            ],
            "label": "All Models",
            "method": "update"
           }
          ],
          "direction": "right",
          "pad": {
           "r": 10,
           "t": 10
          },
          "showactive": true,
          "type": "buttons",
          "x": 0.1,
          "xanchor": "left",
          "y": 1.1,
          "yanchor": "top"
         }
        ]
       },
       "config": {
        "plotlyServerURL": "https://plot.ly"
       }
      },
      "text/html": [
       "<div>                            <div id=\"3e5a48eb-f1a7-4649-bcc6-5d3015ad664c\" class=\"plotly-graph-div\" style=\"height:800px; width:100%;\"></div>            <script type=\"text/javascript\">                require([\"plotly\"], function(Plotly) {                    window.PLOTLYENV=window.PLOTLYENV || {};                                    if (document.getElementById(\"3e5a48eb-f1a7-4649-bcc6-5d3015ad664c\")) {                    Plotly.newPlot(                        \"3e5a48eb-f1a7-4649-bcc6-5d3015ad664c\",                        [{\"hovertemplate\":\"%{x}, $%{y:,.2f}\",\"marker\":{\"color\":\"orange\",\"size\":10},\"mode\":\"markers\",\"name\":\"Original Data\",\"x\":[2011,2012,2013,2014,2015,2016,2017,2018,2019,2020,2021,2022,2023],\"y\":[1509684.21,1771431.66,2136854.78,1948891.72,2131552.41,1814680.76,1917753.05,1943773.68,2075398.7,2506471.06,2379766.76,2416436.55,2686587.14],\"type\":\"scatter\",\"xaxis\":\"x\",\"yaxis\":\"y\"},{\"customdata\":[2,2,2,2,2,2,2,2,2,2,2,2,2,2,2],\"hovertemplate\":\"%{x}, $%{y:,.2f}\\u003cbr\\u003eModel: Degree %{customdata}\\u003cextra\\u003e\\u003c\\u002fextra\\u003e\",\"line\":{\"color\":\"blue\",\"width\":2},\"mode\":\"lines\",\"name\":\"Degree 2 (R\\u00b2 = 0.7245)\",\"visible\":\"legendonly\",\"x\":[2011,2012,2013,2014,2015,2016,2017,2018,2019,2020,2021,2022,2023,2024,2025],\"y\":[1749396.9739704132,1780081.731060028,1818122.1201992035,1863518.14138031,1916269.7946128845,1976377.0798892975,2043839.9972133636,2118658.5465812683,2200832.728000641,2290362.5414657593,2387247.986972809,2491489.0645313263,2603085.7741298676,2722038.115781784,2848346.0894756317],\"type\":\"scatter\",\"xaxis\":\"x\",\"yaxis\":\"y\"},{\"customdata\":[3,3,3,3,3,3,3,3,3,3,3,3,3,3,3],\"hovertemplate\":\"%{x}, $%{y:,.2f}\\u003cbr\\u003eModel: Degree %{customdata}\\u003cextra\\u003e\\u003c\\u002fextra\\u003e\",\"line\":{\"color\":\"green\",\"width\":2},\"mode\":\"lines\",\"name\":\"Degree 3 (R\\u00b2 = 0.7882)\",\"visible\":true,\"x\":[2011,2012,2013,2014,2015,2016,2017,2018,2019,2020,2021,2022,2023,2024,2025],\"y\":[1616550.0078125,1780005.484375,1890469.3671875,1960011.875,2000703.2265625,2024613.6171875,2043813.25,2070372.3359375,2116361.078125,2193849.6953125,2314908.3828125,2491607.359375,2736016.8125,3060206.96875,3476248.0234375],\"type\":\"scatter\",\"xaxis\":\"x\",\"yaxis\":\"y\"},{\"customdata\":[4,4,4,4,4,4,4,4,4,4,4,4,4,4,4],\"hovertemplate\":\"%{x}, $%{y:,.2f}\\u003cbr\\u003eModel: Degree %{customdata}\\u003cextra\\u003e\\u003c\\u002fextra\\u003e\",\"line\":{\"color\":\"red\",\"width\":2},\"mode\":\"lines\",\"name\":\"Degree 4 (R\\u00b2 = 0.7881)\",\"visible\":\"legendonly\",\"x\":[2011,2012,2013,2014,2015,2016,2017,2018,2019,2020,2021,2022,2023,2024,2025],\"y\":[1616922.8403320312,1779997.3251953125,1890327.0654296875,1959886.0610351562,2000666.234375,2024677.4262695312,2043947.3920898438,2070521.8110351562,2116464.2797851562,2193856.3037109375,2314797.328125,2491404.7001953125,2735813.6879882812,3060177.482421875,3476667.1982421875],\"type\":\"scatter\",\"xaxis\":\"x\",\"yaxis\":\"y\"},{\"fill\":\"toself\",\"fillcolor\":\"rgba(128, 128, 128, 0.2)\",\"hoverinfo\":\"skip\",\"line\":{\"color\":\"rgba(255, 255, 255, 0)\"},\"name\":\"Forecast Region\",\"showlegend\":true,\"x\":[2023,2024,2025,2025,2024,2023],\"y\":[2736016.8125,3060206.96875,3476248.0234375,1509684.21,1509684.21,1509684.21],\"type\":\"scatter\",\"xaxis\":\"x\",\"yaxis\":\"y\"},{\"hovertemplate\":\"Year %{x}\\u003cbr\\u003e$%{y:,.2f}\\u003cextra\\u003e\\u003c\\u002fextra\\u003e\",\"marker\":{\"color\":\"red\",\"size\":12,\"symbol\":\"diamond\"},\"mode\":\"markers+text\",\"name\":\"Predictions\",\"text\":[\"2024: $3,060,207M\",\"2025: $3,476,248M\"],\"textposition\":\"top center\",\"x\":[2024,2025],\"y\":[3060206.96875,3476248.0234375],\"type\":\"scatter\",\"xaxis\":\"x\",\"yaxis\":\"y\"},{\"hovertemplate\":\"Year %{x}\\u003cbr\\u003eChange: %{y:.1f}%\\u003cextra\\u003e\\u003c\\u002fextra\\u003e\",\"marker\":{\"color\":\"skyblue\"},\"name\":\"YoY Change\",\"text\":[\"17.3%\",\"20.6%\",\"-8.8%\",\"9.4%\",\"-14.9%\",\"5.7%\",\"1.4%\",\"6.8%\",\"20.8%\",\"-5.1%\",\"1.5%\",\"11.2%\"],\"textposition\":\"outside\",\"x\":[2012,2013,2014,2015,2016,2017,2018,2019,2020,2021,2022,2023],\"y\":[17.33789412820314,20.628688549012377,-8.796248662251154,9.372541743878935,-14.865768653560815,5.679913088404598,1.3568290244669348,6.7716227127841355,20.770580611812086,-5.055087290734579,1.5408984870433287,11.179709643110652],\"type\":\"bar\",\"xaxis\":\"x2\",\"yaxis\":\"y2\"}],                        {\"template\":{\"data\":{\"histogram2dcontour\":[{\"type\":\"histogram2dcontour\",\"colorbar\":{\"outlinewidth\":0,\"ticks\":\"\"},\"colorscale\":[[0.0,\"#0d0887\"],[0.1111111111111111,\"#46039f\"],[0.2222222222222222,\"#7201a8\"],[0.3333333333333333,\"#9c179e\"],[0.4444444444444444,\"#bd3786\"],[0.5555555555555556,\"#d8576b\"],[0.6666666666666666,\"#ed7953\"],[0.7777777777777778,\"#fb9f3a\"],[0.8888888888888888,\"#fdca26\"],[1.0,\"#f0f921\"]]}],\"choropleth\":[{\"type\":\"choropleth\",\"colorbar\":{\"outlinewidth\":0,\"ticks\":\"\"}}],\"histogram2d\":[{\"type\":\"histogram2d\",\"colorbar\":{\"outlinewidth\":0,\"ticks\":\"\"},\"colorscale\":[[0.0,\"#0d0887\"],[0.1111111111111111,\"#46039f\"],[0.2222222222222222,\"#7201a8\"],[0.3333333333333333,\"#9c179e\"],[0.4444444444444444,\"#bd3786\"],[0.5555555555555556,\"#d8576b\"],[0.6666666666666666,\"#ed7953\"],[0.7777777777777778,\"#fb9f3a\"],[0.8888888888888888,\"#fdca26\"],[1.0,\"#f0f921\"]]}],\"heatmap\":[{\"type\":\"heatmap\",\"colorbar\":{\"outlinewidth\":0,\"ticks\":\"\"},\"colorscale\":[[0.0,\"#0d0887\"],[0.1111111111111111,\"#46039f\"],[0.2222222222222222,\"#7201a8\"],[0.3333333333333333,\"#9c179e\"],[0.4444444444444444,\"#bd3786\"],[0.5555555555555556,\"#d8576b\"],[0.6666666666666666,\"#ed7953\"],[0.7777777777777778,\"#fb9f3a\"],[0.8888888888888888,\"#fdca26\"],[1.0,\"#f0f921\"]]}],\"heatmapgl\":[{\"type\":\"heatmapgl\",\"colorbar\":{\"outlinewidth\":0,\"ticks\":\"\"},\"colorscale\":[[0.0,\"#0d0887\"],[0.1111111111111111,\"#46039f\"],[0.2222222222222222,\"#7201a8\"],[0.3333333333333333,\"#9c179e\"],[0.4444444444444444,\"#bd3786\"],[0.5555555555555556,\"#d8576b\"],[0.6666666666666666,\"#ed7953\"],[0.7777777777777778,\"#fb9f3a\"],[0.8888888888888888,\"#fdca26\"],[1.0,\"#f0f921\"]]}],\"contourcarpet\":[{\"type\":\"contourcarpet\",\"colorbar\":{\"outlinewidth\":0,\"ticks\":\"\"}}],\"contour\":[{\"type\":\"contour\",\"colorbar\":{\"outlinewidth\":0,\"ticks\":\"\"},\"colorscale\":[[0.0,\"#0d0887\"],[0.1111111111111111,\"#46039f\"],[0.2222222222222222,\"#7201a8\"],[0.3333333333333333,\"#9c179e\"],[0.4444444444444444,\"#bd3786\"],[0.5555555555555556,\"#d8576b\"],[0.6666666666666666,\"#ed7953\"],[0.7777777777777778,\"#fb9f3a\"],[0.8888888888888888,\"#fdca26\"],[1.0,\"#f0f921\"]]}],\"surface\":[{\"type\":\"surface\",\"colorbar\":{\"outlinewidth\":0,\"ticks\":\"\"},\"colorscale\":[[0.0,\"#0d0887\"],[0.1111111111111111,\"#46039f\"],[0.2222222222222222,\"#7201a8\"],[0.3333333333333333,\"#9c179e\"],[0.4444444444444444,\"#bd3786\"],[0.5555555555555556,\"#d8576b\"],[0.6666666666666666,\"#ed7953\"],[0.7777777777777778,\"#fb9f3a\"],[0.8888888888888888,\"#fdca26\"],[1.0,\"#f0f921\"]]}],\"mesh3d\":[{\"type\":\"mesh3d\",\"colorbar\":{\"outlinewidth\":0,\"ticks\":\"\"}}],\"scatter\":[{\"fillpattern\":{\"fillmode\":\"overlay\",\"size\":10,\"solidity\":0.2},\"type\":\"scatter\"}],\"parcoords\":[{\"type\":\"parcoords\",\"line\":{\"colorbar\":{\"outlinewidth\":0,\"ticks\":\"\"}}}],\"scatterpolargl\":[{\"type\":\"scatterpolargl\",\"marker\":{\"colorbar\":{\"outlinewidth\":0,\"ticks\":\"\"}}}],\"bar\":[{\"error_x\":{\"color\":\"#2a3f5f\"},\"error_y\":{\"color\":\"#2a3f5f\"},\"marker\":{\"line\":{\"color\":\"#E5ECF6\",\"width\":0.5},\"pattern\":{\"fillmode\":\"overlay\",\"size\":10,\"solidity\":0.2}},\"type\":\"bar\"}],\"scattergeo\":[{\"type\":\"scattergeo\",\"marker\":{\"colorbar\":{\"outlinewidth\":0,\"ticks\":\"\"}}}],\"scatterpolar\":[{\"type\":\"scatterpolar\",\"marker\":{\"colorbar\":{\"outlinewidth\":0,\"ticks\":\"\"}}}],\"histogram\":[{\"marker\":{\"pattern\":{\"fillmode\":\"overlay\",\"size\":10,\"solidity\":0.2}},\"type\":\"histogram\"}],\"scattergl\":[{\"type\":\"scattergl\",\"marker\":{\"colorbar\":{\"outlinewidth\":0,\"ticks\":\"\"}}}],\"scatter3d\":[{\"type\":\"scatter3d\",\"line\":{\"colorbar\":{\"outlinewidth\":0,\"ticks\":\"\"}},\"marker\":{\"colorbar\":{\"outlinewidth\":0,\"ticks\":\"\"}}}],\"scattermapbox\":[{\"type\":\"scattermapbox\",\"marker\":{\"colorbar\":{\"outlinewidth\":0,\"ticks\":\"\"}}}],\"scatterternary\":[{\"type\":\"scatterternary\",\"marker\":{\"colorbar\":{\"outlinewidth\":0,\"ticks\":\"\"}}}],\"scattercarpet\":[{\"type\":\"scattercarpet\",\"marker\":{\"colorbar\":{\"outlinewidth\":0,\"ticks\":\"\"}}}],\"carpet\":[{\"aaxis\":{\"endlinecolor\":\"#2a3f5f\",\"gridcolor\":\"white\",\"linecolor\":\"white\",\"minorgridcolor\":\"white\",\"startlinecolor\":\"#2a3f5f\"},\"baxis\":{\"endlinecolor\":\"#2a3f5f\",\"gridcolor\":\"white\",\"linecolor\":\"white\",\"minorgridcolor\":\"white\",\"startlinecolor\":\"#2a3f5f\"},\"type\":\"carpet\"}],\"table\":[{\"cells\":{\"fill\":{\"color\":\"#EBF0F8\"},\"line\":{\"color\":\"white\"}},\"header\":{\"fill\":{\"color\":\"#C8D4E3\"},\"line\":{\"color\":\"white\"}},\"type\":\"table\"}],\"barpolar\":[{\"marker\":{\"line\":{\"color\":\"#E5ECF6\",\"width\":0.5},\"pattern\":{\"fillmode\":\"overlay\",\"size\":10,\"solidity\":0.2}},\"type\":\"barpolar\"}],\"pie\":[{\"automargin\":true,\"type\":\"pie\"}]},\"layout\":{\"autotypenumbers\":\"strict\",\"colorway\":[\"#636efa\",\"#EF553B\",\"#00cc96\",\"#ab63fa\",\"#FFA15A\",\"#19d3f3\",\"#FF6692\",\"#B6E880\",\"#FF97FF\",\"#FECB52\"],\"font\":{\"color\":\"#2a3f5f\"},\"hovermode\":\"closest\",\"hoverlabel\":{\"align\":\"left\"},\"paper_bgcolor\":\"white\",\"plot_bgcolor\":\"#E5ECF6\",\"polar\":{\"bgcolor\":\"#E5ECF6\",\"angularaxis\":{\"gridcolor\":\"white\",\"linecolor\":\"white\",\"ticks\":\"\"},\"radialaxis\":{\"gridcolor\":\"white\",\"linecolor\":\"white\",\"ticks\":\"\"}},\"ternary\":{\"bgcolor\":\"#E5ECF6\",\"aaxis\":{\"gridcolor\":\"white\",\"linecolor\":\"white\",\"ticks\":\"\"},\"baxis\":{\"gridcolor\":\"white\",\"linecolor\":\"white\",\"ticks\":\"\"},\"caxis\":{\"gridcolor\":\"white\",\"linecolor\":\"white\",\"ticks\":\"\"}},\"coloraxis\":{\"colorbar\":{\"outlinewidth\":0,\"ticks\":\"\"}},\"colorscale\":{\"sequential\":[[0.0,\"#0d0887\"],[0.1111111111111111,\"#46039f\"],[0.2222222222222222,\"#7201a8\"],[0.3333333333333333,\"#9c179e\"],[0.4444444444444444,\"#bd3786\"],[0.5555555555555556,\"#d8576b\"],[0.6666666666666666,\"#ed7953\"],[0.7777777777777778,\"#fb9f3a\"],[0.8888888888888888,\"#fdca26\"],[1.0,\"#f0f921\"]],\"sequentialminus\":[[0.0,\"#0d0887\"],[0.1111111111111111,\"#46039f\"],[0.2222222222222222,\"#7201a8\"],[0.3333333333333333,\"#9c179e\"],[0.4444444444444444,\"#bd3786\"],[0.5555555555555556,\"#d8576b\"],[0.6666666666666666,\"#ed7953\"],[0.7777777777777778,\"#fb9f3a\"],[0.8888888888888888,\"#fdca26\"],[1.0,\"#f0f921\"]],\"diverging\":[[0,\"#8e0152\"],[0.1,\"#c51b7d\"],[0.2,\"#de77ae\"],[0.3,\"#f1b6da\"],[0.4,\"#fde0ef\"],[0.5,\"#f7f7f7\"],[0.6,\"#e6f5d0\"],[0.7,\"#b8e186\"],[0.8,\"#7fbc41\"],[0.9,\"#4d9221\"],[1,\"#276419\"]]},\"xaxis\":{\"gridcolor\":\"white\",\"linecolor\":\"white\",\"ticks\":\"\",\"title\":{\"standoff\":15},\"zerolinecolor\":\"white\",\"automargin\":true,\"zerolinewidth\":2},\"yaxis\":{\"gridcolor\":\"white\",\"linecolor\":\"white\",\"ticks\":\"\",\"title\":{\"standoff\":15},\"zerolinecolor\":\"white\",\"automargin\":true,\"zerolinewidth\":2},\"scene\":{\"xaxis\":{\"backgroundcolor\":\"#E5ECF6\",\"gridcolor\":\"white\",\"linecolor\":\"white\",\"showbackground\":true,\"ticks\":\"\",\"zerolinecolor\":\"white\",\"gridwidth\":2},\"yaxis\":{\"backgroundcolor\":\"#E5ECF6\",\"gridcolor\":\"white\",\"linecolor\":\"white\",\"showbackground\":true,\"ticks\":\"\",\"zerolinecolor\":\"white\",\"gridwidth\":2},\"zaxis\":{\"backgroundcolor\":\"#E5ECF6\",\"gridcolor\":\"white\",\"linecolor\":\"white\",\"showbackground\":true,\"ticks\":\"\",\"zerolinecolor\":\"white\",\"gridwidth\":2}},\"shapedefaults\":{\"line\":{\"color\":\"#2a3f5f\"}},\"annotationdefaults\":{\"arrowcolor\":\"#2a3f5f\",\"arrowhead\":0,\"arrowwidth\":1},\"geo\":{\"bgcolor\":\"white\",\"landcolor\":\"#E5ECF6\",\"subunitcolor\":\"white\",\"showland\":true,\"showlakes\":true,\"lakecolor\":\"white\"},\"title\":{\"x\":0.05},\"mapbox\":{\"style\":\"light\"}}},\"xaxis\":{\"anchor\":\"y\",\"domain\":[0.0,1.0],\"title\":{\"text\":\"YEAR\"}},\"yaxis\":{\"anchor\":\"x\",\"domain\":[0.575,1.0],\"title\":{\"text\":\"Overtime Pay\"},\"tickprefix\":\"$\",\"tickformat\":\",.0f\"},\"xaxis2\":{\"anchor\":\"y2\",\"domain\":[0.0,1.0],\"title\":{\"text\":\"YEAR\"}},\"yaxis2\":{\"anchor\":\"x2\",\"domain\":[0.0,0.425],\"title\":{\"text\":\"Percentage Change (%)\"}},\"annotations\":[{\"font\":{\"size\":16},\"showarrow\":false,\"text\":\"Overtime Pay for Property Management (2011-2023)\",\"x\":0.5,\"xanchor\":\"center\",\"xref\":\"paper\",\"y\":1.0,\"yanchor\":\"bottom\",\"yref\":\"paper\"},{\"font\":{\"size\":16},\"showarrow\":false,\"text\":\"Year-over-Year Percentage Change in Overtime Pay\",\"x\":0.5,\"xanchor\":\"center\",\"xref\":\"paper\",\"y\":0.425,\"yanchor\":\"bottom\",\"yref\":\"paper\"},{\"showarrow\":false,\"text\":\"Last data point (2023)\",\"x\":2023,\"xanchor\":\"center\",\"xref\":\"x\",\"y\":1,\"yanchor\":\"bottom\",\"yref\":\"y domain\"},{\"align\":\"center\",\"bgcolor\":\"rgba(255, 255, 255, 0.8)\",\"bordercolor\":\"black\",\"borderpad\":4,\"borderwidth\":1,\"font\":{\"color\":\"black\",\"size\":14},\"showarrow\":false,\"text\":\"Best Model: Polynomial Degree 3 (R\\u00b2 = 0.7882)\",\"x\":0.5,\"xref\":\"paper\",\"y\":1.05,\"yref\":\"paper\"}],\"shapes\":[{\"line\":{\"color\":\"black\",\"dash\":\"dash\",\"width\":2},\"type\":\"line\",\"x0\":2023,\"x1\":2023,\"xref\":\"x\",\"y0\":0,\"y1\":1,\"yref\":\"y domain\"},{\"line\":{\"color\":\"black\",\"dash\":\"solid\",\"width\":1},\"type\":\"line\",\"x0\":2012,\"x1\":2023,\"xref\":\"x2\",\"y0\":0,\"y1\":0,\"yref\":\"y2\"}],\"legend\":{\"orientation\":\"h\",\"yanchor\":\"bottom\",\"y\":1.02,\"xanchor\":\"right\",\"x\":1},\"height\":800,\"hovermode\":\"closest\",\"updatemenus\":[{\"buttons\":[{\"args\":[{\"visible\":[true,true,false,false,true,true]}],\"label\":\"Degree 2\",\"method\":\"update\"},{\"args\":[{\"visible\":[true,false,true,false,true,true]}],\"label\":\"Degree 3\",\"method\":\"update\"},{\"args\":[{\"visible\":[true,false,false,true,true,true]}],\"label\":\"Degree 4\",\"method\":\"update\"},{\"args\":[{\"visible\":[true,true,true,true,true,true]}],\"label\":\"All Models\",\"method\":\"update\"}],\"direction\":\"right\",\"pad\":{\"r\":10,\"t\":10},\"showactive\":true,\"type\":\"buttons\",\"x\":0.1,\"xanchor\":\"left\",\"y\":1.1,\"yanchor\":\"top\"}]},                        {\"responsive\": true}                    ).then(function(){\n",
       "                            \n",
       "var gd = document.getElementById('3e5a48eb-f1a7-4649-bcc6-5d3015ad664c');\n",
       "var x = new MutationObserver(function (mutations, observer) {{\n",
       "        var display = window.getComputedStyle(gd).display;\n",
       "        if (!display || display === 'none') {{\n",
       "            console.log([gd, 'removed!']);\n",
       "            Plotly.purge(gd);\n",
       "            observer.disconnect();\n",
       "        }}\n",
       "}});\n",
       "\n",
       "// Listen for the removal of the full notebook cells\n",
       "var notebookContainer = gd.closest('#notebook-container');\n",
       "if (notebookContainer) {{\n",
       "    x.observe(notebookContainer, {childList: true});\n",
       "}}\n",
       "\n",
       "// Listen for the clearing of the current output cell\n",
       "var outputEl = gd.closest('.output');\n",
       "if (outputEl) {{\n",
       "    x.observe(outputEl, {childList: true});\n",
       "}}\n",
       "\n",
       "                        })                };                });            </script>        </div>"
      ]
     },
     "metadata": {},
     "output_type": "display_data"
    },
    {
     "name": "stdout",
     "output_type": "stream",
     "text": [
      "\n",
      "Forecast summary:\n",
      "Best degree polynomial: 3\n",
      "R² score: 0.7882\n",
      "Equation: y = -1.65e+13 + 2.45e+10x^1 + -1.22e+07x^2 + 2.01e+03x^3\n"
     ]
    }
   ],
   "execution_count": 64
  }
 ],
 "metadata": {
  "kernelspec": {
   "display_name": "base",
   "language": "python",
   "name": "python3"
  },
  "language_info": {
   "codemirror_mode": {
    "name": "ipython",
    "version": 3
   },
   "file_extension": ".py",
   "mimetype": "text/x-python",
   "name": "python",
   "nbconvert_exporter": "python",
   "pygments_lexer": "ipython3",
   "version": "3.9.13"
  }
 },
 "nbformat": 4,
 "nbformat_minor": 5
}
