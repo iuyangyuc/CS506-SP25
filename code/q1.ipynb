{
 "cells": [
  {
   "cell_type": "code",
   "execution_count": 20,
   "metadata": {},
   "outputs": [],
   "source": [
    "import pandas as pd\n",
    "import matplotlib.pyplot as plt\n",
    "import numpy as np\n",
    "import plotly.graph_objects as go "
   ]
  },
  {
   "cell_type": "code",
   "execution_count": 21,
   "metadata": {},
   "outputs": [],
   "source": [
    "# Load the data into a DataFrame\n",
    "df = pd.read_csv('fy25-adopted-operating-budget.csv')\n",
    "\n",
    "columns_to_convert = ['FY22 Actual Expense', 'FY23 Actual Expense', 'FY24 Appropriation', 'FY25 Budget'] \n",
    "df[columns_to_convert] = df[columns_to_convert].apply(pd.to_numeric, errors='coerce') \n",
    "result = df.groupby(\"Expense Category\")[columns_to_convert].sum()\n",
    "pd.set_option('display.float_format', lambda x: '%.2f' % x)\n",
    "result = result.T\n"
   ]
  },
  {
   "cell_type": "code",
   "execution_count": 22,
   "metadata": {},
   "outputs": [
    {
     "data": {
      "application/vnd.plotly.v1+json": {
       "config": {
        "plotlyServerURL": "https://plot.ly"
       },
       "data": [
        {
         "name": "Contractual Services",
         "type": "bar",
         "x": [
          "FY22 Actual Expense",
          "FY23 Actual Expense",
          "FY24 Appropriation",
          "FY25 Budget"
         ],
         "y": [
          485779976.63,
          481250926.17,
          513881946.5,
          555756693.55
         ]
        },
        {
         "name": "Current Charges & Obligations",
         "type": "bar",
         "x": [
          "FY22 Actual Expense",
          "FY23 Actual Expense",
          "FY24 Appropriation",
          "FY25 Budget"
         ],
         "y": [
          249268064.20999998,
          261491712.1,
          293756234.48,
          301099217.96000004
         ]
        },
        {
         "name": "Equipment",
         "type": "bar",
         "x": [
          "FY22 Actual Expense",
          "FY23 Actual Expense",
          "FY24 Appropriation",
          "FY25 Budget"
         ],
         "y": [
          31470466.07,
          41647071.35,
          39863974.72,
          43410862.95
         ]
        },
        {
         "name": "Fixed Expenses",
         "type": "bar",
         "x": [
          "FY22 Actual Expense",
          "FY23 Actual Expense",
          "FY24 Appropriation",
          "FY25 Budget"
         ],
         "y": [
          184271922.5,
          198400126.1,
          246202653,
          276436916
         ]
        },
        {
         "name": "Other Expenses",
         "type": "bar",
         "x": [
          "FY22 Actual Expense",
          "FY23 Actual Expense",
          "FY24 Appropriation",
          "FY25 Budget"
         ],
         "y": [
          888049954.21,
          989572580.29,
          1010528812.8,
          1058449371.4
         ]
        },
        {
         "name": "Personnel Services",
         "type": "bar",
         "x": [
          "FY22 Actual Expense",
          "FY23 Actual Expense",
          "FY24 Appropriation",
          "FY25 Budget"
         ],
         "y": [
          1960228185.039,
          2040852802.73,
          2144210460.69,
          2355855794.61
         ]
        },
        {
         "name": "Supplies & Materials",
         "type": "bar",
         "x": [
          "FY22 Actual Expense",
          "FY23 Actual Expense",
          "FY24 Appropriation",
          "FY25 Budget"
         ],
         "y": [
          39563147,
          46474218.86,
          43720020.91,
          45915813.76
         ]
        }
       ],
       "layout": {
        "barmode": "group",
        "legend": {
         "title": {
          "text": "Expense Category"
         }
        },
        "margin": {
         "b": 150,
         "l": 20,
         "r": 20,
         "t": 80
        },
        "template": {
         "data": {
          "bar": [
           {
            "error_x": {
             "color": "#2a3f5f"
            },
            "error_y": {
             "color": "#2a3f5f"
            },
            "marker": {
             "line": {
              "color": "#E5ECF6",
              "width": 0.5
             },
             "pattern": {
              "fillmode": "overlay",
              "size": 10,
              "solidity": 0.2
             }
            },
            "type": "bar"
           }
          ],
          "barpolar": [
           {
            "marker": {
             "line": {
              "color": "#E5ECF6",
              "width": 0.5
             },
             "pattern": {
              "fillmode": "overlay",
              "size": 10,
              "solidity": 0.2
             }
            },
            "type": "barpolar"
           }
          ],
          "carpet": [
           {
            "aaxis": {
             "endlinecolor": "#2a3f5f",
             "gridcolor": "white",
             "linecolor": "white",
             "minorgridcolor": "white",
             "startlinecolor": "#2a3f5f"
            },
            "baxis": {
             "endlinecolor": "#2a3f5f",
             "gridcolor": "white",
             "linecolor": "white",
             "minorgridcolor": "white",
             "startlinecolor": "#2a3f5f"
            },
            "type": "carpet"
           }
          ],
          "choropleth": [
           {
            "colorbar": {
             "outlinewidth": 0,
             "ticks": ""
            },
            "type": "choropleth"
           }
          ],
          "contour": [
           {
            "colorbar": {
             "outlinewidth": 0,
             "ticks": ""
            },
            "colorscale": [
             [
              0,
              "#0d0887"
             ],
             [
              0.1111111111111111,
              "#46039f"
             ],
             [
              0.2222222222222222,
              "#7201a8"
             ],
             [
              0.3333333333333333,
              "#9c179e"
             ],
             [
              0.4444444444444444,
              "#bd3786"
             ],
             [
              0.5555555555555556,
              "#d8576b"
             ],
             [
              0.6666666666666666,
              "#ed7953"
             ],
             [
              0.7777777777777778,
              "#fb9f3a"
             ],
             [
              0.8888888888888888,
              "#fdca26"
             ],
             [
              1,
              "#f0f921"
             ]
            ],
            "type": "contour"
           }
          ],
          "contourcarpet": [
           {
            "colorbar": {
             "outlinewidth": 0,
             "ticks": ""
            },
            "type": "contourcarpet"
           }
          ],
          "heatmap": [
           {
            "colorbar": {
             "outlinewidth": 0,
             "ticks": ""
            },
            "colorscale": [
             [
              0,
              "#0d0887"
             ],
             [
              0.1111111111111111,
              "#46039f"
             ],
             [
              0.2222222222222222,
              "#7201a8"
             ],
             [
              0.3333333333333333,
              "#9c179e"
             ],
             [
              0.4444444444444444,
              "#bd3786"
             ],
             [
              0.5555555555555556,
              "#d8576b"
             ],
             [
              0.6666666666666666,
              "#ed7953"
             ],
             [
              0.7777777777777778,
              "#fb9f3a"
             ],
             [
              0.8888888888888888,
              "#fdca26"
             ],
             [
              1,
              "#f0f921"
             ]
            ],
            "type": "heatmap"
           }
          ],
          "heatmapgl": [
           {
            "colorbar": {
             "outlinewidth": 0,
             "ticks": ""
            },
            "colorscale": [
             [
              0,
              "#0d0887"
             ],
             [
              0.1111111111111111,
              "#46039f"
             ],
             [
              0.2222222222222222,
              "#7201a8"
             ],
             [
              0.3333333333333333,
              "#9c179e"
             ],
             [
              0.4444444444444444,
              "#bd3786"
             ],
             [
              0.5555555555555556,
              "#d8576b"
             ],
             [
              0.6666666666666666,
              "#ed7953"
             ],
             [
              0.7777777777777778,
              "#fb9f3a"
             ],
             [
              0.8888888888888888,
              "#fdca26"
             ],
             [
              1,
              "#f0f921"
             ]
            ],
            "type": "heatmapgl"
           }
          ],
          "histogram": [
           {
            "marker": {
             "pattern": {
              "fillmode": "overlay",
              "size": 10,
              "solidity": 0.2
             }
            },
            "type": "histogram"
           }
          ],
          "histogram2d": [
           {
            "colorbar": {
             "outlinewidth": 0,
             "ticks": ""
            },
            "colorscale": [
             [
              0,
              "#0d0887"
             ],
             [
              0.1111111111111111,
              "#46039f"
             ],
             [
              0.2222222222222222,
              "#7201a8"
             ],
             [
              0.3333333333333333,
              "#9c179e"
             ],
             [
              0.4444444444444444,
              "#bd3786"
             ],
             [
              0.5555555555555556,
              "#d8576b"
             ],
             [
              0.6666666666666666,
              "#ed7953"
             ],
             [
              0.7777777777777778,
              "#fb9f3a"
             ],
             [
              0.8888888888888888,
              "#fdca26"
             ],
             [
              1,
              "#f0f921"
             ]
            ],
            "type": "histogram2d"
           }
          ],
          "histogram2dcontour": [
           {
            "colorbar": {
             "outlinewidth": 0,
             "ticks": ""
            },
            "colorscale": [
             [
              0,
              "#0d0887"
             ],
             [
              0.1111111111111111,
              "#46039f"
             ],
             [
              0.2222222222222222,
              "#7201a8"
             ],
             [
              0.3333333333333333,
              "#9c179e"
             ],
             [
              0.4444444444444444,
              "#bd3786"
             ],
             [
              0.5555555555555556,
              "#d8576b"
             ],
             [
              0.6666666666666666,
              "#ed7953"
             ],
             [
              0.7777777777777778,
              "#fb9f3a"
             ],
             [
              0.8888888888888888,
              "#fdca26"
             ],
             [
              1,
              "#f0f921"
             ]
            ],
            "type": "histogram2dcontour"
           }
          ],
          "mesh3d": [
           {
            "colorbar": {
             "outlinewidth": 0,
             "ticks": ""
            },
            "type": "mesh3d"
           }
          ],
          "parcoords": [
           {
            "line": {
             "colorbar": {
              "outlinewidth": 0,
              "ticks": ""
             }
            },
            "type": "parcoords"
           }
          ],
          "pie": [
           {
            "automargin": true,
            "type": "pie"
           }
          ],
          "scatter": [
           {
            "fillpattern": {
             "fillmode": "overlay",
             "size": 10,
             "solidity": 0.2
            },
            "type": "scatter"
           }
          ],
          "scatter3d": [
           {
            "line": {
             "colorbar": {
              "outlinewidth": 0,
              "ticks": ""
             }
            },
            "marker": {
             "colorbar": {
              "outlinewidth": 0,
              "ticks": ""
             }
            },
            "type": "scatter3d"
           }
          ],
          "scattercarpet": [
           {
            "marker": {
             "colorbar": {
              "outlinewidth": 0,
              "ticks": ""
             }
            },
            "type": "scattercarpet"
           }
          ],
          "scattergeo": [
           {
            "marker": {
             "colorbar": {
              "outlinewidth": 0,
              "ticks": ""
             }
            },
            "type": "scattergeo"
           }
          ],
          "scattergl": [
           {
            "marker": {
             "colorbar": {
              "outlinewidth": 0,
              "ticks": ""
             }
            },
            "type": "scattergl"
           }
          ],
          "scattermapbox": [
           {
            "marker": {
             "colorbar": {
              "outlinewidth": 0,
              "ticks": ""
             }
            },
            "type": "scattermapbox"
           }
          ],
          "scatterpolar": [
           {
            "marker": {
             "colorbar": {
              "outlinewidth": 0,
              "ticks": ""
             }
            },
            "type": "scatterpolar"
           }
          ],
          "scatterpolargl": [
           {
            "marker": {
             "colorbar": {
              "outlinewidth": 0,
              "ticks": ""
             }
            },
            "type": "scatterpolargl"
           }
          ],
          "scatterternary": [
           {
            "marker": {
             "colorbar": {
              "outlinewidth": 0,
              "ticks": ""
             }
            },
            "type": "scatterternary"
           }
          ],
          "surface": [
           {
            "colorbar": {
             "outlinewidth": 0,
             "ticks": ""
            },
            "colorscale": [
             [
              0,
              "#0d0887"
             ],
             [
              0.1111111111111111,
              "#46039f"
             ],
             [
              0.2222222222222222,
              "#7201a8"
             ],
             [
              0.3333333333333333,
              "#9c179e"
             ],
             [
              0.4444444444444444,
              "#bd3786"
             ],
             [
              0.5555555555555556,
              "#d8576b"
             ],
             [
              0.6666666666666666,
              "#ed7953"
             ],
             [
              0.7777777777777778,
              "#fb9f3a"
             ],
             [
              0.8888888888888888,
              "#fdca26"
             ],
             [
              1,
              "#f0f921"
             ]
            ],
            "type": "surface"
           }
          ],
          "table": [
           {
            "cells": {
             "fill": {
              "color": "#EBF0F8"
             },
             "line": {
              "color": "white"
             }
            },
            "header": {
             "fill": {
              "color": "#C8D4E3"
             },
             "line": {
              "color": "white"
             }
            },
            "type": "table"
           }
          ]
         },
         "layout": {
          "annotationdefaults": {
           "arrowcolor": "#2a3f5f",
           "arrowhead": 0,
           "arrowwidth": 1
          },
          "autotypenumbers": "strict",
          "coloraxis": {
           "colorbar": {
            "outlinewidth": 0,
            "ticks": ""
           }
          },
          "colorscale": {
           "diverging": [
            [
             0,
             "#8e0152"
            ],
            [
             0.1,
             "#c51b7d"
            ],
            [
             0.2,
             "#de77ae"
            ],
            [
             0.3,
             "#f1b6da"
            ],
            [
             0.4,
             "#fde0ef"
            ],
            [
             0.5,
             "#f7f7f7"
            ],
            [
             0.6,
             "#e6f5d0"
            ],
            [
             0.7,
             "#b8e186"
            ],
            [
             0.8,
             "#7fbc41"
            ],
            [
             0.9,
             "#4d9221"
            ],
            [
             1,
             "#276419"
            ]
           ],
           "sequential": [
            [
             0,
             "#0d0887"
            ],
            [
             0.1111111111111111,
             "#46039f"
            ],
            [
             0.2222222222222222,
             "#7201a8"
            ],
            [
             0.3333333333333333,
             "#9c179e"
            ],
            [
             0.4444444444444444,
             "#bd3786"
            ],
            [
             0.5555555555555556,
             "#d8576b"
            ],
            [
             0.6666666666666666,
             "#ed7953"
            ],
            [
             0.7777777777777778,
             "#fb9f3a"
            ],
            [
             0.8888888888888888,
             "#fdca26"
            ],
            [
             1,
             "#f0f921"
            ]
           ],
           "sequentialminus": [
            [
             0,
             "#0d0887"
            ],
            [
             0.1111111111111111,
             "#46039f"
            ],
            [
             0.2222222222222222,
             "#7201a8"
            ],
            [
             0.3333333333333333,
             "#9c179e"
            ],
            [
             0.4444444444444444,
             "#bd3786"
            ],
            [
             0.5555555555555556,
             "#d8576b"
            ],
            [
             0.6666666666666666,
             "#ed7953"
            ],
            [
             0.7777777777777778,
             "#fb9f3a"
            ],
            [
             0.8888888888888888,
             "#fdca26"
            ],
            [
             1,
             "#f0f921"
            ]
           ]
          },
          "colorway": [
           "#636efa",
           "#EF553B",
           "#00cc96",
           "#ab63fa",
           "#FFA15A",
           "#19d3f3",
           "#FF6692",
           "#B6E880",
           "#FF97FF",
           "#FECB52"
          ],
          "font": {
           "color": "#2a3f5f"
          },
          "geo": {
           "bgcolor": "white",
           "lakecolor": "white",
           "landcolor": "#E5ECF6",
           "showlakes": true,
           "showland": true,
           "subunitcolor": "white"
          },
          "hoverlabel": {
           "align": "left"
          },
          "hovermode": "closest",
          "mapbox": {
           "style": "light"
          },
          "paper_bgcolor": "white",
          "plot_bgcolor": "#E5ECF6",
          "polar": {
           "angularaxis": {
            "gridcolor": "white",
            "linecolor": "white",
            "ticks": ""
           },
           "bgcolor": "#E5ECF6",
           "radialaxis": {
            "gridcolor": "white",
            "linecolor": "white",
            "ticks": ""
           }
          },
          "scene": {
           "xaxis": {
            "backgroundcolor": "#E5ECF6",
            "gridcolor": "white",
            "gridwidth": 2,
            "linecolor": "white",
            "showbackground": true,
            "ticks": "",
            "zerolinecolor": "white"
           },
           "yaxis": {
            "backgroundcolor": "#E5ECF6",
            "gridcolor": "white",
            "gridwidth": 2,
            "linecolor": "white",
            "showbackground": true,
            "ticks": "",
            "zerolinecolor": "white"
           },
           "zaxis": {
            "backgroundcolor": "#E5ECF6",
            "gridcolor": "white",
            "gridwidth": 2,
            "linecolor": "white",
            "showbackground": true,
            "ticks": "",
            "zerolinecolor": "white"
           }
          },
          "shapedefaults": {
           "line": {
            "color": "#2a3f5f"
           }
          },
          "ternary": {
           "aaxis": {
            "gridcolor": "white",
            "linecolor": "white",
            "ticks": ""
           },
           "baxis": {
            "gridcolor": "white",
            "linecolor": "white",
            "ticks": ""
           },
           "bgcolor": "#E5ECF6",
           "caxis": {
            "gridcolor": "white",
            "linecolor": "white",
            "ticks": ""
           }
          },
          "title": {
           "x": 0.05
          },
          "xaxis": {
           "automargin": true,
           "gridcolor": "white",
           "linecolor": "white",
           "ticks": "",
           "title": {
            "standoff": 15
           },
           "zerolinecolor": "white",
           "zerolinewidth": 2
          },
          "yaxis": {
           "automargin": true,
           "gridcolor": "white",
           "linecolor": "white",
           "ticks": "",
           "title": {
            "standoff": 15
           },
           "zerolinecolor": "white",
           "zerolinewidth": 2
          }
         }
        },
        "title": {
         "text": "Total Budget by Expense Category"
        },
        "xaxis": {
         "tickangle": -45,
         "title": {
          "text": "Fiscal Year"
         }
        },
        "yaxis": {
         "title": {
          "text": "Total Budget"
         }
        }
       }
      }
     },
     "metadata": {},
     "output_type": "display_data"
    }
   ],
   "source": [
    "# Create the Plotly figure  \n",
    "fig = go.Figure()  \n",
    "\n",
    "# Add a bar trace for each expense category  \n",
    "for category in result.columns:  \n",
    "    fig.add_trace(go.Bar(x=result.index, y=result[category], name=category))  \n",
    "\n",
    "# Update the layout  \n",
    "fig.update_layout(  \n",
    "    title='Total Budget by Expense Category',  \n",
    "    xaxis_title='Fiscal Year',  \n",
    "    yaxis_title='Total Budget',  \n",
    "    barmode='group',  # Group bars by expense category  \n",
    "    xaxis_tickangle=-45,  \n",
    "    margin=dict(l=20, r=20, t=80, b=150),  \n",
    "    legend_title='Expense Category'  \n",
    ")  \n",
    "\n",
    "# Show the figure  \n",
    "fig.show()  "
   ]
  },
  {
   "cell_type": "code",
   "execution_count": 23,
   "metadata": {},
   "outputs": [],
   "source": [
    "# read the data\n",
    "df2020 = pd.read_csv('2020_earnings.csv', encoding='latin1')  \n",
    "df2021 = pd.read_csv('employee-earnings-report-2021.csv', encoding='latin1')\n",
    "df2022 = pd.read_csv('employee-earnings-report-2022.csv', encoding='latin1')\n",
    "df2023 = pd.read_csv('employee-earnings-report-2023.csv',encoding='latin1')\n",
    "df2024 = pd.read_csv('employee_earnings_report_2024.csv',encoding='latin1')\n",
    "#2020年top10收入部门\n",
    "df2020[' TOTAL EARNINGS '] = df2020[' TOTAL EARNINGS '].replace('[\\$,]', '', regex=True).astype(float) \n",
    "year2020 = df2020.groupby('DEPARTMENT_NAME')[' TOTAL EARNINGS '].sum().sort_values(ascending=False)\n",
    "year2020 = year2020.head(10)\n",
    "#2021年top10收入部门\n",
    "df2021['TOTAL_GROSS'] = df2021['TOTAL_GROSS'].replace('[\\$,]', '', regex=True).astype(float) \n",
    "year2021 = df2021.groupby('DEPARTMENT_NAME')['TOTAL_GROSS'].sum().sort_values(ascending=False)\n",
    "year2021= year2021.head(10)\n",
    "#2022年top10收入部门\n",
    "df2022['TOTAL_ GROSS'] = df2022['TOTAL_ GROSS'].replace('[\\$,]', '', regex=True).astype(float)\n",
    "year2022 = df2022.groupby('DEPARTMENT_NAME')['TOTAL_ GROSS'].sum().sort_values(ascending=False)\n",
    "year2022= year2022.head(10)\n",
    "#2023年top10收入部门\n",
    "df2023['TOTAL GROSS'] = df2023['TOTAL GROSS'].replace('[\\$,]', '', regex=True).astype(float)\n",
    "year2023 = df2023.groupby('DEPARTMENT_NAME')['TOTAL GROSS'].sum().sort_values(ascending=False)\n",
    "year2023= year2023.head(10)\n",
    "#2024年top10收入部门\n",
    "df2024['TOTAL GROSS'] = df2024['TOTAL GROSS'].replace('[\\$,]', '', regex=True).astype(float)\n",
    "year2024 = df2024.groupby('DEPARTMENT_NAME')['TOTAL GROSS'].sum().sort_values(ascending=False)\n",
    "year2024= year2024.head(10)"
   ]
  },
  {
   "cell_type": "code",
   "execution_count": 24,
   "metadata": {},
   "outputs": [
    {
     "data": {
      "image/png": "[encoded data removed]",
      "text/plain": [
       "<Figure size 640x480 with 1 Axes>"
      ]
     },
     "metadata": {},
     "output_type": "display_data"
    }
   ],
   "source": [
    "#把year2020,year2021,year2022,year2023,year2024画图，比较top10部门的收入\n",
    "fig, ax = plt.subplots()\n",
    "index = np.arange(10)\n",
    "bar_width = 0.15\n",
    "opacity = 0.8\n",
    "\n",
    "rects1 = plt.bar(index, year2020, bar_width, alpha=opacity, color='b', label='2020')\n",
    "rects2 = plt.bar(index + bar_width, year2021, bar_width, alpha=opacity, color='r', label='2021')\n",
    "rects3 = plt.bar(index + bar_width*2, year2022, bar_width, alpha=opacity, color='g', label='2022')\n",
    "rects4 = plt.bar(index + bar_width*3, year2023, bar_width, alpha=opacity, color='y', label='2023')\n",
    "rects5 = plt.bar(index + bar_width*4, year2024, bar_width, alpha=opacity, color='c', label='2024')\n",
    "\n",
    "plt.xlabel('Department')\n",
    "plt.ylabel('Total Earnings')\n",
    "plt.title('Top 10 Department Earnings Comparison')\n",
    "plt.xticks(index + bar_width, year2020.index, rotation=90)\n",
    "plt.legend()\n",
    "plt.tight_layout()\n",
    "plt.show()"
   ]
  },
  {
   "cell_type": "code",
   "execution_count": 25,
   "metadata": {},
   "outputs": [
    {
     "data": {
      "application/vnd.plotly.v1+json": {
       "config": {
        "plotlyServerURL": "https://plot.ly"
       },
       "data": [
        {
         "name": "Regular",
         "type": "bar",
         "x": [
          "Traffic Division",
          "Public Works Department",
          "Inspectional Services Dept",
          "Boston Public Library",
          "Boston Police Department",
          "Boston Fire Department",
          "Boston Cntr - Youth & Families",
          "BPS Special Education",
          "BPS Madison Park High",
          "BPS Facility Management"
         ],
         "y": [
          20274591.69,
          22135378.66,
          15813009.13,
          29238777.79,
          243272783.77,
          197305844.7,
          21920059.24,
          52826219.93,
          18845012.45,
          27290977.1
         ]
        },
        {
         "name": "Overtime",
         "type": "bar",
         "x": [
          "Traffic Division",
          "Public Works Department",
          "Inspectional Services Dept",
          "Boston Public Library",
          "Boston Police Department",
          "Boston Fire Department",
          "Boston Cntr - Youth & Families",
          "BPS Special Education",
          "BPS Madison Park High",
          "BPS Facility Management"
         ],
         "y": [
          1047039.26,
          3444542.88,
          1385987.82,
          228684.76,
          78057696.23,
          33761132.79,
          223393.13999999998,
          13213.88,
          9925.08,
          1184761.45
         ]
        },
        {
         "name": "Other",
         "type": "bar",
         "x": [
          "Traffic Division",
          "Public Works Department",
          "Inspectional Services Dept",
          "Boston Public Library",
          "Boston Police Department",
          "Boston Fire Department",
          "Boston Cntr - Youth & Families",
          "BPS Special Education",
          "BPS Madison Park High",
          "BPS Facility Management"
         ],
         "y": [
          305985.04,
          303934.54,
          530281.25,
          485914.1,
          16384348.06,
          9107806.31,
          344991.67,
          842189.95,
          571899.58,
          919216.02
         ]
        },
        {
         "name": "Injured",
         "type": "bar",
         "x": [
          "Traffic Division",
          "Public Works Department",
          "Inspectional Services Dept",
          "Boston Public Library",
          "Boston Police Department",
          "Boston Fire Department",
          "Boston Cntr - Youth & Families",
          "BPS Special Education",
          "BPS Madison Park High",
          "BPS Facility Management"
         ],
         "y": [
          204185.61,
          214954.75,
          44812.92,
          41398.26,
          25272021.09,
          16290871.03,
          23903.32,
          12152.82,
          0,
          207513.35
         ]
        },
        {
         "name": "Quinn/Education Incentive",
         "type": "bar",
         "x": [
          "Traffic Division",
          "Public Works Department",
          "Inspectional Services Dept",
          "Boston Public Library",
          "Boston Police Department",
          "Boston Fire Department",
          "Boston Cntr - Youth & Families",
          "BPS Special Education",
          "BPS Madison Park High",
          "BPS Facility Management"
         ],
         "y": [
          0,
          0,
          0,
          0,
          29513884.63,
          0,
          0,
          0,
          0,
          0
         ]
        }
       ],
       "layout": {
        "barmode": "group",
        "legend": {
         "title": {
          "text": "Expense Category"
         }
        },
        "margin": {
         "b": 150,
         "l": 20,
         "r": 20,
         "t": 80
        },
        "template": {
         "data": {
          "bar": [
           {
            "error_x": {
             "color": "#2a3f5f"
            },
            "error_y": {
             "color": "#2a3f5f"
            },
            "marker": {
             "line": {
              "color": "#E5ECF6",
              "width": 0.5
             },
             "pattern": {
              "fillmode": "overlay",
              "size": 10,
              "solidity": 0.2
             }
            },
            "type": "bar"
           }
          ],
          "barpolar": [
           {
            "marker": {
             "line": {
              "color": "#E5ECF6",
              "width": 0.5
             },
             "pattern": {
              "fillmode": "overlay",
              "size": 10,
              "solidity": 0.2
             }
            },
            "type": "barpolar"
           }
          ],
          "carpet": [
           {
            "aaxis": {
             "endlinecolor": "#2a3f5f",
             "gridcolor": "white",
             "linecolor": "white",
             "minorgridcolor": "white",
             "startlinecolor": "#2a3f5f"
            },
            "baxis": {
             "endlinecolor": "#2a3f5f",
             "gridcolor": "white",
             "linecolor": "white",
             "minorgridcolor": "white",
             "startlinecolor": "#2a3f5f"
            },
            "type": "carpet"
           }
          ],
          "choropleth": [
           {
            "colorbar": {
             "outlinewidth": 0,
             "ticks": ""
            },
            "type": "choropleth"
           }
          ],
          "contour": [
           {
            "colorbar": {
             "outlinewidth": 0,
             "ticks": ""
            },
            "colorscale": [
             [
              0,
              "#0d0887"
             ],
             [
              0.1111111111111111,
              "#46039f"
             ],
             [
              0.2222222222222222,
              "#7201a8"
             ],
             [
              0.3333333333333333,
              "#9c179e"
             ],
             [
              0.4444444444444444,
              "#bd3786"
             ],
             [
              0.5555555555555556,
              "#d8576b"
             ],
             [
              0.6666666666666666,
              "#ed7953"
             ],
             [
              0.7777777777777778,
              "#fb9f3a"
             ],
             [
              0.8888888888888888,
              "#fdca26"
             ],
             [
              1,
              "#f0f921"
             ]
            ],
            "type": "contour"
           }
          ],
          "contourcarpet": [
           {
            "colorbar": {
             "outlinewidth": 0,
             "ticks": ""
            },
            "type": "contourcarpet"
           }
          ],
          "heatmap": [
           {
            "colorbar": {
             "outlinewidth": 0,
             "ticks": ""
            },
            "colorscale": [
             [
              0,
              "#0d0887"
             ],
             [
              0.1111111111111111,
              "#46039f"
             ],
             [
              0.2222222222222222,
              "#7201a8"
             ],
             [
              0.3333333333333333,
              "#9c179e"
             ],
             [
              0.4444444444444444,
              "#bd3786"
             ],
             [
              0.5555555555555556,
              "#d8576b"
             ],
             [
              0.6666666666666666,
              "#ed7953"
             ],
             [
              0.7777777777777778,
              "#fb9f3a"
             ],
             [
              0.8888888888888888,
              "#fdca26"
             ],
             [
              1,
              "#f0f921"
             ]
            ],
            "type": "heatmap"
           }
          ],
          "heatmapgl": [
           {
            "colorbar": {
             "outlinewidth": 0,
             "ticks": ""
            },
            "colorscale": [
             [
              0,
              "#0d0887"
             ],
             [
              0.1111111111111111,
              "#46039f"
             ],
             [
              0.2222222222222222,
              "#7201a8"
             ],
             [
              0.3333333333333333,
              "#9c179e"
             ],
             [
              0.4444444444444444,
              "#bd3786"
             ],
             [
              0.5555555555555556,
              "#d8576b"
             ],
             [
              0.6666666666666666,
              "#ed7953"
             ],
             [
              0.7777777777777778,
              "#fb9f3a"
             ],
             [
              0.8888888888888888,
              "#fdca26"
             ],
             [
              1,
              "#f0f921"
             ]
            ],
            "type": "heatmapgl"
           }
          ],
          "histogram": [
           {
            "marker": {
             "pattern": {
              "fillmode": "overlay",
              "size": 10,
              "solidity": 0.2
             }
            },
            "type": "histogram"
           }
          ],
          "histogram2d": [
           {
            "colorbar": {
             "outlinewidth": 0,
             "ticks": ""
            },
            "colorscale": [
             [
              0,
              "#0d0887"
             ],
             [
              0.1111111111111111,
              "#46039f"
             ],
             [
              0.2222222222222222,
              "#7201a8"
             ],
             [
              0.3333333333333333,
              "#9c179e"
             ],
             [
              0.4444444444444444,
              "#bd3786"
             ],
             [
              0.5555555555555556,
              "#d8576b"
             ],
             [
              0.6666666666666666,
              "#ed7953"
             ],
             [
              0.7777777777777778,
              "#fb9f3a"
             ],
             [
              0.8888888888888888,
              "#fdca26"
             ],
             [
              1,
              "#f0f921"
             ]
            ],
            "type": "histogram2d"
           }
          ],
          "histogram2dcontour": [
           {
            "colorbar": {
             "outlinewidth": 0,
             "ticks": ""
            },
            "colorscale": [
             [
              0,
              "#0d0887"
             ],
             [
              0.1111111111111111,
              "#46039f"
             ],
             [
              0.2222222222222222,
              "#7201a8"
             ],
             [
              0.3333333333333333,
              "#9c179e"
             ],
             [
              0.4444444444444444,
              "#bd3786"
             ],
             [
              0.5555555555555556,
              "#d8576b"
             ],
             [
              0.6666666666666666,
              "#ed7953"
             ],
             [
              0.7777777777777778,
              "#fb9f3a"
             ],
             [
              0.8888888888888888,
              "#fdca26"
             ],
             [
              1,
              "#f0f921"
             ]
            ],
            "type": "histogram2dcontour"
           }
          ],
          "mesh3d": [
           {
            "colorbar": {
             "outlinewidth": 0,
             "ticks": ""
            },
            "type": "mesh3d"
           }
          ],
          "parcoords": [
           {
            "line": {
             "colorbar": {
              "outlinewidth": 0,
              "ticks": ""
             }
            },
            "type": "parcoords"
           }
          ],
          "pie": [
           {
            "automargin": true,
            "type": "pie"
           }
          ],
          "scatter": [
           {
            "fillpattern": {
             "fillmode": "overlay",
             "size": 10,
             "solidity": 0.2
            },
            "type": "scatter"
           }
          ],
          "scatter3d": [
           {
            "line": {
             "colorbar": {
              "outlinewidth": 0,
              "ticks": ""
             }
            },
            "marker": {
             "colorbar": {
              "outlinewidth": 0,
              "ticks": ""
             }
            },
            "type": "scatter3d"
           }
          ],
          "scattercarpet": [
           {
            "marker": {
             "colorbar": {
              "outlinewidth": 0,
              "ticks": ""
             }
            },
            "type": "scattercarpet"
           }
          ],
          "scattergeo": [
           {
            "marker": {
             "colorbar": {
              "outlinewidth": 0,
              "ticks": ""
             }
            },
            "type": "scattergeo"
           }
          ],
          "scattergl": [
           {
            "marker": {
             "colorbar": {
              "outlinewidth": 0,
              "ticks": ""
             }
            },
            "type": "scattergl"
           }
          ],
          "scattermapbox": [
           {
            "marker": {
             "colorbar": {
              "outlinewidth": 0,
              "ticks": ""
             }
            },
            "type": "scattermapbox"
           }
          ],
          "scatterpolar": [
           {
            "marker": {
             "colorbar": {
              "outlinewidth": 0,
              "ticks": ""
             }
            },
            "type": "scatterpolar"
           }
          ],
          "scatterpolargl": [
           {
            "marker": {
             "colorbar": {
              "outlinewidth": 0,
              "ticks": ""
             }
            },
            "type": "scatterpolargl"
           }
          ],
          "scatterternary": [
           {
            "marker": {
             "colorbar": {
              "outlinewidth": 0,
              "ticks": ""
             }
            },
            "type": "scatterternary"
           }
          ],
          "surface": [
           {
            "colorbar": {
             "outlinewidth": 0,
             "ticks": ""
            },
            "colorscale": [
             [
              0,
              "#0d0887"
             ],
             [
              0.1111111111111111,
              "#46039f"
             ],
             [
              0.2222222222222222,
              "#7201a8"
             ],
             [
              0.3333333333333333,
              "#9c179e"
             ],
             [
              0.4444444444444444,
              "#bd3786"
             ],
             [
              0.5555555555555556,
              "#d8576b"
             ],
             [
              0.6666666666666666,
              "#ed7953"
             ],
             [
              0.7777777777777778,
              "#fb9f3a"
             ],
             [
              0.8888888888888888,
              "#fdca26"
             ],
             [
              1,
              "#f0f921"
             ]
            ],
            "type": "surface"
           }
          ],
          "table": [
           {
            "cells": {
             "fill": {
              "color": "#EBF0F8"
             },
             "line": {
              "color": "white"
             }
            },
            "header": {
             "fill": {
              "color": "#C8D4E3"
             },
             "line": {
              "color": "white"
             }
            },
            "type": "table"
           }
          ]
         },
         "layout": {
          "annotationdefaults": {
           "arrowcolor": "#2a3f5f",
           "arrowhead": 0,
           "arrowwidth": 1
          },
          "autotypenumbers": "strict",
          "coloraxis": {
           "colorbar": {
            "outlinewidth": 0,
            "ticks": ""
           }
          },
          "colorscale": {
           "diverging": [
            [
             0,
             "#8e0152"
            ],
            [
             0.1,
             "#c51b7d"
            ],
            [
             0.2,
             "#de77ae"
            ],
            [
             0.3,
             "#f1b6da"
            ],
            [
             0.4,
             "#fde0ef"
            ],
            [
             0.5,
             "#f7f7f7"
            ],
            [
             0.6,
             "#e6f5d0"
            ],
            [
             0.7,
             "#b8e186"
            ],
            [
             0.8,
             "#7fbc41"
            ],
            [
             0.9,
             "#4d9221"
            ],
            [
             1,
             "#276419"
            ]
           ],
           "sequential": [
            [
             0,
             "#0d0887"
            ],
            [
             0.1111111111111111,
             "#46039f"
            ],
            [
             0.2222222222222222,
             "#7201a8"
            ],
            [
             0.3333333333333333,
             "#9c179e"
            ],
            [
             0.4444444444444444,
             "#bd3786"
            ],
            [
             0.5555555555555556,
             "#d8576b"
            ],
            [
             0.6666666666666666,
             "#ed7953"
            ],
            [
             0.7777777777777778,
             "#fb9f3a"
            ],
            [
             0.8888888888888888,
             "#fdca26"
            ],
            [
             1,
             "#f0f921"
            ]
           ],
           "sequentialminus": [
            [
             0,
             "#0d0887"
            ],
            [
             0.1111111111111111,
             "#46039f"
            ],
            [
             0.2222222222222222,
             "#7201a8"
            ],
            [
             0.3333333333333333,
             "#9c179e"
            ],
            [
             0.4444444444444444,
             "#bd3786"
            ],
            [
             0.5555555555555556,
             "#d8576b"
            ],
            [
             0.6666666666666666,
             "#ed7953"
            ],
            [
             0.7777777777777778,
             "#fb9f3a"
            ],
            [
             0.8888888888888888,
             "#fdca26"
            ],
            [
             1,
             "#f0f921"
            ]
           ]
          },
          "colorway": [
           "#636efa",
           "#EF553B",
           "#00cc96",
           "#ab63fa",
           "#FFA15A",
           "#19d3f3",
           "#FF6692",
           "#B6E880",
           "#FF97FF",
           "#FECB52"
          ],
          "font": {
           "color": "#2a3f5f"
          },
          "geo": {
           "bgcolor": "white",
           "lakecolor": "white",
           "landcolor": "#E5ECF6",
           "showlakes": true,
           "showland": true,
           "subunitcolor": "white"
          },
          "hoverlabel": {
           "align": "left"
          },
          "hovermode": "closest",
          "mapbox": {
           "style": "light"
          },
          "paper_bgcolor": "white",
          "plot_bgcolor": "#E5ECF6",
          "polar": {
           "angularaxis": {
            "gridcolor": "white",
            "linecolor": "white",
            "ticks": ""
           },
           "bgcolor": "#E5ECF6",
           "radialaxis": {
            "gridcolor": "white",
            "linecolor": "white",
            "ticks": ""
           }
          },
          "scene": {
           "xaxis": {
            "backgroundcolor": "#E5ECF6",
            "gridcolor": "white",
            "gridwidth": 2,
            "linecolor": "white",
            "showbackground": true,
            "ticks": "",
            "zerolinecolor": "white"
           },
           "yaxis": {
            "backgroundcolor": "#E5ECF6",
            "gridcolor": "white",
            "gridwidth": 2,
            "linecolor": "white",
            "showbackground": true,
            "ticks": "",
            "zerolinecolor": "white"
           },
           "zaxis": {
            "backgroundcolor": "#E5ECF6",
            "gridcolor": "white",
            "gridwidth": 2,
            "linecolor": "white",
            "showbackground": true,
            "ticks": "",
            "zerolinecolor": "white"
           }
          },
          "shapedefaults": {
           "line": {
            "color": "#2a3f5f"
           }
          },
          "ternary": {
           "aaxis": {
            "gridcolor": "white",
            "linecolor": "white",
            "ticks": ""
           },
           "baxis": {
            "gridcolor": "white",
            "linecolor": "white",
            "ticks": ""
           },
           "bgcolor": "#E5ECF6",
           "caxis": {
            "gridcolor": "white",
            "linecolor": "white",
            "ticks": ""
           }
          },
          "title": {
           "x": 0.05
          },
          "xaxis": {
           "automargin": true,
           "gridcolor": "white",
           "linecolor": "white",
           "ticks": "",
           "title": {
            "standoff": 15
           },
           "zerolinecolor": "white",
           "zerolinewidth": 2
          },
          "yaxis": {
           "automargin": true,
           "gridcolor": "white",
           "linecolor": "white",
           "ticks": "",
           "title": {
            "standoff": 15
           },
           "zerolinecolor": "white",
           "zerolinewidth": 2
          }
         }
        },
        "title": {
         "text": "Total Earnings by Expense Category for Top 10 Departments in 2020"
        },
        "xaxis": {
         "tickangle": -45,
         "title": {
          "text": "Department"
         }
        },
        "yaxis": {
         "title": {
          "text": "Total Earnings"
         }
        }
       }
      }
     },
     "metadata": {},
     "output_type": "display_data"
    }
   ],
   "source": [
    "import pandas as pd  \n",
    "import plotly.graph_objects as go  \n",
    "\n",
    "# Read the data  \n",
    "df2020 = pd.read_csv('2020_earnings.csv', encoding='latin1')  \n",
    "\n",
    "\n",
    "df2020[' TOTAL EARNINGS '] = df2020[' TOTAL EARNINGS '].replace('[\\$,]', '', regex=True).astype(float)  \n",
    "year2020 = df2020.groupby('DEPARTMENT_NAME')[' TOTAL EARNINGS '].sum().sort_values(ascending=False)  \n",
    "year2020 = year2020.head(10)  \n",
    "\n",
    "# Filter for the top 10 departments  \n",
    "df2020 = df2020[df2020['DEPARTMENT_NAME'].isin(year2020.index)]  \n",
    "\n",
    "cols_needed = ['DEPARTMENT_NAME', ' REGULAR ', ' OVERTIME ', ' OTHER ', ' INJURED ',' QUINN / EDUCATION INCENTIVE ']  \n",
    "df2020_polted = df2020[cols_needed].copy()  \n",
    "\n",
    "for col in df2020_polted.columns[1:]:  \n",
    "    df2020_polted[col] = (  \n",
    "        df2020_polted[col]  \n",
    "        .replace('[\\$,]', '', regex=True)  \n",
    "        .replace(r'\\((.*?)\\)', r'-\\1', regex=True)  \n",
    "        .astype(float)  \n",
    "    )  \n",
    "\n",
    "df2020_sum = df2020_polted.groupby('DEPARTMENT_NAME').sum()  \n",
    "df2020_sum = df2020_sum.reset_index()  \n",
    "df2020_sum = df2020_sum.sort_index(ascending=False)  \n",
    "df2020_sum = df2020_sum.set_index('DEPARTMENT_NAME')  \n",
    "df2020_sum = df2020_sum.T  \n",
    "df2020_sum = df2020_sum.rename(index={' REGULAR ': 'Regular', ' OVERTIME ': 'Overtime', ' OTHER ': 'Other', ' INJURED ': 'Injured', ' QUINN / EDUCATION INCENTIVE ': 'Quinn/Education Incentive'})  \n",
    "\n",
    "\n",
    "# Create Plotly figure  \n",
    "fig = go.Figure()  \n",
    "\n",
    "# Add bar traces for each expense category  \n",
    "for category in df2020_sum.index:  \n",
    "    fig.add_trace(go.Bar(x=df2020_sum.columns, y=df2020_sum.loc[category], name=category))  \n",
    "\n",
    "# Update layout  \n",
    "fig.update_layout(  \n",
    "    title='Total Earnings by Expense Category for Top 10 Departments in 2020',  \n",
    "    xaxis_title='Department',  \n",
    "    yaxis_title='Total Earnings',  \n",
    "    barmode='group',  \n",
    "    xaxis_tickangle=-45,  \n",
    "    margin=dict(l=20, r=20, t=80, b=150),  \n",
    "    legend_title='Expense Category'  \n",
    ")  \n",
    "\n",
    "# Show the figure  \n",
    "fig.show()"
   ]
  },
  {
   "cell_type": "code",
   "execution_count": 26,
   "metadata": {},
   "outputs": [
    {
     "data": {
      "application/vnd.plotly.v1+json": {
       "config": {
        "plotlyServerURL": "https://plot.ly"
       },
       "data": [
        {
         "name": "Regular",
         "type": "bar",
         "x": [
          "Transportation",
          "Traffic Division",
          "Special Education",
          "Public Works Department",
          "Madison Park Tech Vocational",
          "Facilities Management",
          "Boston Public Library",
          "Boston Police Department",
          "Boston Latin",
          "Boston Fire Department"
         ],
         "y": [
          23050873.92,
          20178958.08,
          70301990.26,
          21724785.07,
          23400847.03,
          33288292.74,
          34640280.43,
          279626070.05,
          20137900.85,
          226975255.39
         ]
        },
        {
         "name": "Overtime",
         "type": "bar",
         "x": [
          "Transportation",
          "Traffic Division",
          "Special Education",
          "Public Works Department",
          "Madison Park Tech Vocational",
          "Facilities Management",
          "Boston Public Library",
          "Boston Police Department",
          "Boston Latin",
          "Boston Fire Department"
         ],
         "y": [
          2283491.89,
          3703130.15,
          11250.17,
          7006232.98,
          4482.12,
          2244234.32,
          931578.95,
          103223537.67,
          0,
          44139299.77
         ]
        },
        {
         "name": "Other",
         "type": "bar",
         "x": [
          "Transportation",
          "Traffic Division",
          "Special Education",
          "Public Works Department",
          "Madison Park Tech Vocational",
          "Facilities Management",
          "Boston Public Library",
          "Boston Police Department",
          "Boston Latin",
          "Boston Fire Department"
         ],
         "y": [
          70062.51000000001,
          279847.39,
          2106899.26,
          508018,
          956656.89,
          1695741.22,
          466997.52999999997,
          13678315.57,
          1009133.61,
          8513895.23
         ]
        },
        {
         "name": "Injured",
         "type": "bar",
         "x": [
          "Transportation",
          "Traffic Division",
          "Special Education",
          "Public Works Department",
          "Madison Park Tech Vocational",
          "Facilities Management",
          "Boston Public Library",
          "Boston Police Department",
          "Boston Latin",
          "Boston Fire Department"
         ],
         "y": [
          91630.58,
          327706.35,
          84739.36,
          275399.11,
          76460.95,
          436044.55,
          81793.11,
          20552550.44,
          0,
          19126496.37
         ]
        },
        {
         "name": "Quinn/Education Incentive",
         "type": "bar",
         "x": [
          "Transportation",
          "Traffic Division",
          "Special Education",
          "Public Works Department",
          "Madison Park Tech Vocational",
          "Facilities Management",
          "Boston Public Library",
          "Boston Police Department",
          "Boston Latin",
          "Boston Fire Department"
         ],
         "y": [
          0,
          0,
          0,
          0,
          0,
          0,
          0,
          31961368.15,
          0,
          0
         ]
        }
       ],
       "layout": {
        "barmode": "group",
        "legend": {
         "title": {
          "text": "Expense Category"
         }
        },
        "margin": {
         "b": 150,
         "l": 20,
         "r": 20,
         "t": 80
        },
        "template": {
         "data": {
          "bar": [
           {
            "error_x": {
             "color": "#2a3f5f"
            },
            "error_y": {
             "color": "#2a3f5f"
            },
            "marker": {
             "line": {
              "color": "#E5ECF6",
              "width": 0.5
             },
             "pattern": {
              "fillmode": "overlay",
              "size": 10,
              "solidity": 0.2
             }
            },
            "type": "bar"
           }
          ],
          "barpolar": [
           {
            "marker": {
             "line": {
              "color": "#E5ECF6",
              "width": 0.5
             },
             "pattern": {
              "fillmode": "overlay",
              "size": 10,
              "solidity": 0.2
             }
            },
            "type": "barpolar"
           }
          ],
          "carpet": [
           {
            "aaxis": {
             "endlinecolor": "#2a3f5f",
             "gridcolor": "white",
             "linecolor": "white",
             "minorgridcolor": "white",
             "startlinecolor": "#2a3f5f"
            },
            "baxis": {
             "endlinecolor": "#2a3f5f",
             "gridcolor": "white",
             "linecolor": "white",
             "minorgridcolor": "white",
             "startlinecolor": "#2a3f5f"
            },
            "type": "carpet"
           }
          ],
          "choropleth": [
           {
            "colorbar": {
             "outlinewidth": 0,
             "ticks": ""
            },
            "type": "choropleth"
           }
          ],
          "contour": [
           {
            "colorbar": {
             "outlinewidth": 0,
             "ticks": ""
            },
            "colorscale": [
             [
              0,
              "#0d0887"
             ],
             [
              0.1111111111111111,
              "#46039f"
             ],
             [
              0.2222222222222222,
              "#7201a8"
             ],
             [
              0.3333333333333333,
              "#9c179e"
             ],
             [
              0.4444444444444444,
              "#bd3786"
             ],
             [
              0.5555555555555556,
              "#d8576b"
             ],
             [
              0.6666666666666666,
              "#ed7953"
             ],
             [
              0.7777777777777778,
              "#fb9f3a"
             ],
             [
              0.8888888888888888,
              "#fdca26"
             ],
             [
              1,
              "#f0f921"
             ]
            ],
            "type": "contour"
           }
          ],
          "contourcarpet": [
           {
            "colorbar": {
             "outlinewidth": 0,
             "ticks": ""
            },
            "type": "contourcarpet"
           }
          ],
          "heatmap": [
           {
            "colorbar": {
             "outlinewidth": 0,
             "ticks": ""
            },
            "colorscale": [
             [
              0,
              "#0d0887"
             ],
             [
              0.1111111111111111,
              "#46039f"
             ],
             [
              0.2222222222222222,
              "#7201a8"
             ],
             [
              0.3333333333333333,
              "#9c179e"
             ],
             [
              0.4444444444444444,
              "#bd3786"
             ],
             [
              0.5555555555555556,
              "#d8576b"
             ],
             [
              0.6666666666666666,
              "#ed7953"
             ],
             [
              0.7777777777777778,
              "#fb9f3a"
             ],
             [
              0.8888888888888888,
              "#fdca26"
             ],
             [
              1,
              "#f0f921"
             ]
            ],
            "type": "heatmap"
           }
          ],
          "heatmapgl": [
           {
            "colorbar": {
             "outlinewidth": 0,
             "ticks": ""
            },
            "colorscale": [
             [
              0,
              "#0d0887"
             ],
             [
              0.1111111111111111,
              "#46039f"
             ],
             [
              0.2222222222222222,
              "#7201a8"
             ],
             [
              0.3333333333333333,
              "#9c179e"
             ],
             [
              0.4444444444444444,
              "#bd3786"
             ],
             [
              0.5555555555555556,
              "#d8576b"
             ],
             [
              0.6666666666666666,
              "#ed7953"
             ],
             [
              0.7777777777777778,
              "#fb9f3a"
             ],
             [
              0.8888888888888888,
              "#fdca26"
             ],
             [
              1,
              "#f0f921"
             ]
            ],
            "type": "heatmapgl"
           }
          ],
          "histogram": [
           {
            "marker": {
             "pattern": {
              "fillmode": "overlay",
              "size": 10,
              "solidity": 0.2
             }
            },
            "type": "histogram"
           }
          ],
          "histogram2d": [
           {
            "colorbar": {
             "outlinewidth": 0,
             "ticks": ""
            },
            "colorscale": [
             [
              0,
              "#0d0887"
             ],
             [
              0.1111111111111111,
              "#46039f"
             ],
             [
              0.2222222222222222,
              "#7201a8"
             ],
             [
              0.3333333333333333,
              "#9c179e"
             ],
             [
              0.4444444444444444,
              "#bd3786"
             ],
             [
              0.5555555555555556,
              "#d8576b"
             ],
             [
              0.6666666666666666,
              "#ed7953"
             ],
             [
              0.7777777777777778,
              "#fb9f3a"
             ],
             [
              0.8888888888888888,
              "#fdca26"
             ],
             [
              1,
              "#f0f921"
             ]
            ],
            "type": "histogram2d"
           }
          ],
          "histogram2dcontour": [
           {
            "colorbar": {
             "outlinewidth": 0,
             "ticks": ""
            },
            "colorscale": [
             [
              0,
              "#0d0887"
             ],
             [
              0.1111111111111111,
              "#46039f"
             ],
             [
              0.2222222222222222,
              "#7201a8"
             ],
             [
              0.3333333333333333,
              "#9c179e"
             ],
             [
              0.4444444444444444,
              "#bd3786"
             ],
             [
              0.5555555555555556,
              "#d8576b"
             ],
             [
              0.6666666666666666,
              "#ed7953"
             ],
             [
              0.7777777777777778,
              "#fb9f3a"
             ],
             [
              0.8888888888888888,
              "#fdca26"
             ],
             [
              1,
              "#f0f921"
             ]
            ],
            "type": "histogram2dcontour"
           }
          ],
          "mesh3d": [
           {
            "colorbar": {
             "outlinewidth": 0,
             "ticks": ""
            },
            "type": "mesh3d"
           }
          ],
          "parcoords": [
           {
            "line": {
             "colorbar": {
              "outlinewidth": 0,
              "ticks": ""
             }
            },
            "type": "parcoords"
           }
          ],
          "pie": [
           {
            "automargin": true,
            "type": "pie"
           }
          ],
          "scatter": [
           {
            "fillpattern": {
             "fillmode": "overlay",
             "size": 10,
             "solidity": 0.2
            },
            "type": "scatter"
           }
          ],
          "scatter3d": [
           {
            "line": {
             "colorbar": {
              "outlinewidth": 0,
              "ticks": ""
             }
            },
            "marker": {
             "colorbar": {
              "outlinewidth": 0,
              "ticks": ""
             }
            },
            "type": "scatter3d"
           }
          ],
          "scattercarpet": [
           {
            "marker": {
             "colorbar": {
              "outlinewidth": 0,
              "ticks": ""
             }
            },
            "type": "scattercarpet"
           }
          ],
          "scattergeo": [
           {
            "marker": {
             "colorbar": {
              "outlinewidth": 0,
              "ticks": ""
             }
            },
            "type": "scattergeo"
           }
          ],
          "scattergl": [
           {
            "marker": {
             "colorbar": {
              "outlinewidth": 0,
              "ticks": ""
             }
            },
            "type": "scattergl"
           }
          ],
          "scattermapbox": [
           {
            "marker": {
             "colorbar": {
              "outlinewidth": 0,
              "ticks": ""
             }
            },
            "type": "scattermapbox"
           }
          ],
          "scatterpolar": [
           {
            "marker": {
             "colorbar": {
              "outlinewidth": 0,
              "ticks": ""
             }
            },
            "type": "scatterpolar"
           }
          ],
          "scatterpolargl": [
           {
            "marker": {
             "colorbar": {
              "outlinewidth": 0,
              "ticks": ""
             }
            },
            "type": "scatterpolargl"
           }
          ],
          "scatterternary": [
           {
            "marker": {
             "colorbar": {
              "outlinewidth": 0,
              "ticks": ""
             }
            },
            "type": "scatterternary"
           }
          ],
          "surface": [
           {
            "colorbar": {
             "outlinewidth": 0,
             "ticks": ""
            },
            "colorscale": [
             [
              0,
              "#0d0887"
             ],
             [
              0.1111111111111111,
              "#46039f"
             ],
             [
              0.2222222222222222,
              "#7201a8"
             ],
             [
              0.3333333333333333,
              "#9c179e"
             ],
             [
              0.4444444444444444,
              "#bd3786"
             ],
             [
              0.5555555555555556,
              "#d8576b"
             ],
             [
              0.6666666666666666,
              "#ed7953"
             ],
             [
              0.7777777777777778,
              "#fb9f3a"
             ],
             [
              0.8888888888888888,
              "#fdca26"
             ],
             [
              1,
              "#f0f921"
             ]
            ],
            "type": "surface"
           }
          ],
          "table": [
           {
            "cells": {
             "fill": {
              "color": "#EBF0F8"
             },
             "line": {
              "color": "white"
             }
            },
            "header": {
             "fill": {
              "color": "#C8D4E3"
             },
             "line": {
              "color": "white"
             }
            },
            "type": "table"
           }
          ]
         },
         "layout": {
          "annotationdefaults": {
           "arrowcolor": "#2a3f5f",
           "arrowhead": 0,
           "arrowwidth": 1
          },
          "autotypenumbers": "strict",
          "coloraxis": {
           "colorbar": {
            "outlinewidth": 0,
            "ticks": ""
           }
          },
          "colorscale": {
           "diverging": [
            [
             0,
             "#8e0152"
            ],
            [
             0.1,
             "#c51b7d"
            ],
            [
             0.2,
             "#de77ae"
            ],
            [
             0.3,
             "#f1b6da"
            ],
            [
             0.4,
             "#fde0ef"
            ],
            [
             0.5,
             "#f7f7f7"
            ],
            [
             0.6,
             "#e6f5d0"
            ],
            [
             0.7,
             "#b8e186"
            ],
            [
             0.8,
             "#7fbc41"
            ],
            [
             0.9,
             "#4d9221"
            ],
            [
             1,
             "#276419"
            ]
           ],
           "sequential": [
            [
             0,
             "#0d0887"
            ],
            [
             0.1111111111111111,
             "#46039f"
            ],
            [
             0.2222222222222222,
             "#7201a8"
            ],
            [
             0.3333333333333333,
             "#9c179e"
            ],
            [
             0.4444444444444444,
             "#bd3786"
            ],
            [
             0.5555555555555556,
             "#d8576b"
            ],
            [
             0.6666666666666666,
             "#ed7953"
            ],
            [
             0.7777777777777778,
             "#fb9f3a"
            ],
            [
             0.8888888888888888,
             "#fdca26"
            ],
            [
             1,
             "#f0f921"
            ]
           ],
           "sequentialminus": [
            [
             0,
             "#0d0887"
            ],
            [
             0.1111111111111111,
             "#46039f"
            ],
            [
             0.2222222222222222,
             "#7201a8"
            ],
            [
             0.3333333333333333,
             "#9c179e"
            ],
            [
             0.4444444444444444,
             "#bd3786"
            ],
            [
             0.5555555555555556,
             "#d8576b"
            ],
            [
             0.6666666666666666,
             "#ed7953"
            ],
            [
             0.7777777777777778,
             "#fb9f3a"
            ],
            [
             0.8888888888888888,
             "#fdca26"
            ],
            [
             1,
             "#f0f921"
            ]
           ]
          },
          "colorway": [
           "#636efa",
           "#EF553B",
           "#00cc96",
           "#ab63fa",
           "#FFA15A",
           "#19d3f3",
           "#FF6692",
           "#B6E880",
           "#FF97FF",
           "#FECB52"
          ],
          "font": {
           "color": "#2a3f5f"
          },
          "geo": {
           "bgcolor": "white",
           "lakecolor": "white",
           "landcolor": "#E5ECF6",
           "showlakes": true,
           "showland": true,
           "subunitcolor": "white"
          },
          "hoverlabel": {
           "align": "left"
          },
          "hovermode": "closest",
          "mapbox": {
           "style": "light"
          },
          "paper_bgcolor": "white",
          "plot_bgcolor": "#E5ECF6",
          "polar": {
           "angularaxis": {
            "gridcolor": "white",
            "linecolor": "white",
            "ticks": ""
           },
           "bgcolor": "#E5ECF6",
           "radialaxis": {
            "gridcolor": "white",
            "linecolor": "white",
            "ticks": ""
           }
          },
          "scene": {
           "xaxis": {
            "backgroundcolor": "#E5ECF6",
            "gridcolor": "white",
            "gridwidth": 2,
            "linecolor": "white",
            "showbackground": true,
            "ticks": "",
            "zerolinecolor": "white"
           },
           "yaxis": {
            "backgroundcolor": "#E5ECF6",
            "gridcolor": "white",
            "gridwidth": 2,
            "linecolor": "white",
            "showbackground": true,
            "ticks": "",
            "zerolinecolor": "white"
           },
           "zaxis": {
            "backgroundcolor": "#E5ECF6",
            "gridcolor": "white",
            "gridwidth": 2,
            "linecolor": "white",
            "showbackground": true,
            "ticks": "",
            "zerolinecolor": "white"
           }
          },
          "shapedefaults": {
           "line": {
            "color": "#2a3f5f"
           }
          },
          "ternary": {
           "aaxis": {
            "gridcolor": "white",
            "linecolor": "white",
            "ticks": ""
           },
           "baxis": {
            "gridcolor": "white",
            "linecolor": "white",
            "ticks": ""
           },
           "bgcolor": "#E5ECF6",
           "caxis": {
            "gridcolor": "white",
            "linecolor": "white",
            "ticks": ""
           }
          },
          "title": {
           "x": 0.05
          },
          "xaxis": {
           "automargin": true,
           "gridcolor": "white",
           "linecolor": "white",
           "ticks": "",
           "title": {
            "standoff": 15
           },
           "zerolinecolor": "white",
           "zerolinewidth": 2
          },
          "yaxis": {
           "automargin": true,
           "gridcolor": "white",
           "linecolor": "white",
           "ticks": "",
           "title": {
            "standoff": 15
           },
           "zerolinecolor": "white",
           "zerolinewidth": 2
          }
         }
        },
        "title": {
         "text": "Total Earnings by Expense Category for Top 10 Departments in 2024"
        },
        "xaxis": {
         "tickangle": -45,
         "title": {
          "text": "Department"
         }
        },
        "yaxis": {
         "title": {
          "text": "Total Earnings"
         }
        }
       }
      }
     },
     "metadata": {},
     "output_type": "display_data"
    }
   ],
   "source": [
    "import pandas as pd  \n",
    "import plotly.graph_objects as go  \n",
    "import re  \n",
    "\n",
    "# Read the data  \n",
    "df2024 = pd.read_csv('employee_earnings_report_2024.csv', encoding='latin1')  \n",
    "\n",
    "# 2024年top10收入部门  \n",
    "df2024['TOTAL GROSS'] = df2024['TOTAL GROSS'].replace('[\\$,]', '', regex=True).astype(float)  \n",
    "year2024 = df2024.groupby('DEPARTMENT_NAME')['TOTAL GROSS'].sum().sort_values(ascending=False)  \n",
    "year2024 = year2024.head(10)  \n",
    "\n",
    "# Filter for the top 10 departments  \n",
    "df2024 = df2024[df2024['DEPARTMENT_NAME'].isin(year2024.index)]  \n",
    "\n",
    "# Define the columns needed.  Adjust to match the actual column names in df2024.  \n",
    "cols_needed_2024 = ['DEPARTMENT_NAME', 'REGULAR', 'OVERTIME', 'OTHER', 'INJURED','QUINN_EDUCATION']  \n",
    "\n",
    "#Check if the  columns exist, if not print available columns  \n",
    "for col in cols_needed_2024:  \n",
    "    if col not in df2024.columns:  \n",
    "        print(f\"Column {col} not found in df2024\")  \n",
    "        print(\"Available columns are:\", df2024.columns.tolist())  \n",
    "        raise ValueError(f\"Required column '{col}' is missing.\")  \n",
    "\n",
    "\n",
    "df2024_polted = df2024[cols_needed_2024].copy()  \n",
    "\n",
    "# Clean and convert numeric columns  \n",
    "for col in df2024_polted.columns[1:]:  \n",
    "    # First ensure the column is of type string  \n",
    "    df2024_polted[col] = df2024_polted[col].astype(str)  \n",
    "    df2024_polted[col] = (  \n",
    "        df2024_polted[col]  \n",
    "        .str.replace('[\\$,]', '', regex=True)  \n",
    "        .str.replace(r'\\((.*?)\\)', r'-\\1', regex=True)  \n",
    "        .astype(float)  \n",
    "    )  \n",
    "\n",
    "df2024_sum = df2024_polted.groupby('DEPARTMENT_NAME').sum()  \n",
    "df2024_sum = df2024_sum.reset_index()  \n",
    "df2024_sum = df2024_sum.sort_index(ascending=False)  \n",
    "df2024_sum = df2024_sum.set_index('DEPARTMENT_NAME')  \n",
    "df2024_sum = df2024_sum.T  \n",
    "\n",
    "#Dynamically rename the index, checking for the presence of the columns first.  \n",
    "rename_dict = {}  \n",
    "\n",
    "if 'REGULAR' in df2024_sum.index:  \n",
    "    rename_dict['REGULAR'] = 'Regular'  \n",
    "if 'OVERTIME' in df2024_sum.index:  \n",
    "    rename_dict['OVERTIME'] = 'Overtime'  \n",
    "if 'OTHER' in df2024_sum.index:  \n",
    "    rename_dict['OTHER'] = 'Other'  \n",
    "if 'INJURED' in df2024_sum.index:  \n",
    "    rename_dict['INJURED'] = 'Injured'  \n",
    "if 'QUINN_EDUCATION' in df2024_sum.index:  \n",
    "    rename_dict['QUINN_EDUCATION'] = 'Quinn/Education Incentive'  \n",
    "\n",
    "df2024_sum = df2024_sum.rename(index=rename_dict)  \n",
    "\n",
    "# Create Plotly figure  \n",
    "fig = go.Figure()  \n",
    "\n",
    "# Add bar traces for each expense category  \n",
    "for category in df2024_sum.index:  \n",
    "    fig.add_trace(go.Bar(x=df2024_sum.columns, y=df2024_sum.loc[category], name=category))  \n",
    "\n",
    "# Update layout  \n",
    "fig.update_layout(  \n",
    "    title='Total Earnings by Expense Category for Top 10 Departments in 2024',  \n",
    "    xaxis_title='Department',  \n",
    "    yaxis_title='Total Earnings',  \n",
    "    barmode='group',  \n",
    "    xaxis_tickangle=-45,  \n",
    "    margin=dict(l=20, r=20, t=80, b=150),  \n",
    "    legend_title='Expense Category'  \n",
    ")  \n",
    "\n",
    "# Show the figure  \n",
    "fig.show()"
   ]
  },
  {
   "cell_type": "code",
   "execution_count": 27,
   "metadata": {},
   "outputs": [
    {
     "data": {
      "application/vnd.plotly.v1+json": {
       "config": {
        "plotlyServerURL": "https://plot.ly"
       },
       "data": [
        {
         "marker": {
          "color": "blue"
         },
         "type": "bar",
         "x": [
          "Regular",
          "Overtime",
          "Other",
          "Injured",
          "Quinn/Education Incentive"
         ],
         "y": [
          20274591.69,
          1047039.26,
          305985.04,
          204185.61,
          0
         ]
        },
        {
         "marker": {
          "color": "red"
         },
         "name": "2024",
         "type": "bar",
         "x": [
          "Regular",
          "Overtime",
          "Other",
          "Injured",
          "Quinn/Education Incentive"
         ],
         "y": [
          23050873.92,
          2283491.89,
          70062.51000000001,
          91630.58,
          0
         ]
        }
       ],
       "layout": {
        "barmode": "group",
        "height": 600,
        "legend": {
         "title": {
          "text": "Year"
         }
        },
        "template": {
         "data": {
          "bar": [
           {
            "error_x": {
             "color": "#2a3f5f"
            },
            "error_y": {
             "color": "#2a3f5f"
            },
            "marker": {
             "line": {
              "color": "#E5ECF6",
              "width": 0.5
             },
             "pattern": {
              "fillmode": "overlay",
              "size": 10,
              "solidity": 0.2
             }
            },
            "type": "bar"
           }
          ],
          "barpolar": [
           {
            "marker": {
             "line": {
              "color": "#E5ECF6",
              "width": 0.5
             },
             "pattern": {
              "fillmode": "overlay",
              "size": 10,
              "solidity": 0.2
             }
            },
            "type": "barpolar"
           }
          ],
          "carpet": [
           {
            "aaxis": {
             "endlinecolor": "#2a3f5f",
             "gridcolor": "white",
             "linecolor": "white",
             "minorgridcolor": "white",
             "startlinecolor": "#2a3f5f"
            },
            "baxis": {
             "endlinecolor": "#2a3f5f",
             "gridcolor": "white",
             "linecolor": "white",
             "minorgridcolor": "white",
             "startlinecolor": "#2a3f5f"
            },
            "type": "carpet"
           }
          ],
          "choropleth": [
           {
            "colorbar": {
             "outlinewidth": 0,
             "ticks": ""
            },
            "type": "choropleth"
           }
          ],
          "contour": [
           {
            "colorbar": {
             "outlinewidth": 0,
             "ticks": ""
            },
            "colorscale": [
             [
              0,
              "#0d0887"
             ],
             [
              0.1111111111111111,
              "#46039f"
             ],
             [
              0.2222222222222222,
              "#7201a8"
             ],
             [
              0.3333333333333333,
              "#9c179e"
             ],
             [
              0.4444444444444444,
              "#bd3786"
             ],
             [
              0.5555555555555556,
              "#d8576b"
             ],
             [
              0.6666666666666666,
              "#ed7953"
             ],
             [
              0.7777777777777778,
              "#fb9f3a"
             ],
             [
              0.8888888888888888,
              "#fdca26"
             ],
             [
              1,
              "#f0f921"
             ]
            ],
            "type": "contour"
           }
          ],
          "contourcarpet": [
           {
            "colorbar": {
             "outlinewidth": 0,
             "ticks": ""
            },
            "type": "contourcarpet"
           }
          ],
          "heatmap": [
           {
            "colorbar": {
             "outlinewidth": 0,
             "ticks": ""
            },
            "colorscale": [
             [
              0,
              "#0d0887"
             ],
             [
              0.1111111111111111,
              "#46039f"
             ],
             [
              0.2222222222222222,
              "#7201a8"
             ],
             [
              0.3333333333333333,
              "#9c179e"
             ],
             [
              0.4444444444444444,
              "#bd3786"
             ],
             [
              0.5555555555555556,
              "#d8576b"
             ],
             [
              0.6666666666666666,
              "#ed7953"
             ],
             [
              0.7777777777777778,
              "#fb9f3a"
             ],
             [
              0.8888888888888888,
              "#fdca26"
             ],
             [
              1,
              "#f0f921"
             ]
            ],
            "type": "heatmap"
           }
          ],
          "heatmapgl": [
           {
            "colorbar": {
             "outlinewidth": 0,
             "ticks": ""
            },
            "colorscale": [
             [
              0,
              "#0d0887"
             ],
             [
              0.1111111111111111,
              "#46039f"
             ],
             [
              0.2222222222222222,
              "#7201a8"
             ],
             [
              0.3333333333333333,
              "#9c179e"
             ],
             [
              0.4444444444444444,
              "#bd3786"
             ],
             [
              0.5555555555555556,
              "#d8576b"
             ],
             [
              0.6666666666666666,
              "#ed7953"
             ],
             [
              0.7777777777777778,
              "#fb9f3a"
             ],
             [
              0.8888888888888888,
              "#fdca26"
             ],
             [
              1,
              "#f0f921"
             ]
            ],
            "type": "heatmapgl"
           }
          ],
          "histogram": [
           {
            "marker": {
             "pattern": {
              "fillmode": "overlay",
              "size": 10,
              "solidity": 0.2
             }
            },
            "type": "histogram"
           }
          ],
          "histogram2d": [
           {
            "colorbar": {
             "outlinewidth": 0,
             "ticks": ""
            },
            "colorscale": [
             [
              0,
              "#0d0887"
             ],
             [
              0.1111111111111111,
              "#46039f"
             ],
             [
              0.2222222222222222,
              "#7201a8"
             ],
             [
              0.3333333333333333,
              "#9c179e"
             ],
             [
              0.4444444444444444,
              "#bd3786"
             ],
             [
              0.5555555555555556,
              "#d8576b"
             ],
             [
              0.6666666666666666,
              "#ed7953"
             ],
             [
              0.7777777777777778,
              "#fb9f3a"
             ],
             [
              0.8888888888888888,
              "#fdca26"
             ],
             [
              1,
              "#f0f921"
             ]
            ],
            "type": "histogram2d"
           }
          ],
          "histogram2dcontour": [
           {
            "colorbar": {
             "outlinewidth": 0,
             "ticks": ""
            },
            "colorscale": [
             [
              0,
              "#0d0887"
             ],
             [
              0.1111111111111111,
              "#46039f"
             ],
             [
              0.2222222222222222,
              "#7201a8"
             ],
             [
              0.3333333333333333,
              "#9c179e"
             ],
             [
              0.4444444444444444,
              "#bd3786"
             ],
             [
              0.5555555555555556,
              "#d8576b"
             ],
             [
              0.6666666666666666,
              "#ed7953"
             ],
             [
              0.7777777777777778,
              "#fb9f3a"
             ],
             [
              0.8888888888888888,
              "#fdca26"
             ],
             [
              1,
              "#f0f921"
             ]
            ],
            "type": "histogram2dcontour"
           }
          ],
          "mesh3d": [
           {
            "colorbar": {
             "outlinewidth": 0,
             "ticks": ""
            },
            "type": "mesh3d"
           }
          ],
          "parcoords": [
           {
            "line": {
             "colorbar": {
              "outlinewidth": 0,
              "ticks": ""
             }
            },
            "type": "parcoords"
           }
          ],
          "pie": [
           {
            "automargin": true,
            "type": "pie"
           }
          ],
          "scatter": [
           {
            "fillpattern": {
             "fillmode": "overlay",
             "size": 10,
             "solidity": 0.2
            },
            "type": "scatter"
           }
          ],
          "scatter3d": [
           {
            "line": {
             "colorbar": {
              "outlinewidth": 0,
              "ticks": ""
             }
            },
            "marker": {
             "colorbar": {
              "outlinewidth": 0,
              "ticks": ""
             }
            },
            "type": "scatter3d"
           }
          ],
          "scattercarpet": [
           {
            "marker": {
             "colorbar": {
              "outlinewidth": 0,
              "ticks": ""
             }
            },
            "type": "scattercarpet"
           }
          ],
          "scattergeo": [
           {
            "marker": {
             "colorbar": {
              "outlinewidth": 0,
              "ticks": ""
             }
            },
            "type": "scattergeo"
           }
          ],
          "scattergl": [
           {
            "marker": {
             "colorbar": {
              "outlinewidth": 0,
              "ticks": ""
             }
            },
            "type": "scattergl"
           }
          ],
          "scattermapbox": [
           {
            "marker": {
             "colorbar": {
              "outlinewidth": 0,
              "ticks": ""
             }
            },
            "type": "scattermapbox"
           }
          ],
          "scatterpolar": [
           {
            "marker": {
             "colorbar": {
              "outlinewidth": 0,
              "ticks": ""
             }
            },
            "type": "scatterpolar"
           }
          ],
          "scatterpolargl": [
           {
            "marker": {
             "colorbar": {
              "outlinewidth": 0,
              "ticks": ""
             }
            },
            "type": "scatterpolargl"
           }
          ],
          "scatterternary": [
           {
            "marker": {
             "colorbar": {
              "outlinewidth": 0,
              "ticks": ""
             }
            },
            "type": "scatterternary"
           }
          ],
          "surface": [
           {
            "colorbar": {
             "outlinewidth": 0,
             "ticks": ""
            },
            "colorscale": [
             [
              0,
              "#0d0887"
             ],
             [
              0.1111111111111111,
              "#46039f"
             ],
             [
              0.2222222222222222,
              "#7201a8"
             ],
             [
              0.3333333333333333,
              "#9c179e"
             ],
             [
              0.4444444444444444,
              "#bd3786"
             ],
             [
              0.5555555555555556,
              "#d8576b"
             ],
             [
              0.6666666666666666,
              "#ed7953"
             ],
             [
              0.7777777777777778,
              "#fb9f3a"
             ],
             [
              0.8888888888888888,
              "#fdca26"
             ],
             [
              1,
              "#f0f921"
             ]
            ],
            "type": "surface"
           }
          ],
          "table": [
           {
            "cells": {
             "fill": {
              "color": "#EBF0F8"
             },
             "line": {
              "color": "white"
             }
            },
            "header": {
             "fill": {
              "color": "#C8D4E3"
             },
             "line": {
              "color": "white"
             }
            },
            "type": "table"
           }
          ]
         },
         "layout": {
          "annotationdefaults": {
           "arrowcolor": "#2a3f5f",
           "arrowhead": 0,
           "arrowwidth": 1
          },
          "autotypenumbers": "strict",
          "coloraxis": {
           "colorbar": {
            "outlinewidth": 0,
            "ticks": ""
           }
          },
          "colorscale": {
           "diverging": [
            [
             0,
             "#8e0152"
            ],
            [
             0.1,
             "#c51b7d"
            ],
            [
             0.2,
             "#de77ae"
            ],
            [
             0.3,
             "#f1b6da"
            ],
            [
             0.4,
             "#fde0ef"
            ],
            [
             0.5,
             "#f7f7f7"
            ],
            [
             0.6,
             "#e6f5d0"
            ],
            [
             0.7,
             "#b8e186"
            ],
            [
             0.8,
             "#7fbc41"
            ],
            [
             0.9,
             "#4d9221"
            ],
            [
             1,
             "#276419"
            ]
           ],
           "sequential": [
            [
             0,
             "#0d0887"
            ],
            [
             0.1111111111111111,
             "#46039f"
            ],
            [
             0.2222222222222222,
             "#7201a8"
            ],
            [
             0.3333333333333333,
             "#9c179e"
            ],
            [
             0.4444444444444444,
             "#bd3786"
            ],
            [
             0.5555555555555556,
             "#d8576b"
            ],
            [
             0.6666666666666666,
             "#ed7953"
            ],
            [
             0.7777777777777778,
             "#fb9f3a"
            ],
            [
             0.8888888888888888,
             "#fdca26"
            ],
            [
             1,
             "#f0f921"
            ]
           ],
           "sequentialminus": [
            [
             0,
             "#0d0887"
            ],
            [
             0.1111111111111111,
             "#46039f"
            ],
            [
             0.2222222222222222,
             "#7201a8"
            ],
            [
             0.3333333333333333,
             "#9c179e"
            ],
            [
             0.4444444444444444,
             "#bd3786"
            ],
            [
             0.5555555555555556,
             "#d8576b"
            ],
            [
             0.6666666666666666,
             "#ed7953"
            ],
            [
             0.7777777777777778,
             "#fb9f3a"
            ],
            [
             0.8888888888888888,
             "#fdca26"
            ],
            [
             1,
             "#f0f921"
            ]
           ]
          },
          "colorway": [
           "#636efa",
           "#EF553B",
           "#00cc96",
           "#ab63fa",
           "#FFA15A",
           "#19d3f3",
           "#FF6692",
           "#B6E880",
           "#FF97FF",
           "#FECB52"
          ],
          "font": {
           "color": "#2a3f5f"
          },
          "geo": {
           "bgcolor": "white",
           "lakecolor": "white",
           "landcolor": "#E5ECF6",
           "showlakes": true,
           "showland": true,
           "subunitcolor": "white"
          },
          "hoverlabel": {
           "align": "left"
          },
          "hovermode": "closest",
          "mapbox": {
           "style": "light"
          },
          "paper_bgcolor": "white",
          "plot_bgcolor": "#E5ECF6",
          "polar": {
           "angularaxis": {
            "gridcolor": "white",
            "linecolor": "white",
            "ticks": ""
           },
           "bgcolor": "#E5ECF6",
           "radialaxis": {
            "gridcolor": "white",
            "linecolor": "white",
            "ticks": ""
           }
          },
          "scene": {
           "xaxis": {
            "backgroundcolor": "#E5ECF6",
            "gridcolor": "white",
            "gridwidth": 2,
            "linecolor": "white",
            "showbackground": true,
            "ticks": "",
            "zerolinecolor": "white"
           },
           "yaxis": {
            "backgroundcolor": "#E5ECF6",
            "gridcolor": "white",
            "gridwidth": 2,
            "linecolor": "white",
            "showbackground": true,
            "ticks": "",
            "zerolinecolor": "white"
           },
           "zaxis": {
            "backgroundcolor": "#E5ECF6",
            "gridcolor": "white",
            "gridwidth": 2,
            "linecolor": "white",
            "showbackground": true,
            "ticks": "",
            "zerolinecolor": "white"
           }
          },
          "shapedefaults": {
           "line": {
            "color": "#2a3f5f"
           }
          },
          "ternary": {
           "aaxis": {
            "gridcolor": "white",
            "linecolor": "white",
            "ticks": ""
           },
           "baxis": {
            "gridcolor": "white",
            "linecolor": "white",
            "ticks": ""
           },
           "bgcolor": "#E5ECF6",
           "caxis": {
            "gridcolor": "white",
            "linecolor": "white",
            "ticks": ""
           }
          },
          "title": {
           "x": 0.05
          },
          "xaxis": {
           "automargin": true,
           "gridcolor": "white",
           "linecolor": "white",
           "ticks": "",
           "title": {
            "standoff": 15
           },
           "zerolinecolor": "white",
           "zerolinewidth": 2
          },
          "yaxis": {
           "automargin": true,
           "gridcolor": "white",
           "linecolor": "white",
           "ticks": "",
           "title": {
            "standoff": 15
           },
           "zerolinecolor": "white",
           "zerolinewidth": 2
          }
         }
        },
        "title": {
         "text": "Total Earnings by Expense Category for Departments in 2020 and 2024"
        },
        "width": 800,
        "xaxis": {
         "tickangle": -45,
         "title": {
          "text": "Expense Category"
         }
        },
        "yaxis": {
         "title": {
          "text": "Total Earnings"
         }
        }
       }
      }
     },
     "metadata": {},
     "output_type": "display_data"
    }
   ],
   "source": [
    "import plotly.graph_objects as go\n",
    "\n",
    "\n",
    "fig = go.Figure()\n",
    "\n",
    "\n",
    "fig.add_trace(go.Bar(\n",
    "    x=df2020_sum.index,  \n",
    "    y=df2020_sum.iloc[:, 0],  \n",
    "    marker_color='blue' \n",
    "))\n",
    "\n",
    "fig.add_trace(go.Bar(\n",
    "    x=df2024_sum.index,  \n",
    "    y=df2024_sum.iloc[:, 0],  \n",
    "    name='2024',  \n",
    "    marker_color='red'  \n",
    "))\n",
    "\n",
    "\n",
    "fig.update_layout(\n",
    "    title='Total Earnings by Expense Category for Departments in 2020 and 2024',\n",
    "    xaxis_title='Expense Category',\n",
    "    yaxis_title='Total Earnings',\n",
    "    barmode='group',  \n",
    "    xaxis_tickangle=-45,\n",
    "    legend_title='Year',\n",
    "    height=600,  \n",
    "    width=800  \n",
    ")\n",
    "\n",
    "\n",
    "fig.show()"
   ]
  },
  {
   "cell_type": "code",
   "execution_count": 28,
   "metadata": {},
   "outputs": [
    {
     "name": "stdout",
     "output_type": "stream",
     "text": [
      "2020 Injured - Max: 25272021.09, Mean: 4231181.3149999995, Variance: 80574886206358.27\n",
      "2024 Injured - Max: 20552550.44, Mean: 4105282.082, Variance: 68899807503967.93\n"
     ]
    },
    {
     "data": {
      "image/png": "[encoded data removed]",
      "text/plain": [
       "<Figure size 800x600 with 1 Axes>"
      ]
     },
     "metadata": {},
     "output_type": "display_data"
    }
   ],
   "source": [
    "#我想要分析得到2020到2024年的injured的最大值和平均值以及方差，并且画图\n",
    "df2020_injured = df2020_polted.groupby('DEPARTMENT_NAME')[' INJURED '].sum()\n",
    "df2020_injured = df2020_injured.reset_index()\n",
    "df2020_injured = df2020_injured.sort_index(ascending=False)\n",
    "df2020_injured = df2020_injured.set_index('DEPARTMENT_NAME')\n",
    "df2020_injured = df2020_injured.rename(index={' INJURED ': 'Injured'})\n",
    "df2020_injured = df2020_injured.T\n",
    "\n",
    "\n",
    "df2024_injured = df2024_polted.groupby('DEPARTMENT_NAME')['INJURED'].sum()\n",
    "df2024_injured = df2024_injured.reset_index()\n",
    "df2024_injured = df2024_injured.sort_index(ascending=False)\n",
    "df2024_injured = df2024_injured.set_index('DEPARTMENT_NAME')\n",
    "df2024_injured = df2024_injured.rename(index={'INJURED': 'Injured'})\n",
    "df2024_injured = df2024_injured.T\n",
    "\n",
    "\n",
    "\n",
    "max_2020 = df2020_injured.max(axis=1).values[0]\n",
    "mean_2020 = df2020_injured.mean(axis=1).values[0]\n",
    "var_2020 = df2020_injured.var(axis=1).values[0]\n",
    "print(f\"2020 Injured - Max: {max_2020}, Mean: {mean_2020}, Variance: {var_2020}\")\n",
    "max_2024 = df2024_injured.max(axis=1).values[0]\n",
    "mean_2024 = df2024_injured.mean(axis=1).values[0]\n",
    "var_2024 = df2024_injured.var(axis=1).values[0]\n",
    "print(f\"2024 Injured - Max: {max_2024}, Mean: {mean_2024}, Variance: {var_2024}\")\n",
    "\n",
    "labels = ['2020', '2024']\n",
    "max_values = [max_2020, max_2024]\n",
    "mean_values = [mean_2020, mean_2024]\n",
    "\n",
    "x = np.arange(len(labels))  \n",
    "bar_width = 0.35 \n",
    "\n",
    "fig, ax = plt.subplots(figsize=(8, 6))\n",
    "rects1 = ax.bar(x - bar_width / 2, max_values, bar_width, label='Max', color='b', alpha=0.8)\n",
    "rects2 = ax.bar(x + bar_width / 2, mean_values, bar_width, label='Mean', color='r', alpha=0.8)\n",
    "ax.set_xlabel('Year')\n",
    "ax.set_ylabel('Injured Amount')\n",
    "ax.set_title('Comparison of Max and Mean Injured Amounts (2020 vs 2024)')\n",
    "ax.set_xticks(x)\n",
    "ax.set_xticklabels(labels)\n",
    "ax.legend()\n",
    "plt.tight_layout()\n",
    "plt.show()\n"
   ]
  },
  {
   "cell_type": "code",
   "execution_count": 29,
   "metadata": {},
   "outputs": [],
   "source": [
    "\n",
    "df2020 = df2020[df2020['DEPARTMENT_NAME'] == 'Boston Police Department']\n",
    "job2020 = df2020.groupby('TITLE')[' TOTAL EARNINGS '].sum().sort_values(ascending=False)\n",
    "job2020 = job2020.head(10)\n",
    "#2021年top10职位收入\n",
    "df2021 = df2021[df2021['DEPARTMENT_NAME'] == 'Boston Police Department']\n",
    "job2021 = df2021.groupby('TITLE')['TOTAL_GROSS'].sum().sort_values(ascending=False)\n",
    "job2021 = job2021.head(10)\n",
    "#2022年top10职位收入\n",
    "df2022 = df2022[df2022['DEPARTMENT_NAME'] == 'Boston Police Department']\n",
    "job2022 = df2022.groupby('TITLE')['TOTAL_ GROSS'].sum().sort_values(ascending=False)\n",
    "job2022 = job2022.head(10)\n",
    "#2023年top10职位收入\n",
    "df2023 = df2023[df2023['DEPARTMENT_NAME'] == 'Boston Police Department']\n",
    "job2023 = df2023.groupby('TITLE')['TOTAL GROSS'].sum().sort_values(ascending=False)\n",
    "job2023 = job2023.head(10)\n",
    "#2024年top10职位收入\n",
    "df2024 = df2024[df2024['DEPARTMENT_NAME'] == 'Boston Police Department']\n",
    "job2024 = df2024.groupby('TITLE')['TOTAL GROSS'].sum().sort_values(ascending=False)\n",
    "job2024 = job2024.head(10)"
   ]
  },
  {
   "cell_type": "code",
   "execution_count": 30,
   "metadata": {},
   "outputs": [
    {
     "data": {
      "image/png": "[encoded data removed]",
      "text/plain": [
       "<Figure size 640x480 with 1 Axes>"
      ]
     },
     "metadata": {},
     "output_type": "display_data"
    }
   ],
   "source": [
    "#把year2020,year2021,year2022,year2023,year2024画图，比较top10的收入\n",
    "fig, ax = plt.subplots()\n",
    "index = np.arange(10)\n",
    "bar_width = 0.15\n",
    "opacity = 0.8\n",
    "\n",
    "rects1 = plt.bar(index, job2020, bar_width, alpha=opacity, color='b', label='2020')\n",
    "rects2 = plt.bar(index + bar_width, job2021, bar_width, alpha=opacity, color='r', label='2021')\n",
    "rects3 = plt.bar(index + bar_width*2, job2022, bar_width, alpha=opacity, color='g', label='2022')\n",
    "rects4 = plt.bar(index + bar_width*3, job2023, bar_width, alpha=opacity, color='y', label='2023')\n",
    "rects5 = plt.bar(index + bar_width*4, job2024, bar_width, alpha=opacity, color='c', label='2024')\n",
    "\n",
    "plt.xlabel('Job Title')\n",
    "plt.ylabel('Total Earnings')\n",
    "plt.title('Top 10 Job Title Earnings Comparison')\n",
    "plt.xticks(index + bar_width, job2020.index, rotation=90)\n",
    "plt.legend()\n",
    "plt.tight_layout()\n",
    "plt.show()"
   ]
  },
  {
   "cell_type": "code",
   "execution_count": 31,
   "metadata": {},
   "outputs": [
    {
     "name": "stdout",
     "output_type": "stream",
     "text": [
      "    POSTAL  OVERTIME  TOTAL_GROSS  OVERTIME_RATIO\n",
      "0    01119  54546.39    146909.03            0.37\n",
      "1    01376      0.00     11683.74            0.00\n",
      "2    01420  77108.85    237158.04            0.33\n",
      "3    01453      0.00      3007.08            0.00\n",
      "4    01460 111089.14    369402.15            0.30\n",
      "..     ...       ...          ...             ...\n",
      "217  34653      0.00      7581.07            0.00\n",
      "218  34762      0.00     55584.46            0.00\n",
      "219  34787      0.00     19633.83            0.00\n",
      "220  78015      0.00      1058.19            0.00\n",
      "221  89138      0.00     12329.08            0.00\n",
      "\n",
      "[222 rows x 4 columns]\n"
     ]
    },
    {
     "data": {
      "image/png": "[encoded data removed]",
      "text/plain": [
       "<Figure size 1000x600 with 1 Axes>"
      ]
     },
     "metadata": {},
     "output_type": "display_data"
    }
   ],
   "source": [
    "df2024 = df2024[df2024['DEPARTMENT_NAME'] == 'Boston Police Department']\n",
    "\n",
    "# 清理数据并计算加班比例\n",
    "df2024['OVERTIME'] = df2024['OVERTIME'].replace('[\\$,]', '', regex=True).astype(float)\n",
    "df2024['TOTAL_GROSS'] = df2024['TOTAL GROSS'].replace('[\\$,]', '', regex=True).astype(float)\n",
    "\n",
    "# 按邮政编码分组，计算加班总和和总收入总和\n",
    "df2024_sum = df2024.groupby('POSTAL').agg({'OVERTIME': 'sum', 'TOTAL_GROSS': 'sum'}).reset_index()\n",
    "\n",
    "# 计算加班总和占总收入总和的比例\n",
    "df2024_sum['OVERTIME_RATIO'] = df2024_sum['OVERTIME'] / df2024_sum['TOTAL_GROSS']\n",
    "\n",
    "# 打印结果\n",
    "print(df2024_sum)\n",
    "\n",
    "# 绘制柱状图\n",
    "fig, ax = plt.subplots(figsize=(10, 6))\n",
    "df2024_sum.plot(kind='bar', x='POSTAL', y='OVERTIME_RATIO', ax=ax, legend=False, color='b')\n",
    "plt.xlabel('Postal Code')\n",
    "plt.ylabel('Overtime Ratio (Total Overtime / Total Gross)')\n",
    "plt.title('Postal Codes by Total Overtime Ratio in 2024')\n",
    "plt.xticks(rotation=45)\n",
    "plt.tight_layout()\n",
    "plt.show()"
   ]
  }
 ],
 "metadata": {
  "kernelspec": {
   "display_name": "spider",
   "language": "python",
   "name": "python3"
  },
  "language_info": {
   "codemirror_mode": {
    "name": "ipython",
    "version": 3
   },
   "file_extension": ".py",
   "mimetype": "text/x-python",
   "name": "python",
   "nbconvert_exporter": "python",
   "pygments_lexer": "ipython3",
   "version": "3.7.12"
  }
 },
 "nbformat": 4,
 "nbformat_minor": 2
}
