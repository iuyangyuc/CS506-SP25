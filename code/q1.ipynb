{
 "cells": [
  {
   "cell_type": "code",
   "execution_count": 14,
   "metadata": {},
   "outputs": [],
   "source": [
    "import pandas as pd\n",
    "import matplotlib.pyplot as plt\n",
    "import numpy as np\n",
    "import plotly.graph_objects as go \n",
    "from process import read_data"
   ]
  },
  {
   "cell_type": "markdown",
   "metadata": {},
   "source": [
    "## Read Budget Data"
   ]
  },
  {
   "cell_type": "code",
   "execution_count": 15,
   "metadata": {},
   "outputs": [],
   "source": [
    "# Budget Data\n",
    "budget_df = pd.read_csv('../data/budget/fy25-adopted-operating-budget.csv')\n",
    "\n",
    "columns_to_convert = ['FY22 Actual Expense', 'FY23 Actual Expense', 'FY24 Appropriation', 'FY25 Budget'] \n",
    "budget_df[columns_to_convert] = budget_df[columns_to_convert].apply(pd.to_numeric, errors='coerce') \n",
    "result = budget_df.groupby(\"Expense Category\")[columns_to_convert].sum()\n",
    "pd.set_option('display.float_format', lambda x: '%.2f' % x)\n",
    "result = result.T\n"
   ]
  },
  {
   "cell_type": "markdown",
   "metadata": {},
   "source": [
    "## Read Earnings Data"
   ]
  },
  {
   "cell_type": "code",
   "execution_count": 16,
   "metadata": {},
   "outputs": [
    {
     "name": "stdout",
     "output_type": "stream",
     "text": [
      "Read data from: ../data/earning/2020_earnings.csv\n",
      "Read data from: ../data/earning/2021_earnings.csv\n",
      "Read data from: ../data/earning/2022_earnings.csv\n",
      "Read data from: ../data/earning/2023_earnings.csv\n",
      "Read data from: ../data/earning/2024_earnings.csv\n",
      "Successfully read data from all files.\n"
     ]
    }
   ],
   "source": [
    "years = list(range(2020, 2025))  \n",
    "folder_path = '../data/earning/'\n",
    "file_name = 'earnings.csv'\n",
    "encoding = 'ISO-8859-1'\n",
    "target_col = ['REGULAR', 'RETRO', 'OTHER', 'OVERTIME', 'INJURED', 'DETAIL', 'QUINN_EDUCATION', 'TOTAL_GROSS']\n",
    "drop_col = ['_ID']\n",
    "\n",
    "dfs = read_data(folder_path, file_name, years, encoding, target_col, drop_col)\n",
    "earning_df = pd.concat(dfs, ignore_index=True)"
   ]
  },
  {
   "cell_type": "markdown",
   "metadata": {},
   "source": [
    "## How has the BPD budget changed year-over-year? "
   ]
  },
  {
   "cell_type": "code",
   "execution_count": 17,
   "metadata": {},
   "outputs": [
    {
     "data": {
      "application/vnd.plotly.v1+json": {
       "config": {
        "plotlyServerURL": "https://plot.ly"
       },
       "data": [
        {
         "name": "Contractual Services",
         "type": "bar",
         "x": [
          "FY22 Actual Expense",
          "FY23 Actual Expense",
          "FY24 Appropriation",
          "FY25 Budget"
         ],
         "y": {
          "bdata": "rkehCGr0vEEfhStuTq+8QQAAgFo3ob5BZmbGShaQwEE=",
          "dtype": "f8"
         }
        },
        {
         "name": "Current Charges & Obligations",
         "type": "bar",
         "x": [
          "FY22 Actual Expense",
          "FY23 Actual Expense",
          "FY24 Appropriation",
          "FY25 Budget"
         ],
         "y": {
          "bdata": "HoVrwA63rUEzMzMAGCyvQUjhekpdgrFBkML10WjysUE=",
          "dtype": "f8"
         }
        },
        {
         "name": "Equipment",
         "type": "bar",
         "x": [
          "FY22 Actual Expense",
          "FY23 Actual Expense",
          "FY24 Appropriation",
          "FY25 Budget"
         ],
         "y": {
          "bdata": "UrgeITgDfkHNzMz63tuDQVyPwjU1AoNBmpmZdy2zhEE=",
          "dtype": "f8"
         }
        },
        {
         "name": "Fixed Expenses",
         "type": "bar",
         "x": [
          "FY22 Actual Expense",
          "FY23 Actual Expense",
          "FY24 Appropriation",
          "FY25 Budget"
         ],
         "y": {
          "bdata": "AAAAZYj3pUEzMzP8sKanQQAAADqCWa1BAAAAtBd6sEE=",
          "dtype": "f8"
         }
        },
        {
         "name": "Other Expenses",
         "type": "bar",
         "x": [
          "FY22 Actual Expense",
          "FY23 Actual Expense",
          "FY24 Appropriation",
          "FY25 Budget"
         ],
         "y": {
          "bdata": "SOEakUh3ykG4HiXy1n3NQWZmZha5Hc5BMzOz7VOLz0E=",
          "dtype": "f8"
         }
        },
        {
         "name": "Personnel Services",
         "type": "bar",
         "x": [
          "FY22 Actual Expense",
          "FY23 Actual Expense",
          "FY24 Appropriation",
          "FY25 Budget"
         ],
         "y": {
          "bdata": "+n5CVq013UFSuK5QPGneQfYoLIeD899BH4VTNnCN4UE=",
          "dtype": "f8"
         }
        },
        {
         "name": "Supplies & Materials",
         "type": "bar",
         "x": [
          "FY22 Actual Expense",
          "FY23 Actual Expense",
          "FY24 Appropriation",
          "FY25 Budget"
         ],
         "y": {
          "bdata": "AAAAWHzdgkGuR+FWHymGQRSuR6fq2IRB4XoULvXkhUE=",
          "dtype": "f8"
         }
        }
       ],
       "layout": {
        "barmode": "group",
        "legend": {
         "title": {
          "text": "Expense Category"
         }
        },
        "margin": {
         "b": 150,
         "l": 20,
         "r": 20,
         "t": 80
        },
        "template": {
         "data": {
          "bar": [
           {
            "error_x": {
             "color": "#2a3f5f"
            },
            "error_y": {
             "color": "#2a3f5f"
            },
            "marker": {
             "line": {
              "color": "#E5ECF6",
              "width": 0.5
             },
             "pattern": {
              "fillmode": "overlay",
              "size": 10,
              "solidity": 0.2
             }
            },
            "type": "bar"
           }
          ],
          "barpolar": [
           {
            "marker": {
             "line": {
              "color": "#E5ECF6",
              "width": 0.5
             },
             "pattern": {
              "fillmode": "overlay",
              "size": 10,
              "solidity": 0.2
             }
            },
            "type": "barpolar"
           }
          ],
          "carpet": [
           {
            "aaxis": {
             "endlinecolor": "#2a3f5f",
             "gridcolor": "white",
             "linecolor": "white",
             "minorgridcolor": "white",
             "startlinecolor": "#2a3f5f"
            },
            "baxis": {
             "endlinecolor": "#2a3f5f",
             "gridcolor": "white",
             "linecolor": "white",
             "minorgridcolor": "white",
             "startlinecolor": "#2a3f5f"
            },
            "type": "carpet"
           }
          ],
          "choropleth": [
           {
            "colorbar": {
             "outlinewidth": 0,
             "ticks": ""
            },
            "type": "choropleth"
           }
          ],
          "contour": [
           {
            "colorbar": {
             "outlinewidth": 0,
             "ticks": ""
            },
            "colorscale": [
             [
              0,
              "#0d0887"
             ],
             [
              0.1111111111111111,
              "#46039f"
             ],
             [
              0.2222222222222222,
              "#7201a8"
             ],
             [
              0.3333333333333333,
              "#9c179e"
             ],
             [
              0.4444444444444444,
              "#bd3786"
             ],
             [
              0.5555555555555556,
              "#d8576b"
             ],
             [
              0.6666666666666666,
              "#ed7953"
             ],
             [
              0.7777777777777778,
              "#fb9f3a"
             ],
             [
              0.8888888888888888,
              "#fdca26"
             ],
             [
              1,
              "#f0f921"
             ]
            ],
            "type": "contour"
           }
          ],
          "contourcarpet": [
           {
            "colorbar": {
             "outlinewidth": 0,
             "ticks": ""
            },
            "type": "contourcarpet"
           }
          ],
          "heatmap": [
           {
            "colorbar": {
             "outlinewidth": 0,
             "ticks": ""
            },
            "colorscale": [
             [
              0,
              "#0d0887"
             ],
             [
              0.1111111111111111,
              "#46039f"
             ],
             [
              0.2222222222222222,
              "#7201a8"
             ],
             [
              0.3333333333333333,
              "#9c179e"
             ],
             [
              0.4444444444444444,
              "#bd3786"
             ],
             [
              0.5555555555555556,
              "#d8576b"
             ],
             [
              0.6666666666666666,
              "#ed7953"
             ],
             [
              0.7777777777777778,
              "#fb9f3a"
             ],
             [
              0.8888888888888888,
              "#fdca26"
             ],
             [
              1,
              "#f0f921"
             ]
            ],
            "type": "heatmap"
           }
          ],
          "histogram": [
           {
            "marker": {
             "pattern": {
              "fillmode": "overlay",
              "size": 10,
              "solidity": 0.2
             }
            },
            "type": "histogram"
           }
          ],
          "histogram2d": [
           {
            "colorbar": {
             "outlinewidth": 0,
             "ticks": ""
            },
            "colorscale": [
             [
              0,
              "#0d0887"
             ],
             [
              0.1111111111111111,
              "#46039f"
             ],
             [
              0.2222222222222222,
              "#7201a8"
             ],
             [
              0.3333333333333333,
              "#9c179e"
             ],
             [
              0.4444444444444444,
              "#bd3786"
             ],
             [
              0.5555555555555556,
              "#d8576b"
             ],
             [
              0.6666666666666666,
              "#ed7953"
             ],
             [
              0.7777777777777778,
              "#fb9f3a"
             ],
             [
              0.8888888888888888,
              "#fdca26"
             ],
             [
              1,
              "#f0f921"
             ]
            ],
            "type": "histogram2d"
           }
          ],
          "histogram2dcontour": [
           {
            "colorbar": {
             "outlinewidth": 0,
             "ticks": ""
            },
            "colorscale": [
             [
              0,
              "#0d0887"
             ],
             [
              0.1111111111111111,
              "#46039f"
             ],
             [
              0.2222222222222222,
              "#7201a8"
             ],
             [
              0.3333333333333333,
              "#9c179e"
             ],
             [
              0.4444444444444444,
              "#bd3786"
             ],
             [
              0.5555555555555556,
              "#d8576b"
             ],
             [
              0.6666666666666666,
              "#ed7953"
             ],
             [
              0.7777777777777778,
              "#fb9f3a"
             ],
             [
              0.8888888888888888,
              "#fdca26"
             ],
             [
              1,
              "#f0f921"
             ]
            ],
            "type": "histogram2dcontour"
           }
          ],
          "mesh3d": [
           {
            "colorbar": {
             "outlinewidth": 0,
             "ticks": ""
            },
            "type": "mesh3d"
           }
          ],
          "parcoords": [
           {
            "line": {
             "colorbar": {
              "outlinewidth": 0,
              "ticks": ""
             }
            },
            "type": "parcoords"
           }
          ],
          "pie": [
           {
            "automargin": true,
            "type": "pie"
           }
          ],
          "scatter": [
           {
            "fillpattern": {
             "fillmode": "overlay",
             "size": 10,
             "solidity": 0.2
            },
            "type": "scatter"
           }
          ],
          "scatter3d": [
           {
            "line": {
             "colorbar": {
              "outlinewidth": 0,
              "ticks": ""
             }
            },
            "marker": {
             "colorbar": {
              "outlinewidth": 0,
              "ticks": ""
             }
            },
            "type": "scatter3d"
           }
          ],
          "scattercarpet": [
           {
            "marker": {
             "colorbar": {
              "outlinewidth": 0,
              "ticks": ""
             }
            },
            "type": "scattercarpet"
           }
          ],
          "scattergeo": [
           {
            "marker": {
             "colorbar": {
              "outlinewidth": 0,
              "ticks": ""
             }
            },
            "type": "scattergeo"
           }
          ],
          "scattergl": [
           {
            "marker": {
             "colorbar": {
              "outlinewidth": 0,
              "ticks": ""
             }
            },
            "type": "scattergl"
           }
          ],
          "scattermap": [
           {
            "marker": {
             "colorbar": {
              "outlinewidth": 0,
              "ticks": ""
             }
            },
            "type": "scattermap"
           }
          ],
          "scattermapbox": [
           {
            "marker": {
             "colorbar": {
              "outlinewidth": 0,
              "ticks": ""
             }
            },
            "type": "scattermapbox"
           }
          ],
          "scatterpolar": [
           {
            "marker": {
             "colorbar": {
              "outlinewidth": 0,
              "ticks": ""
             }
            },
            "type": "scatterpolar"
           }
          ],
          "scatterpolargl": [
           {
            "marker": {
             "colorbar": {
              "outlinewidth": 0,
              "ticks": ""
             }
            },
            "type": "scatterpolargl"
           }
          ],
          "scatterternary": [
           {
            "marker": {
             "colorbar": {
              "outlinewidth": 0,
              "ticks": ""
             }
            },
            "type": "scatterternary"
           }
          ],
          "surface": [
           {
            "colorbar": {
             "outlinewidth": 0,
             "ticks": ""
            },
            "colorscale": [
             [
              0,
              "#0d0887"
             ],
             [
              0.1111111111111111,
              "#46039f"
             ],
             [
              0.2222222222222222,
              "#7201a8"
             ],
             [
              0.3333333333333333,
              "#9c179e"
             ],
             [
              0.4444444444444444,
              "#bd3786"
             ],
             [
              0.5555555555555556,
              "#d8576b"
             ],
             [
              0.6666666666666666,
              "#ed7953"
             ],
             [
              0.7777777777777778,
              "#fb9f3a"
             ],
             [
              0.8888888888888888,
              "#fdca26"
             ],
             [
              1,
              "#f0f921"
             ]
            ],
            "type": "surface"
           }
          ],
          "table": [
           {
            "cells": {
             "fill": {
              "color": "#EBF0F8"
             },
             "line": {
              "color": "white"
             }
            },
            "header": {
             "fill": {
              "color": "#C8D4E3"
             },
             "line": {
              "color": "white"
             }
            },
            "type": "table"
           }
          ]
         },
         "layout": {
          "annotationdefaults": {
           "arrowcolor": "#2a3f5f",
           "arrowhead": 0,
           "arrowwidth": 1
          },
          "autotypenumbers": "strict",
          "coloraxis": {
           "colorbar": {
            "outlinewidth": 0,
            "ticks": ""
           }
          },
          "colorscale": {
           "diverging": [
            [
             0,
             "#8e0152"
            ],
            [
             0.1,
             "#c51b7d"
            ],
            [
             0.2,
             "#de77ae"
            ],
            [
             0.3,
             "#f1b6da"
            ],
            [
             0.4,
             "#fde0ef"
            ],
            [
             0.5,
             "#f7f7f7"
            ],
            [
             0.6,
             "#e6f5d0"
            ],
            [
             0.7,
             "#b8e186"
            ],
            [
             0.8,
             "#7fbc41"
            ],
            [
             0.9,
             "#4d9221"
            ],
            [
             1,
             "#276419"
            ]
           ],
           "sequential": [
            [
             0,
             "#0d0887"
            ],
            [
             0.1111111111111111,
             "#46039f"
            ],
            [
             0.2222222222222222,
             "#7201a8"
            ],
            [
             0.3333333333333333,
             "#9c179e"
            ],
            [
             0.4444444444444444,
             "#bd3786"
            ],
            [
             0.5555555555555556,
             "#d8576b"
            ],
            [
             0.6666666666666666,
             "#ed7953"
            ],
            [
             0.7777777777777778,
             "#fb9f3a"
            ],
            [
             0.8888888888888888,
             "#fdca26"
            ],
            [
             1,
             "#f0f921"
            ]
           ],
           "sequentialminus": [
            [
             0,
             "#0d0887"
            ],
            [
             0.1111111111111111,
             "#46039f"
            ],
            [
             0.2222222222222222,
             "#7201a8"
            ],
            [
             0.3333333333333333,
             "#9c179e"
            ],
            [
             0.4444444444444444,
             "#bd3786"
            ],
            [
             0.5555555555555556,
             "#d8576b"
            ],
            [
             0.6666666666666666,
             "#ed7953"
            ],
            [
             0.7777777777777778,
             "#fb9f3a"
            ],
            [
             0.8888888888888888,
             "#fdca26"
            ],
            [
             1,
             "#f0f921"
            ]
           ]
          },
          "colorway": [
           "#636efa",
           "#EF553B",
           "#00cc96",
           "#ab63fa",
           "#FFA15A",
           "#19d3f3",
           "#FF6692",
           "#B6E880",
           "#FF97FF",
           "#FECB52"
          ],
          "font": {
           "color": "#2a3f5f"
          },
          "geo": {
           "bgcolor": "white",
           "lakecolor": "white",
           "landcolor": "#E5ECF6",
           "showlakes": true,
           "showland": true,
           "subunitcolor": "white"
          },
          "hoverlabel": {
           "align": "left"
          },
          "hovermode": "closest",
          "mapbox": {
           "style": "light"
          },
          "paper_bgcolor": "white",
          "plot_bgcolor": "#E5ECF6",
          "polar": {
           "angularaxis": {
            "gridcolor": "white",
            "linecolor": "white",
            "ticks": ""
           },
           "bgcolor": "#E5ECF6",
           "radialaxis": {
            "gridcolor": "white",
            "linecolor": "white",
            "ticks": ""
           }
          },
          "scene": {
           "xaxis": {
            "backgroundcolor": "#E5ECF6",
            "gridcolor": "white",
            "gridwidth": 2,
            "linecolor": "white",
            "showbackground": true,
            "ticks": "",
            "zerolinecolor": "white"
           },
           "yaxis": {
            "backgroundcolor": "#E5ECF6",
            "gridcolor": "white",
            "gridwidth": 2,
            "linecolor": "white",
            "showbackground": true,
            "ticks": "",
            "zerolinecolor": "white"
           },
           "zaxis": {
            "backgroundcolor": "#E5ECF6",
            "gridcolor": "white",
            "gridwidth": 2,
            "linecolor": "white",
            "showbackground": true,
            "ticks": "",
            "zerolinecolor": "white"
           }
          },
          "shapedefaults": {
           "line": {
            "color": "#2a3f5f"
           }
          },
          "ternary": {
           "aaxis": {
            "gridcolor": "white",
            "linecolor": "white",
            "ticks": ""
           },
           "baxis": {
            "gridcolor": "white",
            "linecolor": "white",
            "ticks": ""
           },
           "bgcolor": "#E5ECF6",
           "caxis": {
            "gridcolor": "white",
            "linecolor": "white",
            "ticks": ""
           }
          },
          "title": {
           "x": 0.05
          },
          "xaxis": {
           "automargin": true,
           "gridcolor": "white",
           "linecolor": "white",
           "ticks": "",
           "title": {
            "standoff": 15
           },
           "zerolinecolor": "white",
           "zerolinewidth": 2
          },
          "yaxis": {
           "automargin": true,
           "gridcolor": "white",
           "linecolor": "white",
           "ticks": "",
           "title": {
            "standoff": 15
           },
           "zerolinecolor": "white",
           "zerolinewidth": 2
          }
         }
        },
        "title": {
         "text": "Total Budget by Expense Category"
        },
        "xaxis": {
         "tickangle": -45,
         "title": {
          "text": "Fiscal Year"
         }
        },
        "yaxis": {
         "title": {
          "text": "Total Budget"
         }
        }
       }
      }
     },
     "metadata": {},
     "output_type": "display_data"
    }
   ],
   "source": [
    "# Create the Plotly figure  \n",
    "fig = go.Figure()  \n",
    "\n",
    "# Add a bar trace for each expense category  \n",
    "for category in result.columns:  \n",
    "    fig.add_trace(go.Bar(x=result.index, y=result[category], name=category))  \n",
    "\n",
    "# Update the layout  \n",
    "fig.update_layout(  \n",
    "    title='Total Budget by Expense Category',  \n",
    "    xaxis_title='Fiscal Year',  \n",
    "    yaxis_title='Total Budget',  \n",
    "    barmode='group',  # Group bars by expense category  \n",
    "    xaxis_tickangle=-45,  \n",
    "    margin=dict(l=20, r=20, t=80, b=150),  \n",
    "    legend_title='Expense Category'  \n",
    ")  \n",
    "\n",
    "# Show the figure  \n",
    "fig.show()  "
   ]
  },
  {
   "cell_type": "code",
   "execution_count": 18,
   "metadata": {},
   "outputs": [],
   "source": [
    "# Read the data for each year\n",
    "df2020 = earning_df[earning_df['YEAR'] == 2020]\n",
    "df2021 = earning_df[earning_df['YEAR'] == 2021]\n",
    "df2022 = earning_df[earning_df['YEAR'] == 2022]\n",
    "df2023 = earning_df[earning_df['YEAR'] == 2023]\n",
    "df2024 = earning_df[earning_df['YEAR'] == 2024]\n",
    "\n",
    "# Top 10 departments by total earnings in 2020\n",
    "year2020 = df2020.groupby('DEPARTMENT_NAME')['TOTAL_GROSS'].sum().sort_values(ascending=False)\n",
    "year2020 = year2020.head(10)\n",
    "\n",
    "# Top 10 departments by total earnings in 2021\n",
    "year2021 = df2021.groupby('DEPARTMENT_NAME')['TOTAL_GROSS'].sum().sort_values(ascending=False)\n",
    "year2021 = year2021.head(10)\n",
    "\n",
    "# Top 10 departments by total earnings in 2022\n",
    "year2022 = df2022.groupby('DEPARTMENT_NAME')['TOTAL_GROSS'].sum().sort_values(ascending=False)\n",
    "year2022 = year2022.head(10)\n",
    "\n",
    "# Top 10 departments by total earnings in 2023\n",
    "year2023 = df2023.groupby('DEPARTMENT_NAME')['TOTAL_GROSS'].sum().sort_values(ascending=False)\n",
    "year2023 = year2023.head(10)\n",
    "\n",
    "# Top 10 departments by total earnings in 2024\n",
    "year2024 = df2024.groupby('DEPARTMENT_NAME')['TOTAL_GROSS'].sum().sort_values(ascending=False)\n",
    "year2024 = year2024.head(10)"
   ]
  },
  {
   "cell_type": "code",
   "execution_count": 19,
   "metadata": {},
   "outputs": [
    {
     "data": {
      "image/png": "[encoded data removed]",
      "text/plain": [
       "<Figure size 432x288 with 1 Axes>"
      ]
     },
     "metadata": {
      "needs_background": "light"
     },
     "output_type": "display_data"
    }
   ],
   "source": [
    "#把year2020,year2021,year2022,year2023,year2024画图，比较top10部门的收入\n",
    "fig, ax = plt.subplots()\n",
    "index = np.arange(10)\n",
    "bar_width = 0.15\n",
    "opacity = 0.8\n",
    "\n",
    "rects1 = plt.bar(index, year2020, bar_width, alpha=opacity, color='b', label='2020')\n",
    "rects2 = plt.bar(index + bar_width, year2021, bar_width, alpha=opacity, color='r', label='2021')\n",
    "rects3 = plt.bar(index + bar_width*2, year2022, bar_width, alpha=opacity, color='g', label='2022')\n",
    "rects4 = plt.bar(index + bar_width*3, year2023, bar_width, alpha=opacity, color='y', label='2023')\n",
    "rects5 = plt.bar(index + bar_width*4, year2024, bar_width, alpha=opacity, color='c', label='2024')\n",
    "\n",
    "plt.xlabel('Department')\n",
    "plt.ylabel('Total Earnings')\n",
    "plt.title('Top 10 Department Earnings Comparison')\n",
    "plt.xticks(index + bar_width, year2020.index, rotation=90)\n",
    "plt.legend()\n",
    "plt.tight_layout()\n",
    "plt.show()"
   ]
  },
  {
   "cell_type": "code",
   "execution_count": 20,
   "metadata": {},
   "outputs": [
    {
     "data": {
      "application/vnd.plotly.v1+json": {
       "config": {
        "plotlyServerURL": "https://plot.ly"
       },
       "data": [
        {
         "name": "REGULAR",
         "type": "bar",
         "x": [
          "Traffic Division",
          "Public Works Department",
          "Inspectional Services Dept",
          "Boston Public Library",
          "Boston Police Department",
          "Boston Fire Department",
          "Boston Cntr - Youth & Families",
          "BPS Special Education",
          "BPS Madison Park High",
          "BPS Facility Management"
         ],
         "y": {
          "bdata": "cT0K+9lVc0EpXI8qJRx1QcP1KCQyKW5BCtejnF/ie0F7FC7bYACtQVK4Hrx6hadBPQrXs5PndEHXo3BfgzCJQTMzM0fV+HFBmpmZEdYGekE=",
          "dtype": "f8"
         }
        },
        {
         "name": "OVERTIME",
         "type": "bar",
         "x": [
          "Traffic Division",
          "Public Works Department",
          "Inspectional Services Dept",
          "Boston Public Library",
          "Boston Police Department",
          "Boston Fire Department",
          "Boston Cntr - Youth & Families",
          "BPS Special Education",
          "BPS Madison Park High",
          "BPS Facility Management"
         ],
         "y": {
          "bdata": "Urgehf7zL0EK16Nwn0dKQR+F69EDJjVBSOF6FGbqC0EfheuAQ5ySQYXrUWY7GYBB61G4HglFC0E9Ctej8M7JQNejcD2KYsNAMzMzc/kTMkE=",
          "dtype": "f8"
         }
        },
        {
         "name": "OTHER",
         "type": "bar",
         "x": [
          "Traffic Division",
          "Public Works Department",
          "Inspectional Services Dept",
          "Boston Public Library",
          "Boston Police Department",
          "Boston Fire Department",
          "Boston Cntr - Youth & Families",
          "BPS Special Education",
          "BPS Madison Park High",
          "BPS Facility Management"
         ],
         "y": {
          "bdata": "j8L1KOi5EkGPwvUo+owSQQAAAIDSLiBBZmZmZpCyHUEfhevBMUBvQUjhesxaX2FBH4XrUYkoFUFmZmbmm7MpQY/C9Sj3cyFBpHA9CmANLEE=",
          "dtype": "f8"
         }
        },
        {
         "name": "INJURED",
         "type": "bar",
         "x": [
          "Traffic Division",
          "Public Works Department",
          "Inspectional Services Dept",
          "Boston Public Library",
          "Boston Police Department",
          "Boston Fire Department",
          "Boston Cntr - Youth & Families",
          "BPS Special Education",
          "BPS Madison Park High",
          "BPS Facility Management"
         ],
         "y": {
          "bdata": "FK5H4czsCEEAAAAAVj0KQQrXo3Cd4eVAH4XrUcg25EDrUbjyGhp4QSlcjwqHEm9BrkfhetRX10Bcj8L1aLzHQAAAAAAAAAAAzczMzMpUCUE=",
          "dtype": "f8"
         }
        },
        {
         "name": "QUINN_EDUCATION",
         "type": "bar",
         "x": [
          "Traffic Division",
          "Public Works Department",
          "Inspectional Services Dept",
          "Boston Public Library",
          "Boston Police Department",
          "Boston Fire Department",
          "Boston Cntr - Youth & Families",
          "BPS Special Education",
          "BPS Madison Park High",
          "BPS Facility Management"
         ],
         "y": {
          "bdata": "AAAAAAAAAAAAAAAAAAAAAAAAAAAAAAAAAAAAAAAAAADhehTKiSV8QQAAAAAAAAAAAAAAAAAAAAAAAAAAAAAAAAAAAAAAAAAAAAAAAAAAAAA=",
          "dtype": "f8"
         }
        }
       ],
       "layout": {
        "barmode": "group",
        "legend": {
         "title": {
          "text": "Expense Category"
         }
        },
        "margin": {
         "b": 150,
         "l": 20,
         "r": 20,
         "t": 80
        },
        "template": {
         "data": {
          "bar": [
           {
            "error_x": {
             "color": "#2a3f5f"
            },
            "error_y": {
             "color": "#2a3f5f"
            },
            "marker": {
             "line": {
              "color": "#E5ECF6",
              "width": 0.5
             },
             "pattern": {
              "fillmode": "overlay",
              "size": 10,
              "solidity": 0.2
             }
            },
            "type": "bar"
           }
          ],
          "barpolar": [
           {
            "marker": {
             "line": {
              "color": "#E5ECF6",
              "width": 0.5
             },
             "pattern": {
              "fillmode": "overlay",
              "size": 10,
              "solidity": 0.2
             }
            },
            "type": "barpolar"
           }
          ],
          "carpet": [
           {
            "aaxis": {
             "endlinecolor": "#2a3f5f",
             "gridcolor": "white",
             "linecolor": "white",
             "minorgridcolor": "white",
             "startlinecolor": "#2a3f5f"
            },
            "baxis": {
             "endlinecolor": "#2a3f5f",
             "gridcolor": "white",
             "linecolor": "white",
             "minorgridcolor": "white",
             "startlinecolor": "#2a3f5f"
            },
            "type": "carpet"
           }
          ],
          "choropleth": [
           {
            "colorbar": {
             "outlinewidth": 0,
             "ticks": ""
            },
            "type": "choropleth"
           }
          ],
          "contour": [
           {
            "colorbar": {
             "outlinewidth": 0,
             "ticks": ""
            },
            "colorscale": [
             [
              0,
              "#0d0887"
             ],
             [
              0.1111111111111111,
              "#46039f"
             ],
             [
              0.2222222222222222,
              "#7201a8"
             ],
             [
              0.3333333333333333,
              "#9c179e"
             ],
             [
              0.4444444444444444,
              "#bd3786"
             ],
             [
              0.5555555555555556,
              "#d8576b"
             ],
             [
              0.6666666666666666,
              "#ed7953"
             ],
             [
              0.7777777777777778,
              "#fb9f3a"
             ],
             [
              0.8888888888888888,
              "#fdca26"
             ],
             [
              1,
              "#f0f921"
             ]
            ],
            "type": "contour"
           }
          ],
          "contourcarpet": [
           {
            "colorbar": {
             "outlinewidth": 0,
             "ticks": ""
            },
            "type": "contourcarpet"
           }
          ],
          "heatmap": [
           {
            "colorbar": {
             "outlinewidth": 0,
             "ticks": ""
            },
            "colorscale": [
             [
              0,
              "#0d0887"
             ],
             [
              0.1111111111111111,
              "#46039f"
             ],
             [
              0.2222222222222222,
              "#7201a8"
             ],
             [
              0.3333333333333333,
              "#9c179e"
             ],
             [
              0.4444444444444444,
              "#bd3786"
             ],
             [
              0.5555555555555556,
              "#d8576b"
             ],
             [
              0.6666666666666666,
              "#ed7953"
             ],
             [
              0.7777777777777778,
              "#fb9f3a"
             ],
             [
              0.8888888888888888,
              "#fdca26"
             ],
             [
              1,
              "#f0f921"
             ]
            ],
            "type": "heatmap"
           }
          ],
          "histogram": [
           {
            "marker": {
             "pattern": {
              "fillmode": "overlay",
              "size": 10,
              "solidity": 0.2
             }
            },
            "type": "histogram"
           }
          ],
          "histogram2d": [
           {
            "colorbar": {
             "outlinewidth": 0,
             "ticks": ""
            },
            "colorscale": [
             [
              0,
              "#0d0887"
             ],
             [
              0.1111111111111111,
              "#46039f"
             ],
             [
              0.2222222222222222,
              "#7201a8"
             ],
             [
              0.3333333333333333,
              "#9c179e"
             ],
             [
              0.4444444444444444,
              "#bd3786"
             ],
             [
              0.5555555555555556,
              "#d8576b"
             ],
             [
              0.6666666666666666,
              "#ed7953"
             ],
             [
              0.7777777777777778,
              "#fb9f3a"
             ],
             [
              0.8888888888888888,
              "#fdca26"
             ],
             [
              1,
              "#f0f921"
             ]
            ],
            "type": "histogram2d"
           }
          ],
          "histogram2dcontour": [
           {
            "colorbar": {
             "outlinewidth": 0,
             "ticks": ""
            },
            "colorscale": [
             [
              0,
              "#0d0887"
             ],
             [
              0.1111111111111111,
              "#46039f"
             ],
             [
              0.2222222222222222,
              "#7201a8"
             ],
             [
              0.3333333333333333,
              "#9c179e"
             ],
             [
              0.4444444444444444,
              "#bd3786"
             ],
             [
              0.5555555555555556,
              "#d8576b"
             ],
             [
              0.6666666666666666,
              "#ed7953"
             ],
             [
              0.7777777777777778,
              "#fb9f3a"
             ],
             [
              0.8888888888888888,
              "#fdca26"
             ],
             [
              1,
              "#f0f921"
             ]
            ],
            "type": "histogram2dcontour"
           }
          ],
          "mesh3d": [
           {
            "colorbar": {
             "outlinewidth": 0,
             "ticks": ""
            },
            "type": "mesh3d"
           }
          ],
          "parcoords": [
           {
            "line": {
             "colorbar": {
              "outlinewidth": 0,
              "ticks": ""
             }
            },
            "type": "parcoords"
           }
          ],
          "pie": [
           {
            "automargin": true,
            "type": "pie"
           }
          ],
          "scatter": [
           {
            "fillpattern": {
             "fillmode": "overlay",
             "size": 10,
             "solidity": 0.2
            },
            "type": "scatter"
           }
          ],
          "scatter3d": [
           {
            "line": {
             "colorbar": {
              "outlinewidth": 0,
              "ticks": ""
             }
            },
            "marker": {
             "colorbar": {
              "outlinewidth": 0,
              "ticks": ""
             }
            },
            "type": "scatter3d"
           }
          ],
          "scattercarpet": [
           {
            "marker": {
             "colorbar": {
              "outlinewidth": 0,
              "ticks": ""
             }
            },
            "type": "scattercarpet"
           }
          ],
          "scattergeo": [
           {
            "marker": {
             "colorbar": {
              "outlinewidth": 0,
              "ticks": ""
             }
            },
            "type": "scattergeo"
           }
          ],
          "scattergl": [
           {
            "marker": {
             "colorbar": {
              "outlinewidth": 0,
              "ticks": ""
             }
            },
            "type": "scattergl"
           }
          ],
          "scattermap": [
           {
            "marker": {
             "colorbar": {
              "outlinewidth": 0,
              "ticks": ""
             }
            },
            "type": "scattermap"
           }
          ],
          "scattermapbox": [
           {
            "marker": {
             "colorbar": {
              "outlinewidth": 0,
              "ticks": ""
             }
            },
            "type": "scattermapbox"
           }
          ],
          "scatterpolar": [
           {
            "marker": {
             "colorbar": {
              "outlinewidth": 0,
              "ticks": ""
             }
            },
            "type": "scatterpolar"
           }
          ],
          "scatterpolargl": [
           {
            "marker": {
             "colorbar": {
              "outlinewidth": 0,
              "ticks": ""
             }
            },
            "type": "scatterpolargl"
           }
          ],
          "scatterternary": [
           {
            "marker": {
             "colorbar": {
              "outlinewidth": 0,
              "ticks": ""
             }
            },
            "type": "scatterternary"
           }
          ],
          "surface": [
           {
            "colorbar": {
             "outlinewidth": 0,
             "ticks": ""
            },
            "colorscale": [
             [
              0,
              "#0d0887"
             ],
             [
              0.1111111111111111,
              "#46039f"
             ],
             [
              0.2222222222222222,
              "#7201a8"
             ],
             [
              0.3333333333333333,
              "#9c179e"
             ],
             [
              0.4444444444444444,
              "#bd3786"
             ],
             [
              0.5555555555555556,
              "#d8576b"
             ],
             [
              0.6666666666666666,
              "#ed7953"
             ],
             [
              0.7777777777777778,
              "#fb9f3a"
             ],
             [
              0.8888888888888888,
              "#fdca26"
             ],
             [
              1,
              "#f0f921"
             ]
            ],
            "type": "surface"
           }
          ],
          "table": [
           {
            "cells": {
             "fill": {
              "color": "#EBF0F8"
             },
             "line": {
              "color": "white"
             }
            },
            "header": {
             "fill": {
              "color": "#C8D4E3"
             },
             "line": {
              "color": "white"
             }
            },
            "type": "table"
           }
          ]
         },
         "layout": {
          "annotationdefaults": {
           "arrowcolor": "#2a3f5f",
           "arrowhead": 0,
           "arrowwidth": 1
          },
          "autotypenumbers": "strict",
          "coloraxis": {
           "colorbar": {
            "outlinewidth": 0,
            "ticks": ""
           }
          },
          "colorscale": {
           "diverging": [
            [
             0,
             "#8e0152"
            ],
            [
             0.1,
             "#c51b7d"
            ],
            [
             0.2,
             "#de77ae"
            ],
            [
             0.3,
             "#f1b6da"
            ],
            [
             0.4,
             "#fde0ef"
            ],
            [
             0.5,
             "#f7f7f7"
            ],
            [
             0.6,
             "#e6f5d0"
            ],
            [
             0.7,
             "#b8e186"
            ],
            [
             0.8,
             "#7fbc41"
            ],
            [
             0.9,
             "#4d9221"
            ],
            [
             1,
             "#276419"
            ]
           ],
           "sequential": [
            [
             0,
             "#0d0887"
            ],
            [
             0.1111111111111111,
             "#46039f"
            ],
            [
             0.2222222222222222,
             "#7201a8"
            ],
            [
             0.3333333333333333,
             "#9c179e"
            ],
            [
             0.4444444444444444,
             "#bd3786"
            ],
            [
             0.5555555555555556,
             "#d8576b"
            ],
            [
             0.6666666666666666,
             "#ed7953"
            ],
            [
             0.7777777777777778,
             "#fb9f3a"
            ],
            [
             0.8888888888888888,
             "#fdca26"
            ],
            [
             1,
             "#f0f921"
            ]
           ],
           "sequentialminus": [
            [
             0,
             "#0d0887"
            ],
            [
             0.1111111111111111,
             "#46039f"
            ],
            [
             0.2222222222222222,
             "#7201a8"
            ],
            [
             0.3333333333333333,
             "#9c179e"
            ],
            [
             0.4444444444444444,
             "#bd3786"
            ],
            [
             0.5555555555555556,
             "#d8576b"
            ],
            [
             0.6666666666666666,
             "#ed7953"
            ],
            [
             0.7777777777777778,
             "#fb9f3a"
            ],
            [
             0.8888888888888888,
             "#fdca26"
            ],
            [
             1,
             "#f0f921"
            ]
           ]
          },
          "colorway": [
           "#636efa",
           "#EF553B",
           "#00cc96",
           "#ab63fa",
           "#FFA15A",
           "#19d3f3",
           "#FF6692",
           "#B6E880",
           "#FF97FF",
           "#FECB52"
          ],
          "font": {
           "color": "#2a3f5f"
          },
          "geo": {
           "bgcolor": "white",
           "lakecolor": "white",
           "landcolor": "#E5ECF6",
           "showlakes": true,
           "showland": true,
           "subunitcolor": "white"
          },
          "hoverlabel": {
           "align": "left"
          },
          "hovermode": "closest",
          "mapbox": {
           "style": "light"
          },
          "paper_bgcolor": "white",
          "plot_bgcolor": "#E5ECF6",
          "polar": {
           "angularaxis": {
            "gridcolor": "white",
            "linecolor": "white",
            "ticks": ""
           },
           "bgcolor": "#E5ECF6",
           "radialaxis": {
            "gridcolor": "white",
            "linecolor": "white",
            "ticks": ""
           }
          },
          "scene": {
           "xaxis": {
            "backgroundcolor": "#E5ECF6",
            "gridcolor": "white",
            "gridwidth": 2,
            "linecolor": "white",
            "showbackground": true,
            "ticks": "",
            "zerolinecolor": "white"
           },
           "yaxis": {
            "backgroundcolor": "#E5ECF6",
            "gridcolor": "white",
            "gridwidth": 2,
            "linecolor": "white",
            "showbackground": true,
            "ticks": "",
            "zerolinecolor": "white"
           },
           "zaxis": {
            "backgroundcolor": "#E5ECF6",
            "gridcolor": "white",
            "gridwidth": 2,
            "linecolor": "white",
            "showbackground": true,
            "ticks": "",
            "zerolinecolor": "white"
           }
          },
          "shapedefaults": {
           "line": {
            "color": "#2a3f5f"
           }
          },
          "ternary": {
           "aaxis": {
            "gridcolor": "white",
            "linecolor": "white",
            "ticks": ""
           },
           "baxis": {
            "gridcolor": "white",
            "linecolor": "white",
            "ticks": ""
           },
           "bgcolor": "#E5ECF6",
           "caxis": {
            "gridcolor": "white",
            "linecolor": "white",
            "ticks": ""
           }
          },
          "title": {
           "x": 0.05
          },
          "xaxis": {
           "automargin": true,
           "gridcolor": "white",
           "linecolor": "white",
           "ticks": "",
           "title": {
            "standoff": 15
           },
           "zerolinecolor": "white",
           "zerolinewidth": 2
          },
          "yaxis": {
           "automargin": true,
           "gridcolor": "white",
           "linecolor": "white",
           "ticks": "",
           "title": {
            "standoff": 15
           },
           "zerolinecolor": "white",
           "zerolinewidth": 2
          }
         }
        },
        "title": {
         "text": "Total Earnings by Expense Category for Top 10 Departments in 2020"
        },
        "xaxis": {
         "tickangle": -45,
         "title": {
          "text": "Department"
         }
        },
        "yaxis": {
         "title": {
          "text": "Total Earnings"
         }
        }
       }
      }
     },
     "metadata": {},
     "output_type": "display_data"
    }
   ],
   "source": [
    "import pandas as pd  \n",
    "import plotly.graph_objects as go  \n",
    "\n",
    "# Read the data  \n",
    "df2020 = earning_df[earning_df['YEAR'] == 2020]\n",
    "\n",
    "year2020 = df2020.groupby('DEPARTMENT_NAME')['TOTAL_GROSS'].sum().sort_values(ascending=False)  \n",
    "year2020 = year2020.head(10)  \n",
    "\n",
    "# Filter for the top 10 departments  \n",
    "df2020 = df2020[df2020['DEPARTMENT_NAME'].isin(year2020.index)]  \n",
    "\n",
    "cols_needed = ['DEPARTMENT_NAME', 'REGULAR', 'OVERTIME', 'OTHER', 'INJURED','QUINN_EDUCATION']  \n",
    "df2020_polted = df2020[cols_needed].copy()  \n",
    "\n",
    "for col in df2020_polted.columns[1:]:  \n",
    "    df2020_polted[col] = (  \n",
    "        df2020_polted[col]  \n",
    "        .replace('[\\$,]', '', regex=True)  \n",
    "        .replace(r'\\((.*?)\\)', r'-\\1', regex=True)  \n",
    "        .astype(float)  \n",
    "    )  \n",
    "\n",
    "df2020_sum = df2020_polted.groupby('DEPARTMENT_NAME').sum()  \n",
    "df2020_sum = df2020_sum.reset_index()  \n",
    "df2020_sum = df2020_sum.sort_index(ascending=False)  \n",
    "df2020_sum = df2020_sum.set_index('DEPARTMENT_NAME')  \n",
    "df2020_sum = df2020_sum.T  \n",
    "df2020_sum = df2020_sum.rename(index={' REGULAR ': 'Regular', ' OVERTIME ': 'Overtime', ' OTHER ': 'Other', ' INJURED ': 'Injured', ' QUINN / EDUCATION INCENTIVE ': 'Quinn/Education Incentive'})  \n",
    "\n",
    "\n",
    "# Create Plotly figure  \n",
    "fig = go.Figure()  \n",
    "\n",
    "# Add bar traces for each expense category  \n",
    "for category in df2020_sum.index:  \n",
    "    fig.add_trace(go.Bar(x=df2020_sum.columns, y=df2020_sum.loc[category], name=category))  \n",
    "\n",
    "# Update layout  \n",
    "fig.update_layout(  \n",
    "    title='Total Earnings by Expense Category for Top 10 Departments in 2020',  \n",
    "    xaxis_title='Department',  \n",
    "    yaxis_title='Total Earnings',  \n",
    "    barmode='group',  \n",
    "    xaxis_tickangle=-45,  \n",
    "    margin=dict(l=20, r=20, t=80, b=150),  \n",
    "    legend_title='Expense Category'  \n",
    ")  \n",
    "\n",
    "# Show the figure  \n",
    "fig.show()"
   ]
  },
  {
   "cell_type": "code",
   "execution_count": 21,
   "metadata": {},
   "outputs": [
    {
     "data": {
      "application/vnd.plotly.v1+json": {
       "config": {
        "plotlyServerURL": "https://plot.ly"
       },
       "data": [
        {
         "name": "Regular",
         "type": "bar",
         "x": [
          "Transportation",
          "Traffic Division",
          "Special Education",
          "Public Works Department",
          "Madison Park Tech Vocational",
          "Facilities Management",
          "Boston Public Library",
          "Boston Police Department",
          "Boston Latin",
          "Boston Fire Department"
         ],
         "y": {
          "bdata": "7FG4nqf7dUEUrkfhgD5zQXE9CpnkwpBBUrgeEee3dEFI4XrwGFF2QT0K10sGv39B16Nww4yEgEHNzAxWwaqwQZqZmc16NHNBFK7HLrwOq0E=",
          "dtype": "f8"
         }
        },
        {
         "name": "Overtime",
         "type": "bar",
         "x": [
          "Transportation",
          "Traffic Division",
          "Special Education",
          "Public Works Department",
          "Madison Park Tech Vocational",
          "Facilities Management",
          "Boston Public Library",
          "Boston Police Department",
          "Boston Latin",
          "Boston Fire Department"
         ],
         "y": {
          "bdata": "H4Xr8fFrQUEzMzMTrUBMQSlcj8IV+cVA7FG4Pga6WkGF61G4HoKxQI/C9ShFH0FBZmZm5vVtLEF7FK7GQ5yYQQAAAAAAAAAAw/UoHhkMhUE=",
          "dtype": "f8"
         }
        },
        {
         "name": "Other",
         "type": "bar",
         "x": [
          "Transportation",
          "Traffic Division",
          "Special Education",
          "Public Works Department",
          "Madison Park Tech Vocational",
          "Facilities Management",
          "Boston Public Library",
          "Boston Police Department",
          "Boston Latin",
          "Boston Fire Department"
         ],
         "y": {
          "bdata": "kML1KOga8UD2KFyPnRQRQRSuR6EJE0BBAAAAAMgBH0F7FK7H4TEtQYXrUTj93zlB61G4HtaAHEGkcD1y3RZqQYXrUTjbyy5B9ihc5yw9YEE=",
          "dtype": "f8"
         }
        },
        {
         "name": "Injured",
         "type": "bar",
         "x": [
          "Transportation",
          "Traffic Division",
          "Special Education",
          "Public Works Department",
          "Madison Park Tech Vocational",
          "Facilities Management",
          "Boston Public Library",
          "Boston Police Department",
          "Boston Latin",
          "Boston Fire Department"
         ],
         "y": {
          "bdata": "exSuR+le9kBmZmZmaQAUQSlcj8I1sPRACtejcBzPEEEzMzMzz6ryQDMzMzMynRpBKVyPwhH480BxPQpntplzQQAAAAAAAAAAH4XrBY49ckE=",
          "dtype": "f8"
         }
        },
        {
         "name": "Quinn/Education Incentive",
         "type": "bar",
         "x": [
          "Transportation",
          "Traffic Division",
          "Special Education",
          "Public Works Department",
          "Madison Park Tech Vocational",
          "Facilities Management",
          "Boston Public Library",
          "Boston Police Department",
          "Boston Latin",
          "Boston Fire Department"
         ],
         "y": {
          "bdata": "AAAAAAAAAAAAAAAAAAAAAAAAAAAAAAAAAAAAAAAAAAAAAAAAAAAAAAAAAAAAAAAAAAAAAAAAAABmZmaCEXt+QQAAAAAAAAAAAAAAAAAAAAA=",
          "dtype": "f8"
         }
        }
       ],
       "layout": {
        "barmode": "group",
        "legend": {
         "title": {
          "text": "Expense Category"
         }
        },
        "margin": {
         "b": 150,
         "l": 20,
         "r": 20,
         "t": 80
        },
        "template": {
         "data": {
          "bar": [
           {
            "error_x": {
             "color": "#2a3f5f"
            },
            "error_y": {
             "color": "#2a3f5f"
            },
            "marker": {
             "line": {
              "color": "#E5ECF6",
              "width": 0.5
             },
             "pattern": {
              "fillmode": "overlay",
              "size": 10,
              "solidity": 0.2
             }
            },
            "type": "bar"
           }
          ],
          "barpolar": [
           {
            "marker": {
             "line": {
              "color": "#E5ECF6",
              "width": 0.5
             },
             "pattern": {
              "fillmode": "overlay",
              "size": 10,
              "solidity": 0.2
             }
            },
            "type": "barpolar"
           }
          ],
          "carpet": [
           {
            "aaxis": {
             "endlinecolor": "#2a3f5f",
             "gridcolor": "white",
             "linecolor": "white",
             "minorgridcolor": "white",
             "startlinecolor": "#2a3f5f"
            },
            "baxis": {
             "endlinecolor": "#2a3f5f",
             "gridcolor": "white",
             "linecolor": "white",
             "minorgridcolor": "white",
             "startlinecolor": "#2a3f5f"
            },
            "type": "carpet"
           }
          ],
          "choropleth": [
           {
            "colorbar": {
             "outlinewidth": 0,
             "ticks": ""
            },
            "type": "choropleth"
           }
          ],
          "contour": [
           {
            "colorbar": {
             "outlinewidth": 0,
             "ticks": ""
            },
            "colorscale": [
             [
              0,
              "#0d0887"
             ],
             [
              0.1111111111111111,
              "#46039f"
             ],
             [
              0.2222222222222222,
              "#7201a8"
             ],
             [
              0.3333333333333333,
              "#9c179e"
             ],
             [
              0.4444444444444444,
              "#bd3786"
             ],
             [
              0.5555555555555556,
              "#d8576b"
             ],
             [
              0.6666666666666666,
              "#ed7953"
             ],
             [
              0.7777777777777778,
              "#fb9f3a"
             ],
             [
              0.8888888888888888,
              "#fdca26"
             ],
             [
              1,
              "#f0f921"
             ]
            ],
            "type": "contour"
           }
          ],
          "contourcarpet": [
           {
            "colorbar": {
             "outlinewidth": 0,
             "ticks": ""
            },
            "type": "contourcarpet"
           }
          ],
          "heatmap": [
           {
            "colorbar": {
             "outlinewidth": 0,
             "ticks": ""
            },
            "colorscale": [
             [
              0,
              "#0d0887"
             ],
             [
              0.1111111111111111,
              "#46039f"
             ],
             [
              0.2222222222222222,
              "#7201a8"
             ],
             [
              0.3333333333333333,
              "#9c179e"
             ],
             [
              0.4444444444444444,
              "#bd3786"
             ],
             [
              0.5555555555555556,
              "#d8576b"
             ],
             [
              0.6666666666666666,
              "#ed7953"
             ],
             [
              0.7777777777777778,
              "#fb9f3a"
             ],
             [
              0.8888888888888888,
              "#fdca26"
             ],
             [
              1,
              "#f0f921"
             ]
            ],
            "type": "heatmap"
           }
          ],
          "histogram": [
           {
            "marker": {
             "pattern": {
              "fillmode": "overlay",
              "size": 10,
              "solidity": 0.2
             }
            },
            "type": "histogram"
           }
          ],
          "histogram2d": [
           {
            "colorbar": {
             "outlinewidth": 0,
             "ticks": ""
            },
            "colorscale": [
             [
              0,
              "#0d0887"
             ],
             [
              0.1111111111111111,
              "#46039f"
             ],
             [
              0.2222222222222222,
              "#7201a8"
             ],
             [
              0.3333333333333333,
              "#9c179e"
             ],
             [
              0.4444444444444444,
              "#bd3786"
             ],
             [
              0.5555555555555556,
              "#d8576b"
             ],
             [
              0.6666666666666666,
              "#ed7953"
             ],
             [
              0.7777777777777778,
              "#fb9f3a"
             ],
             [
              0.8888888888888888,
              "#fdca26"
             ],
             [
              1,
              "#f0f921"
             ]
            ],
            "type": "histogram2d"
           }
          ],
          "histogram2dcontour": [
           {
            "colorbar": {
             "outlinewidth": 0,
             "ticks": ""
            },
            "colorscale": [
             [
              0,
              "#0d0887"
             ],
             [
              0.1111111111111111,
              "#46039f"
             ],
             [
              0.2222222222222222,
              "#7201a8"
             ],
             [
              0.3333333333333333,
              "#9c179e"
             ],
             [
              0.4444444444444444,
              "#bd3786"
             ],
             [
              0.5555555555555556,
              "#d8576b"
             ],
             [
              0.6666666666666666,
              "#ed7953"
             ],
             [
              0.7777777777777778,
              "#fb9f3a"
             ],
             [
              0.8888888888888888,
              "#fdca26"
             ],
             [
              1,
              "#f0f921"
             ]
            ],
            "type": "histogram2dcontour"
           }
          ],
          "mesh3d": [
           {
            "colorbar": {
             "outlinewidth": 0,
             "ticks": ""
            },
            "type": "mesh3d"
           }
          ],
          "parcoords": [
           {
            "line": {
             "colorbar": {
              "outlinewidth": 0,
              "ticks": ""
             }
            },
            "type": "parcoords"
           }
          ],
          "pie": [
           {
            "automargin": true,
            "type": "pie"
           }
          ],
          "scatter": [
           {
            "fillpattern": {
             "fillmode": "overlay",
             "size": 10,
             "solidity": 0.2
            },
            "type": "scatter"
           }
          ],
          "scatter3d": [
           {
            "line": {
             "colorbar": {
              "outlinewidth": 0,
              "ticks": ""
             }
            },
            "marker": {
             "colorbar": {
              "outlinewidth": 0,
              "ticks": ""
             }
            },
            "type": "scatter3d"
           }
          ],
          "scattercarpet": [
           {
            "marker": {
             "colorbar": {
              "outlinewidth": 0,
              "ticks": ""
             }
            },
            "type": "scattercarpet"
           }
          ],
          "scattergeo": [
           {
            "marker": {
             "colorbar": {
              "outlinewidth": 0,
              "ticks": ""
             }
            },
            "type": "scattergeo"
           }
          ],
          "scattergl": [
           {
            "marker": {
             "colorbar": {
              "outlinewidth": 0,
              "ticks": ""
             }
            },
            "type": "scattergl"
           }
          ],
          "scattermap": [
           {
            "marker": {
             "colorbar": {
              "outlinewidth": 0,
              "ticks": ""
             }
            },
            "type": "scattermap"
           }
          ],
          "scattermapbox": [
           {
            "marker": {
             "colorbar": {
              "outlinewidth": 0,
              "ticks": ""
             }
            },
            "type": "scattermapbox"
           }
          ],
          "scatterpolar": [
           {
            "marker": {
             "colorbar": {
              "outlinewidth": 0,
              "ticks": ""
             }
            },
            "type": "scatterpolar"
           }
          ],
          "scatterpolargl": [
           {
            "marker": {
             "colorbar": {
              "outlinewidth": 0,
              "ticks": ""
             }
            },
            "type": "scatterpolargl"
           }
          ],
          "scatterternary": [
           {
            "marker": {
             "colorbar": {
              "outlinewidth": 0,
              "ticks": ""
             }
            },
            "type": "scatterternary"
           }
          ],
          "surface": [
           {
            "colorbar": {
             "outlinewidth": 0,
             "ticks": ""
            },
            "colorscale": [
             [
              0,
              "#0d0887"
             ],
             [
              0.1111111111111111,
              "#46039f"
             ],
             [
              0.2222222222222222,
              "#7201a8"
             ],
             [
              0.3333333333333333,
              "#9c179e"
             ],
             [
              0.4444444444444444,
              "#bd3786"
             ],
             [
              0.5555555555555556,
              "#d8576b"
             ],
             [
              0.6666666666666666,
              "#ed7953"
             ],
             [
              0.7777777777777778,
              "#fb9f3a"
             ],
             [
              0.8888888888888888,
              "#fdca26"
             ],
             [
              1,
              "#f0f921"
             ]
            ],
            "type": "surface"
           }
          ],
          "table": [
           {
            "cells": {
             "fill": {
              "color": "#EBF0F8"
             },
             "line": {
              "color": "white"
             }
            },
            "header": {
             "fill": {
              "color": "#C8D4E3"
             },
             "line": {
              "color": "white"
             }
            },
            "type": "table"
           }
          ]
         },
         "layout": {
          "annotationdefaults": {
           "arrowcolor": "#2a3f5f",
           "arrowhead": 0,
           "arrowwidth": 1
          },
          "autotypenumbers": "strict",
          "coloraxis": {
           "colorbar": {
            "outlinewidth": 0,
            "ticks": ""
           }
          },
          "colorscale": {
           "diverging": [
            [
             0,
             "#8e0152"
            ],
            [
             0.1,
             "#c51b7d"
            ],
            [
             0.2,
             "#de77ae"
            ],
            [
             0.3,
             "#f1b6da"
            ],
            [
             0.4,
             "#fde0ef"
            ],
            [
             0.5,
             "#f7f7f7"
            ],
            [
             0.6,
             "#e6f5d0"
            ],
            [
             0.7,
             "#b8e186"
            ],
            [
             0.8,
             "#7fbc41"
            ],
            [
             0.9,
             "#4d9221"
            ],
            [
             1,
             "#276419"
            ]
           ],
           "sequential": [
            [
             0,
             "#0d0887"
            ],
            [
             0.1111111111111111,
             "#46039f"
            ],
            [
             0.2222222222222222,
             "#7201a8"
            ],
            [
             0.3333333333333333,
             "#9c179e"
            ],
            [
             0.4444444444444444,
             "#bd3786"
            ],
            [
             0.5555555555555556,
             "#d8576b"
            ],
            [
             0.6666666666666666,
             "#ed7953"
            ],
            [
             0.7777777777777778,
             "#fb9f3a"
            ],
            [
             0.8888888888888888,
             "#fdca26"
            ],
            [
             1,
             "#f0f921"
            ]
           ],
           "sequentialminus": [
            [
             0,
             "#0d0887"
            ],
            [
             0.1111111111111111,
             "#46039f"
            ],
            [
             0.2222222222222222,
             "#7201a8"
            ],
            [
             0.3333333333333333,
             "#9c179e"
            ],
            [
             0.4444444444444444,
             "#bd3786"
            ],
            [
             0.5555555555555556,
             "#d8576b"
            ],
            [
             0.6666666666666666,
             "#ed7953"
            ],
            [
             0.7777777777777778,
             "#fb9f3a"
            ],
            [
             0.8888888888888888,
             "#fdca26"
            ],
            [
             1,
             "#f0f921"
            ]
           ]
          },
          "colorway": [
           "#636efa",
           "#EF553B",
           "#00cc96",
           "#ab63fa",
           "#FFA15A",
           "#19d3f3",
           "#FF6692",
           "#B6E880",
           "#FF97FF",
           "#FECB52"
          ],
          "font": {
           "color": "#2a3f5f"
          },
          "geo": {
           "bgcolor": "white",
           "lakecolor": "white",
           "landcolor": "#E5ECF6",
           "showlakes": true,
           "showland": true,
           "subunitcolor": "white"
          },
          "hoverlabel": {
           "align": "left"
          },
          "hovermode": "closest",
          "mapbox": {
           "style": "light"
          },
          "paper_bgcolor": "white",
          "plot_bgcolor": "#E5ECF6",
          "polar": {
           "angularaxis": {
            "gridcolor": "white",
            "linecolor": "white",
            "ticks": ""
           },
           "bgcolor": "#E5ECF6",
           "radialaxis": {
            "gridcolor": "white",
            "linecolor": "white",
            "ticks": ""
           }
          },
          "scene": {
           "xaxis": {
            "backgroundcolor": "#E5ECF6",
            "gridcolor": "white",
            "gridwidth": 2,
            "linecolor": "white",
            "showbackground": true,
            "ticks": "",
            "zerolinecolor": "white"
           },
           "yaxis": {
            "backgroundcolor": "#E5ECF6",
            "gridcolor": "white",
            "gridwidth": 2,
            "linecolor": "white",
            "showbackground": true,
            "ticks": "",
            "zerolinecolor": "white"
           },
           "zaxis": {
            "backgroundcolor": "#E5ECF6",
            "gridcolor": "white",
            "gridwidth": 2,
            "linecolor": "white",
            "showbackground": true,
            "ticks": "",
            "zerolinecolor": "white"
           }
          },
          "shapedefaults": {
           "line": {
            "color": "#2a3f5f"
           }
          },
          "ternary": {
           "aaxis": {
            "gridcolor": "white",
            "linecolor": "white",
            "ticks": ""
           },
           "baxis": {
            "gridcolor": "white",
            "linecolor": "white",
            "ticks": ""
           },
           "bgcolor": "#E5ECF6",
           "caxis": {
            "gridcolor": "white",
            "linecolor": "white",
            "ticks": ""
           }
          },
          "title": {
           "x": 0.05
          },
          "xaxis": {
           "automargin": true,
           "gridcolor": "white",
           "linecolor": "white",
           "ticks": "",
           "title": {
            "standoff": 15
           },
           "zerolinecolor": "white",
           "zerolinewidth": 2
          },
          "yaxis": {
           "automargin": true,
           "gridcolor": "white",
           "linecolor": "white",
           "ticks": "",
           "title": {
            "standoff": 15
           },
           "zerolinecolor": "white",
           "zerolinewidth": 2
          }
         }
        },
        "title": {
         "text": "Total Earnings by Expense Category for Top 10 Departments in 2024"
        },
        "xaxis": {
         "tickangle": -45,
         "title": {
          "text": "Department"
         }
        },
        "yaxis": {
         "title": {
          "text": "Total Earnings"
         }
        }
       }
      }
     },
     "metadata": {},
     "output_type": "display_data"
    }
   ],
   "source": [
    "# Read the data for 2024  \n",
    "df2024 = earning_df[earning_df['YEAR'] == 2024]\n",
    "\n",
    "# Get the top 10 departments by total earnings in 2024  \n",
    "year2024 = df2024.groupby('DEPARTMENT_NAME')['TOTAL_GROSS'].sum().sort_values(ascending=False)  \n",
    "year2024 = year2024.head(10)  \n",
    "\n",
    "# Filter the dataframe to include only the top 10 departments  \n",
    "df2024 = df2024[df2024['DEPARTMENT_NAME'].isin(year2024.index)]  \n",
    "\n",
    "# Define the columns needed; adjust if necessary based on actual column names  \n",
    "cols_needed_2024 = ['DEPARTMENT_NAME', 'REGULAR', 'OVERTIME', 'OTHER', 'INJURED', 'QUINN_EDUCATION']  \n",
    "\n",
    "# Check if the required columns exist; if not, print available columns and raise an error  \n",
    "for col in cols_needed_2024:  \n",
    "    if col not in df2024.columns:  \n",
    "        print(f\"Column {col} not found in df2024\")  \n",
    "        print(\"Available columns are:\", df2024.columns.tolist())  \n",
    "        raise ValueError(f\"Required column '{col}' is missing.\")  \n",
    "\n",
    "# Create a copy of the necessary columns  \n",
    "df2024_polted = df2024[cols_needed_2024].copy()  \n",
    "\n",
    "# Clean and convert numeric columns  \n",
    "for col in df2024_polted.columns[1:]:  \n",
    "    # Ensure the column is string type before cleaning  \n",
    "    df2024_polted[col] = df2024_polted[col].astype(str)  \n",
    "    df2024_polted[col] = (  \n",
    "        df2024_polted[col]  \n",
    "        .str.replace('[\\$,]', '', regex=True)  # Remove dollar signs and commas  \n",
    "        .str.replace(r'\\((.*?)\\)', r'-\\1', regex=True)  # Convert parentheses to negative numbers  \n",
    "        .astype(float)  \n",
    "    )  \n",
    "\n",
    "# Aggregate the data by department  \n",
    "df2024_sum = df2024_polted.groupby('DEPARTMENT_NAME').sum()  \n",
    "df2024_sum = df2024_sum.reset_index()  \n",
    "df2024_sum = df2024_sum.sort_index(ascending=False)  \n",
    "df2024_sum = df2024_sum.set_index('DEPARTMENT_NAME')  \n",
    "df2024_sum = df2024_sum.T  # Transpose for plotting  \n",
    "\n",
    "# Dynamically rename the row indices based on available columns  \n",
    "rename_dict = {}  \n",
    "\n",
    "if 'REGULAR' in df2024_sum.index:  \n",
    "    rename_dict['REGULAR'] = 'Regular'  \n",
    "if 'OVERTIME' in df2024_sum.index:  \n",
    "    rename_dict['OVERTIME'] = 'Overtime'  \n",
    "if 'OTHER' in df2024_sum.index:  \n",
    "    rename_dict['OTHER'] = 'Other'  \n",
    "if 'INJURED' in df2024_sum.index:  \n",
    "    rename_dict['INJURED'] = 'Injured'  \n",
    "if 'QUINN_EDUCATION' in df2024_sum.index:  \n",
    "    rename_dict['QUINN_EDUCATION'] = 'Quinn/Education Incentive'  \n",
    "\n",
    "df2024_sum = df2024_sum.rename(index=rename_dict)  \n",
    "\n",
    "# Create a Plotly figure  \n",
    "fig = go.Figure()  \n",
    "\n",
    "# Add a bar trace for each expense category  \n",
    "for category in df2024_sum.index:  \n",
    "    fig.add_trace(go.Bar(x=df2024_sum.columns, y=df2024_sum.loc[category], name=category))  \n",
    "\n",
    "# Update figure layout  \n",
    "fig.update_layout(  \n",
    "    title='Total Earnings by Expense Category for Top 10 Departments in 2024',  \n",
    "    xaxis_title='Department',  \n",
    "    yaxis_title='Total Earnings',  \n",
    "    barmode='group',  \n",
    "    xaxis_tickangle=-45,  \n",
    "    margin=dict(l=20, r=20, t=80, b=150),  \n",
    "    legend_title='Expense Category'  \n",
    ")  \n",
    "\n",
    "# Show the figure  \n",
    "fig.show()"
   ]
  },
  {
   "cell_type": "code",
   "execution_count": 22,
   "metadata": {},
   "outputs": [
    {
     "data": {
      "application/vnd.plotly.v1+json": {
       "config": {
        "plotlyServerURL": "https://plot.ly"
       },
       "data": [
        {
         "marker": {
          "color": "blue"
         },
         "type": "bar",
         "x": [
          "REGULAR",
          "OVERTIME",
          "OTHER",
          "INJURED",
          "QUINN_EDUCATION"
         ],
         "y": {
          "bdata": "cT0K+9lVc0FSuB6F/vMvQY/C9SjouRJBFK5H4czsCEEAAAAAAAAAAA==",
          "dtype": "f8"
         }
        },
        {
         "marker": {
          "color": "red"
         },
         "name": "2024",
         "type": "bar",
         "x": [
          "Regular",
          "Overtime",
          "Other",
          "Injured",
          "Quinn/Education Incentive"
         ],
         "y": {
          "bdata": "7FG4nqf7dUEfhevx8WtBQZDC9SjoGvFAexSuR+le9kAAAAAAAAAAAA==",
          "dtype": "f8"
         }
        }
       ],
       "layout": {
        "barmode": "group",
        "height": 600,
        "legend": {
         "title": {
          "text": "Year"
         }
        },
        "template": {
         "data": {
          "bar": [
           {
            "error_x": {
             "color": "#2a3f5f"
            },
            "error_y": {
             "color": "#2a3f5f"
            },
            "marker": {
             "line": {
              "color": "#E5ECF6",
              "width": 0.5
             },
             "pattern": {
              "fillmode": "overlay",
              "size": 10,
              "solidity": 0.2
             }
            },
            "type": "bar"
           }
          ],
          "barpolar": [
           {
            "marker": {
             "line": {
              "color": "#E5ECF6",
              "width": 0.5
             },
             "pattern": {
              "fillmode": "overlay",
              "size": 10,
              "solidity": 0.2
             }
            },
            "type": "barpolar"
           }
          ],
          "carpet": [
           {
            "aaxis": {
             "endlinecolor": "#2a3f5f",
             "gridcolor": "white",
             "linecolor": "white",
             "minorgridcolor": "white",
             "startlinecolor": "#2a3f5f"
            },
            "baxis": {
             "endlinecolor": "#2a3f5f",
             "gridcolor": "white",
             "linecolor": "white",
             "minorgridcolor": "white",
             "startlinecolor": "#2a3f5f"
            },
            "type": "carpet"
           }
          ],
          "choropleth": [
           {
            "colorbar": {
             "outlinewidth": 0,
             "ticks": ""
            },
            "type": "choropleth"
           }
          ],
          "contour": [
           {
            "colorbar": {
             "outlinewidth": 0,
             "ticks": ""
            },
            "colorscale": [
             [
              0,
              "#0d0887"
             ],
             [
              0.1111111111111111,
              "#46039f"
             ],
             [
              0.2222222222222222,
              "#7201a8"
             ],
             [
              0.3333333333333333,
              "#9c179e"
             ],
             [
              0.4444444444444444,
              "#bd3786"
             ],
             [
              0.5555555555555556,
              "#d8576b"
             ],
             [
              0.6666666666666666,
              "#ed7953"
             ],
             [
              0.7777777777777778,
              "#fb9f3a"
             ],
             [
              0.8888888888888888,
              "#fdca26"
             ],
             [
              1,
              "#f0f921"
             ]
            ],
            "type": "contour"
           }
          ],
          "contourcarpet": [
           {
            "colorbar": {
             "outlinewidth": 0,
             "ticks": ""
            },
            "type": "contourcarpet"
           }
          ],
          "heatmap": [
           {
            "colorbar": {
             "outlinewidth": 0,
             "ticks": ""
            },
            "colorscale": [
             [
              0,
              "#0d0887"
             ],
             [
              0.1111111111111111,
              "#46039f"
             ],
             [
              0.2222222222222222,
              "#7201a8"
             ],
             [
              0.3333333333333333,
              "#9c179e"
             ],
             [
              0.4444444444444444,
              "#bd3786"
             ],
             [
              0.5555555555555556,
              "#d8576b"
             ],
             [
              0.6666666666666666,
              "#ed7953"
             ],
             [
              0.7777777777777778,
              "#fb9f3a"
             ],
             [
              0.8888888888888888,
              "#fdca26"
             ],
             [
              1,
              "#f0f921"
             ]
            ],
            "type": "heatmap"
           }
          ],
          "histogram": [
           {
            "marker": {
             "pattern": {
              "fillmode": "overlay",
              "size": 10,
              "solidity": 0.2
             }
            },
            "type": "histogram"
           }
          ],
          "histogram2d": [
           {
            "colorbar": {
             "outlinewidth": 0,
             "ticks": ""
            },
            "colorscale": [
             [
              0,
              "#0d0887"
             ],
             [
              0.1111111111111111,
              "#46039f"
             ],
             [
              0.2222222222222222,
              "#7201a8"
             ],
             [
              0.3333333333333333,
              "#9c179e"
             ],
             [
              0.4444444444444444,
              "#bd3786"
             ],
             [
              0.5555555555555556,
              "#d8576b"
             ],
             [
              0.6666666666666666,
              "#ed7953"
             ],
             [
              0.7777777777777778,
              "#fb9f3a"
             ],
             [
              0.8888888888888888,
              "#fdca26"
             ],
             [
              1,
              "#f0f921"
             ]
            ],
            "type": "histogram2d"
           }
          ],
          "histogram2dcontour": [
           {
            "colorbar": {
             "outlinewidth": 0,
             "ticks": ""
            },
            "colorscale": [
             [
              0,
              "#0d0887"
             ],
             [
              0.1111111111111111,
              "#46039f"
             ],
             [
              0.2222222222222222,
              "#7201a8"
             ],
             [
              0.3333333333333333,
              "#9c179e"
             ],
             [
              0.4444444444444444,
              "#bd3786"
             ],
             [
              0.5555555555555556,
              "#d8576b"
             ],
             [
              0.6666666666666666,
              "#ed7953"
             ],
             [
              0.7777777777777778,
              "#fb9f3a"
             ],
             [
              0.8888888888888888,
              "#fdca26"
             ],
             [
              1,
              "#f0f921"
             ]
            ],
            "type": "histogram2dcontour"
           }
          ],
          "mesh3d": [
           {
            "colorbar": {
             "outlinewidth": 0,
             "ticks": ""
            },
            "type": "mesh3d"
           }
          ],
          "parcoords": [
           {
            "line": {
             "colorbar": {
              "outlinewidth": 0,
              "ticks": ""
             }
            },
            "type": "parcoords"
           }
          ],
          "pie": [
           {
            "automargin": true,
            "type": "pie"
           }
          ],
          "scatter": [
           {
            "fillpattern": {
             "fillmode": "overlay",
             "size": 10,
             "solidity": 0.2
            },
            "type": "scatter"
           }
          ],
          "scatter3d": [
           {
            "line": {
             "colorbar": {
              "outlinewidth": 0,
              "ticks": ""
             }
            },
            "marker": {
             "colorbar": {
              "outlinewidth": 0,
              "ticks": ""
             }
            },
            "type": "scatter3d"
           }
          ],
          "scattercarpet": [
           {
            "marker": {
             "colorbar": {
              "outlinewidth": 0,
              "ticks": ""
             }
            },
            "type": "scattercarpet"
           }
          ],
          "scattergeo": [
           {
            "marker": {
             "colorbar": {
              "outlinewidth": 0,
              "ticks": ""
             }
            },
            "type": "scattergeo"
           }
          ],
          "scattergl": [
           {
            "marker": {
             "colorbar": {
              "outlinewidth": 0,
              "ticks": ""
             }
            },
            "type": "scattergl"
           }
          ],
          "scattermap": [
           {
            "marker": {
             "colorbar": {
              "outlinewidth": 0,
              "ticks": ""
             }
            },
            "type": "scattermap"
           }
          ],
          "scattermapbox": [
           {
            "marker": {
             "colorbar": {
              "outlinewidth": 0,
              "ticks": ""
             }
            },
            "type": "scattermapbox"
           }
          ],
          "scatterpolar": [
           {
            "marker": {
             "colorbar": {
              "outlinewidth": 0,
              "ticks": ""
             }
            },
            "type": "scatterpolar"
           }
          ],
          "scatterpolargl": [
           {
            "marker": {
             "colorbar": {
              "outlinewidth": 0,
              "ticks": ""
             }
            },
            "type": "scatterpolargl"
           }
          ],
          "scatterternary": [
           {
            "marker": {
             "colorbar": {
              "outlinewidth": 0,
              "ticks": ""
             }
            },
            "type": "scatterternary"
           }
          ],
          "surface": [
           {
            "colorbar": {
             "outlinewidth": 0,
             "ticks": ""
            },
            "colorscale": [
             [
              0,
              "#0d0887"
             ],
             [
              0.1111111111111111,
              "#46039f"
             ],
             [
              0.2222222222222222,
              "#7201a8"
             ],
             [
              0.3333333333333333,
              "#9c179e"
             ],
             [
              0.4444444444444444,
              "#bd3786"
             ],
             [
              0.5555555555555556,
              "#d8576b"
             ],
             [
              0.6666666666666666,
              "#ed7953"
             ],
             [
              0.7777777777777778,
              "#fb9f3a"
             ],
             [
              0.8888888888888888,
              "#fdca26"
             ],
             [
              1,
              "#f0f921"
             ]
            ],
            "type": "surface"
           }
          ],
          "table": [
           {
            "cells": {
             "fill": {
              "color": "#EBF0F8"
             },
             "line": {
              "color": "white"
             }
            },
            "header": {
             "fill": {
              "color": "#C8D4E3"
             },
             "line": {
              "color": "white"
             }
            },
            "type": "table"
           }
          ]
         },
         "layout": {
          "annotationdefaults": {
           "arrowcolor": "#2a3f5f",
           "arrowhead": 0,
           "arrowwidth": 1
          },
          "autotypenumbers": "strict",
          "coloraxis": {
           "colorbar": {
            "outlinewidth": 0,
            "ticks": ""
           }
          },
          "colorscale": {
           "diverging": [
            [
             0,
             "#8e0152"
            ],
            [
             0.1,
             "#c51b7d"
            ],
            [
             0.2,
             "#de77ae"
            ],
            [
             0.3,
             "#f1b6da"
            ],
            [
             0.4,
             "#fde0ef"
            ],
            [
             0.5,
             "#f7f7f7"
            ],
            [
             0.6,
             "#e6f5d0"
            ],
            [
             0.7,
             "#b8e186"
            ],
            [
             0.8,
             "#7fbc41"
            ],
            [
             0.9,
             "#4d9221"
            ],
            [
             1,
             "#276419"
            ]
           ],
           "sequential": [
            [
             0,
             "#0d0887"
            ],
            [
             0.1111111111111111,
             "#46039f"
            ],
            [
             0.2222222222222222,
             "#7201a8"
            ],
            [
             0.3333333333333333,
             "#9c179e"
            ],
            [
             0.4444444444444444,
             "#bd3786"
            ],
            [
             0.5555555555555556,
             "#d8576b"
            ],
            [
             0.6666666666666666,
             "#ed7953"
            ],
            [
             0.7777777777777778,
             "#fb9f3a"
            ],
            [
             0.8888888888888888,
             "#fdca26"
            ],
            [
             1,
             "#f0f921"
            ]
           ],
           "sequentialminus": [
            [
             0,
             "#0d0887"
            ],
            [
             0.1111111111111111,
             "#46039f"
            ],
            [
             0.2222222222222222,
             "#7201a8"
            ],
            [
             0.3333333333333333,
             "#9c179e"
            ],
            [
             0.4444444444444444,
             "#bd3786"
            ],
            [
             0.5555555555555556,
             "#d8576b"
            ],
            [
             0.6666666666666666,
             "#ed7953"
            ],
            [
             0.7777777777777778,
             "#fb9f3a"
            ],
            [
             0.8888888888888888,
             "#fdca26"
            ],
            [
             1,
             "#f0f921"
            ]
           ]
          },
          "colorway": [
           "#636efa",
           "#EF553B",
           "#00cc96",
           "#ab63fa",
           "#FFA15A",
           "#19d3f3",
           "#FF6692",
           "#B6E880",
           "#FF97FF",
           "#FECB52"
          ],
          "font": {
           "color": "#2a3f5f"
          },
          "geo": {
           "bgcolor": "white",
           "lakecolor": "white",
           "landcolor": "#E5ECF6",
           "showlakes": true,
           "showland": true,
           "subunitcolor": "white"
          },
          "hoverlabel": {
           "align": "left"
          },
          "hovermode": "closest",
          "mapbox": {
           "style": "light"
          },
          "paper_bgcolor": "white",
          "plot_bgcolor": "#E5ECF6",
          "polar": {
           "angularaxis": {
            "gridcolor": "white",
            "linecolor": "white",
            "ticks": ""
           },
           "bgcolor": "#E5ECF6",
           "radialaxis": {
            "gridcolor": "white",
            "linecolor": "white",
            "ticks": ""
           }
          },
          "scene": {
           "xaxis": {
            "backgroundcolor": "#E5ECF6",
            "gridcolor": "white",
            "gridwidth": 2,
            "linecolor": "white",
            "showbackground": true,
            "ticks": "",
            "zerolinecolor": "white"
           },
           "yaxis": {
            "backgroundcolor": "#E5ECF6",
            "gridcolor": "white",
            "gridwidth": 2,
            "linecolor": "white",
            "showbackground": true,
            "ticks": "",
            "zerolinecolor": "white"
           },
           "zaxis": {
            "backgroundcolor": "#E5ECF6",
            "gridcolor": "white",
            "gridwidth": 2,
            "linecolor": "white",
            "showbackground": true,
            "ticks": "",
            "zerolinecolor": "white"
           }
          },
          "shapedefaults": {
           "line": {
            "color": "#2a3f5f"
           }
          },
          "ternary": {
           "aaxis": {
            "gridcolor": "white",
            "linecolor": "white",
            "ticks": ""
           },
           "baxis": {
            "gridcolor": "white",
            "linecolor": "white",
            "ticks": ""
           },
           "bgcolor": "#E5ECF6",
           "caxis": {
            "gridcolor": "white",
            "linecolor": "white",
            "ticks": ""
           }
          },
          "title": {
           "x": 0.05
          },
          "xaxis": {
           "automargin": true,
           "gridcolor": "white",
           "linecolor": "white",
           "ticks": "",
           "title": {
            "standoff": 15
           },
           "zerolinecolor": "white",
           "zerolinewidth": 2
          },
          "yaxis": {
           "automargin": true,
           "gridcolor": "white",
           "linecolor": "white",
           "ticks": "",
           "title": {
            "standoff": 15
           },
           "zerolinecolor": "white",
           "zerolinewidth": 2
          }
         }
        },
        "title": {
         "text": "Total Earnings by Expense Category for Departments in 2020 and 2024"
        },
        "width": 800,
        "xaxis": {
         "tickangle": -45,
         "title": {
          "text": "Expense Category"
         }
        },
        "yaxis": {
         "title": {
          "text": "Total Earnings"
         }
        }
       }
      }
     },
     "metadata": {},
     "output_type": "display_data"
    }
   ],
   "source": [
    "fig = go.Figure()\n",
    "\n",
    "\n",
    "fig.add_trace(go.Bar(\n",
    "    x=df2020_sum.index,  \n",
    "    y=df2020_sum.iloc[:, 0],  \n",
    "    marker_color='blue' \n",
    "))\n",
    "\n",
    "fig.add_trace(go.Bar(\n",
    "    x=df2024_sum.index,  \n",
    "    y=df2024_sum.iloc[:, 0],  \n",
    "    name='2024',  \n",
    "    marker_color='red'  \n",
    "))\n",
    "\n",
    "\n",
    "fig.update_layout(\n",
    "    title='Total Earnings by Expense Category for Departments in 2020 and 2024',\n",
    "    xaxis_title='Expense Category',\n",
    "    yaxis_title='Total Earnings',\n",
    "    barmode='group',  \n",
    "    xaxis_tickangle=-45,\n",
    "    legend_title='Year',\n",
    "    height=600,  \n",
    "    width=800  \n",
    ")\n",
    "\n",
    "\n",
    "fig.show()"
   ]
  },
  {
   "cell_type": "code",
   "execution_count": 23,
   "metadata": {},
   "outputs": [
    {
     "name": "stdout",
     "output_type": "stream",
     "text": [
      "2020 Injured - Max: 25272751.169999998, Mean: 4231254.453, Variance: 80578303409394.5\n",
      "2024 Injured - Max: 20552550.44, Mean: 4105282.082, Variance: 68899807503967.93\n"
     ]
    },
    {
     "data": {
      "image/png": "[encoded data removed]",
      "text/plain": [
       "<Figure size 576x432 with 1 Axes>"
      ]
     },
     "metadata": {
      "needs_background": "light"
     },
     "output_type": "display_data"
    }
   ],
   "source": [
    "df2020_injured = df2020_polted.groupby('DEPARTMENT_NAME')['INJURED'].sum()\n",
    "df2020_injured = df2020_injured.reset_index()\n",
    "df2020_injured = df2020_injured.sort_index(ascending=False)\n",
    "df2020_injured = df2020_injured.set_index('DEPARTMENT_NAME')\n",
    "df2020_injured = df2020_injured.rename(index={'INJURED': 'Injured'})\n",
    "df2020_injured = df2020_injured.T\n",
    "\n",
    "\n",
    "df2024_injured = df2024_polted.groupby('DEPARTMENT_NAME')['INJURED'].sum()\n",
    "df2024_injured = df2024_injured.reset_index()\n",
    "df2024_injured = df2024_injured.sort_index(ascending=False)\n",
    "df2024_injured = df2024_injured.set_index('DEPARTMENT_NAME')\n",
    "df2024_injured = df2024_injured.rename(index={'INJURED': 'Injured'})\n",
    "df2024_injured = df2024_injured.T\n",
    "\n",
    "\n",
    "\n",
    "max_2020 = df2020_injured.max(axis=1).values[0]\n",
    "mean_2020 = df2020_injured.mean(axis=1).values[0]\n",
    "var_2020 = df2020_injured.var(axis=1).values[0]\n",
    "print(f\"2020 Injured - Max: {max_2020}, Mean: {mean_2020}, Variance: {var_2020}\")\n",
    "max_2024 = df2024_injured.max(axis=1).values[0]\n",
    "mean_2024 = df2024_injured.mean(axis=1).values[0]\n",
    "var_2024 = df2024_injured.var(axis=1).values[0]\n",
    "print(f\"2024 Injured - Max: {max_2024}, Mean: {mean_2024}, Variance: {var_2024}\")\n",
    "\n",
    "labels = ['2020', '2024']\n",
    "max_values = [max_2020, max_2024]\n",
    "mean_values = [mean_2020, mean_2024]\n",
    "\n",
    "x = np.arange(len(labels))  \n",
    "bar_width = 0.35 \n",
    "\n",
    "fig, ax = plt.subplots(figsize=(8, 6))\n",
    "rects1 = ax.bar(x - bar_width / 2, max_values, bar_width, label='Max', color='b', alpha=0.8)\n",
    "rects2 = ax.bar(x + bar_width / 2, mean_values, bar_width, label='Mean', color='r', alpha=0.8)\n",
    "ax.set_xlabel('Year')\n",
    "ax.set_ylabel('Injured Amount')\n",
    "ax.set_title('Comparison of Max and Mean Injured Amounts (2020 vs 2024)')\n",
    "ax.set_xticks(x)\n",
    "ax.set_xticklabels(labels)\n",
    "ax.legend()\n",
    "plt.tight_layout()\n",
    "plt.show()\n"
   ]
  },
  {
   "cell_type": "code",
   "execution_count": 24,
   "metadata": {},
   "outputs": [],
   "source": [
    "# Filter for Boston Police Department only in 2020 and get the top 10 job titles by total earnings\n",
    "df2020 = df2020[df2020['DEPARTMENT_NAME'] == 'Boston Police Department']\n",
    "job2020 = df2020.groupby('TITLE')['TOTAL_GROSS'].sum().sort_values(ascending=False)\n",
    "job2020 = job2020.head(10)\n",
    "\n",
    "# Filter for Boston Police Department only in 2021 and get the top 10 job titles by total earnings\n",
    "df2021 = df2021[df2021['DEPARTMENT_NAME'] == 'Boston Police Department']\n",
    "job2021 = df2021.groupby('TITLE')['TOTAL_GROSS'].sum().sort_values(ascending=False)\n",
    "job2021 = job2021.head(10)\n",
    "\n",
    "# Filter for Boston Police Department only in 2022 and get the top 10 job titles by total earnings\n",
    "df2022 = df2022[df2022['DEPARTMENT_NAME'] == 'Boston Police Department']\n",
    "job2022 = df2022.groupby('TITLE')['TOTAL_GROSS'].sum().sort_values(ascending=False)\n",
    "job2022 = job2022.head(10)\n",
    "\n",
    "# Filter for Boston Police Department only in 2023 and get the top 10 job titles by total earnings\n",
    "df2023 = df2023[df2023['DEPARTMENT_NAME'] == 'Boston Police Department']\n",
    "job2023 = df2023.groupby('TITLE')['TOTAL_GROSS'].sum().sort_values(ascending=False)\n",
    "job2023 = job2023.head(10)\n",
    "\n",
    "# Filter for Boston Police Department only in 2024 and get the top 10 job titles by total earnings\n",
    "df2024 = df2024[df2024['DEPARTMENT_NAME'] == 'Boston Police Department']\n",
    "job2024 = df2024.groupby('TITLE')['TOTAL_GROSS'].sum().sort_values(ascending=False)\n",
    "job2024 = job2024.head(10)"
   ]
  },
  {
   "cell_type": "code",
   "execution_count": 25,
   "metadata": {},
   "outputs": [
    {
     "data": {
      "image/png": "[encoded data removed]",
      "text/plain": [
       "<Figure size 432x288 with 1 Axes>"
      ]
     },
     "metadata": {
      "needs_background": "light"
     },
     "output_type": "display_data"
    }
   ],
   "source": [
    "fig, ax = plt.subplots()\n",
    "index = np.arange(10)\n",
    "bar_width = 0.15\n",
    "opacity = 0.8\n",
    "\n",
    "rects1 = plt.bar(index, job2020, bar_width, alpha=opacity, color='b', label='2020')\n",
    "rects2 = plt.bar(index + bar_width, job2021, bar_width, alpha=opacity, color='r', label='2021')\n",
    "rects3 = plt.bar(index + bar_width*2, job2022, bar_width, alpha=opacity, color='g', label='2022')\n",
    "rects4 = plt.bar(index + bar_width*3, job2023, bar_width, alpha=opacity, color='y', label='2023')\n",
    "rects5 = plt.bar(index + bar_width*4, job2024, bar_width, alpha=opacity, color='c', label='2024')\n",
    "\n",
    "plt.xlabel('Job Title')\n",
    "plt.ylabel('Total Earnings')\n",
    "plt.title('Top 10 Job Title Earnings Comparison')\n",
    "plt.xticks(index + bar_width, job2020.index, rotation=90)\n",
    "plt.legend()\n",
    "plt.tight_layout()\n",
    "plt.show()"
   ]
  },
  {
   "cell_type": "code",
   "execution_count": 26,
   "metadata": {},
   "outputs": [
    {
     "name": "stdout",
     "output_type": "stream",
     "text": [
      "    POSTAL  OVERTIME  TOTAL_GROSS  OVERTIME_RATIO\n",
      "0    01119  54546.39    146909.03            0.37\n",
      "1    01376      0.00     11683.74            0.00\n",
      "2    01420  77108.85    237158.04            0.33\n",
      "3    01453      0.00      3007.08            0.00\n",
      "4    01460 111089.14    369402.15            0.30\n",
      "..     ...       ...          ...             ...\n",
      "217  34653      0.00      7581.07            0.00\n",
      "218  34762      0.00     55584.46            0.00\n",
      "219  34787      0.00     19633.83            0.00\n",
      "220  78015      0.00      1058.19            0.00\n",
      "221  89138      0.00     12329.08            0.00\n",
      "\n",
      "[222 rows x 4 columns]\n"
     ]
    },
    {
     "data": {
      "image/png": "[encoded data removed]",
      "text/plain": [
       "<Figure size 720x432 with 1 Axes>"
      ]
     },
     "metadata": {
      "needs_background": "light"
     },
     "output_type": "display_data"
    }
   ],
   "source": [
    "df2024 = df2024[df2024['DEPARTMENT_NAME'] == 'Boston Police Department']\n",
    "\n",
    "# Clean the data and calculate the overtime ratio\n",
    "df2024['OVERTIME'] = df2024['OVERTIME'].replace('[\\$,]', '', regex=True).astype(float)\n",
    "df2024['TOTAL_GROSS'] = df2024['TOTAL_GROSS'].replace('[\\$,]', '', regex=True).astype(float)\n",
    "\n",
    "# Group by postal code and calculate the sum of overtime and total gross earnings\n",
    "df2024_sum = df2024.groupby('POSTAL').agg({'OVERTIME': 'sum', 'TOTAL_GROSS': 'sum'}).reset_index()\n",
    "\n",
    "# Calculate the overtime ratio (total overtime / total gross earnings)\n",
    "df2024_sum['OVERTIME_RATIO'] = df2024_sum['OVERTIME'] / df2024_sum['TOTAL_GROSS']\n",
    "\n",
    "# Print the result\n",
    "print(df2024_sum)\n",
    "\n",
    "# Plot a bar chart\n",
    "fig, ax = plt.subplots(figsize=(10, 6))\n",
    "df2024_sum.plot(kind='bar', x='POSTAL', y='OVERTIME_RATIO', ax=ax, legend=False, color='b')\n",
    "plt.xlabel('Postal Code')\n",
    "plt.ylabel('Overtime Ratio (Total Overtime / Total Gross)')\n",
    "plt.title('Postal Codes by Total Overtime Ratio in 2024')\n",
    "plt.xticks(rotation=45)\n",
    "plt.tight_layout()\n",
    "plt.show()"
   ]
  },
  {
   "cell_type": "code",
   "execution_count": null,
   "metadata": {},
   "outputs": [],
   "source": []
  }
 ],
 "metadata": {
  "kernelspec": {
   "display_name": "base",
   "language": "python",
   "name": "python3"
  },
  "language_info": {
   "codemirror_mode": {
    "name": "ipython",
    "version": 3
   },
   "file_extension": ".py",
   "mimetype": "text/x-python",
   "name": "python",
   "nbconvert_exporter": "python",
   "pygments_lexer": "ipython3",
   "version": "3.9.13"
  }
 },
 "nbformat": 4,
 "nbformat_minor": 2
}
